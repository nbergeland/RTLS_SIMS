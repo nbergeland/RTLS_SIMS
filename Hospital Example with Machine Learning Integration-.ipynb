{
 "cells": [
  {
   "cell_type": "code",
   "execution_count": null,
   "metadata": {},
   "outputs": [
    {
     "data": {
      "application/vnd.plotly.v1+json": {
       "config": {
        "plotlyServerURL": "https://plot.ly"
       },
       "data": [
        {
         "customdata": [
          [
           "Patient_1"
          ],
          [
           "Patient_10"
          ],
          [
           "Patient_11"
          ],
          [
           "Patient_12"
          ],
          [
           "Patient_13"
          ],
          [
           "Patient_14"
          ],
          [
           "Patient_16"
          ],
          [
           "Patient_17"
          ],
          [
           "Patient_19"
          ],
          [
           "Patient_20"
          ],
          [
           "Patient_3"
          ],
          [
           "Patient_4"
          ],
          [
           "Patient_5"
          ],
          [
           "Patient_8"
          ],
          [
           "Patient_9"
          ]
         ],
         "hovertemplate": "Anomaly_Label=Normal<br>Time=0<br>X Coordinate=%{x}<br>Y Coordinate=%{y}<br>PatientID=%{customdata[0]}<extra></extra>",
         "ids": [
          "Patient_1",
          "Patient_10",
          "Patient_11",
          "Patient_12",
          "Patient_13",
          "Patient_14",
          "Patient_16",
          "Patient_17",
          "Patient_19",
          "Patient_20",
          "Patient_3",
          "Patient_4",
          "Patient_5",
          "Patient_8",
          "Patient_9"
         ],
         "legendgroup": "Normal",
         "marker": {
          "color": "#636efa",
          "symbol": "circle"
         },
         "mode": "markers",
         "name": "Normal",
         "orientation": "v",
         "showlegend": true,
         "type": "scatter",
         "x": [
          42.472407130841745,
          46.07874310322434,
          56.37271268318979,
          38.04417867336107,
          46.94459029141083,
          32.14605864520337,
          55.89952362708328,
          24.309358490313873,
          38.45764416292606,
          61.234679393483624,
          29.46555022404857,
          22.820923705642752,
          56.43613399459023,
          30.67917864694614,
          38.4263437223565
         ],
         "xaxis": "x",
         "y": [
          77.04285838459498,
          37.281207271674354,
          28.675469783542944,
          42.4473506571796,
          66.95595149565521,
          51.34183886837788,
          29.633344109197154,
          77.6112522494854,
          25.53776696308047,
          47.178167907609065,
          28.379836158232273,
          72.06899936443068,
          62.570038808357715,
          31.532831704315488,
          50.603865820252906
         ],
         "yaxis": "y"
        },
        {
         "customdata": [
          [
           "Patient_15"
          ],
          [
           "Patient_18"
          ],
          [
           "Patient_2"
          ],
          [
           "Patient_6"
          ],
          [
           "Patient_7"
          ]
         ],
         "hovertemplate": "Anomaly_Label=Anomaly<br>Time=0<br>X Coordinate=%{x}<br>Y Coordinate=%{y}<br>PatientID=%{customdata[0]}<extra></extra>",
         "ids": [
          "Patient_15",
          "Patient_18",
          "Patient_2",
          "Patient_6",
          "Patient_7"
         ],
         "legendgroup": "Anomaly",
         "marker": {
          "color": "#EF553B",
          "symbol": "circle"
         },
         "mode": "markers",
         "name": "Anomaly",
         "orientation": "v",
         "showlegend": true,
         "type": "scatter",
         "x": [
          55.30528701279991,
          77.9019169236834,
          64.3309089647359,
          21.177245516554027,
          69.2072974528416
         ],
         "xaxis": "x",
         "y": [
          22.694195274867955,
          69.00560733593368,
          55.30908722683669,
          78.04403928192502,
          32.38042453649922
         ],
         "yaxis": "y"
        }
       ],
       "frames": [
        {
         "data": [
          {
           "customdata": [
            [
             "Patient_1"
            ],
            [
             "Patient_10"
            ],
            [
             "Patient_11"
            ],
            [
             "Patient_12"
            ],
            [
             "Patient_13"
            ],
            [
             "Patient_14"
            ],
            [
             "Patient_16"
            ],
            [
             "Patient_17"
            ],
            [
             "Patient_19"
            ],
            [
             "Patient_20"
            ],
            [
             "Patient_3"
            ],
            [
             "Patient_4"
            ],
            [
             "Patient_5"
            ],
            [
             "Patient_8"
            ],
            [
             "Patient_9"
            ]
           ],
           "hovertemplate": "Anomaly_Label=Normal<br>Time=0<br>X Coordinate=%{x}<br>Y Coordinate=%{y}<br>PatientID=%{customdata[0]}<extra></extra>",
           "ids": [
            "Patient_1",
            "Patient_10",
            "Patient_11",
            "Patient_12",
            "Patient_13",
            "Patient_14",
            "Patient_16",
            "Patient_17",
            "Patient_19",
            "Patient_20",
            "Patient_3",
            "Patient_4",
            "Patient_5",
            "Patient_8",
            "Patient_9"
           ],
           "legendgroup": "Normal",
           "marker": {
            "color": "#636efa",
            "symbol": "circle"
           },
           "mode": "markers",
           "name": "Normal",
           "orientation": "v",
           "showlegend": true,
           "type": "scatter",
           "x": [
            42.472407130841745,
            46.07874310322434,
            56.37271268318979,
            38.04417867336107,
            46.94459029141083,
            32.14605864520337,
            55.89952362708328,
            24.309358490313873,
            38.45764416292606,
            61.234679393483624,
            29.46555022404857,
            22.820923705642752,
            56.43613399459023,
            30.67917864694614,
            38.4263437223565
           ],
           "xaxis": "x",
           "y": [
            77.04285838459498,
            37.281207271674354,
            28.675469783542944,
            42.4473506571796,
            66.95595149565521,
            51.34183886837788,
            29.633344109197154,
            77.6112522494854,
            25.53776696308047,
            47.178167907609065,
            28.379836158232273,
            72.06899936443068,
            62.570038808357715,
            31.532831704315488,
            50.603865820252906
           ],
           "yaxis": "y"
          },
          {
           "customdata": [
            [
             "Patient_15"
            ],
            [
             "Patient_18"
            ],
            [
             "Patient_2"
            ],
            [
             "Patient_6"
            ],
            [
             "Patient_7"
            ]
           ],
           "hovertemplate": "Anomaly_Label=Anomaly<br>Time=0<br>X Coordinate=%{x}<br>Y Coordinate=%{y}<br>PatientID=%{customdata[0]}<extra></extra>",
           "ids": [
            "Patient_15",
            "Patient_18",
            "Patient_2",
            "Patient_6",
            "Patient_7"
           ],
           "legendgroup": "Anomaly",
           "marker": {
            "color": "#EF553B",
            "symbol": "circle"
           },
           "mode": "markers",
           "name": "Anomaly",
           "orientation": "v",
           "showlegend": true,
           "type": "scatter",
           "x": [
            55.30528701279991,
            77.9019169236834,
            64.3309089647359,
            21.177245516554027,
            69.2072974528416
           ],
           "xaxis": "x",
           "y": [
            22.694195274867955,
            69.00560733593368,
            55.30908722683669,
            78.04403928192502,
            32.38042453649922
           ],
           "yaxis": "y"
          }
         ],
         "name": "0"
        },
        {
         "data": [
          {
           "customdata": [
            [
             "Patient_1"
            ],
            [
             "Patient_10"
            ],
            [
             "Patient_11"
            ],
            [
             "Patient_12"
            ],
            [
             "Patient_13"
            ],
            [
             "Patient_14"
            ],
            [
             "Patient_15"
            ],
            [
             "Patient_16"
            ],
            [
             "Patient_17"
            ],
            [
             "Patient_18"
            ],
            [
             "Patient_19"
            ],
            [
             "Patient_20"
            ],
            [
             "Patient_3"
            ],
            [
             "Patient_4"
            ],
            [
             "Patient_5"
            ],
            [
             "Patient_6"
            ],
            [
             "Patient_7"
            ],
            [
             "Patient_8"
            ],
            [
             "Patient_9"
            ]
           ],
           "hovertemplate": "Anomaly_Label=Normal<br>Time=1<br>X Coordinate=%{x}<br>Y Coordinate=%{y}<br>PatientID=%{customdata[0]}<extra></extra>",
           "ids": [
            "Patient_1",
            "Patient_10",
            "Patient_11",
            "Patient_12",
            "Patient_13",
            "Patient_14",
            "Patient_15",
            "Patient_16",
            "Patient_17",
            "Patient_18",
            "Patient_19",
            "Patient_20",
            "Patient_3",
            "Patient_4",
            "Patient_5",
            "Patient_6",
            "Patient_7",
            "Patient_8",
            "Patient_9"
           ],
           "legendgroup": "Normal",
           "marker": {
            "color": "#636efa",
            "symbol": "circle"
           },
           "mode": "markers",
           "name": "Normal",
           "orientation": "v",
           "showlegend": true,
           "type": "scatter",
           "x": [
            42.876447534882146,
            45.965239893200966,
            56.360147136404095,
            37.332624835547016,
            47.51225919155444,
            31.982983657822814,
            54.837188760697344,
            56.281333855822915,
            23.822452723283767,
            78.88101493507882,
            38.40560134576363,
            60.09459598307989,
            29.404641960665277,
            23.530897118359718,
            55.957064760673774,
            21.974016680118908,
            69.54231164657872,
            31.367199091277072,
            37.989654475688745
           ],
           "xaxis": "x",
           "y": [
            77.44689878863538,
            37.95807090714896,
            28.205800565823626,
            41.24995312355544,
            67.24108531967077,
            50.736772738129126,
            22.576702101817183,
            29.83030878662668,
            77.13515766360726,
            68.59112979340358,
            25.823103882499947,
            46.39589268665147,
            29.210167544939228,
            70.97678428919566,
            62.662910953518605,
            77.93545602058285,
            32.489468118904306,
            31.168646146035872,
            51.74201961449095
           ],
           "yaxis": "y"
          },
          {
           "customdata": [
            [
             "Patient_2"
            ]
           ],
           "hovertemplate": "Anomaly_Label=Anomaly<br>Time=1<br>X Coordinate=%{x}<br>Y Coordinate=%{y}<br>PatientID=%{customdata[0]}<extra></extra>",
           "ids": [
            "Patient_2"
           ],
           "legendgroup": "Anomaly",
           "marker": {
            "color": "#EF553B",
            "symbol": "circle"
           },
           "mode": "markers",
           "name": "Anomaly",
           "orientation": "v",
           "showlegend": true,
           "type": "scatter",
           "x": [
            62.60976395663943
           ],
           "xaxis": "x",
           "y": [
            56.330460304009804
           ],
           "yaxis": "y"
          }
         ],
         "name": "1"
        },
        {
         "data": [
          {
           "customdata": [
            [
             "Patient_1"
            ],
            [
             "Patient_10"
            ],
            [
             "Patient_11"
            ],
            [
             "Patient_12"
            ],
            [
             "Patient_13"
            ],
            [
             "Patient_14"
            ],
            [
             "Patient_15"
            ],
            [
             "Patient_16"
            ],
            [
             "Patient_17"
            ],
            [
             "Patient_19"
            ],
            [
             "Patient_2"
            ],
            [
             "Patient_20"
            ],
            [
             "Patient_3"
            ],
            [
             "Patient_4"
            ],
            [
             "Patient_5"
            ],
            [
             "Patient_6"
            ],
            [
             "Patient_7"
            ],
            [
             "Patient_8"
            ],
            [
             "Patient_9"
            ]
           ],
           "hovertemplate": "Anomaly_Label=Normal<br>Time=2<br>X Coordinate=%{x}<br>Y Coordinate=%{y}<br>PatientID=%{customdata[0]}<extra></extra>",
           "ids": [
            "Patient_1",
            "Patient_10",
            "Patient_11",
            "Patient_12",
            "Patient_13",
            "Patient_14",
            "Patient_15",
            "Patient_16",
            "Patient_17",
            "Patient_19",
            "Patient_2",
            "Patient_20",
            "Patient_3",
            "Patient_4",
            "Patient_5",
            "Patient_6",
            "Patient_7",
            "Patient_8",
            "Patient_9"
           ],
           "legendgroup": "Normal",
           "marker": {
            "color": "#636efa",
            "symbol": "circle"
           },
           "mode": "markers",
           "name": "Normal",
           "orientation": "v",
           "showlegend": true,
           "type": "scatter",
           "x": [
            43.280487938922555,
            45.14136940299388,
            56.18002182647972,
            37.06896679499619,
            46.972572406854034,
            32.387185538186415,
            55.658604099024615,
            55.648949496805685,
            24.033036976240986,
            38.53779693321069,
            63.82345602629375,
            61.17922801590235,
            29.343762541693568,
            24.056428137349478,
            56.46241667811405,
            21.9364668132162,
            70.23998699492545,
            30.41422986986069,
            38.304360260116084
           ],
           "xaxis": "x",
           "y": [
            77.85093919267578,
            37.508029899285525,
            28.6064278544401,
            42.75667780013027,
            66.94952692547798,
            50.23863414659972,
            23.44059614034108,
            30.32376435050364,
            77.32404367108865,
            26.008819176999623,
            56.070282722989,
            46.58237372912456,
            28.775332201362396,
            72.3465352628395,
            62.02966094036536,
            77.49366559832353,
            33.83557445360156,
            30.721121726404643,
            51.23364807087617
           ],
           "yaxis": "y"
          },
          {
           "customdata": [
            [
             "Patient_18"
            ]
           ],
           "hovertemplate": "Anomaly_Label=Anomaly<br>Time=2<br>X Coordinate=%{x}<br>Y Coordinate=%{y}<br>PatientID=%{customdata[0]}<extra></extra>",
           "ids": [
            "Patient_18"
           ],
           "legendgroup": "Anomaly",
           "marker": {
            "color": "#EF553B",
            "symbol": "circle"
           },
           "mode": "markers",
           "name": "Anomaly",
           "orientation": "v",
           "showlegend": true,
           "type": "scatter",
           "x": [
            77.31944662903452
           ],
           "xaxis": "x",
           "y": [
            67.84361258044552
           ],
           "yaxis": "y"
          }
         ],
         "name": "2"
        },
        {
         "data": [
          {
           "customdata": [
            [
             "Patient_1"
            ],
            [
             "Patient_10"
            ],
            [
             "Patient_11"
            ],
            [
             "Patient_12"
            ],
            [
             "Patient_13"
            ],
            [
             "Patient_15"
            ],
            [
             "Patient_16"
            ],
            [
             "Patient_17"
            ],
            [
             "Patient_18"
            ],
            [
             "Patient_19"
            ],
            [
             "Patient_2"
            ],
            [
             "Patient_20"
            ],
            [
             "Patient_3"
            ],
            [
             "Patient_4"
            ],
            [
             "Patient_5"
            ],
            [
             "Patient_6"
            ],
            [
             "Patient_7"
            ],
            [
             "Patient_8"
            ],
            [
             "Patient_9"
            ]
           ],
           "hovertemplate": "Anomaly_Label=Normal<br>Time=3<br>X Coordinate=%{x}<br>Y Coordinate=%{y}<br>PatientID=%{customdata[0]}<extra></extra>",
           "ids": [
            "Patient_1",
            "Patient_10",
            "Patient_11",
            "Patient_12",
            "Patient_13",
            "Patient_15",
            "Patient_16",
            "Patient_17",
            "Patient_18",
            "Patient_19",
            "Patient_2",
            "Patient_20",
            "Patient_3",
            "Patient_4",
            "Patient_5",
            "Patient_6",
            "Patient_7",
            "Patient_8",
            "Patient_9"
           ],
           "legendgroup": "Normal",
           "marker": {
            "color": "#636efa",
            "symbol": "circle"
           },
           "mode": "markers",
           "name": "Normal",
           "orientation": "v",
           "showlegend": true,
           "type": "scatter",
           "x": [
            43.684528342962956,
            45.471943903714184,
            56.67262282863572,
            37.6670243117781,
            47.37069999896111,
            55.85770780560505,
            55.91724486505574,
            23.791364186453848,
            78.17454079676034,
            37.85342929136804,
            64.06617274533365,
            60.830724114695904,
            30.29400568211857,
            22.889364981490644,
            55.579559869478864,
            21.81436744725185,
            70.42824651264748,
            31.320528112423283,
            38.13184051957083
           ],
           "xaxis": "x",
           "y": [
            78.2549795967162,
            37.06584326939979,
            28.540207626530833,
            42.39530222213951,
            67.83732472215948,
            22.35844598499172,
            30.472683628859084,
            77.29013248224604,
            68.46742643065923,
            25.1029032280401,
            55.56233334280901,
            46.83734902153781,
            29.596587680628055,
            72.29884555081303,
            62.87789696963396,
            77.78424997054381,
            32.94673710416482,
            31.952667082533004,
            51.108517815755526
           ],
           "yaxis": "y"
          },
          {
           "customdata": [
            [
             "Patient_14"
            ]
           ],
           "hovertemplate": "Anomaly_Label=Anomaly<br>Time=3<br>X Coordinate=%{x}<br>Y Coordinate=%{y}<br>PatientID=%{customdata[0]}<extra></extra>",
           "ids": [
            "Patient_14"
           ],
           "legendgroup": "Anomaly",
           "marker": {
            "color": "#EF553B",
            "symbol": "circle"
           },
           "mode": "markers",
           "name": "Anomaly",
           "orientation": "v",
           "showlegend": true,
           "type": "scatter",
           "x": [
            31.848098512882604
           ],
           "xaxis": "x",
           "y": [
            52.214150888111504
           ],
           "yaxis": "y"
          }
         ],
         "name": "3"
        },
        {
         "data": [
          {
           "customdata": [
            [
             "Patient_1"
            ],
            [
             "Patient_10"
            ],
            [
             "Patient_11"
            ],
            [
             "Patient_12"
            ],
            [
             "Patient_13"
            ],
            [
             "Patient_14"
            ],
            [
             "Patient_15"
            ],
            [
             "Patient_16"
            ],
            [
             "Patient_17"
            ],
            [
             "Patient_18"
            ],
            [
             "Patient_19"
            ],
            [
             "Patient_2"
            ],
            [
             "Patient_20"
            ],
            [
             "Patient_3"
            ],
            [
             "Patient_4"
            ],
            [
             "Patient_5"
            ],
            [
             "Patient_6"
            ],
            [
             "Patient_7"
            ],
            [
             "Patient_8"
            ]
           ],
           "hovertemplate": "Anomaly_Label=Normal<br>Time=4<br>X Coordinate=%{x}<br>Y Coordinate=%{y}<br>PatientID=%{customdata[0]}<extra></extra>",
           "ids": [
            "Patient_1",
            "Patient_10",
            "Patient_11",
            "Patient_12",
            "Patient_13",
            "Patient_14",
            "Patient_15",
            "Patient_16",
            "Patient_17",
            "Patient_18",
            "Patient_19",
            "Patient_2",
            "Patient_20",
            "Patient_3",
            "Patient_4",
            "Patient_5",
            "Patient_6",
            "Patient_7",
            "Patient_8"
           ],
           "legendgroup": "Normal",
           "marker": {
            "color": "#636efa",
            "symbol": "circle"
           },
           "mode": "markers",
           "name": "Normal",
           "orientation": "v",
           "showlegend": true,
           "type": "scatter",
           "x": [
            44.088568747003364,
            46.202146373873525,
            57.18817456508937,
            37.37104428979292,
            46.97778644575337,
            31.73774515558703,
            56.70220341505931,
            56.795821209273555,
            23.667129646222055,
            77.9700619940213,
            37.91917429577226,
            64.00622697160989,
            60.68879827487085,
            28.919189708445625,
            23.514121089314965,
            56.24579438476667,
            21.776595279335787,
            69.25772376404677,
            31.167015666030366
           ],
           "xaxis": "x",
           "y": [
            78.6590200007566,
            38.04153123197281,
            28.695327264775408,
            42.361195207868136,
            66.99214838021082,
            50.89500337450986,
            21.85339216690399,
            29.425089485642665,
            77.47760753368368,
            67.96496849802301,
            26.20012571485037,
            56.11216774168661,
            46.517378919167065,
            29.436533773144923,
            71.3990835975808,
            62.76474693094685,
            78.72149215573712,
            32.27143412073901,
            31.261163566662134
           ],
           "yaxis": "y"
          },
          {
           "customdata": [
            [
             "Patient_9"
            ]
           ],
           "hovertemplate": "Anomaly_Label=Anomaly<br>Time=4<br>X Coordinate=%{x}<br>Y Coordinate=%{y}<br>PatientID=%{customdata[0]}<extra></extra>",
           "ids": [
            "Patient_9"
           ],
           "legendgroup": "Anomaly",
           "marker": {
            "color": "#EF553B",
            "symbol": "circle"
           },
           "mode": "markers",
           "name": "Anomaly",
           "orientation": "v",
           "showlegend": true,
           "type": "scatter",
           "x": [
            38.51205842072529
           ],
           "xaxis": "x",
           "y": [
            53.41175164326163
           ],
           "yaxis": "y"
          }
         ],
         "name": "4"
        },
        {
         "data": [
          {
           "customdata": [
            [
             "Patient_1"
            ],
            [
             "Patient_10"
            ],
            [
             "Patient_11"
            ],
            [
             "Patient_12"
            ],
            [
             "Patient_13"
            ],
            [
             "Patient_14"
            ],
            [
             "Patient_16"
            ],
            [
             "Patient_17"
            ],
            [
             "Patient_18"
            ],
            [
             "Patient_19"
            ],
            [
             "Patient_2"
            ],
            [
             "Patient_20"
            ],
            [
             "Patient_3"
            ],
            [
             "Patient_4"
            ],
            [
             "Patient_5"
            ],
            [
             "Patient_6"
            ],
            [
             "Patient_7"
            ],
            [
             "Patient_8"
            ],
            [
             "Patient_9"
            ]
           ],
           "hovertemplate": "Anomaly_Label=Normal<br>Time=5<br>X Coordinate=%{x}<br>Y Coordinate=%{y}<br>PatientID=%{customdata[0]}<extra></extra>",
           "ids": [
            "Patient_1",
            "Patient_10",
            "Patient_11",
            "Patient_12",
            "Patient_13",
            "Patient_14",
            "Patient_16",
            "Patient_17",
            "Patient_18",
            "Patient_19",
            "Patient_2",
            "Patient_20",
            "Patient_3",
            "Patient_4",
            "Patient_5",
            "Patient_6",
            "Patient_7",
            "Patient_8",
            "Patient_9"
           ],
           "legendgroup": "Normal",
           "marker": {
            "color": "#636efa",
            "symbol": "circle"
           },
           "mode": "markers",
           "name": "Normal",
           "orientation": "v",
           "showlegend": true,
           "type": "scatter",
           "x": [
            44.492609151043766,
            45.28625914135942,
            57.772251781849086,
            36.76899392913609,
            47.99765462761547,
            32.2023366435747,
            54.83205744405176,
            23.77681150342019,
            78.75412763643938,
            38.05680390705375,
            64.99160855334696,
            61.77461823526247,
            28.348547133217387,
            23.154123497707772,
            55.67064033537618,
            21.487563297238378,
            69.34641024449742,
            30.672025376845557,
            39.137261697712816
           ],
           "xaxis": "x",
           "y": [
            79.063060404797,
            37.9326793854099,
            28.885864269398084,
            41.73959356118837,
            66.75672295077143,
            51.24138333153137,
            29.719253600570344,
            76.30924064421757,
            67.78877019800734,
            25.925697129026076,
            56.2364685629812,
            45.69121854878636,
            29.452898377556874,
            72.39678541389422,
            62.42698644702928,
            78.62746872680474,
            32.5730960227761,
            30.677605974919175,
            51.68787675341475
           ],
           "yaxis": "y"
          },
          {
           "customdata": [
            [
             "Patient_15"
            ]
           ],
           "hovertemplate": "Anomaly_Label=Anomaly<br>Time=5<br>X Coordinate=%{x}<br>Y Coordinate=%{y}<br>PatientID=%{customdata[0]}<extra></extra>",
           "ids": [
            "Patient_15"
           ],
           "legendgroup": "Anomaly",
           "marker": {
            "color": "#EF553B",
            "symbol": "circle"
           },
           "mode": "markers",
           "name": "Anomaly",
           "orientation": "v",
           "showlegend": true,
           "type": "scatter",
           "x": [
            55.08140889593351
           ],
           "xaxis": "x",
           "y": [
            22.757262085168964
           ],
           "yaxis": "y"
          }
         ],
         "name": "5"
        },
        {
         "data": [
          {
           "customdata": [
            [
             "Patient_1"
            ],
            [
             "Patient_10"
            ],
            [
             "Patient_11"
            ],
            [
             "Patient_12"
            ],
            [
             "Patient_13"
            ],
            [
             "Patient_14"
            ],
            [
             "Patient_15"
            ],
            [
             "Patient_17"
            ],
            [
             "Patient_18"
            ],
            [
             "Patient_19"
            ],
            [
             "Patient_2"
            ],
            [
             "Patient_20"
            ],
            [
             "Patient_3"
            ],
            [
             "Patient_4"
            ],
            [
             "Patient_5"
            ],
            [
             "Patient_6"
            ],
            [
             "Patient_8"
            ],
            [
             "Patient_9"
            ]
           ],
           "hovertemplate": "Anomaly_Label=Normal<br>Time=6<br>X Coordinate=%{x}<br>Y Coordinate=%{y}<br>PatientID=%{customdata[0]}<extra></extra>",
           "ids": [
            "Patient_1",
            "Patient_10",
            "Patient_11",
            "Patient_12",
            "Patient_13",
            "Patient_14",
            "Patient_15",
            "Patient_17",
            "Patient_18",
            "Patient_19",
            "Patient_2",
            "Patient_20",
            "Patient_3",
            "Patient_4",
            "Patient_5",
            "Patient_6",
            "Patient_8",
            "Patient_9"
           ],
           "legendgroup": "Normal",
           "marker": {
            "color": "#636efa",
            "symbol": "circle"
           },
           "mode": "markers",
           "name": "Normal",
           "orientation": "v",
           "showlegend": true,
           "type": "scatter",
           "x": [
            44.89664955508417,
            45.812639993348306,
            56.41649130487067,
            37.70718665509562,
            47.81399899073878,
            32.386857988921065,
            55.130376626261516,
            23.8926447821347,
            78.57675443236778,
            38.55037484098726,
            63.42888218316033,
            60.94514098911581,
            29.460648274332925,
            23.519917772586975,
            56.123659377218154,
            22.028078065820825,
            30.833605484908244,
            38.395030511439785
           ],
           "xaxis": "x",
           "y": [
            79.4671008088374,
            37.22724794455309,
            28.794432687633023,
            41.63525579999117,
            67.26420744401912,
            51.16888072577851,
            22.506934243101377,
            76.99179592685438,
            68.20805519256974,
            25.759230514166084,
            56.15056078895383,
            46.958538050369675,
            29.059562781592764,
            71.77791194806524,
            62.815420005023256,
            77.57568338030624,
            31.298429194448318,
            51.17403613802397
           ],
           "yaxis": "y"
          },
          {
           "customdata": [
            [
             "Patient_16"
            ],
            [
             "Patient_7"
            ]
           ],
           "hovertemplate": "Anomaly_Label=Anomaly<br>Time=6<br>X Coordinate=%{x}<br>Y Coordinate=%{y}<br>PatientID=%{customdata[0]}<extra></extra>",
           "ids": [
            "Patient_16",
            "Patient_7"
           ],
           "legendgroup": "Anomaly",
           "marker": {
            "color": "#EF553B",
            "symbol": "circle"
           },
           "mode": "markers",
           "name": "Anomaly",
           "orientation": "v",
           "showlegend": true,
           "type": "scatter",
           "x": [
            56.82633791664793,
            71.01307513535345
           ],
           "xaxis": "x",
           "y": [
            30.536632553954224,
            31.76430274093532
           ],
           "yaxis": "y"
          }
         ],
         "name": "6"
        },
        {
         "data": [
          {
           "customdata": [
            [
             "Patient_1"
            ],
            [
             "Patient_10"
            ],
            [
             "Patient_11"
            ],
            [
             "Patient_12"
            ],
            [
             "Patient_13"
            ],
            [
             "Patient_14"
            ],
            [
             "Patient_15"
            ],
            [
             "Patient_16"
            ],
            [
             "Patient_17"
            ],
            [
             "Patient_18"
            ],
            [
             "Patient_19"
            ],
            [
             "Patient_2"
            ],
            [
             "Patient_20"
            ],
            [
             "Patient_3"
            ],
            [
             "Patient_4"
            ],
            [
             "Patient_5"
            ],
            [
             "Patient_7"
            ],
            [
             "Patient_8"
            ],
            [
             "Patient_9"
            ]
           ],
           "hovertemplate": "Anomaly_Label=Normal<br>Time=7<br>X Coordinate=%{x}<br>Y Coordinate=%{y}<br>PatientID=%{customdata[0]}<extra></extra>",
           "ids": [
            "Patient_1",
            "Patient_10",
            "Patient_11",
            "Patient_12",
            "Patient_13",
            "Patient_14",
            "Patient_15",
            "Patient_16",
            "Patient_17",
            "Patient_18",
            "Patient_19",
            "Patient_2",
            "Patient_20",
            "Patient_3",
            "Patient_4",
            "Patient_5",
            "Patient_7",
            "Patient_8",
            "Patient_9"
           ],
           "legendgroup": "Normal",
           "marker": {
            "color": "#636efa",
            "symbol": "circle"
           },
           "mode": "markers",
           "name": "Normal",
           "orientation": "v",
           "showlegend": true,
           "type": "scatter",
           "x": [
            45.300689959124576,
            45.91057773210349,
            56.74907596243963,
            38.01623877882197,
            46.9514504546259,
            32.186892656639394,
            55.133763933939335,
            56.57517439964066,
            23.667576426307612,
            77.2138798137249,
            37.91760403977602,
            64.57237591226146,
            61.209435373528414,
            29.702094912193672,
            23.647099906336187,
            56.115398687088884,
            69.44354975727546,
            31.488553469176072,
            38.566594486098346
           ],
           "xaxis": "x",
           "y": [
            79.8711412128778,
            37.025121226139596,
            28.031050783366453,
            41.90818190687043,
            66.94986476275433,
            50.57220402841471,
            22.908868368945818,
            29.977975833551927,
            77.0491572038788,
            67.80010899979938,
            25.753603264527108,
            55.93001097263858,
            47.14682773285085,
            29.204537841875432,
            71.90549721931227,
            62.78193318048119,
            32.1332523343027,
            31.400101938187497,
            51.79955865256641
           ],
           "yaxis": "y"
          },
          {
           "customdata": [
            [
             "Patient_6"
            ]
           ],
           "hovertemplate": "Anomaly_Label=Anomaly<br>Time=7<br>X Coordinate=%{x}<br>Y Coordinate=%{y}<br>PatientID=%{customdata[0]}<extra></extra>",
           "ids": [
            "Patient_6"
           ],
           "legendgroup": "Anomaly",
           "marker": {
            "color": "#EF553B",
            "symbol": "circle"
           },
           "mode": "markers",
           "name": "Anomaly",
           "orientation": "v",
           "showlegend": true,
           "type": "scatter",
           "x": [
            20.825959316131414
           ],
           "xaxis": "x",
           "y": [
            79.2407847675624
           ],
           "yaxis": "y"
          }
         ],
         "name": "7"
        },
        {
         "data": [
          {
           "customdata": [
            [
             "Patient_1"
            ],
            [
             "Patient_10"
            ],
            [
             "Patient_11"
            ],
            [
             "Patient_12"
            ],
            [
             "Patient_13"
            ],
            [
             "Patient_14"
            ],
            [
             "Patient_15"
            ],
            [
             "Patient_16"
            ],
            [
             "Patient_17"
            ],
            [
             "Patient_19"
            ],
            [
             "Patient_2"
            ],
            [
             "Patient_20"
            ],
            [
             "Patient_3"
            ],
            [
             "Patient_4"
            ],
            [
             "Patient_5"
            ],
            [
             "Patient_6"
            ],
            [
             "Patient_7"
            ],
            [
             "Patient_8"
            ],
            [
             "Patient_9"
            ]
           ],
           "hovertemplate": "Anomaly_Label=Normal<br>Time=8<br>X Coordinate=%{x}<br>Y Coordinate=%{y}<br>PatientID=%{customdata[0]}<extra></extra>",
           "ids": [
            "Patient_1",
            "Patient_10",
            "Patient_11",
            "Patient_12",
            "Patient_13",
            "Patient_14",
            "Patient_15",
            "Patient_16",
            "Patient_17",
            "Patient_19",
            "Patient_2",
            "Patient_20",
            "Patient_3",
            "Patient_4",
            "Patient_5",
            "Patient_6",
            "Patient_7",
            "Patient_8",
            "Patient_9"
           ],
           "legendgroup": "Normal",
           "marker": {
            "color": "#636efa",
            "symbol": "circle"
           },
           "mode": "markers",
           "name": "Normal",
           "orientation": "v",
           "showlegend": true,
           "type": "scatter",
           "x": [
            45.70473036316498,
            45.92895620565642,
            57.436745487240294,
            38.605270140868875,
            47.80035937138249,
            33.07532839611042,
            55.12501321063216,
            55.3907432519314,
            23.523529248339923,
            38.75203806949527,
            63.91012840473296,
            60.60477425505523,
            29.351861858549995,
            23.64637601026101,
            56.326573961713116,
            21.18068958351972,
            70.29163044388088,
            31.021544273331244,
            38.30337262684668
           ],
           "xaxis": "x",
           "y": [
            80.27518161691822,
            37.72274755750524,
            28.849267052165114,
            41.598036816177476,
            67.20222868645,
            50.44991716213912,
            22.487328440477853,
            29.96856991039711,
            77.00832912843809,
            25.57187501255183,
            55.41824436950329,
            46.65510921012933,
            29.21534190071209,
            71.55695327471994,
            63.25072412426402,
            78.39544699076914,
            32.539736404753654,
            31.010566791596926,
            51.098881006006536
           ],
           "yaxis": "y"
          },
          {
           "customdata": [
            [
             "Patient_18"
            ]
           ],
           "hovertemplate": "Anomaly_Label=Anomaly<br>Time=8<br>X Coordinate=%{x}<br>Y Coordinate=%{y}<br>PatientID=%{customdata[0]}<extra></extra>",
           "ids": [
            "Patient_18"
           ],
           "legendgroup": "Anomaly",
           "marker": {
            "color": "#EF553B",
            "symbol": "circle"
           },
           "mode": "markers",
           "name": "Anomaly",
           "orientation": "v",
           "showlegend": true,
           "type": "scatter",
           "x": [
            78.10879997236214
           ],
           "xaxis": "x",
           "y": [
            69.4419263065956
           ],
           "yaxis": "y"
          }
         ],
         "name": "8"
        },
        {
         "data": [
          {
           "customdata": [
            [
             "Patient_1"
            ],
            [
             "Patient_10"
            ],
            [
             "Patient_11"
            ],
            [
             "Patient_12"
            ],
            [
             "Patient_13"
            ],
            [
             "Patient_14"
            ],
            [
             "Patient_15"
            ],
            [
             "Patient_16"
            ],
            [
             "Patient_17"
            ],
            [
             "Patient_18"
            ],
            [
             "Patient_19"
            ],
            [
             "Patient_2"
            ],
            [
             "Patient_20"
            ],
            [
             "Patient_3"
            ],
            [
             "Patient_4"
            ],
            [
             "Patient_5"
            ],
            [
             "Patient_6"
            ],
            [
             "Patient_7"
            ],
            [
             "Patient_8"
            ],
            [
             "Patient_9"
            ]
           ],
           "hovertemplate": "Anomaly_Label=Normal<br>Time=9<br>X Coordinate=%{x}<br>Y Coordinate=%{y}<br>PatientID=%{customdata[0]}<extra></extra>",
           "ids": [
            "Patient_1",
            "Patient_10",
            "Patient_11",
            "Patient_12",
            "Patient_13",
            "Patient_14",
            "Patient_15",
            "Patient_16",
            "Patient_17",
            "Patient_18",
            "Patient_19",
            "Patient_2",
            "Patient_20",
            "Patient_3",
            "Patient_4",
            "Patient_5",
            "Patient_6",
            "Patient_7",
            "Patient_8",
            "Patient_9"
           ],
           "legendgroup": "Normal",
           "marker": {
            "color": "#636efa",
            "symbol": "circle"
           },
           "mode": "markers",
           "name": "Normal",
           "orientation": "v",
           "showlegend": true,
           "type": "scatter",
           "x": [
            46.10877076720538,
            46.27250855757139,
            55.94411659797496,
            37.69483591810289,
            48.13977504078342,
            32.5700755215335,
            56.57524809416354,
            56.32820903984676,
            24.225783553909345,
            77.4554602541835,
            38.80603839382704,
            64.50935656904495,
            60.46235233439653,
            28.50455116200075,
            23.42774680746566,
            55.26968687519534,
            21.23769150760724,
            69.7215257122857,
            30.37568781773474,
            38.314682393428214
           ],
           "xaxis": "x",
           "y": [
            80.67922202095862,
            36.911427365963576,
            29.008470050071764,
            41.60746732934322,
            67.16839500072726,
            50.88782554552175,
            23.664695184421465,
            30.71723289671467,
            77.61744801396617,
            68.84686661698689,
            24.980957097171473,
            55.68492122576984,
            45.38953353549603,
            30.036607407254866,
            72.58947690248284,
            62.18466715628584,
            78.21808142660204,
            33.05177160687032,
            30.933080848695383,
            51.74260531496365
           ],
           "yaxis": "y"
          }
         ],
         "name": "9"
        },
        {
         "data": [
          {
           "customdata": [
            [
             "Patient_1"
            ],
            [
             "Patient_10"
            ],
            [
             "Patient_11"
            ],
            [
             "Patient_12"
            ],
            [
             "Patient_13"
            ],
            [
             "Patient_14"
            ],
            [
             "Patient_15"
            ],
            [
             "Patient_16"
            ],
            [
             "Patient_17"
            ],
            [
             "Patient_18"
            ],
            [
             "Patient_19"
            ],
            [
             "Patient_2"
            ],
            [
             "Patient_20"
            ],
            [
             "Patient_4"
            ],
            [
             "Patient_5"
            ],
            [
             "Patient_6"
            ],
            [
             "Patient_7"
            ],
            [
             "Patient_8"
            ],
            [
             "Patient_9"
            ]
           ],
           "hovertemplate": "Anomaly_Label=Normal<br>Time=10<br>X Coordinate=%{x}<br>Y Coordinate=%{y}<br>PatientID=%{customdata[0]}<extra></extra>",
           "ids": [
            "Patient_1",
            "Patient_10",
            "Patient_11",
            "Patient_12",
            "Patient_13",
            "Patient_14",
            "Patient_15",
            "Patient_16",
            "Patient_17",
            "Patient_18",
            "Patient_19",
            "Patient_2",
            "Patient_20",
            "Patient_4",
            "Patient_5",
            "Patient_6",
            "Patient_7",
            "Patient_8",
            "Patient_9"
           ],
           "legendgroup": "Normal",
           "marker": {
            "color": "#636efa",
            "symbol": "circle"
           },
           "mode": "markers",
           "name": "Normal",
           "orientation": "v",
           "showlegend": true,
           "type": "scatter",
           "x": [
            46.51281117124579,
            45.88536156989036,
            56.218310660175,
            37.26355010292687,
            47.31068387304487,
            31.703602276827993,
            56.527236698180744,
            56.10282836009001,
            23.846931554271357,
            78.24500533449527,
            38.01157557659698,
            64.67081503473231,
            60.916455742153595,
            22.63332551041439,
            56.25893342906218,
            20.20134860772821,
            69.29432369777288,
            31.09279715547446,
            37.997601118903916
           ],
           "xaxis": "x",
           "y": [
            81.08326242499902,
            37.95131957213313,
            28.62165489688143,
            41.58527418149033,
            66.59293652237113,
            50.25512735852227,
            22.80465653918573,
            30.338437376604602,
            76.82264743543338,
            68.8825947420113,
            25.57241772006069,
            55.95655644203208,
            45.25818904200828,
            71.9427948970478,
            62.46800729371569,
            78.15003110996328,
            33.07518291511159,
            30.534330698042353,
            50.9557791369898
           ],
           "yaxis": "y"
          },
          {
           "customdata": [
            [
             "Patient_3"
            ]
           ],
           "hovertemplate": "Anomaly_Label=Anomaly<br>Time=10<br>X Coordinate=%{x}<br>Y Coordinate=%{y}<br>PatientID=%{customdata[0]}<extra></extra>",
           "ids": [
            "Patient_3"
           ],
           "legendgroup": "Anomaly",
           "marker": {
            "color": "#EF553B",
            "symbol": "circle"
           },
           "mode": "markers",
           "name": "Anomaly",
           "orientation": "v",
           "showlegend": true,
           "type": "scatter",
           "x": [
            30.175426199331838
           ],
           "xaxis": "x",
           "y": [
            28.669620491064716
           ],
           "yaxis": "y"
          }
         ],
         "name": "10"
        },
        {
         "data": [
          {
           "customdata": [
            [
             "Patient_1"
            ],
            [
             "Patient_10"
            ],
            [
             "Patient_11"
            ],
            [
             "Patient_12"
            ],
            [
             "Patient_13"
            ],
            [
             "Patient_14"
            ],
            [
             "Patient_15"
            ],
            [
             "Patient_16"
            ],
            [
             "Patient_17"
            ],
            [
             "Patient_18"
            ],
            [
             "Patient_19"
            ],
            [
             "Patient_2"
            ],
            [
             "Patient_20"
            ],
            [
             "Patient_3"
            ],
            [
             "Patient_5"
            ],
            [
             "Patient_6"
            ],
            [
             "Patient_7"
            ],
            [
             "Patient_8"
            ],
            [
             "Patient_9"
            ]
           ],
           "hovertemplate": "Anomaly_Label=Normal<br>Time=11<br>X Coordinate=%{x}<br>Y Coordinate=%{y}<br>PatientID=%{customdata[0]}<extra></extra>",
           "ids": [
            "Patient_1",
            "Patient_10",
            "Patient_11",
            "Patient_12",
            "Patient_13",
            "Patient_14",
            "Patient_15",
            "Patient_16",
            "Patient_17",
            "Patient_18",
            "Patient_19",
            "Patient_2",
            "Patient_20",
            "Patient_3",
            "Patient_5",
            "Patient_6",
            "Patient_7",
            "Patient_8",
            "Patient_9"
           ],
           "legendgroup": "Normal",
           "marker": {
            "color": "#636efa",
            "symbol": "circle"
           },
           "mode": "markers",
           "name": "Normal",
           "orientation": "v",
           "showlegend": true,
           "type": "scatter",
           "x": [
            46.91685157528619,
            45.91271479786864,
            56.74985783716658,
            38.29024095074792,
            46.84557597585893,
            31.542617802809204,
            56.00796290548837,
            55.75340732717673,
            23.57777429455586,
            77.64172502235412,
            38.301086964374655,
            64.74212036543494,
            61.18921000361934,
            29.649396908074074,
            56.002941908852144,
            20.43184649761936,
            69.56838307538317,
            30.586211590304774,
            39.09810539510855
           ],
           "xaxis": "x",
           "y": [
            81.48730282903942,
            38.21372048132752,
            27.93898953845838,
            42.251165619463826,
            67.01538834453902,
            50.16266643933453,
            23.74173308343493,
            30.512932039582775,
            76.68956954331765,
            68.07184550214775,
            25.444851782177512,
            55.79499103204401,
            46.38403056965151,
            29.51529629744393,
            62.006584447462515,
            78.29632294765328,
            32.02921978589774,
            30.463496589398833,
            51.926205776409
           ],
           "yaxis": "y"
          },
          {
           "customdata": [
            [
             "Patient_4"
            ]
           ],
           "hovertemplate": "Anomaly_Label=Anomaly<br>Time=11<br>X Coordinate=%{x}<br>Y Coordinate=%{y}<br>PatientID=%{customdata[0]}<extra></extra>",
           "ids": [
            "Patient_4"
           ],
           "legendgroup": "Anomaly",
           "marker": {
            "color": "#EF553B",
            "symbol": "circle"
           },
           "mode": "markers",
           "name": "Anomaly",
           "orientation": "v",
           "showlegend": true,
           "type": "scatter",
           "x": [
            25.024457134319587
           ],
           "xaxis": "x",
           "y": [
            72.5303562022134
           ],
           "yaxis": "y"
          }
         ],
         "name": "11"
        },
        {
         "data": [
          {
           "customdata": [
            [
             "Patient_1"
            ],
            [
             "Patient_10"
            ],
            [
             "Patient_11"
            ],
            [
             "Patient_12"
            ],
            [
             "Patient_13"
            ],
            [
             "Patient_14"
            ],
            [
             "Patient_15"
            ],
            [
             "Patient_16"
            ],
            [
             "Patient_17"
            ],
            [
             "Patient_18"
            ],
            [
             "Patient_19"
            ],
            [
             "Patient_2"
            ],
            [
             "Patient_20"
            ],
            [
             "Patient_3"
            ],
            [
             "Patient_4"
            ],
            [
             "Patient_5"
            ],
            [
             "Patient_6"
            ],
            [
             "Patient_7"
            ],
            [
             "Patient_8"
            ],
            [
             "Patient_9"
            ]
           ],
           "hovertemplate": "Anomaly_Label=Normal<br>Time=12<br>X Coordinate=%{x}<br>Y Coordinate=%{y}<br>PatientID=%{customdata[0]}<extra></extra>",
           "ids": [
            "Patient_1",
            "Patient_10",
            "Patient_11",
            "Patient_12",
            "Patient_13",
            "Patient_14",
            "Patient_15",
            "Patient_16",
            "Patient_17",
            "Patient_18",
            "Patient_19",
            "Patient_2",
            "Patient_20",
            "Patient_3",
            "Patient_4",
            "Patient_5",
            "Patient_6",
            "Patient_7",
            "Patient_8",
            "Patient_9"
           ],
           "legendgroup": "Normal",
           "marker": {
            "color": "#636efa",
            "symbol": "circle"
           },
           "mode": "markers",
           "name": "Normal",
           "orientation": "v",
           "showlegend": true,
           "type": "scatter",
           "x": [
            47.320891979326596,
            46.23599734791563,
            56.67813378401911,
            37.20276085821202,
            46.93399237038018,
            32.483573334108804,
            55.962720187755124,
            56.71759320304394,
            22.667273329053128,
            78.22645804806383,
            38.462399087087896,
            63.63125084340014,
            61.097276484465866,
            29.611577020358382,
            23.53468288280658,
            55.23219806403184,
            20.903757778275224,
            69.56492886975406,
            30.095726813484454,
            38.38439582843301
           ],
           "xaxis": "x",
           "y": [
            81.89134323307982,
            36.64298838074803,
            27.764123539241282,
            42.00540993327971,
            66.91827991146592,
            50.56562037005512,
            22.222171335871053,
            30.952231731566442,
            76.53468460746475,
            68.40231819396617,
            25.558334247025122,
            56.29720466473508,
            46.33131100668004,
            28.870893597772884,
            72.346262308182,
            62.7560347639527,
            78.47989046401625,
            31.83790559036431,
            31.02831306453672,
            51.033227585382065
           ],
           "yaxis": "y"
          }
         ],
         "name": "12"
        },
        {
         "data": [
          {
           "customdata": [
            [
             "Patient_1"
            ],
            [
             "Patient_10"
            ],
            [
             "Patient_11"
            ],
            [
             "Patient_12"
            ],
            [
             "Patient_13"
            ],
            [
             "Patient_14"
            ],
            [
             "Patient_15"
            ],
            [
             "Patient_16"
            ],
            [
             "Patient_17"
            ],
            [
             "Patient_18"
            ],
            [
             "Patient_19"
            ],
            [
             "Patient_2"
            ],
            [
             "Patient_20"
            ],
            [
             "Patient_3"
            ],
            [
             "Patient_4"
            ],
            [
             "Patient_5"
            ],
            [
             "Patient_6"
            ],
            [
             "Patient_7"
            ],
            [
             "Patient_8"
            ],
            [
             "Patient_9"
            ]
           ],
           "hovertemplate": "Anomaly_Label=Normal<br>Time=13<br>X Coordinate=%{x}<br>Y Coordinate=%{y}<br>PatientID=%{customdata[0]}<extra></extra>",
           "ids": [
            "Patient_1",
            "Patient_10",
            "Patient_11",
            "Patient_12",
            "Patient_13",
            "Patient_14",
            "Patient_15",
            "Patient_16",
            "Patient_17",
            "Patient_18",
            "Patient_19",
            "Patient_2",
            "Patient_20",
            "Patient_3",
            "Patient_4",
            "Patient_5",
            "Patient_6",
            "Patient_7",
            "Patient_8",
            "Patient_9"
           ],
           "legendgroup": "Normal",
           "marker": {
            "color": "#636efa",
            "symbol": "circle"
           },
           "mode": "markers",
           "name": "Normal",
           "orientation": "v",
           "showlegend": true,
           "type": "scatter",
           "x": [
            47.724932383367,
            45.92591030812172,
            56.87463737022485,
            37.94338170270484,
            47.48200633207644,
            31.24113380661166,
            55.71412233546976,
            56.76908204713944,
            23.99402870664602,
            77.70824153470343,
            38.69199405867437,
            64.0884378397219,
            61.08976470933911,
            29.117315314509945,
            23.682242801281117,
            56.211788133040734,
            21.670632009463993,
            70.5471654091073,
            29.890435764837108,
            37.31913861705934
           ],
           "xaxis": "x",
           "y": [
            82.29538363712024,
            38.31196706802015,
            28.260081374718077,
            40.87614294311756,
            67.49599028052431,
            51.42594332642016,
            22.579380806249464,
            31.36679385013969,
            77.05724252835016,
            68.07891870225527,
            25.432284927428597,
            55.713570568760964,
            46.17032090099352,
            29.14339212626235,
            71.76007650608598,
            63.52205506708545,
            78.03157936363574,
            32.5363089541858,
            30.500227435747327,
            51.30962915591362
           ],
           "yaxis": "y"
          }
         ],
         "name": "13"
        },
        {
         "data": [
          {
           "customdata": [
            [
             "Patient_1"
            ],
            [
             "Patient_10"
            ],
            [
             "Patient_11"
            ],
            [
             "Patient_12"
            ],
            [
             "Patient_13"
            ],
            [
             "Patient_14"
            ],
            [
             "Patient_15"
            ],
            [
             "Patient_16"
            ],
            [
             "Patient_17"
            ],
            [
             "Patient_18"
            ],
            [
             "Patient_19"
            ],
            [
             "Patient_2"
            ],
            [
             "Patient_20"
            ],
            [
             "Patient_3"
            ],
            [
             "Patient_4"
            ],
            [
             "Patient_5"
            ],
            [
             "Patient_6"
            ],
            [
             "Patient_7"
            ],
            [
             "Patient_8"
            ],
            [
             "Patient_9"
            ]
           ],
           "hovertemplate": "Anomaly_Label=Normal<br>Time=14<br>X Coordinate=%{x}<br>Y Coordinate=%{y}<br>PatientID=%{customdata[0]}<extra></extra>",
           "ids": [
            "Patient_1",
            "Patient_10",
            "Patient_11",
            "Patient_12",
            "Patient_13",
            "Patient_14",
            "Patient_15",
            "Patient_16",
            "Patient_17",
            "Patient_18",
            "Patient_19",
            "Patient_2",
            "Patient_20",
            "Patient_3",
            "Patient_4",
            "Patient_5",
            "Patient_6",
            "Patient_7",
            "Patient_8",
            "Patient_9"
           ],
           "legendgroup": "Normal",
           "marker": {
            "color": "#636efa",
            "symbol": "circle"
           },
           "mode": "markers",
           "name": "Normal",
           "orientation": "v",
           "showlegend": true,
           "type": "scatter",
           "x": [
            48.1289727874074,
            46.243883946703974,
            56.85115799650268,
            38.75155490192151,
            47.4188964503246,
            32.220931545369936,
            55.1496369039999,
            57.39370336232382,
            24.69968889243647,
            77.44311957434427,
            38.30468860654659,
            64.43840648081326,
            60.207749275872004,
            29.226180958899505,
            23.262870100053913,
            56.445395012915206,
            21.66987261780098,
            70.15327589963717,
            30.52260343287425,
            37.365174453120126
           ],
           "xaxis": "x",
           "y": [
            82.69942404116064,
            37.44595607642729,
            27.806887115473323,
            42.04632118860911,
            67.47344099553017,
            50.96600831695626,
            23.02275894176786,
            30.90415744431498,
            76.6775243969844,
            68.44094742693784,
            26.407422599618506,
            55.66450085239482,
            47.17392478410638,
            28.870289362281007,
            72.15921899301854,
            62.02327200567392,
            78.87241005912215,
            33.67874454697561,
            30.38194323955032,
            52.233408053678865
           ],
           "yaxis": "y"
          }
         ],
         "name": "14"
        },
        {
         "data": [
          {
           "customdata": [
            [
             "Patient_1"
            ],
            [
             "Patient_10"
            ],
            [
             "Patient_11"
            ],
            [
             "Patient_12"
            ],
            [
             "Patient_13"
            ],
            [
             "Patient_14"
            ],
            [
             "Patient_15"
            ],
            [
             "Patient_16"
            ],
            [
             "Patient_17"
            ],
            [
             "Patient_18"
            ],
            [
             "Patient_19"
            ],
            [
             "Patient_2"
            ],
            [
             "Patient_3"
            ],
            [
             "Patient_4"
            ],
            [
             "Patient_5"
            ],
            [
             "Patient_6"
            ],
            [
             "Patient_7"
            ],
            [
             "Patient_8"
            ],
            [
             "Patient_9"
            ]
           ],
           "hovertemplate": "Anomaly_Label=Normal<br>Time=15<br>X Coordinate=%{x}<br>Y Coordinate=%{y}<br>PatientID=%{customdata[0]}<extra></extra>",
           "ids": [
            "Patient_1",
            "Patient_10",
            "Patient_11",
            "Patient_12",
            "Patient_13",
            "Patient_14",
            "Patient_15",
            "Patient_16",
            "Patient_17",
            "Patient_18",
            "Patient_19",
            "Patient_2",
            "Patient_3",
            "Patient_4",
            "Patient_5",
            "Patient_6",
            "Patient_7",
            "Patient_8",
            "Patient_9"
           ],
           "legendgroup": "Normal",
           "marker": {
            "color": "#636efa",
            "symbol": "circle"
           },
           "mode": "markers",
           "name": "Normal",
           "orientation": "v",
           "showlegend": true,
           "type": "scatter",
           "x": [
            48.53301319144781,
            46.84117916599962,
            56.576729338065356,
            38.81535881373802,
            47.37116369897863,
            32.07946930988551,
            55.25804312828243,
            56.436314478978304,
            23.54667268777819,
            77.81043337576314,
            36.951341246205736,
            63.41358432105422,
            29.772703718527147,
            22.84003628022144,
            55.89900835494746,
            21.105273982066347,
            69.82368691598234,
            29.56105471095525,
            38.13906731246793
           ],
           "xaxis": "x",
           "y": [
            83.10346444520104,
            38.03703092665639,
            27.816368684751673,
            42.01131981462874,
            67.09849514002582,
            50.78188609885473,
            22.513595292579666,
            29.959735035670608,
            76.98634734904594,
            69.25583738127901,
            26.40608026634426,
            55.09208071588931,
            29.39633020376636,
            71.3230293604643,
            63.31886543040743,
            77.44301965316062,
            32.60398485582274,
            30.977123157947123,
            51.83348908034098
           ],
           "yaxis": "y"
          },
          {
           "customdata": [
            [
             "Patient_20"
            ]
           ],
           "hovertemplate": "Anomaly_Label=Anomaly<br>Time=15<br>X Coordinate=%{x}<br>Y Coordinate=%{y}<br>PatientID=%{customdata[0]}<extra></extra>",
           "ids": [
            "Patient_20"
           ],
           "legendgroup": "Anomaly",
           "marker": {
            "color": "#EF553B",
            "symbol": "circle"
           },
           "mode": "markers",
           "name": "Anomaly",
           "orientation": "v",
           "showlegend": true,
           "type": "scatter",
           "x": [
            61.67702418697823
           ],
           "xaxis": "x",
           "y": [
            45.372454508172005
           ],
           "yaxis": "y"
          }
         ],
         "name": "15"
        },
        {
         "data": [
          {
           "customdata": [
            [
             "Patient_1"
            ],
            [
             "Patient_10"
            ],
            [
             "Patient_11"
            ],
            [
             "Patient_12"
            ],
            [
             "Patient_13"
            ],
            [
             "Patient_14"
            ],
            [
             "Patient_15"
            ],
            [
             "Patient_16"
            ],
            [
             "Patient_17"
            ],
            [
             "Patient_18"
            ],
            [
             "Patient_19"
            ],
            [
             "Patient_2"
            ],
            [
             "Patient_20"
            ],
            [
             "Patient_3"
            ],
            [
             "Patient_4"
            ],
            [
             "Patient_5"
            ],
            [
             "Patient_6"
            ],
            [
             "Patient_7"
            ],
            [
             "Patient_8"
            ],
            [
             "Patient_9"
            ]
           ],
           "hovertemplate": "Anomaly_Label=Normal<br>Time=16<br>X Coordinate=%{x}<br>Y Coordinate=%{y}<br>PatientID=%{customdata[0]}<extra></extra>",
           "ids": [
            "Patient_1",
            "Patient_10",
            "Patient_11",
            "Patient_12",
            "Patient_13",
            "Patient_14",
            "Patient_15",
            "Patient_16",
            "Patient_17",
            "Patient_18",
            "Patient_19",
            "Patient_2",
            "Patient_20",
            "Patient_3",
            "Patient_4",
            "Patient_5",
            "Patient_6",
            "Patient_7",
            "Patient_8",
            "Patient_9"
           ],
           "legendgroup": "Normal",
           "marker": {
            "color": "#636efa",
            "symbol": "circle"
           },
           "mode": "markers",
           "name": "Normal",
           "orientation": "v",
           "showlegend": true,
           "type": "scatter",
           "x": [
            48.93705359548821,
            45.736218035617405,
            56.170642019542825,
            37.825229541097286,
            47.527265564143214,
            32.442440439105034,
            55.28351262146303,
            56.10051926881492,
            23.12478099235482,
            77.29770730822543,
            37.23586144646038,
            63.21588066132539,
            61.159490324330726,
            28.805830503813276,
            23.9528559266657,
            56.42773673661414,
            20.972809524608262,
            69.33549454357934,
            30.78933533334697,
            38.610014561674014
           ],
           "xaxis": "x",
           "y": [
            83.50750484924144,
            38.05341331356463,
            28.67759944259464,
            41.826937377964505,
            66.48500089538817,
            50.761615236595205,
            23.311529376118308,
            29.52721677305571,
            77.23613721087281,
            69.38123797797984,
            26.70855502452805,
            55.53060070802676,
            46.360793068440884,
            30.235806441883973,
            72.6063462939932,
            61.91982878215411,
            78.43927841033363,
            33.09684585578277,
            30.81686018743123,
            51.70751755367729
           ],
           "yaxis": "y"
          }
         ],
         "name": "16"
        },
        {
         "data": [
          {
           "customdata": [
            [
             "Patient_1"
            ],
            [
             "Patient_10"
            ],
            [
             "Patient_11"
            ],
            [
             "Patient_12"
            ],
            [
             "Patient_13"
            ],
            [
             "Patient_14"
            ],
            [
             "Patient_15"
            ],
            [
             "Patient_16"
            ],
            [
             "Patient_17"
            ],
            [
             "Patient_18"
            ],
            [
             "Patient_19"
            ],
            [
             "Patient_2"
            ],
            [
             "Patient_20"
            ],
            [
             "Patient_3"
            ],
            [
             "Patient_4"
            ],
            [
             "Patient_5"
            ],
            [
             "Patient_6"
            ],
            [
             "Patient_7"
            ],
            [
             "Patient_8"
            ],
            [
             "Patient_9"
            ]
           ],
           "hovertemplate": "Anomaly_Label=Normal<br>Time=17<br>X Coordinate=%{x}<br>Y Coordinate=%{y}<br>PatientID=%{customdata[0]}<extra></extra>",
           "ids": [
            "Patient_1",
            "Patient_10",
            "Patient_11",
            "Patient_12",
            "Patient_13",
            "Patient_14",
            "Patient_15",
            "Patient_16",
            "Patient_17",
            "Patient_18",
            "Patient_19",
            "Patient_2",
            "Patient_20",
            "Patient_3",
            "Patient_4",
            "Patient_5",
            "Patient_6",
            "Patient_7",
            "Patient_8",
            "Patient_9"
           ],
           "legendgroup": "Normal",
           "marker": {
            "color": "#636efa",
            "symbol": "circle"
           },
           "mode": "markers",
           "name": "Normal",
           "orientation": "v",
           "showlegend": true,
           "type": "scatter",
           "x": [
            49.34109399952861,
            46.014623746075785,
            56.91530006120001,
            38.043256730775916,
            47.49221392017909,
            32.81316415173287,
            54.62443701605673,
            56.14028182523846,
            24.161925089351335,
            78.0313053667121,
            37.971067248906266,
            63.90081915747188,
            60.59236496767396,
            29.41823225087721,
            23.303210623985038,
            56.22080158903856,
            20.56097694669529,
            70.03199116708929,
            30.918714998958734,
            37.984654737417586
           ],
           "xaxis": "x",
           "y": [
            83.91154525328184,
            36.98456202307499,
            27.51833983700359,
            42.21800933882802,
            67.60190317555357,
            51.36125133732576,
            22.14723627983201,
            30.244492946342906,
            76.57026032862326,
            68.126149420811,
            25.15699629195892,
            56.47115999283046,
            45.733307321567914,
            29.434822100903098,
            71.94209593463557,
            61.62927047143442,
            78.56622317673103,
            32.64835497252023,
            31.178061443886865,
            51.09623353523312
           ],
           "yaxis": "y"
          }
         ],
         "name": "17"
        },
        {
         "data": [
          {
           "customdata": [
            [
             "Patient_1"
            ],
            [
             "Patient_10"
            ],
            [
             "Patient_11"
            ],
            [
             "Patient_12"
            ],
            [
             "Patient_13"
            ],
            [
             "Patient_14"
            ],
            [
             "Patient_15"
            ],
            [
             "Patient_16"
            ],
            [
             "Patient_17"
            ],
            [
             "Patient_18"
            ],
            [
             "Patient_19"
            ],
            [
             "Patient_2"
            ],
            [
             "Patient_20"
            ],
            [
             "Patient_3"
            ],
            [
             "Patient_4"
            ],
            [
             "Patient_5"
            ],
            [
             "Patient_7"
            ],
            [
             "Patient_8"
            ],
            [
             "Patient_9"
            ]
           ],
           "hovertemplate": "Anomaly_Label=Normal<br>Time=18<br>X Coordinate=%{x}<br>Y Coordinate=%{y}<br>PatientID=%{customdata[0]}<extra></extra>",
           "ids": [
            "Patient_1",
            "Patient_10",
            "Patient_11",
            "Patient_12",
            "Patient_13",
            "Patient_14",
            "Patient_15",
            "Patient_16",
            "Patient_17",
            "Patient_18",
            "Patient_19",
            "Patient_2",
            "Patient_20",
            "Patient_3",
            "Patient_4",
            "Patient_5",
            "Patient_7",
            "Patient_8",
            "Patient_9"
           ],
           "legendgroup": "Normal",
           "marker": {
            "color": "#636efa",
            "symbol": "circle"
           },
           "mode": "markers",
           "name": "Normal",
           "orientation": "v",
           "showlegend": true,
           "type": "scatter",
           "x": [
            49.74513440356902,
            46.27057708625468,
            57.02737755287053,
            37.83958389322169,
            47.00063046510972,
            31.94321021495156,
            55.63372463218918,
            56.64279003958928,
            24.182990803082294,
            78.35488306174801,
            38.24174329467292,
            63.44493706426834,
            61.26879070029571,
            29.607777376986636,
            23.05583784000136,
            55.77908179147364,
            70.52119511116815,
            30.892003787177554,
            37.94105104867838
           ],
           "xaxis": "x",
           "y": [
            84.31558565732225,
            37.19251502393538,
            28.855908863935873,
            41.19659823767627,
            66.98679836580507,
            51.16440235359204,
            22.11935258384481,
            30.5367402938794,
            77.47352259797731,
            68.73343092660188,
            25.029846373625034,
            57.23570008424089,
            46.512993467957635,
            29.452089282019596,
            72.32072368620061,
            62.54535957508541,
            32.38875842813363,
            31.889670909023785,
            52.39161017693274
           ],
           "yaxis": "y"
          },
          {
           "customdata": [
            [
             "Patient_6"
            ]
           ],
           "hovertemplate": "Anomaly_Label=Anomaly<br>Time=18<br>X Coordinate=%{x}<br>Y Coordinate=%{y}<br>PatientID=%{customdata[0]}<extra></extra>",
           "ids": [
            "Patient_6"
           ],
           "legendgroup": "Anomaly",
           "marker": {
            "color": "#EF553B",
            "symbol": "circle"
           },
           "mode": "markers",
           "name": "Anomaly",
           "orientation": "v",
           "showlegend": true,
           "type": "scatter",
           "x": [
            22.515111926882547
           ],
           "xaxis": "x",
           "y": [
            78.14656117985734
           ],
           "yaxis": "y"
          }
         ],
         "name": "18"
        },
        {
         "data": [
          {
           "customdata": [
            [
             "Patient_1"
            ],
            [
             "Patient_10"
            ],
            [
             "Patient_11"
            ],
            [
             "Patient_12"
            ],
            [
             "Patient_13"
            ],
            [
             "Patient_14"
            ],
            [
             "Patient_15"
            ],
            [
             "Patient_16"
            ],
            [
             "Patient_17"
            ],
            [
             "Patient_18"
            ],
            [
             "Patient_19"
            ],
            [
             "Patient_2"
            ],
            [
             "Patient_20"
            ],
            [
             "Patient_3"
            ],
            [
             "Patient_4"
            ],
            [
             "Patient_5"
            ],
            [
             "Patient_6"
            ],
            [
             "Patient_7"
            ],
            [
             "Patient_8"
            ],
            [
             "Patient_9"
            ]
           ],
           "hovertemplate": "Anomaly_Label=Normal<br>Time=19<br>X Coordinate=%{x}<br>Y Coordinate=%{y}<br>PatientID=%{customdata[0]}<extra></extra>",
           "ids": [
            "Patient_1",
            "Patient_10",
            "Patient_11",
            "Patient_12",
            "Patient_13",
            "Patient_14",
            "Patient_15",
            "Patient_16",
            "Patient_17",
            "Patient_18",
            "Patient_19",
            "Patient_2",
            "Patient_20",
            "Patient_3",
            "Patient_4",
            "Patient_5",
            "Patient_6",
            "Patient_7",
            "Patient_8",
            "Patient_9"
           ],
           "legendgroup": "Normal",
           "marker": {
            "color": "#636efa",
            "symbol": "circle"
           },
           "mode": "markers",
           "name": "Normal",
           "orientation": "v",
           "showlegend": true,
           "type": "scatter",
           "x": [
            50.14917480760942,
            45.823265296446266,
            57.434662625519636,
            38.04460118184741,
            47.497724185956784,
            32.021568924139295,
            55.28622990667237,
            57.602140175895926,
            23.680344318416388,
            78.72770805733892,
            38.06673274185432,
            63.37910823848017,
            60.38175633521227,
            29.341340849617865,
            23.4991759181572,
            56.53604260758053,
            21.28313004621864,
            69.72931033430916,
            31.020564918242894,
            38.88241264035903
           ],
           "xaxis": "x",
           "y": [
            84.71962606136266,
            37.25388288274542,
            28.467909027378298,
            41.23893041110301,
            67.55537308139255,
            51.38680649234937,
            23.49169848329265,
            30.050028141017663,
            77.65982447375885,
            68.24241087341103,
            25.71943453595278,
            56.44608547848865,
            45.949823651133975,
            29.700421568858474,
            71.98544681624398,
            62.22633230365404,
            77.96345348536715,
            32.58576057896225,
            30.76489628037429,
            51.03808224682452
           ],
           "yaxis": "y"
          }
         ],
         "name": "19"
        },
        {
         "data": [
          {
           "customdata": [
            [
             "Patient_1"
            ],
            [
             "Patient_10"
            ],
            [
             "Patient_11"
            ],
            [
             "Patient_12"
            ],
            [
             "Patient_13"
            ],
            [
             "Patient_14"
            ],
            [
             "Patient_15"
            ],
            [
             "Patient_16"
            ],
            [
             "Patient_17"
            ],
            [
             "Patient_18"
            ],
            [
             "Patient_19"
            ],
            [
             "Patient_2"
            ],
            [
             "Patient_20"
            ],
            [
             "Patient_3"
            ],
            [
             "Patient_4"
            ],
            [
             "Patient_5"
            ],
            [
             "Patient_6"
            ],
            [
             "Patient_7"
            ],
            [
             "Patient_8"
            ],
            [
             "Patient_9"
            ]
           ],
           "hovertemplate": "Anomaly_Label=Normal<br>Time=20<br>X Coordinate=%{x}<br>Y Coordinate=%{y}<br>PatientID=%{customdata[0]}<extra></extra>",
           "ids": [
            "Patient_1",
            "Patient_10",
            "Patient_11",
            "Patient_12",
            "Patient_13",
            "Patient_14",
            "Patient_15",
            "Patient_16",
            "Patient_17",
            "Patient_18",
            "Patient_19",
            "Patient_2",
            "Patient_20",
            "Patient_3",
            "Patient_4",
            "Patient_5",
            "Patient_6",
            "Patient_7",
            "Patient_8",
            "Patient_9"
           ],
           "legendgroup": "Normal",
           "marker": {
            "color": "#636efa",
            "symbol": "circle"
           },
           "mode": "markers",
           "name": "Normal",
           "orientation": "v",
           "showlegend": true,
           "type": "scatter",
           "x": [
            50.55321521164983,
            45.60513085531456,
            56.39248011968951,
            38.23893103610802,
            46.94802126647004,
            31.704315407361097,
            55.6463356421482,
            57.22644371475133,
            23.59670123387458,
            78.08085467983601,
            38.60609828673866,
            63.90229406499092,
            60.96550797698239,
            30.13636867295323,
            23.97717792933026,
            56.04216884976631,
            20.673708646967,
            70.02978455213184,
            31.054082354379947,
            37.93566458544661
           ],
           "xaxis": "x",
           "y": [
            85.12366646540306,
            37.19600985230238,
            28.964139904676287,
            41.69633745074676,
            67.34626546177402,
            51.17053221369445,
            22.029152705701247,
            31.129386257785253,
            76.739281455232,
            68.67106928198118,
            26.865429109766207,
            56.03661641809045,
            46.01000100210685,
            28.860494199802766,
            71.86357432438336,
            62.82176441384603,
            78.38579600281169,
            32.98657227270065,
            32.231920661161475,
            51.219887420433366
           ],
           "yaxis": "y"
          }
         ],
         "name": "20"
        },
        {
         "data": [
          {
           "customdata": [
            [
             "Patient_1"
            ],
            [
             "Patient_10"
            ],
            [
             "Patient_11"
            ],
            [
             "Patient_12"
            ],
            [
             "Patient_13"
            ],
            [
             "Patient_14"
            ],
            [
             "Patient_15"
            ],
            [
             "Patient_16"
            ],
            [
             "Patient_17"
            ],
            [
             "Patient_18"
            ],
            [
             "Patient_19"
            ],
            [
             "Patient_2"
            ],
            [
             "Patient_20"
            ],
            [
             "Patient_3"
            ],
            [
             "Patient_4"
            ],
            [
             "Patient_5"
            ],
            [
             "Patient_6"
            ],
            [
             "Patient_7"
            ],
            [
             "Patient_8"
            ],
            [
             "Patient_9"
            ]
           ],
           "hovertemplate": "Anomaly_Label=Normal<br>Time=21<br>X Coordinate=%{x}<br>Y Coordinate=%{y}<br>PatientID=%{customdata[0]}<extra></extra>",
           "ids": [
            "Patient_1",
            "Patient_10",
            "Patient_11",
            "Patient_12",
            "Patient_13",
            "Patient_14",
            "Patient_15",
            "Patient_16",
            "Patient_17",
            "Patient_18",
            "Patient_19",
            "Patient_2",
            "Patient_20",
            "Patient_3",
            "Patient_4",
            "Patient_5",
            "Patient_6",
            "Patient_7",
            "Patient_8",
            "Patient_9"
           ],
           "legendgroup": "Normal",
           "marker": {
            "color": "#636efa",
            "symbol": "circle"
           },
           "mode": "markers",
           "name": "Normal",
           "orientation": "v",
           "showlegend": true,
           "type": "scatter",
           "x": [
            50.95725561569023,
            46.326942209125626,
            57.244511028137346,
            38.21975840763186,
            47.28064001286373,
            32.58368141275576,
            55.729210786159,
            56.467063525553705,
            23.998645113126724,
            77.2579939139836,
            38.59956824097278,
            63.903073022247405,
            60.90009247325291,
            29.102312777028107,
            23.47680528205559,
            57.33036691752934,
            20.990349936489036,
            70.28750419283847,
            31.20146212508902,
            38.54986199291842
           ],
           "xaxis": "x",
           "y": [
            85.52770686944346,
            37.72738542743616,
            28.954279434345345,
            42.306065541416324,
            67.18391452679748,
            50.44559846932308,
            22.590355357036184,
            30.87067335254114,
            76.95635050927807,
            68.87696767000126,
            26.94195420203576,
            56.81678798358109,
            46.51872478820805,
            29.47156519599161,
            72.56476538322015,
            62.21892028130257,
            78.7166715682542,
            33.66370030356459,
            30.8246245458125,
            52.03973768822573
           ],
           "yaxis": "y"
          }
         ],
         "name": "21"
        },
        {
         "data": [
          {
           "customdata": [
            [
             "Patient_1"
            ],
            [
             "Patient_10"
            ],
            [
             "Patient_12"
            ],
            [
             "Patient_13"
            ],
            [
             "Patient_14"
            ],
            [
             "Patient_15"
            ],
            [
             "Patient_16"
            ],
            [
             "Patient_17"
            ],
            [
             "Patient_18"
            ],
            [
             "Patient_19"
            ],
            [
             "Patient_2"
            ],
            [
             "Patient_20"
            ],
            [
             "Patient_3"
            ],
            [
             "Patient_4"
            ],
            [
             "Patient_5"
            ],
            [
             "Patient_6"
            ],
            [
             "Patient_8"
            ],
            [
             "Patient_9"
            ]
           ],
           "hovertemplate": "Anomaly_Label=Normal<br>Time=22<br>X Coordinate=%{x}<br>Y Coordinate=%{y}<br>PatientID=%{customdata[0]}<extra></extra>",
           "ids": [
            "Patient_1",
            "Patient_10",
            "Patient_12",
            "Patient_13",
            "Patient_14",
            "Patient_15",
            "Patient_16",
            "Patient_17",
            "Patient_18",
            "Patient_19",
            "Patient_2",
            "Patient_20",
            "Patient_3",
            "Patient_4",
            "Patient_5",
            "Patient_6",
            "Patient_8",
            "Patient_9"
           ],
           "legendgroup": "Normal",
           "marker": {
            "color": "#636efa",
            "symbol": "circle"
           },
           "mode": "markers",
           "name": "Normal",
           "orientation": "v",
           "showlegend": true,
           "type": "scatter",
           "x": [
            51.36129601973063,
            45.639101355180344,
            37.74868613713976,
            46.8535826444568,
            32.10232728638718,
            54.904721932387105,
            56.77779170306563,
            24.826414077140605,
            77.17515939901119,
            38.25403314222449,
            63.87198874249083,
            60.93336356180125,
            29.66506668140446,
            23.261799922816703,
            56.60371657952241,
            21.301554494821588,
            30.63003710879024,
            39.037296592189435
           ],
           "xaxis": "x",
           "y": [
            85.93174727348386,
            38.414326946602806,
            41.7306834854452,
            67.4647359072305,
            50.57202698944833,
            23.223253427339934,
            30.1818594893478,
            76.39808985203692,
            68.15788685204704,
            25.981996565044376,
            56.05901981470736,
            46.58517732263323,
            29.45297578175034,
            72.06761374294527,
            61.9710970180572,
            77.84453072225008,
            31.19287652873829,
            51.452510767397776
           ],
           "yaxis": "y"
          },
          {
           "customdata": [
            [
             "Patient_11"
            ],
            [
             "Patient_7"
            ]
           ],
           "hovertemplate": "Anomaly_Label=Anomaly<br>Time=22<br>X Coordinate=%{x}<br>Y Coordinate=%{y}<br>PatientID=%{customdata[0]}<extra></extra>",
           "ids": [
            "Patient_11",
            "Patient_7"
           ],
           "legendgroup": "Anomaly",
           "marker": {
            "color": "#EF553B",
            "symbol": "circle"
           },
           "mode": "markers",
           "name": "Anomaly",
           "orientation": "v",
           "showlegend": true,
           "type": "scatter",
           "x": [
            55.98716673313465,
            70.54408176248774
           ],
           "xaxis": "x",
           "y": [
            27.270228660812467,
            31.978753188304683
           ],
           "yaxis": "y"
          }
         ],
         "name": "22"
        },
        {
         "data": [
          {
           "customdata": [
            [
             "Patient_1"
            ],
            [
             "Patient_10"
            ],
            [
             "Patient_11"
            ],
            [
             "Patient_12"
            ],
            [
             "Patient_13"
            ],
            [
             "Patient_14"
            ],
            [
             "Patient_15"
            ],
            [
             "Patient_16"
            ],
            [
             "Patient_17"
            ],
            [
             "Patient_19"
            ],
            [
             "Patient_2"
            ],
            [
             "Patient_20"
            ],
            [
             "Patient_3"
            ],
            [
             "Patient_4"
            ],
            [
             "Patient_5"
            ],
            [
             "Patient_6"
            ],
            [
             "Patient_7"
            ],
            [
             "Patient_8"
            ],
            [
             "Patient_9"
            ]
           ],
           "hovertemplate": "Anomaly_Label=Normal<br>Time=23<br>X Coordinate=%{x}<br>Y Coordinate=%{y}<br>PatientID=%{customdata[0]}<extra></extra>",
           "ids": [
            "Patient_1",
            "Patient_10",
            "Patient_11",
            "Patient_12",
            "Patient_13",
            "Patient_14",
            "Patient_15",
            "Patient_16",
            "Patient_17",
            "Patient_19",
            "Patient_2",
            "Patient_20",
            "Patient_3",
            "Patient_4",
            "Patient_5",
            "Patient_6",
            "Patient_7",
            "Patient_8",
            "Patient_9"
           ],
           "legendgroup": "Normal",
           "marker": {
            "color": "#636efa",
            "symbol": "circle"
           },
           "mode": "markers",
           "name": "Normal",
           "orientation": "v",
           "showlegend": true,
           "type": "scatter",
           "x": [
            51.76533642377104,
            45.98075332598234,
            57.13149545783713,
            37.3055871955057,
            47.13804589339762,
            31.18847551775872,
            55.937774211047966,
            55.96920304252169,
            23.90129430957149,
            38.166344063487415,
            63.878560919488024,
            61.15817299470319,
            29.532481099735044,
            23.76990037020807,
            56.388262084526296,
            21.333330242598883,
            69.90169060088171,
            30.5713018813964,
            38.234455602250094
           ],
           "xaxis": "x",
           "y": [
            86.33578767752427,
            37.13322258314507,
            28.043319649471314,
            41.03694023214874,
            65.89861802026634,
            51.23427363288884,
            22.999753544092346,
            30.2075917431665,
            76.35394989060372,
            25.873769759880297,
            56.47815696761626,
            45.388282190163935,
            29.58804782974905,
            72.19442302650477,
            63.14893093282895,
            78.54909300851392,
            33.46040524842131,
            31.904740807661437,
            50.76999834687525
           ],
           "yaxis": "y"
          },
          {
           "customdata": [
            [
             "Patient_18"
            ]
           ],
           "hovertemplate": "Anomaly_Label=Anomaly<br>Time=23<br>X Coordinate=%{x}<br>Y Coordinate=%{y}<br>PatientID=%{customdata[0]}<extra></extra>",
           "ids": [
            "Patient_18"
           ],
           "legendgroup": "Anomaly",
           "marker": {
            "color": "#EF553B",
            "symbol": "circle"
           },
           "mode": "markers",
           "name": "Anomaly",
           "orientation": "v",
           "showlegend": true,
           "type": "scatter",
           "x": [
            78.68962113535714
           ],
           "xaxis": "x",
           "y": [
            68.94252203227549
           ],
           "yaxis": "y"
          }
         ],
         "name": "23"
        },
        {
         "data": [
          {
           "customdata": [
            [
             "Patient_1"
            ],
            [
             "Patient_10"
            ],
            [
             "Patient_11"
            ],
            [
             "Patient_12"
            ],
            [
             "Patient_13"
            ],
            [
             "Patient_14"
            ],
            [
             "Patient_15"
            ],
            [
             "Patient_16"
            ],
            [
             "Patient_17"
            ],
            [
             "Patient_18"
            ],
            [
             "Patient_19"
            ],
            [
             "Patient_2"
            ],
            [
             "Patient_20"
            ],
            [
             "Patient_3"
            ],
            [
             "Patient_4"
            ],
            [
             "Patient_5"
            ],
            [
             "Patient_6"
            ],
            [
             "Patient_7"
            ],
            [
             "Patient_8"
            ],
            [
             "Patient_9"
            ]
           ],
           "hovertemplate": "Anomaly_Label=Normal<br>Time=24<br>X Coordinate=%{x}<br>Y Coordinate=%{y}<br>PatientID=%{customdata[0]}<extra></extra>",
           "ids": [
            "Patient_1",
            "Patient_10",
            "Patient_11",
            "Patient_12",
            "Patient_13",
            "Patient_14",
            "Patient_15",
            "Patient_16",
            "Patient_17",
            "Patient_18",
            "Patient_19",
            "Patient_2",
            "Patient_20",
            "Patient_3",
            "Patient_4",
            "Patient_5",
            "Patient_6",
            "Patient_7",
            "Patient_8",
            "Patient_9"
           ],
           "legendgroup": "Normal",
           "marker": {
            "color": "#636efa",
            "symbol": "circle"
           },
           "mode": "markers",
           "name": "Normal",
           "orientation": "v",
           "showlegend": true,
           "type": "scatter",
           "x": [
            52.16937682781144,
            46.57539815134411,
            57.748804119655404,
            38.39666081369572,
            47.03849005121493,
            31.820253275404422,
            55.8062918757403,
            56.44051381795581,
            24.766867164167127,
            77.95692372355767,
            38.583585136767454,
            63.418826503736845,
            60.925293322017744,
            30.259961689970954,
            23.19942723520057,
            56.76657842288553,
            21.264884842708234,
            70.29567010483211,
            31.357094642439904,
            38.77931093523193
           ],
           "xaxis": "x",
           "y": [
            86.73982808156468,
            37.57254821422871,
            28.025037730077727,
            42.08066598935282,
            66.86861476655366,
            51.066149278017654,
            22.500174761230575,
            31.302582600543424,
            77.15129407003701,
            68.56385655034678,
            25.348930557783827,
            55.77895890537922,
            45.57485758743728,
            29.680092650805665,
            72.25686013717419,
            62.946671509219115,
            77.87112274086688,
            32.93708933340745,
            31.321856492047015,
            51.21776829215399
           ],
           "yaxis": "y"
          }
         ],
         "name": "24"
        },
        {
         "data": [
          {
           "customdata": [
            [
             "Patient_1"
            ],
            [
             "Patient_10"
            ],
            [
             "Patient_11"
            ],
            [
             "Patient_12"
            ],
            [
             "Patient_13"
            ],
            [
             "Patient_14"
            ],
            [
             "Patient_15"
            ],
            [
             "Patient_16"
            ],
            [
             "Patient_17"
            ],
            [
             "Patient_18"
            ],
            [
             "Patient_19"
            ],
            [
             "Patient_2"
            ],
            [
             "Patient_20"
            ],
            [
             "Patient_4"
            ],
            [
             "Patient_5"
            ],
            [
             "Patient_6"
            ],
            [
             "Patient_7"
            ],
            [
             "Patient_8"
            ],
            [
             "Patient_9"
            ]
           ],
           "hovertemplate": "Anomaly_Label=Normal<br>Time=25<br>X Coordinate=%{x}<br>Y Coordinate=%{y}<br>PatientID=%{customdata[0]}<extra></extra>",
           "ids": [
            "Patient_1",
            "Patient_10",
            "Patient_11",
            "Patient_12",
            "Patient_13",
            "Patient_14",
            "Patient_15",
            "Patient_16",
            "Patient_17",
            "Patient_18",
            "Patient_19",
            "Patient_2",
            "Patient_20",
            "Patient_4",
            "Patient_5",
            "Patient_6",
            "Patient_7",
            "Patient_8",
            "Patient_9"
           ],
           "legendgroup": "Normal",
           "marker": {
            "color": "#636efa",
            "symbol": "circle"
           },
           "mode": "markers",
           "name": "Normal",
           "orientation": "v",
           "showlegend": true,
           "type": "scatter",
           "x": [
            52.57341723185185,
            45.60391976777218,
            56.95818877648414,
            37.25352633519039,
            47.35142201752643,
            32.2522270067988,
            55.93072348704673,
            57.027073964272354,
            23.721875108415208,
            77.29058124661312,
            38.042975549746295,
            63.67804327753462,
            61.030521301289824,
            23.597242639371952,
            56.90886455032146,
            21.774410074463795,
            69.86024479805491,
            31.235659471632747,
            38.99280475243521
           ],
           "xaxis": "x",
           "y": [
            87.14386848560508,
            37.67165017860122,
            28.499968522034465,
            41.64589891365247,
            67.69692219321051,
            50.668759138773645,
            21.362753452884824,
            29.361590531848442,
            76.37329728788691,
            69.08425428067692,
            26.03357878124839,
            56.706502433467215,
            46.64767003798764,
            72.49411789780218,
            62.25491253632826,
            78.17533689496932,
            33.18217660943991,
            30.216074512713906,
            52.175431575008
           ],
           "yaxis": "y"
          },
          {
           "customdata": [
            [
             "Patient_3"
            ]
           ],
           "hovertemplate": "Anomaly_Label=Anomaly<br>Time=25<br>X Coordinate=%{x}<br>Y Coordinate=%{y}<br>PatientID=%{customdata[0]}<extra></extra>",
           "ids": [
            "Patient_3"
           ],
           "legendgroup": "Anomaly",
           "marker": {
            "color": "#EF553B",
            "symbol": "circle"
           },
           "mode": "markers",
           "name": "Anomaly",
           "orientation": "v",
           "showlegend": true,
           "type": "scatter",
           "x": [
            28.74823559504502
           ],
           "xaxis": "x",
           "y": [
            28.62748378006725
           ],
           "yaxis": "y"
          }
         ],
         "name": "25"
        },
        {
         "data": [
          {
           "customdata": [
            [
             "Patient_1"
            ],
            [
             "Patient_10"
            ],
            [
             "Patient_11"
            ],
            [
             "Patient_12"
            ],
            [
             "Patient_13"
            ],
            [
             "Patient_14"
            ],
            [
             "Patient_15"
            ],
            [
             "Patient_16"
            ],
            [
             "Patient_17"
            ],
            [
             "Patient_18"
            ],
            [
             "Patient_19"
            ],
            [
             "Patient_2"
            ],
            [
             "Patient_20"
            ],
            [
             "Patient_3"
            ],
            [
             "Patient_4"
            ],
            [
             "Patient_5"
            ],
            [
             "Patient_6"
            ],
            [
             "Patient_7"
            ],
            [
             "Patient_8"
            ],
            [
             "Patient_9"
            ]
           ],
           "hovertemplate": "Anomaly_Label=Normal<br>Time=26<br>X Coordinate=%{x}<br>Y Coordinate=%{y}<br>PatientID=%{customdata[0]}<extra></extra>",
           "ids": [
            "Patient_1",
            "Patient_10",
            "Patient_11",
            "Patient_12",
            "Patient_13",
            "Patient_14",
            "Patient_15",
            "Patient_16",
            "Patient_17",
            "Patient_18",
            "Patient_19",
            "Patient_2",
            "Patient_20",
            "Patient_3",
            "Patient_4",
            "Patient_5",
            "Patient_6",
            "Patient_7",
            "Patient_8",
            "Patient_9"
           ],
           "legendgroup": "Normal",
           "marker": {
            "color": "#636efa",
            "symbol": "circle"
           },
           "mode": "markers",
           "name": "Normal",
           "orientation": "v",
           "showlegend": true,
           "type": "scatter",
           "x": [
            52.97745763589225,
            45.88090048881991,
            57.07498845516126,
            37.89499895072088,
            47.4035166481802,
            32.438590766852826,
            56.043879186652376,
            57.496878466476666,
            24.45718698748553,
            78.24430893700485,
            37.964941670054344,
            64.41776991840787,
            60.95864039034774,
            28.582827477216316,
            24.235396625409123,
            55.8925746373886,
            21.074252132139456,
            70.13752617414109,
            31.42463975944196,
            38.125013504661915
           ],
           "xaxis": "x",
           "y": [
            87.54790888964548,
            37.45513729362759,
            28.39560458202616,
            41.94135230756721,
            66.11145734131478,
            51.0273105427657,
            21.33889707410302,
            30.161652607159905,
            76.41317927163723,
            67.97713310540084,
            26.817342517316426,
            55.67263076024154,
            46.517866060965936,
            29.145613639689206,
            72.39567961755286,
            62.309725815603514,
            79.23296512150009,
            32.95536746429211,
            31.12366517071929,
            51.38721097339178
           ],
           "yaxis": "y"
          }
         ],
         "name": "26"
        },
        {
         "data": [
          {
           "customdata": [
            [
             "Patient_1"
            ],
            [
             "Patient_10"
            ],
            [
             "Patient_11"
            ],
            [
             "Patient_12"
            ],
            [
             "Patient_13"
            ],
            [
             "Patient_14"
            ],
            [
             "Patient_16"
            ],
            [
             "Patient_17"
            ],
            [
             "Patient_18"
            ],
            [
             "Patient_19"
            ],
            [
             "Patient_2"
            ],
            [
             "Patient_20"
            ],
            [
             "Patient_3"
            ],
            [
             "Patient_4"
            ],
            [
             "Patient_5"
            ],
            [
             "Patient_6"
            ],
            [
             "Patient_7"
            ],
            [
             "Patient_8"
            ],
            [
             "Patient_9"
            ]
           ],
           "hovertemplate": "Anomaly_Label=Normal<br>Time=27<br>X Coordinate=%{x}<br>Y Coordinate=%{y}<br>PatientID=%{customdata[0]}<extra></extra>",
           "ids": [
            "Patient_1",
            "Patient_10",
            "Patient_11",
            "Patient_12",
            "Patient_13",
            "Patient_14",
            "Patient_16",
            "Patient_17",
            "Patient_18",
            "Patient_19",
            "Patient_2",
            "Patient_20",
            "Patient_3",
            "Patient_4",
            "Patient_5",
            "Patient_6",
            "Patient_7",
            "Patient_8",
            "Patient_9"
           ],
           "legendgroup": "Normal",
           "marker": {
            "color": "#636efa",
            "symbol": "circle"
           },
           "mode": "markers",
           "name": "Normal",
           "orientation": "v",
           "showlegend": true,
           "type": "scatter",
           "x": [
            53.38149803993265,
            46.07737972625208,
            57.51802931787209,
            37.40660059446777,
            47.958934297484475,
            32.27912696442651,
            56.377663320570036,
            23.81655966697484,
            77.38978444102597,
            39.07407868201473,
            63.9948459612561,
            60.55828541600126,
            30.56282621916533,
            23.58556625344945,
            56.61966367107152,
            21.55443476876274,
            70.76327421417587,
            31.060815765045554,
            38.222465404275766
           ],
           "xaxis": "x",
           "y": [
            87.95194929368589,
            37.684708789000155,
            28.5963987898795,
            42.46375418176568,
            66.49675377601233,
            51.20465267597215,
            30.294235647973263,
            76.94092175899073,
            67.78381544569051,
            25.436846166223866,
            56.10198955305531,
            45.33245456757422,
            29.33086182165537,
            72.49589594449992,
            63.07786982054292,
            77.62308867335443,
            32.167173944187226,
            30.62713266619635,
            51.64976710308601
           ],
           "yaxis": "y"
          },
          {
           "customdata": [
            [
             "Patient_15"
            ]
           ],
           "hovertemplate": "Anomaly_Label=Anomaly<br>Time=27<br>X Coordinate=%{x}<br>Y Coordinate=%{y}<br>PatientID=%{customdata[0]}<extra></extra>",
           "ids": [
            "Patient_15"
           ],
           "legendgroup": "Anomaly",
           "marker": {
            "color": "#EF553B",
            "symbol": "circle"
           },
           "mode": "markers",
           "name": "Anomaly",
           "orientation": "v",
           "showlegend": true,
           "type": "scatter",
           "x": [
            55.39609238004255
           ],
           "xaxis": "x",
           "y": [
            23.47487816985567
           ],
           "yaxis": "y"
          }
         ],
         "name": "27"
        },
        {
         "data": [
          {
           "customdata": [
            [
             "Patient_1"
            ],
            [
             "Patient_10"
            ],
            [
             "Patient_11"
            ],
            [
             "Patient_12"
            ],
            [
             "Patient_13"
            ],
            [
             "Patient_14"
            ],
            [
             "Patient_15"
            ],
            [
             "Patient_16"
            ],
            [
             "Patient_17"
            ],
            [
             "Patient_18"
            ],
            [
             "Patient_19"
            ],
            [
             "Patient_2"
            ],
            [
             "Patient_20"
            ],
            [
             "Patient_4"
            ],
            [
             "Patient_5"
            ],
            [
             "Patient_6"
            ],
            [
             "Patient_8"
            ],
            [
             "Patient_9"
            ]
           ],
           "hovertemplate": "Anomaly_Label=Normal<br>Time=28<br>X Coordinate=%{x}<br>Y Coordinate=%{y}<br>PatientID=%{customdata[0]}<extra></extra>",
           "ids": [
            "Patient_1",
            "Patient_10",
            "Patient_11",
            "Patient_12",
            "Patient_13",
            "Patient_14",
            "Patient_15",
            "Patient_16",
            "Patient_17",
            "Patient_18",
            "Patient_19",
            "Patient_2",
            "Patient_20",
            "Patient_4",
            "Patient_5",
            "Patient_6",
            "Patient_8",
            "Patient_9"
           ],
           "legendgroup": "Normal",
           "marker": {
            "color": "#636efa",
            "symbol": "circle"
           },
           "mode": "markers",
           "name": "Normal",
           "orientation": "v",
           "showlegend": true,
           "type": "scatter",
           "x": [
            53.78553844397306,
            46.296165413420326,
            56.76327423531871,
            37.151696617679754,
            46.51772064592446,
            31.486131375926124,
            55.63482120729929,
            56.91184941708745,
            23.408281510831603,
            77.4466782877044,
            38.55185219991452,
            64.74064408875249,
            61.106669343802395,
            23.975899473587763,
            54.81719784715574,
            20.54028342436635,
            31.601634441681295,
            38.551911748404905
           ],
           "xaxis": "x",
           "y": [
            88.35598969772629,
            37.6143441238672,
            28.338335075172747,
            41.841373059188115,
            67.06138787018345,
            50.302271646208816,
            23.483025906372163,
            29.446197119425904,
            77.4035178291941,
            68.39152431198914,
            25.376154612951215,
            56.42441759649351,
            45.74213687691697,
            71.80815305474181,
            63.6298259540581,
            77.37189175624123,
            31.28622515123221,
            51.91209367732443
           ],
           "yaxis": "y"
          },
          {
           "customdata": [
            [
             "Patient_3"
            ],
            [
             "Patient_7"
            ]
           ],
           "hovertemplate": "Anomaly_Label=Anomaly<br>Time=28<br>X Coordinate=%{x}<br>Y Coordinate=%{y}<br>PatientID=%{customdata[0]}<extra></extra>",
           "ids": [
            "Patient_3",
            "Patient_7"
           ],
           "legendgroup": "Anomaly",
           "marker": {
            "color": "#EF553B",
            "symbol": "circle"
           },
           "mode": "markers",
           "name": "Anomaly",
           "orientation": "v",
           "showlegend": true,
           "type": "scatter",
           "x": [
            29.01704325395733,
            70.45784366403014
           ],
           "xaxis": "x",
           "y": [
            30.485889122844313,
            33.960222843866205
           ],
           "yaxis": "y"
          }
         ],
         "name": "28"
        },
        {
         "data": [
          {
           "customdata": [
            [
             "Patient_1"
            ],
            [
             "Patient_10"
            ],
            [
             "Patient_11"
            ],
            [
             "Patient_12"
            ],
            [
             "Patient_13"
            ],
            [
             "Patient_14"
            ],
            [
             "Patient_15"
            ],
            [
             "Patient_16"
            ],
            [
             "Patient_17"
            ],
            [
             "Patient_18"
            ],
            [
             "Patient_19"
            ],
            [
             "Patient_2"
            ],
            [
             "Patient_20"
            ],
            [
             "Patient_3"
            ],
            [
             "Patient_4"
            ],
            [
             "Patient_5"
            ],
            [
             "Patient_6"
            ],
            [
             "Patient_7"
            ],
            [
             "Patient_8"
            ],
            [
             "Patient_9"
            ]
           ],
           "hovertemplate": "Anomaly_Label=Normal<br>Time=29<br>X Coordinate=%{x}<br>Y Coordinate=%{y}<br>PatientID=%{customdata[0]}<extra></extra>",
           "ids": [
            "Patient_1",
            "Patient_10",
            "Patient_11",
            "Patient_12",
            "Patient_13",
            "Patient_14",
            "Patient_15",
            "Patient_16",
            "Patient_17",
            "Patient_18",
            "Patient_19",
            "Patient_2",
            "Patient_20",
            "Patient_3",
            "Patient_4",
            "Patient_5",
            "Patient_6",
            "Patient_7",
            "Patient_8",
            "Patient_9"
           ],
           "legendgroup": "Normal",
           "marker": {
            "color": "#636efa",
            "symbol": "circle"
           },
           "mode": "markers",
           "name": "Normal",
           "orientation": "v",
           "showlegend": true,
           "type": "scatter",
           "x": [
            54.18957884801346,
            45.2947695008313,
            56.35197005055817,
            37.38120407296708,
            47.02745374090022,
            31.562753402871703,
            54.951074922207795,
            56.76957955455235,
            23.81045174967792,
            77.95982772046311,
            38.7587657087997,
            63.12313964191847,
            60.7752356982255,
            29.35129952708285,
            23.5969737971243,
            56.12951295591648,
            21.29621840926429,
            69.97098848318817,
            30.55850218852266,
            37.553231941672415
           ],
           "xaxis": "x",
           "y": [
            88.76003010176669,
            37.127295812984556,
            28.81709382759473,
            42.605581633958366,
            67.25005476469272,
            51.926640868703394,
            22.941935118313378,
            30.438346969963238,
            76.86822188533328,
            68.43033988617341,
            26.96558834117871,
            56.139746420802396,
            45.72424813458654,
            29.635916197380734,
            72.65263896148304,
            62.269651897200106,
            78.46624014423786,
            32.760642486298515,
            30.672820132430555,
            52.36017426952774
           ],
           "yaxis": "y"
          }
         ],
         "name": "29"
        },
        {
         "data": [
          {
           "customdata": [
            [
             "Patient_1"
            ],
            [
             "Patient_10"
            ],
            [
             "Patient_11"
            ],
            [
             "Patient_12"
            ],
            [
             "Patient_13"
            ],
            [
             "Patient_14"
            ],
            [
             "Patient_15"
            ],
            [
             "Patient_16"
            ],
            [
             "Patient_17"
            ],
            [
             "Patient_18"
            ],
            [
             "Patient_19"
            ],
            [
             "Patient_2"
            ],
            [
             "Patient_20"
            ],
            [
             "Patient_3"
            ],
            [
             "Patient_4"
            ],
            [
             "Patient_5"
            ],
            [
             "Patient_6"
            ],
            [
             "Patient_7"
            ],
            [
             "Patient_8"
            ],
            [
             "Patient_9"
            ]
           ],
           "hovertemplate": "Anomaly_Label=Normal<br>Time=30<br>X Coordinate=%{x}<br>Y Coordinate=%{y}<br>PatientID=%{customdata[0]}<extra></extra>",
           "ids": [
            "Patient_1",
            "Patient_10",
            "Patient_11",
            "Patient_12",
            "Patient_13",
            "Patient_14",
            "Patient_15",
            "Patient_16",
            "Patient_17",
            "Patient_18",
            "Patient_19",
            "Patient_2",
            "Patient_20",
            "Patient_3",
            "Patient_4",
            "Patient_5",
            "Patient_6",
            "Patient_7",
            "Patient_8",
            "Patient_9"
           ],
           "legendgroup": "Normal",
           "marker": {
            "color": "#636efa",
            "symbol": "circle"
           },
           "mode": "markers",
           "name": "Normal",
           "orientation": "v",
           "showlegend": true,
           "type": "scatter",
           "x": [
            54.59361925205387,
            46.08214123463417,
            55.714305862057046,
            38.14251340834974,
            48.200485246441005,
            31.62792100162238,
            55.82403758798341,
            56.722069110309484,
            23.98777599113481,
            77.88230895379921,
            37.90906117910736,
            63.51779922469944,
            61.59963665102655,
            30.19996883358441,
            23.769508269684604,
            55.877336834098784,
            20.944229200773826,
            69.62191967549231,
            30.92653976655565,
            38.37142753346764
           ],
           "xaxis": "x",
           "y": [
            89.1640705058071,
            37.89051289268697,
            28.556659924046297,
            41.3768900882759,
            67.32006718826385,
            50.82618176598785,
            22.825027458906067,
            29.77111062469781,
            76.2262749867475,
            68.05188706625526,
            26.47837342798825,
            56.73906745454423,
            46.713718684829665,
            29.082877099318164,
            72.78476705806038,
            62.38256448771155,
            77.68721276437323,
            32.128376507315444,
            30.61928397567671,
            50.70743807483246
           ],
           "yaxis": "y"
          }
         ],
         "name": "30"
        },
        {
         "data": [
          {
           "customdata": [
            [
             "Patient_1"
            ],
            [
             "Patient_10"
            ],
            [
             "Patient_11"
            ],
            [
             "Patient_12"
            ],
            [
             "Patient_13"
            ],
            [
             "Patient_14"
            ],
            [
             "Patient_15"
            ],
            [
             "Patient_16"
            ],
            [
             "Patient_17"
            ],
            [
             "Patient_18"
            ],
            [
             "Patient_19"
            ],
            [
             "Patient_2"
            ],
            [
             "Patient_20"
            ],
            [
             "Patient_3"
            ],
            [
             "Patient_4"
            ],
            [
             "Patient_5"
            ],
            [
             "Patient_6"
            ],
            [
             "Patient_8"
            ],
            [
             "Patient_9"
            ]
           ],
           "hovertemplate": "Anomaly_Label=Normal<br>Time=31<br>X Coordinate=%{x}<br>Y Coordinate=%{y}<br>PatientID=%{customdata[0]}<extra></extra>",
           "ids": [
            "Patient_1",
            "Patient_10",
            "Patient_11",
            "Patient_12",
            "Patient_13",
            "Patient_14",
            "Patient_15",
            "Patient_16",
            "Patient_17",
            "Patient_18",
            "Patient_19",
            "Patient_2",
            "Patient_20",
            "Patient_3",
            "Patient_4",
            "Patient_5",
            "Patient_6",
            "Patient_8",
            "Patient_9"
           ],
           "legendgroup": "Normal",
           "marker": {
            "color": "#636efa",
            "symbol": "circle"
           },
           "mode": "markers",
           "name": "Normal",
           "orientation": "v",
           "showlegend": true,
           "type": "scatter",
           "x": [
            54.99765965609427,
            46.110990420792426,
            56.708138227572825,
            37.56959359138688,
            47.823737294516036,
            32.11412308653753,
            55.21082890490103,
            56.36521123573859,
            24.171350500901976,
            77.95201256315812,
            38.81977393331803,
            64.5261853586739,
            61.04146811135684,
            30.52078319653704,
            23.581041288336984,
            56.13367115698367,
            21.589123996092443,
            29.991395345874388,
            37.702851274485326
           ],
           "xaxis": "x",
           "y": [
            89.5681109098475,
            38.72024817059891,
            28.78887702634833,
            41.93226577102593,
            66.96542041148649,
            51.014915207914704,
            23.283045937968126,
            29.853574841491067,
            76.48389824430447,
            68.49928138866557,
            26.097675956823007,
            55.99036750864215,
            46.81803277397622,
            29.556330139869345,
            71.81601051439486,
            62.40811974957246,
            78.67294228811696,
            31.258266254662303,
            50.40894060145803
           ],
           "yaxis": "y"
          },
          {
           "customdata": [
            [
             "Patient_7"
            ]
           ],
           "hovertemplate": "Anomaly_Label=Anomaly<br>Time=31<br>X Coordinate=%{x}<br>Y Coordinate=%{y}<br>PatientID=%{customdata[0]}<extra></extra>",
           "ids": [
            "Patient_7"
           ],
           "legendgroup": "Anomaly",
           "marker": {
            "color": "#EF553B",
            "symbol": "circle"
           },
           "mode": "markers",
           "name": "Anomaly",
           "orientation": "v",
           "showlegend": true,
           "type": "scatter",
           "x": [
            69.55356371777134
           ],
           "xaxis": "x",
           "y": [
            32.074730163917685
           ],
           "yaxis": "y"
          }
         ],
         "name": "31"
        },
        {
         "data": [
          {
           "customdata": [
            [
             "Patient_1"
            ],
            [
             "Patient_10"
            ],
            [
             "Patient_11"
            ],
            [
             "Patient_12"
            ],
            [
             "Patient_13"
            ],
            [
             "Patient_14"
            ],
            [
             "Patient_15"
            ],
            [
             "Patient_16"
            ],
            [
             "Patient_17"
            ],
            [
             "Patient_18"
            ],
            [
             "Patient_19"
            ],
            [
             "Patient_2"
            ],
            [
             "Patient_20"
            ],
            [
             "Patient_3"
            ],
            [
             "Patient_4"
            ],
            [
             "Patient_5"
            ],
            [
             "Patient_6"
            ],
            [
             "Patient_7"
            ],
            [
             "Patient_8"
            ],
            [
             "Patient_9"
            ]
           ],
           "hovertemplate": "Anomaly_Label=Normal<br>Time=32<br>X Coordinate=%{x}<br>Y Coordinate=%{y}<br>PatientID=%{customdata[0]}<extra></extra>",
           "ids": [
            "Patient_1",
            "Patient_10",
            "Patient_11",
            "Patient_12",
            "Patient_13",
            "Patient_14",
            "Patient_15",
            "Patient_16",
            "Patient_17",
            "Patient_18",
            "Patient_19",
            "Patient_2",
            "Patient_20",
            "Patient_3",
            "Patient_4",
            "Patient_5",
            "Patient_6",
            "Patient_7",
            "Patient_8",
            "Patient_9"
           ],
           "legendgroup": "Normal",
           "marker": {
            "color": "#636efa",
            "symbol": "circle"
           },
           "mode": "markers",
           "name": "Normal",
           "orientation": "v",
           "showlegend": true,
           "type": "scatter",
           "x": [
            55.40170006013467,
            46.682076534698794,
            56.60445224787767,
            37.60301264071415,
            47.057497721251686,
            31.78633852023097,
            55.62516112224748,
            56.67116019895948,
            24.377872646837435,
            76.66096141702259,
            37.593386801194534,
            63.92481281860599,
            60.46892507769974,
            28.828561595008505,
            23.180260629012327,
            56.09522566704108,
            21.199820268718604,
            69.97879565543037,
            30.43983033551666,
            37.64968720615171
           ],
           "xaxis": "x",
           "y": [
            89.9721513138879,
            38.08312933773117,
            29.114994707547485,
            41.81316761206248,
            66.95932284033675,
            50.939274416004444,
            22.78854777327657,
            30.82677055863066,
            76.19068325097504,
            68.9710008426073,
            25.74794413943669,
            55.263590935647116,
            45.50815940558607,
            29.207058867994828,
            71.87708309500339,
            62.749201044941096,
            78.43784195163278,
            31.752613357519635,
            30.93222681334522,
            51.785350262932376
           ],
           "yaxis": "y"
          }
         ],
         "name": "32"
        },
        {
         "data": [
          {
           "customdata": [
            [
             "Patient_1"
            ],
            [
             "Patient_10"
            ],
            [
             "Patient_11"
            ],
            [
             "Patient_12"
            ],
            [
             "Patient_13"
            ],
            [
             "Patient_14"
            ],
            [
             "Patient_15"
            ],
            [
             "Patient_16"
            ],
            [
             "Patient_17"
            ],
            [
             "Patient_19"
            ],
            [
             "Patient_2"
            ],
            [
             "Patient_20"
            ],
            [
             "Patient_3"
            ],
            [
             "Patient_4"
            ],
            [
             "Patient_5"
            ],
            [
             "Patient_6"
            ],
            [
             "Patient_7"
            ],
            [
             "Patient_8"
            ],
            [
             "Patient_9"
            ]
           ],
           "hovertemplate": "Anomaly_Label=Normal<br>Time=33<br>X Coordinate=%{x}<br>Y Coordinate=%{y}<br>PatientID=%{customdata[0]}<extra></extra>",
           "ids": [
            "Patient_1",
            "Patient_10",
            "Patient_11",
            "Patient_12",
            "Patient_13",
            "Patient_14",
            "Patient_15",
            "Patient_16",
            "Patient_17",
            "Patient_19",
            "Patient_2",
            "Patient_20",
            "Patient_3",
            "Patient_4",
            "Patient_5",
            "Patient_6",
            "Patient_7",
            "Patient_8",
            "Patient_9"
           ],
           "legendgroup": "Normal",
           "marker": {
            "color": "#636efa",
            "symbol": "circle"
           },
           "mode": "markers",
           "name": "Normal",
           "orientation": "v",
           "showlegend": true,
           "type": "scatter",
           "x": [
            55.80574046417508,
            45.830228088565235,
            56.0252231118771,
            38.2642640758599,
            47.029662683692194,
            31.67761915963315,
            55.883837067392186,
            57.531345220719054,
            24.274143265121428,
            38.29282822493513,
            63.63138130832095,
            61.283967662198975,
            29.08799620241995,
            22.745560945704902,
            56.05924578000603,
            21.294859841955226,
            70.54484419885756,
            30.89584576267107,
            38.03289345197651
           ],
           "xaxis": "x",
           "y": [
            90.37619171792831,
            38.329602651953685,
            27.562850940184138,
            41.877048759045564,
            67.63051002727886,
            51.76707116159017,
            22.54306905912701,
            29.92858995973582,
            77.08277852540324,
            25.48361790520994,
            54.62398790574974,
            46.070291939500024,
            29.555573222873434,
            72.06224870638569,
            62.77400041756327,
            77.7080566592789,
            32.66108185418309,
            30.53763661166943,
            51.04298454092082
           ],
           "yaxis": "y"
          },
          {
           "customdata": [
            [
             "Patient_18"
            ]
           ],
           "hovertemplate": "Anomaly_Label=Anomaly<br>Time=33<br>X Coordinate=%{x}<br>Y Coordinate=%{y}<br>PatientID=%{customdata[0]}<extra></extra>",
           "ids": [
            "Patient_18"
           ],
           "legendgroup": "Anomaly",
           "marker": {
            "color": "#EF553B",
            "symbol": "circle"
           },
           "mode": "markers",
           "name": "Anomaly",
           "orientation": "v",
           "showlegend": true,
           "type": "scatter",
           "x": [
            78.58879262917296
           ],
           "xaxis": "x",
           "y": [
            69.28459648535109
           ],
           "yaxis": "y"
          }
         ],
         "name": "33"
        },
        {
         "data": [
          {
           "customdata": [
            [
             "Patient_1"
            ],
            [
             "Patient_10"
            ],
            [
             "Patient_11"
            ],
            [
             "Patient_12"
            ],
            [
             "Patient_13"
            ],
            [
             "Patient_14"
            ],
            [
             "Patient_15"
            ],
            [
             "Patient_16"
            ],
            [
             "Patient_17"
            ],
            [
             "Patient_18"
            ],
            [
             "Patient_19"
            ],
            [
             "Patient_2"
            ],
            [
             "Patient_20"
            ],
            [
             "Patient_3"
            ],
            [
             "Patient_4"
            ],
            [
             "Patient_5"
            ],
            [
             "Patient_6"
            ],
            [
             "Patient_7"
            ],
            [
             "Patient_8"
            ],
            [
             "Patient_9"
            ]
           ],
           "hovertemplate": "Anomaly_Label=Normal<br>Time=34<br>X Coordinate=%{x}<br>Y Coordinate=%{y}<br>PatientID=%{customdata[0]}<extra></extra>",
           "ids": [
            "Patient_1",
            "Patient_10",
            "Patient_11",
            "Patient_12",
            "Patient_13",
            "Patient_14",
            "Patient_15",
            "Patient_16",
            "Patient_17",
            "Patient_18",
            "Patient_19",
            "Patient_2",
            "Patient_20",
            "Patient_3",
            "Patient_4",
            "Patient_5",
            "Patient_6",
            "Patient_7",
            "Patient_8",
            "Patient_9"
           ],
           "legendgroup": "Normal",
           "marker": {
            "color": "#636efa",
            "symbol": "circle"
           },
           "mode": "markers",
           "name": "Normal",
           "orientation": "v",
           "showlegend": true,
           "type": "scatter",
           "x": [
            56.20978086821548,
            46.58079818945147,
            56.939117569383576,
            37.206919796923025,
            47.392705615470696,
            32.74466114270785,
            55.814022171247366,
            56.27021474931486,
            23.380690982106255,
            78.96602554944373,
            38.16619933860936,
            63.73697573302825,
            61.207684939633964,
            28.687555281781343,
            24.08522368406418,
            55.54344521325156,
            21.82792173507965,
            70.44458229092822,
            30.198592699055116,
            38.0931946581512
           ],
           "xaxis": "x",
           "y": [
            90.78023212196871,
            37.75186341658284,
            29.45213281157305,
            42.44563066166212,
            67.24485382301245,
            51.10798418296151,
            23.323278431854764,
            29.811842587567988,
            75.94995394051199,
            67.95223670412682,
            25.72192019043857,
            56.01184920475465,
            46.81701823064573,
            28.873864200916834,
            71.64212160701041,
            62.752681044026374,
            78.5540677850522,
            32.36194909641184,
            31.754937417183772,
            51.35996938970675
           ],
           "yaxis": "y"
          }
         ],
         "name": "34"
        },
        {
         "data": [
          {
           "customdata": [
            [
             "Patient_1"
            ],
            [
             "Patient_10"
            ],
            [
             "Patient_11"
            ],
            [
             "Patient_12"
            ],
            [
             "Patient_13"
            ],
            [
             "Patient_14"
            ],
            [
             "Patient_15"
            ],
            [
             "Patient_16"
            ],
            [
             "Patient_17"
            ],
            [
             "Patient_18"
            ],
            [
             "Patient_19"
            ],
            [
             "Patient_2"
            ],
            [
             "Patient_20"
            ],
            [
             "Patient_3"
            ],
            [
             "Patient_4"
            ],
            [
             "Patient_5"
            ],
            [
             "Patient_6"
            ],
            [
             "Patient_7"
            ],
            [
             "Patient_8"
            ],
            [
             "Patient_9"
            ]
           ],
           "hovertemplate": "Anomaly_Label=Normal<br>Time=35<br>X Coordinate=%{x}<br>Y Coordinate=%{y}<br>PatientID=%{customdata[0]}<extra></extra>",
           "ids": [
            "Patient_1",
            "Patient_10",
            "Patient_11",
            "Patient_12",
            "Patient_13",
            "Patient_14",
            "Patient_15",
            "Patient_16",
            "Patient_17",
            "Patient_18",
            "Patient_19",
            "Patient_2",
            "Patient_20",
            "Patient_3",
            "Patient_4",
            "Patient_5",
            "Patient_6",
            "Patient_7",
            "Patient_8",
            "Patient_9"
           ],
           "legendgroup": "Normal",
           "marker": {
            "color": "#636efa",
            "symbol": "circle"
           },
           "mode": "markers",
           "name": "Normal",
           "orientation": "v",
           "showlegend": true,
           "type": "scatter",
           "x": [
            56.61382127225589,
            46.07111762482643,
            56.83155027308705,
            37.81143373492887,
            47.740869863574424,
            32.62530330654295,
            55.475646139730664,
            56.34817948544329,
            23.61283385421441,
            78.77287423664926,
            37.678884619384654,
            63.8360756517911,
            61.65229733405224,
            29.23677286345442,
            23.730504205911092,
            56.39834133892624,
            21.3255804371,
            70.14640242390163,
            30.645189691551156,
            38.873676113289086
           ],
           "xaxis": "x",
           "y": [
            91.18427252600912,
            38.32485588420013,
            29.670473196212708,
            41.10132921804359,
            67.30113687602221,
            51.19065698045168,
            22.17487564505518,
            29.80618719413284,
            77.2274214374103,
            68.70117665189915,
            26.082628174493102,
            56.060799027066345,
            46.10425817221638,
            30.163344008182158,
            72.33800763952102,
            63.07109159650539,
            77.54617515574175,
            32.41466819380066,
            31.297452600583576,
            51.4960216863023
           ],
           "yaxis": "y"
          }
         ],
         "name": "35"
        },
        {
         "data": [
          {
           "customdata": [
            [
             "Patient_1"
            ],
            [
             "Patient_10"
            ],
            [
             "Patient_11"
            ],
            [
             "Patient_12"
            ],
            [
             "Patient_13"
            ],
            [
             "Patient_14"
            ],
            [
             "Patient_15"
            ],
            [
             "Patient_16"
            ],
            [
             "Patient_17"
            ],
            [
             "Patient_18"
            ],
            [
             "Patient_19"
            ],
            [
             "Patient_2"
            ],
            [
             "Patient_20"
            ],
            [
             "Patient_3"
            ],
            [
             "Patient_4"
            ],
            [
             "Patient_5"
            ],
            [
             "Patient_6"
            ],
            [
             "Patient_7"
            ],
            [
             "Patient_8"
            ],
            [
             "Patient_9"
            ]
           ],
           "hovertemplate": "Anomaly_Label=Normal<br>Time=36<br>X Coordinate=%{x}<br>Y Coordinate=%{y}<br>PatientID=%{customdata[0]}<extra></extra>",
           "ids": [
            "Patient_1",
            "Patient_10",
            "Patient_11",
            "Patient_12",
            "Patient_13",
            "Patient_14",
            "Patient_15",
            "Patient_16",
            "Patient_17",
            "Patient_18",
            "Patient_19",
            "Patient_2",
            "Patient_20",
            "Patient_3",
            "Patient_4",
            "Patient_5",
            "Patient_6",
            "Patient_7",
            "Patient_8",
            "Patient_9"
           ],
           "legendgroup": "Normal",
           "marker": {
            "color": "#636efa",
            "symbol": "circle"
           },
           "mode": "markers",
           "name": "Normal",
           "orientation": "v",
           "showlegend": true,
           "type": "scatter",
           "x": [
            57.01786167629629,
            45.64077204558072,
            56.42904988401408,
            38.29973388839703,
            48.39495084134035,
            32.49245819240731,
            55.93405466980587,
            56.04359167237514,
            23.81800326785431,
            78.28611570820192,
            38.32102959354817,
            63.52718735214319,
            60.483137033662665,
            29.3006443522423,
            23.041270641190916,
            56.42809138350641,
            22.098551583364852,
            70.05890081090126,
            30.20031516595952,
            37.491706420287215
           ],
           "xaxis": "x",
           "y": [
            91.58831293004953,
            38.75284805471664,
            28.46190729072103,
            42.98475704170106,
            67.71474079887739,
            51.15032977941729,
            22.511431905035597,
            30.229760192532016,
            76.70651821053636,
            68.98149349127291,
            26.599091880910663,
            56.24364926874413,
            46.31231989473622,
            29.569437442125675,
            71.7518395963344,
            62.297938091716844,
            77.99477303691236,
            33.206642056633115,
            30.123866185215643,
            52.116677949647865
           ],
           "yaxis": "y"
          }
         ],
         "name": "36"
        },
        {
         "data": [
          {
           "customdata": [
            [
             "Patient_1"
            ],
            [
             "Patient_11"
            ],
            [
             "Patient_12"
            ],
            [
             "Patient_13"
            ],
            [
             "Patient_15"
            ],
            [
             "Patient_16"
            ],
            [
             "Patient_17"
            ],
            [
             "Patient_18"
            ],
            [
             "Patient_19"
            ],
            [
             "Patient_2"
            ],
            [
             "Patient_20"
            ],
            [
             "Patient_3"
            ],
            [
             "Patient_4"
            ],
            [
             "Patient_5"
            ],
            [
             "Patient_6"
            ],
            [
             "Patient_7"
            ],
            [
             "Patient_9"
            ]
           ],
           "hovertemplate": "Anomaly_Label=Normal<br>Time=37<br>X Coordinate=%{x}<br>Y Coordinate=%{y}<br>PatientID=%{customdata[0]}<extra></extra>",
           "ids": [
            "Patient_1",
            "Patient_11",
            "Patient_12",
            "Patient_13",
            "Patient_15",
            "Patient_16",
            "Patient_17",
            "Patient_18",
            "Patient_19",
            "Patient_2",
            "Patient_20",
            "Patient_3",
            "Patient_4",
            "Patient_5",
            "Patient_6",
            "Patient_7",
            "Patient_9"
           ],
           "legendgroup": "Normal",
           "marker": {
            "color": "#636efa",
            "symbol": "circle"
           },
           "mode": "markers",
           "name": "Normal",
           "orientation": "v",
           "showlegend": true,
           "type": "scatter",
           "x": [
            57.42190208033669,
            56.87275754043516,
            37.29566066117897,
            47.62099910630701,
            55.53111667919723,
            57.283320721360234,
            23.601989548935883,
            77.43872926487941,
            38.65986628959459,
            63.878296165762954,
            61.00390455248944,
            30.11784329816726,
            22.972923317927364,
            56.6774175523552,
            21.121827608323233,
            69.7604550599898,
            38.01010986667913
           ],
           "xaxis": "x",
           "y": [
            91.99235333408993,
            28.295830345973176,
            41.184359063988104,
            66.84420726374987,
            23.673150561534737,
            30.002899292944356,
            77.1675193632375,
            68.6547368368974,
            26.473793452325186,
            55.858635297630556,
            46.3073127492876,
            29.67507706244955,
            72.89761502966321,
            62.77540351949704,
            77.71487151135793,
            33.28472095054867,
            50.92557718128977
           ],
           "yaxis": "y"
          },
          {
           "customdata": [
            [
             "Patient_10"
            ],
            [
             "Patient_14"
            ],
            [
             "Patient_8"
            ]
           ],
           "hovertemplate": "Anomaly_Label=Anomaly<br>Time=37<br>X Coordinate=%{x}<br>Y Coordinate=%{y}<br>PatientID=%{customdata[0]}<extra></extra>",
           "ids": [
            "Patient_10",
            "Patient_14",
            "Patient_8"
           ],
           "legendgroup": "Anomaly",
           "marker": {
            "color": "#EF553B",
            "symbol": "circle"
           },
           "mode": "markers",
           "name": "Anomaly",
           "orientation": "v",
           "showlegend": true,
           "type": "scatter",
           "x": [
            45.98714424198255,
            31.39546851164644,
            31.851791185393342
           ],
           "xaxis": "x",
           "y": [
            36.58952872910108,
            49.417935198175876,
            31.775892355342123
           ],
           "yaxis": "y"
          }
         ],
         "name": "37"
        },
        {
         "data": [
          {
           "customdata": [
            [
             "Patient_1"
            ],
            [
             "Patient_10"
            ],
            [
             "Patient_11"
            ],
            [
             "Patient_12"
            ],
            [
             "Patient_13"
            ],
            [
             "Patient_14"
            ],
            [
             "Patient_15"
            ],
            [
             "Patient_16"
            ],
            [
             "Patient_17"
            ],
            [
             "Patient_18"
            ],
            [
             "Patient_19"
            ],
            [
             "Patient_2"
            ],
            [
             "Patient_20"
            ],
            [
             "Patient_3"
            ],
            [
             "Patient_4"
            ],
            [
             "Patient_5"
            ],
            [
             "Patient_6"
            ],
            [
             "Patient_7"
            ],
            [
             "Patient_8"
            ],
            [
             "Patient_9"
            ]
           ],
           "hovertemplate": "Anomaly_Label=Normal<br>Time=38<br>X Coordinate=%{x}<br>Y Coordinate=%{y}<br>PatientID=%{customdata[0]}<extra></extra>",
           "ids": [
            "Patient_1",
            "Patient_10",
            "Patient_11",
            "Patient_12",
            "Patient_13",
            "Patient_14",
            "Patient_15",
            "Patient_16",
            "Patient_17",
            "Patient_18",
            "Patient_19",
            "Patient_2",
            "Patient_20",
            "Patient_3",
            "Patient_4",
            "Patient_5",
            "Patient_6",
            "Patient_7",
            "Patient_8",
            "Patient_9"
           ],
           "legendgroup": "Normal",
           "marker": {
            "color": "#636efa",
            "symbol": "circle"
           },
           "mode": "markers",
           "name": "Normal",
           "orientation": "v",
           "showlegend": true,
           "type": "scatter",
           "x": [
            57.825942484377094,
            46.31383345833786,
            56.85795264942609,
            37.761893903329856,
            46.5566331450694,
            31.61313114110256,
            55.645158730338025,
            55.9447802045971,
            24.11750382928206,
            78.02614276211217,
            37.863031040077885,
            63.806397062733545,
            60.51791208473661,
            29.817910739662818,
            24.23136101457173,
            56.05621705741831,
            20.02294952761168,
            70.31498039657153,
            30.94299339103847,
            37.47326164912899
           ],
           "xaxis": "x",
           "y": [
            92.39639373813033,
            36.846603700297884,
            27.691340736810808,
            41.96388985647276,
            67.6929273608094,
            50.448940086309506,
            23.361343437914222,
            30.262287346161475,
            77.27968503883156,
            68.320326967446,
            25.90339878190622,
            56.10319180523029,
            44.948474382628774,
            28.958081744831986,
            71.83500694597483,
            62.11074882818882,
            78.63661382790019,
            32.59968286213746,
            31.26224020005808,
            51.22085955926112
           ],
           "yaxis": "y"
          }
         ],
         "name": "38"
        },
        {
         "data": [
          {
           "customdata": [
            [
             "Patient_1"
            ],
            [
             "Patient_10"
            ],
            [
             "Patient_11"
            ],
            [
             "Patient_12"
            ],
            [
             "Patient_13"
            ],
            [
             "Patient_14"
            ],
            [
             "Patient_15"
            ],
            [
             "Patient_16"
            ],
            [
             "Patient_17"
            ],
            [
             "Patient_18"
            ],
            [
             "Patient_19"
            ],
            [
             "Patient_2"
            ],
            [
             "Patient_20"
            ],
            [
             "Patient_3"
            ],
            [
             "Patient_4"
            ],
            [
             "Patient_5"
            ],
            [
             "Patient_6"
            ],
            [
             "Patient_7"
            ],
            [
             "Patient_8"
            ],
            [
             "Patient_9"
            ]
           ],
           "hovertemplate": "Anomaly_Label=Normal<br>Time=39<br>X Coordinate=%{x}<br>Y Coordinate=%{y}<br>PatientID=%{customdata[0]}<extra></extra>",
           "ids": [
            "Patient_1",
            "Patient_10",
            "Patient_11",
            "Patient_12",
            "Patient_13",
            "Patient_14",
            "Patient_15",
            "Patient_16",
            "Patient_17",
            "Patient_18",
            "Patient_19",
            "Patient_2",
            "Patient_20",
            "Patient_3",
            "Patient_4",
            "Patient_5",
            "Patient_6",
            "Patient_7",
            "Patient_8",
            "Patient_9"
           ],
           "legendgroup": "Normal",
           "marker": {
            "color": "#636efa",
            "symbol": "circle"
           },
           "mode": "markers",
           "name": "Normal",
           "orientation": "v",
           "showlegend": true,
           "type": "scatter",
           "x": [
            58.2299828884175,
            45.770795484069176,
            57.15272857191635,
            37.43843895531778,
            47.513575507205,
            31.767248131398812,
            55.601509336991434,
            56.9123055813739,
            24.839744467225547,
            77.71426103664419,
            38.31075390566595,
            62.73817029091339,
            61.29634799937665,
            29.67069555704879,
            23.495413583929672,
            55.975452484040105,
            20.912087568185882,
            69.7051866869343,
            30.970833190423434,
            38.416074214130276
           ],
           "xaxis": "x",
           "y": [
            92.80043414217073,
            36.69215300753418,
            28.330713040616107,
            43.57826438154393,
            66.73466215853323,
            51.42828915941507,
            22.06788577404118,
            29.897375378467995,
            77.47315626805731,
            69.14434906785522,
            26.286713677944142,
            55.41464369946723,
            45.98597129688064,
            30.38841895502801,
            71.60656727588155,
            63.17179287733682,
            77.79499512639454,
            32.263682336567214,
            31.81660982044081,
            51.35920914687113
           ],
           "yaxis": "y"
          }
         ],
         "name": "39"
        },
        {
         "data": [
          {
           "customdata": [
            [
             "Patient_1"
            ],
            [
             "Patient_10"
            ],
            [
             "Patient_11"
            ],
            [
             "Patient_12"
            ],
            [
             "Patient_13"
            ],
            [
             "Patient_14"
            ],
            [
             "Patient_15"
            ],
            [
             "Patient_16"
            ],
            [
             "Patient_17"
            ],
            [
             "Patient_18"
            ],
            [
             "Patient_19"
            ],
            [
             "Patient_2"
            ],
            [
             "Patient_20"
            ],
            [
             "Patient_3"
            ],
            [
             "Patient_4"
            ],
            [
             "Patient_5"
            ],
            [
             "Patient_6"
            ],
            [
             "Patient_7"
            ],
            [
             "Patient_8"
            ],
            [
             "Patient_9"
            ]
           ],
           "hovertemplate": "Anomaly_Label=Normal<br>Time=40<br>X Coordinate=%{x}<br>Y Coordinate=%{y}<br>PatientID=%{customdata[0]}<extra></extra>",
           "ids": [
            "Patient_1",
            "Patient_10",
            "Patient_11",
            "Patient_12",
            "Patient_13",
            "Patient_14",
            "Patient_15",
            "Patient_16",
            "Patient_17",
            "Patient_18",
            "Patient_19",
            "Patient_2",
            "Patient_20",
            "Patient_3",
            "Patient_4",
            "Patient_5",
            "Patient_6",
            "Patient_7",
            "Patient_8",
            "Patient_9"
           ],
           "legendgroup": "Normal",
           "marker": {
            "color": "#636efa",
            "symbol": "circle"
           },
           "mode": "markers",
           "name": "Normal",
           "orientation": "v",
           "showlegend": true,
           "type": "scatter",
           "x": [
            58.63402329245791,
            46.206517705133734,
            56.808365834131436,
            37.69792083384394,
            47.44842954115696,
            31.477155646861764,
            56.203431665392486,
            55.391763664582,
            24.551592852397327,
            77.4382708683261,
            38.69713616365452,
            63.75224884263103,
            60.93451554114457,
            28.883557136871516,
            24.51627918971354,
            56.079010432928904,
            21.19524896212529,
            69.41536168395187,
            30.815925899923762,
            38.848227603354644
           ],
           "xaxis": "x",
           "y": [
            93.20447454621115,
            37.636646570173596,
            28.193048492717164,
            41.83400989255198,
            67.76935645138481,
            51.424005585381224,
            22.727990499704323,
            29.927536427690274,
            76.92169820405056,
            68.25145342637356,
            26.133693624483723,
            55.7176848202012,
            46.22573741846873,
            29.571470752968892,
            71.43680228936897,
            63.190464945470445,
            78.42077702784454,
            32.9545001893004,
            31.49713558904596,
            52.78016771894358
           ],
           "yaxis": "y"
          }
         ],
         "name": "40"
        },
        {
         "data": [
          {
           "customdata": [
            [
             "Patient_1"
            ],
            [
             "Patient_10"
            ],
            [
             "Patient_11"
            ],
            [
             "Patient_12"
            ],
            [
             "Patient_13"
            ],
            [
             "Patient_14"
            ],
            [
             "Patient_15"
            ],
            [
             "Patient_16"
            ],
            [
             "Patient_17"
            ],
            [
             "Patient_18"
            ],
            [
             "Patient_19"
            ],
            [
             "Patient_2"
            ],
            [
             "Patient_20"
            ],
            [
             "Patient_3"
            ],
            [
             "Patient_4"
            ],
            [
             "Patient_5"
            ],
            [
             "Patient_6"
            ],
            [
             "Patient_7"
            ],
            [
             "Patient_8"
            ],
            [
             "Patient_9"
            ]
           ],
           "hovertemplate": "Anomaly_Label=Normal<br>Time=41<br>X Coordinate=%{x}<br>Y Coordinate=%{y}<br>PatientID=%{customdata[0]}<extra></extra>",
           "ids": [
            "Patient_1",
            "Patient_10",
            "Patient_11",
            "Patient_12",
            "Patient_13",
            "Patient_14",
            "Patient_15",
            "Patient_16",
            "Patient_17",
            "Patient_18",
            "Patient_19",
            "Patient_2",
            "Patient_20",
            "Patient_3",
            "Patient_4",
            "Patient_5",
            "Patient_6",
            "Patient_7",
            "Patient_8",
            "Patient_9"
           ],
           "legendgroup": "Normal",
           "marker": {
            "color": "#636efa",
            "symbol": "circle"
           },
           "mode": "markers",
           "name": "Normal",
           "orientation": "v",
           "showlegend": true,
           "type": "scatter",
           "x": [
            59.03806369649831,
            46.21004801926458,
            57.146822332071395,
            37.5918687018863,
            46.86403339071937,
            32.23738085433104,
            55.72018918135933,
            56.77005184836718,
            24.10800490758103,
            78.27420883507493,
            38.21050927721096,
            64.72732435341902,
            61.6075219253729,
            29.96969768695894,
            23.98417217916595,
            56.26876574976083,
            20.783218727383083,
            69.35703855244542,
            30.677189383776838,
            38.39617851334533
           ],
           "xaxis": "x",
           "y": [
            93.60851495025155,
            37.236296583571246,
            27.696641798999135,
            42.951175097150646,
            66.7716851983184,
            50.9438571957865,
            23.031618328273694,
            30.7862973422156,
            76.81250340789072,
            69.45378185443526,
            25.37306218804771,
            55.75834881721653,
            46.34895904239928,
            30.120329246133387,
            71.75475859013709,
            62.47225686456727,
            78.35677077058047,
            33.33418633492735,
            31.10485041914245,
            51.35593341108223
           ],
           "yaxis": "y"
          }
         ],
         "name": "41"
        },
        {
         "data": [
          {
           "customdata": [
            [
             "Patient_1"
            ],
            [
             "Patient_10"
            ],
            [
             "Patient_11"
            ],
            [
             "Patient_12"
            ],
            [
             "Patient_13"
            ],
            [
             "Patient_14"
            ],
            [
             "Patient_15"
            ],
            [
             "Patient_16"
            ],
            [
             "Patient_17"
            ],
            [
             "Patient_18"
            ],
            [
             "Patient_19"
            ],
            [
             "Patient_2"
            ],
            [
             "Patient_20"
            ],
            [
             "Patient_3"
            ],
            [
             "Patient_4"
            ],
            [
             "Patient_5"
            ],
            [
             "Patient_6"
            ],
            [
             "Patient_7"
            ],
            [
             "Patient_8"
            ],
            [
             "Patient_9"
            ]
           ],
           "hovertemplate": "Anomaly_Label=Normal<br>Time=42<br>X Coordinate=%{x}<br>Y Coordinate=%{y}<br>PatientID=%{customdata[0]}<extra></extra>",
           "ids": [
            "Patient_1",
            "Patient_10",
            "Patient_11",
            "Patient_12",
            "Patient_13",
            "Patient_14",
            "Patient_15",
            "Patient_16",
            "Patient_17",
            "Patient_18",
            "Patient_19",
            "Patient_2",
            "Patient_20",
            "Patient_3",
            "Patient_4",
            "Patient_5",
            "Patient_6",
            "Patient_7",
            "Patient_8",
            "Patient_9"
           ],
           "legendgroup": "Normal",
           "marker": {
            "color": "#636efa",
            "symbol": "circle"
           },
           "mode": "markers",
           "name": "Normal",
           "orientation": "v",
           "showlegend": true,
           "type": "scatter",
           "x": [
            59.442104100538714,
            45.80496812734102,
            56.701463880398904,
            37.92864986308412,
            46.83735784344898,
            32.45558072548837,
            55.49264952245382,
            56.48771719564289,
            23.439419012021485,
            78.42552079936478,
            38.371616958701615,
            63.65197241570734,
            59.7023654442298,
            29.5271085918307,
            23.839742638661487,
            56.32345360368057,
            21.6044748981919,
            69.47883909700302,
            30.64151630986901,
            38.43817823427293
           ],
           "xaxis": "x",
           "y": [
            94.01255535429195,
            37.29909001382341,
            28.21804174770537,
            41.173555293403204,
            66.57665622279123,
            51.709372991107664,
            22.702613901604856,
            30.812386572541584,
            77.05231672656738,
            68.75438797195758,
            26.360849886666603,
            55.874242410670114,
            46.74808728414153,
            29.454921060061693,
            71.7528255612112,
            62.354581328970774,
            78.5022748717262,
            33.28333769878409,
            31.408299490346604,
            52.404477736331835
           ],
           "yaxis": "y"
          }
         ],
         "name": "42"
        },
        {
         "data": [
          {
           "customdata": [
            [
             "Patient_1"
            ],
            [
             "Patient_10"
            ],
            [
             "Patient_11"
            ],
            [
             "Patient_12"
            ],
            [
             "Patient_13"
            ],
            [
             "Patient_14"
            ],
            [
             "Patient_15"
            ],
            [
             "Patient_16"
            ],
            [
             "Patient_17"
            ],
            [
             "Patient_18"
            ],
            [
             "Patient_19"
            ],
            [
             "Patient_2"
            ],
            [
             "Patient_20"
            ],
            [
             "Patient_3"
            ],
            [
             "Patient_4"
            ],
            [
             "Patient_5"
            ],
            [
             "Patient_6"
            ],
            [
             "Patient_7"
            ],
            [
             "Patient_8"
            ],
            [
             "Patient_9"
            ]
           ],
           "hovertemplate": "Anomaly_Label=Normal<br>Time=43<br>X Coordinate=%{x}<br>Y Coordinate=%{y}<br>PatientID=%{customdata[0]}<extra></extra>",
           "ids": [
            "Patient_1",
            "Patient_10",
            "Patient_11",
            "Patient_12",
            "Patient_13",
            "Patient_14",
            "Patient_15",
            "Patient_16",
            "Patient_17",
            "Patient_18",
            "Patient_19",
            "Patient_2",
            "Patient_20",
            "Patient_3",
            "Patient_4",
            "Patient_5",
            "Patient_6",
            "Patient_7",
            "Patient_8",
            "Patient_9"
           ],
           "legendgroup": "Normal",
           "marker": {
            "color": "#636efa",
            "symbol": "circle"
           },
           "mode": "markers",
           "name": "Normal",
           "orientation": "v",
           "showlegend": true,
           "type": "scatter",
           "x": [
            59.846144504579115,
            45.938502341713175,
            56.39984900247555,
            37.15744361926407,
            47.05831450756951,
            31.765775817242954,
            54.84171539988663,
            55.7003309270708,
            23.944315455584025,
            77.78331744594863,
            38.43641340561183,
            64.1752378084468,
            60.11639535590654,
            29.292394169232345,
            24.291155859086288,
            56.886882969278226,
            21.272786477198945,
            69.82352720396034,
            31.994969391174944,
            38.31613698096451
           ],
           "xaxis": "x",
           "y": [
            94.41659575833235,
            38.32127393209789,
            28.46693536674113,
            41.32169934201115,
            67.09203928505661,
            50.50785581487977,
            22.745471976885515,
            30.61147540308229,
            76.20435648546753,
            68.12776268419236,
            26.530552063394605,
            56.60633832440367,
            46.46666266394978,
            29.83610849377363,
            72.62802597328813,
            62.85541841329868,
            77.39360822377108,
            32.31872334303848,
            30.916327684989863,
            51.7611285859545
           ],
           "yaxis": "y"
          }
         ],
         "name": "43"
        },
        {
         "data": [
          {
           "customdata": [
            [
             "Patient_1"
            ],
            [
             "Patient_10"
            ],
            [
             "Patient_11"
            ],
            [
             "Patient_12"
            ],
            [
             "Patient_13"
            ],
            [
             "Patient_14"
            ],
            [
             "Patient_15"
            ],
            [
             "Patient_16"
            ],
            [
             "Patient_17"
            ],
            [
             "Patient_18"
            ],
            [
             "Patient_19"
            ],
            [
             "Patient_2"
            ],
            [
             "Patient_20"
            ],
            [
             "Patient_3"
            ],
            [
             "Patient_4"
            ],
            [
             "Patient_5"
            ],
            [
             "Patient_6"
            ],
            [
             "Patient_7"
            ],
            [
             "Patient_8"
            ],
            [
             "Patient_9"
            ]
           ],
           "hovertemplate": "Anomaly_Label=Normal<br>Time=44<br>X Coordinate=%{x}<br>Y Coordinate=%{y}<br>PatientID=%{customdata[0]}<extra></extra>",
           "ids": [
            "Patient_1",
            "Patient_10",
            "Patient_11",
            "Patient_12",
            "Patient_13",
            "Patient_14",
            "Patient_15",
            "Patient_16",
            "Patient_17",
            "Patient_18",
            "Patient_19",
            "Patient_2",
            "Patient_20",
            "Patient_3",
            "Patient_4",
            "Patient_5",
            "Patient_6",
            "Patient_7",
            "Patient_8",
            "Patient_9"
           ],
           "legendgroup": "Normal",
           "marker": {
            "color": "#636efa",
            "symbol": "circle"
           },
           "mode": "markers",
           "name": "Normal",
           "orientation": "v",
           "showlegend": true,
           "type": "scatter",
           "x": [
            60.250184908619524,
            45.67517059268523,
            57.517283997470486,
            37.39441358816018,
            46.288291352357504,
            31.874861810087737,
            55.4792456481764,
            56.34026312318226,
            23.987422915100137,
            77.39272244575214,
            38.22753208426011,
            64.02623482280315,
            61.408088802357696,
            29.201591458712883,
            24.023020299391266,
            57.01749604746903,
            20.880866274292917,
            69.04498860989735,
            31.043061357931776,
            37.4639392265562
           ],
           "xaxis": "x",
           "y": [
            94.82063616237275,
            37.547144917875286,
            28.818051297055277,
            41.53611448491386,
            66.75098102395961,
            50.360476541241106,
            22.82545070467925,
            29.90644613082576,
            77.1541025599847,
            69.2093070768608,
            25.869751651855456,
            55.543524385952786,
            46.52575769000783,
            28.961658291770416,
            71.98122457083208,
            62.45402426085542,
            77.43773393341326,
            31.948278669193826,
            31.258633102820998,
            51.93290505497233
           ],
           "yaxis": "y"
          }
         ],
         "name": "44"
        },
        {
         "data": [
          {
           "customdata": [
            [
             "Patient_1"
            ],
            [
             "Patient_10"
            ],
            [
             "Patient_11"
            ],
            [
             "Patient_12"
            ],
            [
             "Patient_13"
            ],
            [
             "Patient_14"
            ],
            [
             "Patient_15"
            ],
            [
             "Patient_16"
            ],
            [
             "Patient_17"
            ],
            [
             "Patient_18"
            ],
            [
             "Patient_19"
            ],
            [
             "Patient_2"
            ],
            [
             "Patient_20"
            ],
            [
             "Patient_3"
            ],
            [
             "Patient_4"
            ],
            [
             "Patient_5"
            ],
            [
             "Patient_6"
            ],
            [
             "Patient_7"
            ],
            [
             "Patient_8"
            ],
            [
             "Patient_9"
            ]
           ],
           "hovertemplate": "Anomaly_Label=Normal<br>Time=45<br>X Coordinate=%{x}<br>Y Coordinate=%{y}<br>PatientID=%{customdata[0]}<extra></extra>",
           "ids": [
            "Patient_1",
            "Patient_10",
            "Patient_11",
            "Patient_12",
            "Patient_13",
            "Patient_14",
            "Patient_15",
            "Patient_16",
            "Patient_17",
            "Patient_18",
            "Patient_19",
            "Patient_2",
            "Patient_20",
            "Patient_3",
            "Patient_4",
            "Patient_5",
            "Patient_6",
            "Patient_7",
            "Patient_8",
            "Patient_9"
           ],
           "legendgroup": "Normal",
           "marker": {
            "color": "#636efa",
            "symbol": "circle"
           },
           "mode": "markers",
           "name": "Normal",
           "orientation": "v",
           "showlegend": true,
           "type": "scatter",
           "x": [
            60.654225312659925,
            45.59358746360504,
            56.11435526746453,
            38.02897007113458,
            48.06043170305432,
            32.124773744141514,
            55.47771976098728,
            56.84943547436241,
            24.55526570055585,
            78.45419508664439,
            37.73134293529464,
            63.61341782136409,
            60.50112925648644,
            28.78925532288586,
            23.46840173476974,
            56.00263194887306,
            20.960707203877668,
            70.02648664402402,
            31.542351952858386,
            38.73926317783563
           ],
           "xaxis": "x",
           "y": [
            95.22467656641317,
            38.361403858187266,
            28.82920872592751,
            41.64640049308318,
            66.98553442628135,
            50.98422722420231,
            23.192428899779753,
            29.3571814346184,
            76.10188624118216,
            69.06719345540145,
            25.654919696405738,
            56.10026081442525,
            46.30168910923171,
            29.41395107306042,
            71.86651031785985,
            61.54343014501391,
            78.24101358029023,
            32.22650907023359,
            30.57118316709878,
            51.698983078870114
           ],
           "yaxis": "y"
          }
         ],
         "name": "45"
        },
        {
         "data": [
          {
           "customdata": [
            [
             "Patient_1"
            ],
            [
             "Patient_10"
            ],
            [
             "Patient_11"
            ],
            [
             "Patient_12"
            ],
            [
             "Patient_13"
            ],
            [
             "Patient_14"
            ],
            [
             "Patient_15"
            ],
            [
             "Patient_16"
            ],
            [
             "Patient_17"
            ],
            [
             "Patient_19"
            ],
            [
             "Patient_2"
            ],
            [
             "Patient_20"
            ],
            [
             "Patient_3"
            ],
            [
             "Patient_4"
            ],
            [
             "Patient_5"
            ],
            [
             "Patient_6"
            ],
            [
             "Patient_7"
            ],
            [
             "Patient_8"
            ],
            [
             "Patient_9"
            ]
           ],
           "hovertemplate": "Anomaly_Label=Normal<br>Time=46<br>X Coordinate=%{x}<br>Y Coordinate=%{y}<br>PatientID=%{customdata[0]}<extra></extra>",
           "ids": [
            "Patient_1",
            "Patient_10",
            "Patient_11",
            "Patient_12",
            "Patient_13",
            "Patient_14",
            "Patient_15",
            "Patient_16",
            "Patient_17",
            "Patient_19",
            "Patient_2",
            "Patient_20",
            "Patient_3",
            "Patient_4",
            "Patient_5",
            "Patient_6",
            "Patient_7",
            "Patient_8",
            "Patient_9"
           ],
           "legendgroup": "Normal",
           "marker": {
            "color": "#636efa",
            "symbol": "circle"
           },
           "mode": "markers",
           "name": "Normal",
           "orientation": "v",
           "showlegend": true,
           "type": "scatter",
           "x": [
            61.05826571670033,
            46.189843242528795,
            56.49298073807949,
            37.48449743251042,
            47.234801021688604,
            32.260886653472205,
            55.89335133397792,
            57.03925343287962,
            23.849444507114658,
            37.679863647202716,
            64.57479088174411,
            61.92023909047196,
            29.08003441325704,
            22.643297633981494,
            56.54932652114125,
            20.617895221808187,
            69.93335556954585,
            30.504696272465214,
            38.017614904036805
           ],
           "xaxis": "x",
           "y": [
            95.62871697045357,
            37.47695954678798,
            28.314826737159596,
            41.79670508268044,
            67.90988126883317,
            50.706326145802116,
            22.620115018321858,
            30.416268517336537,
            77.15699069810513,
            25.931798387764886,
            56.61735095721718,
            47.524799697472396,
            29.255060283299898,
            71.56763371324801,
            63.29214607953685,
            77.89835900014322,
            32.88042722010638,
            31.216301113438075,
            51.47815976249513
           ],
           "yaxis": "y"
          },
          {
           "customdata": [
            [
             "Patient_18"
            ]
           ],
           "hovertemplate": "Anomaly_Label=Anomaly<br>Time=46<br>X Coordinate=%{x}<br>Y Coordinate=%{y}<br>PatientID=%{customdata[0]}<extra></extra>",
           "ids": [
            "Patient_18"
           ],
           "legendgroup": "Anomaly",
           "marker": {
            "color": "#EF553B",
            "symbol": "circle"
           },
           "mode": "markers",
           "name": "Anomaly",
           "orientation": "v",
           "showlegend": true,
           "type": "scatter",
           "x": [
            77.15248390843931
           ],
           "xaxis": "x",
           "y": [
            67.94045715253276
           ],
           "yaxis": "y"
          }
         ],
         "name": "46"
        },
        {
         "data": [
          {
           "customdata": [
            [
             "Patient_1"
            ],
            [
             "Patient_10"
            ],
            [
             "Patient_11"
            ],
            [
             "Patient_12"
            ],
            [
             "Patient_13"
            ],
            [
             "Patient_14"
            ],
            [
             "Patient_15"
            ],
            [
             "Patient_16"
            ],
            [
             "Patient_17"
            ],
            [
             "Patient_18"
            ],
            [
             "Patient_19"
            ],
            [
             "Patient_2"
            ],
            [
             "Patient_20"
            ],
            [
             "Patient_3"
            ],
            [
             "Patient_4"
            ],
            [
             "Patient_5"
            ],
            [
             "Patient_6"
            ],
            [
             "Patient_7"
            ],
            [
             "Patient_8"
            ],
            [
             "Patient_9"
            ]
           ],
           "hovertemplate": "Anomaly_Label=Normal<br>Time=47<br>X Coordinate=%{x}<br>Y Coordinate=%{y}<br>PatientID=%{customdata[0]}<extra></extra>",
           "ids": [
            "Patient_1",
            "Patient_10",
            "Patient_11",
            "Patient_12",
            "Patient_13",
            "Patient_14",
            "Patient_15",
            "Patient_16",
            "Patient_17",
            "Patient_18",
            "Patient_19",
            "Patient_2",
            "Patient_20",
            "Patient_3",
            "Patient_4",
            "Patient_5",
            "Patient_6",
            "Patient_7",
            "Patient_8",
            "Patient_9"
           ],
           "legendgroup": "Normal",
           "marker": {
            "color": "#636efa",
            "symbol": "circle"
           },
           "mode": "markers",
           "name": "Normal",
           "orientation": "v",
           "showlegend": true,
           "type": "scatter",
           "x": [
            61.462306120740735,
            45.30192632130073,
            56.47851845495274,
            38.850850585621615,
            47.491068883769444,
            32.52332009197126,
            55.698899401474605,
            56.58725458470885,
            24.213881524044798,
            78.12647218142466,
            38.83985127578833,
            63.01910764160794,
            60.167465356625975,
            28.967226550592073,
            23.400944820799573,
            55.07725079940463,
            20.698698144878247,
            70.9835997829003,
            29.644354271052872,
            38.80501439507155
           ],
           "xaxis": "x",
           "y": [
            96.03275737449397,
            37.72209802350077,
            28.316657461970443,
            41.230225433423925,
            67.34440426946354,
            50.903057881552144,
            22.59120047948897,
            30.059851283488786,
            76.74832706717818,
            68.48920948014518,
            25.834629978588787,
            55.64817215195519,
            47.040110374733075,
            29.0492474210466,
            71.73452345764755,
            62.8583097958215,
            78.31421456177524,
            32.28065434490336,
            30.861268480265974,
            52.46455962504457
           ],
           "yaxis": "y"
          }
         ],
         "name": "47"
        },
        {
         "data": [
          {
           "customdata": [
            [
             "Patient_1"
            ],
            [
             "Patient_11"
            ],
            [
             "Patient_12"
            ],
            [
             "Patient_13"
            ],
            [
             "Patient_14"
            ],
            [
             "Patient_15"
            ],
            [
             "Patient_16"
            ],
            [
             "Patient_17"
            ],
            [
             "Patient_18"
            ],
            [
             "Patient_19"
            ],
            [
             "Patient_2"
            ],
            [
             "Patient_20"
            ],
            [
             "Patient_4"
            ],
            [
             "Patient_5"
            ],
            [
             "Patient_6"
            ],
            [
             "Patient_7"
            ],
            [
             "Patient_8"
            ],
            [
             "Patient_9"
            ]
           ],
           "hovertemplate": "Anomaly_Label=Normal<br>Time=48<br>X Coordinate=%{x}<br>Y Coordinate=%{y}<br>PatientID=%{customdata[0]}<extra></extra>",
           "ids": [
            "Patient_1",
            "Patient_11",
            "Patient_12",
            "Patient_13",
            "Patient_14",
            "Patient_15",
            "Patient_16",
            "Patient_17",
            "Patient_18",
            "Patient_19",
            "Patient_2",
            "Patient_20",
            "Patient_4",
            "Patient_5",
            "Patient_6",
            "Patient_7",
            "Patient_8",
            "Patient_9"
           ],
           "legendgroup": "Normal",
           "marker": {
            "color": "#636efa",
            "symbol": "circle"
           },
           "mode": "markers",
           "name": "Normal",
           "orientation": "v",
           "showlegend": true,
           "type": "scatter",
           "x": [
            61.866346524781136,
            57.03912407160765,
            37.51932453389014,
            47.92625541301516,
            31.59398809558978,
            55.05904576445191,
            56.139332501791316,
            24.379658101804814,
            78.30046987789756,
            37.956085352790765,
            63.62180586166256,
            61.45418635334325,
            24.013045134624992,
            56.039453704284384,
            21.495630871937816,
            70.22436068102704,
            30.810828822272374,
            38.157080437395926
           ],
           "xaxis": "x",
           "y": [
            96.43679777853437,
            28.466999736481895,
            41.787451371077054,
            67.58432091464225,
            51.05759244837896,
            22.097215680805398,
            30.66264415742887,
            77.18967494524864,
            68.76193003054514,
            26.07628811272,
            56.60672809840761,
            46.78629528928286,
            72.08218820356069,
            62.62713170519156,
            78.5171989226947,
            32.78513698132419,
            30.928633949379275,
            52.052270946367805
           ],
           "yaxis": "y"
          },
          {
           "customdata": [
            [
             "Patient_10"
            ],
            [
             "Patient_3"
            ]
           ],
           "hovertemplate": "Anomaly_Label=Anomaly<br>Time=48<br>X Coordinate=%{x}<br>Y Coordinate=%{y}<br>PatientID=%{customdata[0]}<extra></extra>",
           "ids": [
            "Patient_10",
            "Patient_3"
           ],
           "legendgroup": "Anomaly",
           "marker": {
            "color": "#EF553B",
            "symbol": "circle"
           },
           "mode": "markers",
           "name": "Anomaly",
           "orientation": "v",
           "showlegend": true,
           "type": "scatter",
           "x": [
            46.21347947966738,
            28.293281319556844
           ],
           "xaxis": "x",
           "y": [
            36.003554094550374,
            30.928545487002157
           ],
           "yaxis": "y"
          }
         ],
         "name": "48"
        },
        {
         "data": [
          {
           "customdata": [
            [
             "Patient_1"
            ],
            [
             "Patient_10"
            ],
            [
             "Patient_11"
            ],
            [
             "Patient_12"
            ],
            [
             "Patient_13"
            ],
            [
             "Patient_14"
            ],
            [
             "Patient_15"
            ],
            [
             "Patient_16"
            ],
            [
             "Patient_18"
            ],
            [
             "Patient_19"
            ],
            [
             "Patient_2"
            ],
            [
             "Patient_20"
            ],
            [
             "Patient_4"
            ],
            [
             "Patient_5"
            ],
            [
             "Patient_6"
            ],
            [
             "Patient_7"
            ],
            [
             "Patient_8"
            ],
            [
             "Patient_9"
            ]
           ],
           "hovertemplate": "Anomaly_Label=Normal<br>Time=49<br>X Coordinate=%{x}<br>Y Coordinate=%{y}<br>PatientID=%{customdata[0]}<extra></extra>",
           "ids": [
            "Patient_1",
            "Patient_10",
            "Patient_11",
            "Patient_12",
            "Patient_13",
            "Patient_14",
            "Patient_15",
            "Patient_16",
            "Patient_18",
            "Patient_19",
            "Patient_2",
            "Patient_20",
            "Patient_4",
            "Patient_5",
            "Patient_6",
            "Patient_7",
            "Patient_8",
            "Patient_9"
           ],
           "legendgroup": "Normal",
           "marker": {
            "color": "#636efa",
            "symbol": "circle"
           },
           "mode": "markers",
           "name": "Normal",
           "orientation": "v",
           "showlegend": true,
           "type": "scatter",
           "x": [
            62.270386928821544,
            45.112921186342454,
            56.32660250844912,
            37.943416333078964,
            47.23194163236685,
            32.298135944606194,
            55.57484044685572,
            57.13302041200563,
            78.83817757522898,
            38.38165585803956,
            64.0953606124551,
            61.45754288904807,
            23.403483248120086,
            55.729311567105334,
            20.838859697248168,
            68.99975111454842,
            30.91010077010715,
            38.58415741178847
           ],
           "xaxis": "x",
           "y": [
            96.84083818257477,
            37.092386022599406,
            27.899680088568076,
            41.8847975282351,
            66.10862650137744,
            50.23443710738996,
            22.92571323217896,
            29.577037221677934,
            69.12331406345739,
            25.614508747567008,
            56.45458417098041,
            45.92237652452384,
            71.59811742409289,
            62.412095332404974,
            78.04061036490015,
            32.84699349438304,
            30.595726275671936,
            51.954170966747554
           ],
           "yaxis": "y"
          },
          {
           "customdata": [
            [
             "Patient_17"
            ],
            [
             "Patient_3"
            ]
           ],
           "hovertemplate": "Anomaly_Label=Anomaly<br>Time=49<br>X Coordinate=%{x}<br>Y Coordinate=%{y}<br>PatientID=%{customdata[0]}<extra></extra>",
           "ids": [
            "Patient_17",
            "Patient_3"
           ],
           "legendgroup": "Anomaly",
           "marker": {
            "color": "#EF553B",
            "symbol": "circle"
           },
           "mode": "markers",
           "name": "Anomaly",
           "orientation": "v",
           "showlegend": true,
           "type": "scatter",
           "x": [
            22.39333950120636,
            29.347857796921662
           ],
           "xaxis": "x",
           "y": [
            77.02505700757683,
            28.9187338945583
           ],
           "yaxis": "y"
          }
         ],
         "name": "49"
        },
        {
         "data": [
          {
           "customdata": [
            [
             "Patient_1"
            ],
            [
             "Patient_10"
            ],
            [
             "Patient_11"
            ],
            [
             "Patient_12"
            ],
            [
             "Patient_13"
            ],
            [
             "Patient_14"
            ],
            [
             "Patient_15"
            ],
            [
             "Patient_16"
            ],
            [
             "Patient_17"
            ],
            [
             "Patient_19"
            ],
            [
             "Patient_2"
            ],
            [
             "Patient_20"
            ],
            [
             "Patient_3"
            ],
            [
             "Patient_4"
            ],
            [
             "Patient_5"
            ],
            [
             "Patient_6"
            ],
            [
             "Patient_7"
            ],
            [
             "Patient_8"
            ],
            [
             "Patient_9"
            ]
           ],
           "hovertemplate": "Anomaly_Label=Normal<br>Time=50<br>X Coordinate=%{x}<br>Y Coordinate=%{y}<br>PatientID=%{customdata[0]}<extra></extra>",
           "ids": [
            "Patient_1",
            "Patient_10",
            "Patient_11",
            "Patient_12",
            "Patient_13",
            "Patient_14",
            "Patient_15",
            "Patient_16",
            "Patient_17",
            "Patient_19",
            "Patient_2",
            "Patient_20",
            "Patient_3",
            "Patient_4",
            "Patient_5",
            "Patient_6",
            "Patient_7",
            "Patient_8",
            "Patient_9"
           ],
           "legendgroup": "Normal",
           "marker": {
            "color": "#636efa",
            "symbol": "circle"
           },
           "mode": "markers",
           "name": "Normal",
           "orientation": "v",
           "showlegend": true,
           "type": "scatter",
           "x": [
            62.674427332861946,
            46.32925025086076,
            56.382115438805144,
            36.85574345037649,
            47.126088616249824,
            32.111707594002546,
            55.97032311280654,
            56.647923539050744,
            24.035776753816588,
            38.988200218452214,
            64.44974146243375,
            61.536680333025,
            29.557326410135573,
            23.47222957399597,
            55.719544139048,
            20.973025458780853,
            69.53534848183422,
            30.909601564885136,
            38.09058721931581
           ],
           "xaxis": "x",
           "y": [
            97.24487858661519,
            37.04018330402706,
            28.217768624734177,
            41.57208166776075,
            67.54775227393719,
            50.95086126050047,
            22.718338869000164,
            30.17983654477124,
            76.6417529063942,
            26.32343454150383,
            57.299339071277736,
            47.02721498527919,
            29.10518940731841,
            71.08603079405155,
            62.279713448706175,
            78.27076856573653,
            33.30086197435881,
            30.99962043063672,
            51.56298123986376
           ],
           "yaxis": "y"
          },
          {
           "customdata": [
            [
             "Patient_18"
            ]
           ],
           "hovertemplate": "Anomaly_Label=Anomaly<br>Time=50<br>X Coordinate=%{x}<br>Y Coordinate=%{y}<br>PatientID=%{customdata[0]}<extra></extra>",
           "ids": [
            "Patient_18"
           ],
           "legendgroup": "Anomaly",
           "marker": {
            "color": "#EF553B",
            "symbol": "circle"
           },
           "mode": "markers",
           "name": "Anomaly",
           "orientation": "v",
           "showlegend": true,
           "type": "scatter",
           "x": [
            76.71851340533534
           ],
           "xaxis": "x",
           "y": [
            68.4367013058945
           ],
           "yaxis": "y"
          }
         ],
         "name": "50"
        },
        {
         "data": [
          {
           "customdata": [
            [
             "Patient_1"
            ],
            [
             "Patient_10"
            ],
            [
             "Patient_11"
            ],
            [
             "Patient_12"
            ],
            [
             "Patient_13"
            ],
            [
             "Patient_14"
            ],
            [
             "Patient_15"
            ],
            [
             "Patient_16"
            ],
            [
             "Patient_17"
            ],
            [
             "Patient_18"
            ],
            [
             "Patient_19"
            ],
            [
             "Patient_2"
            ],
            [
             "Patient_20"
            ],
            [
             "Patient_3"
            ],
            [
             "Patient_4"
            ],
            [
             "Patient_5"
            ],
            [
             "Patient_6"
            ],
            [
             "Patient_7"
            ],
            [
             "Patient_8"
            ],
            [
             "Patient_9"
            ]
           ],
           "hovertemplate": "Anomaly_Label=Normal<br>Time=51<br>X Coordinate=%{x}<br>Y Coordinate=%{y}<br>PatientID=%{customdata[0]}<extra></extra>",
           "ids": [
            "Patient_1",
            "Patient_10",
            "Patient_11",
            "Patient_12",
            "Patient_13",
            "Patient_14",
            "Patient_15",
            "Patient_16",
            "Patient_17",
            "Patient_18",
            "Patient_19",
            "Patient_2",
            "Patient_20",
            "Patient_3",
            "Patient_4",
            "Patient_5",
            "Patient_6",
            "Patient_7",
            "Patient_8",
            "Patient_9"
           ],
           "legendgroup": "Normal",
           "marker": {
            "color": "#636efa",
            "symbol": "circle"
           },
           "mode": "markers",
           "name": "Normal",
           "orientation": "v",
           "showlegend": true,
           "type": "scatter",
           "x": [
            63.078467736902354,
            46.08007350082811,
            57.02227725536447,
            38.04823480582323,
            47.69943936164276,
            31.20354754649355,
            55.73307889477131,
            56.01785957344895,
            23.30838963268311,
            77.48761161714962,
            38.11251691252775,
            63.61081056096713,
            60.781924589672315,
            29.669004001431762,
            23.415293592251466,
            56.067164684020824,
            20.513142249681376,
            69.67129002327952,
            30.655427933602382,
            38.027910373060756
           ],
           "xaxis": "x",
           "y": [
            97.64891899065559,
            37.623985591687926,
            27.800215080232125,
            41.94382845435377,
            66.57462906706074,
            51.26301113382921,
            22.335998986021107,
            30.794164813444876,
            77.75446871182797,
            68.82303684979185,
            26.1619205559242,
            55.76147262380867,
            46.32775317133993,
            29.96161343875657,
            71.7454741140704,
            62.78495804222729,
            77.04650065315104,
            32.12999042773949,
            30.930380431797293,
            52.21161966516964
           ],
           "yaxis": "y"
          }
         ],
         "name": "51"
        },
        {
         "data": [
          {
           "customdata": [
            [
             "Patient_1"
            ],
            [
             "Patient_10"
            ],
            [
             "Patient_11"
            ],
            [
             "Patient_12"
            ],
            [
             "Patient_13"
            ],
            [
             "Patient_14"
            ],
            [
             "Patient_15"
            ],
            [
             "Patient_16"
            ],
            [
             "Patient_17"
            ],
            [
             "Patient_18"
            ],
            [
             "Patient_19"
            ],
            [
             "Patient_2"
            ],
            [
             "Patient_20"
            ],
            [
             "Patient_3"
            ],
            [
             "Patient_4"
            ],
            [
             "Patient_5"
            ],
            [
             "Patient_6"
            ],
            [
             "Patient_7"
            ],
            [
             "Patient_8"
            ],
            [
             "Patient_9"
            ]
           ],
           "hovertemplate": "Anomaly_Label=Normal<br>Time=52<br>X Coordinate=%{x}<br>Y Coordinate=%{y}<br>PatientID=%{customdata[0]}<extra></extra>",
           "ids": [
            "Patient_1",
            "Patient_10",
            "Patient_11",
            "Patient_12",
            "Patient_13",
            "Patient_14",
            "Patient_15",
            "Patient_16",
            "Patient_17",
            "Patient_18",
            "Patient_19",
            "Patient_2",
            "Patient_20",
            "Patient_3",
            "Patient_4",
            "Patient_5",
            "Patient_6",
            "Patient_7",
            "Patient_8",
            "Patient_9"
           ],
           "legendgroup": "Normal",
           "marker": {
            "color": "#636efa",
            "symbol": "circle"
           },
           "mode": "markers",
           "name": "Normal",
           "orientation": "v",
           "showlegend": true,
           "type": "scatter",
           "x": [
            63.482508140942755,
            46.13593898793181,
            57.04760430132618,
            37.35165855664258,
            47.415127200653146,
            31.360873391674634,
            55.62725455234081,
            56.539361946271505,
            23.79149445179937,
            77.1374699952353,
            38.22519877032772,
            64.29004868139437,
            60.96605438851338,
            29.24681846887618,
            22.203849900694312,
            57.27320841539898,
            21.22543946788095,
            69.95779139443134,
            30.319091624771612,
            38.61222523529289
           ],
           "xaxis": "x",
           "y": [
            98.05295939469599,
            37.483556740729504,
            28.6655387059932,
            41.69490971117305,
            67.88506775932842,
            50.120303671940476,
            22.812468614127873,
            30.353424020191742,
            77.67806395450103,
            68.08959237459754,
            25.038732434805947,
            55.6629022685864,
            47.23988470724009,
            28.862496532867905,
            71.87505486519603,
            62.87665681171174,
            78.06314571511554,
            33.013906198284175,
            31.561431438540467,
            51.84447876078824
           ],
           "yaxis": "y"
          }
         ],
         "name": "52"
        },
        {
         "data": [
          {
           "customdata": [
            [
             "Patient_1"
            ],
            [
             "Patient_10"
            ],
            [
             "Patient_11"
            ],
            [
             "Patient_12"
            ],
            [
             "Patient_13"
            ],
            [
             "Patient_14"
            ],
            [
             "Patient_15"
            ],
            [
             "Patient_16"
            ],
            [
             "Patient_17"
            ],
            [
             "Patient_18"
            ],
            [
             "Patient_19"
            ],
            [
             "Patient_2"
            ],
            [
             "Patient_20"
            ],
            [
             "Patient_3"
            ],
            [
             "Patient_5"
            ],
            [
             "Patient_6"
            ],
            [
             "Patient_7"
            ],
            [
             "Patient_8"
            ],
            [
             "Patient_9"
            ]
           ],
           "hovertemplate": "Anomaly_Label=Normal<br>Time=53<br>X Coordinate=%{x}<br>Y Coordinate=%{y}<br>PatientID=%{customdata[0]}<extra></extra>",
           "ids": [
            "Patient_1",
            "Patient_10",
            "Patient_11",
            "Patient_12",
            "Patient_13",
            "Patient_14",
            "Patient_15",
            "Patient_16",
            "Patient_17",
            "Patient_18",
            "Patient_19",
            "Patient_2",
            "Patient_20",
            "Patient_3",
            "Patient_5",
            "Patient_6",
            "Patient_7",
            "Patient_8",
            "Patient_9"
           ],
           "legendgroup": "Normal",
           "marker": {
            "color": "#636efa",
            "symbol": "circle"
           },
           "mode": "markers",
           "name": "Normal",
           "orientation": "v",
           "showlegend": true,
           "type": "scatter",
           "x": [
            63.88654854498316,
            46.410368376821495,
            56.551249921715346,
            37.11110746129808,
            46.56036853946313,
            32.9922300391164,
            55.449854614221806,
            56.3624952732051,
            22.79716462345202,
            77.22594340824848,
            38.062203940252914,
            63.28955412609802,
            60.25491941478754,
            29.173520236384224,
            55.51117172612401,
            21.48418053199654,
            70.7368287913095,
            30.504069276820868,
            38.137524648018776
           ],
           "xaxis": "x",
           "y": [
            98.45699979873639,
            37.43577290006125,
            28.44551063524688,
            43.02647995846889,
            67.20292797302868,
            50.857466227096694,
            22.60830205179465,
            30.917871658575756,
            77.69984908584816,
            68.37051472237046,
            26.15460347526839,
            55.611328347802456,
            46.64023595741705,
            29.200813671794045,
            62.60760705697873,
            78.7646656489803,
            32.23279954478264,
            30.375481661748722,
            51.71856508515744
           ],
           "yaxis": "y"
          },
          {
           "customdata": [
            [
             "Patient_4"
            ]
           ],
           "hovertemplate": "Anomaly_Label=Anomaly<br>Time=53<br>X Coordinate=%{x}<br>Y Coordinate=%{y}<br>PatientID=%{customdata[0]}<extra></extra>",
           "ids": [
            "Patient_4"
           ],
           "legendgroup": "Anomaly",
           "marker": {
            "color": "#EF553B",
            "symbol": "circle"
           },
           "mode": "markers",
           "name": "Anomaly",
           "orientation": "v",
           "showlegend": true,
           "type": "scatter",
           "x": [
            24.12583862759385
           ],
           "xaxis": "x",
           "y": [
            72.24941427685867
           ],
           "yaxis": "y"
          }
         ],
         "name": "53"
        },
        {
         "data": [
          {
           "customdata": [
            [
             "Patient_1"
            ],
            [
             "Patient_10"
            ],
            [
             "Patient_11"
            ],
            [
             "Patient_12"
            ],
            [
             "Patient_13"
            ],
            [
             "Patient_14"
            ],
            [
             "Patient_15"
            ],
            [
             "Patient_16"
            ],
            [
             "Patient_17"
            ],
            [
             "Patient_18"
            ],
            [
             "Patient_19"
            ],
            [
             "Patient_2"
            ],
            [
             "Patient_20"
            ],
            [
             "Patient_3"
            ],
            [
             "Patient_4"
            ],
            [
             "Patient_5"
            ],
            [
             "Patient_6"
            ],
            [
             "Patient_7"
            ],
            [
             "Patient_8"
            ],
            [
             "Patient_9"
            ]
           ],
           "hovertemplate": "Anomaly_Label=Normal<br>Time=54<br>X Coordinate=%{x}<br>Y Coordinate=%{y}<br>PatientID=%{customdata[0]}<extra></extra>",
           "ids": [
            "Patient_1",
            "Patient_10",
            "Patient_11",
            "Patient_12",
            "Patient_13",
            "Patient_14",
            "Patient_15",
            "Patient_16",
            "Patient_17",
            "Patient_18",
            "Patient_19",
            "Patient_2",
            "Patient_20",
            "Patient_3",
            "Patient_4",
            "Patient_5",
            "Patient_6",
            "Patient_7",
            "Patient_8",
            "Patient_9"
           ],
           "legendgroup": "Normal",
           "marker": {
            "color": "#636efa",
            "symbol": "circle"
           },
           "mode": "markers",
           "name": "Normal",
           "orientation": "v",
           "showlegend": true,
           "type": "scatter",
           "x": [
            64.29058894902356,
            45.29149725154208,
            57.15234021450448,
            37.293657838233344,
            47.145839185001854,
            33.03028782408484,
            55.36570405571194,
            56.824787099836264,
            23.57840905995606,
            78.64772348673038,
            37.34355617472193,
            64.0144895924895,
            60.711666677849415,
            29.57406202964271,
            23.164273275569812,
            56.9690747594859,
            21.59494862882224,
            69.46834025961631,
            31.65155604669402,
            38.09800556231069
           ],
           "xaxis": "x",
           "y": [
            98.86104020277679,
            37.776006075060195,
            28.14358647270597,
            42.11464971244752,
            67.07749137626791,
            50.7305534544437,
            22.463253860382284,
            30.140835334628438,
            77.5937842513365,
            68.2036291041183,
            26.36408368530149,
            55.588517962923895,
            46.80446242395746,
            29.369245108880037,
            72.21450488893166,
            62.38890277189908,
            77.54795465078409,
            32.97654977963676,
            31.18207726559886,
            51.48503160064595
           ],
           "yaxis": "y"
          }
         ],
         "name": "54"
        },
        {
         "data": [
          {
           "customdata": [
            [
             "Patient_1"
            ],
            [
             "Patient_10"
            ],
            [
             "Patient_11"
            ],
            [
             "Patient_12"
            ],
            [
             "Patient_13"
            ],
            [
             "Patient_15"
            ],
            [
             "Patient_16"
            ],
            [
             "Patient_17"
            ],
            [
             "Patient_19"
            ],
            [
             "Patient_2"
            ],
            [
             "Patient_20"
            ],
            [
             "Patient_3"
            ],
            [
             "Patient_4"
            ],
            [
             "Patient_5"
            ],
            [
             "Patient_6"
            ],
            [
             "Patient_7"
            ],
            [
             "Patient_8"
            ],
            [
             "Patient_9"
            ]
           ],
           "hovertemplate": "Anomaly_Label=Normal<br>Time=55<br>X Coordinate=%{x}<br>Y Coordinate=%{y}<br>PatientID=%{customdata[0]}<extra></extra>",
           "ids": [
            "Patient_1",
            "Patient_10",
            "Patient_11",
            "Patient_12",
            "Patient_13",
            "Patient_15",
            "Patient_16",
            "Patient_17",
            "Patient_19",
            "Patient_2",
            "Patient_20",
            "Patient_3",
            "Patient_4",
            "Patient_5",
            "Patient_6",
            "Patient_7",
            "Patient_8",
            "Patient_9"
           ],
           "legendgroup": "Normal",
           "marker": {
            "color": "#636efa",
            "symbol": "circle"
           },
           "mode": "markers",
           "name": "Normal",
           "orientation": "v",
           "showlegend": true,
           "type": "scatter",
           "x": [
            64.69462935306396,
            45.852926558338176,
            55.98558583831699,
            36.902482189906536,
            47.807642748070805,
            55.76324340758931,
            57.070582209997376,
            24.243203631841997,
            38.024736234898405,
            63.314050544043916,
            61.22781983249858,
            29.36825496046441,
            23.28149857362858,
            56.11984793115015,
            22.223289950005892,
            70.75516473550962,
            30.46010600826447,
            38.15997438218375
           ],
           "xaxis": "x",
           "y": [
            99.26508060681721,
            38.22932587700618,
            28.363587165199483,
            42.163526538933986,
            66.90017678674029,
            22.98917214068071,
            29.695920581412967,
            77.52938599143899,
            25.81956550383221,
            56.284891111355456,
            46.1655353423193,
            28.882701510473836,
            72.31372797497447,
            62.77656115799897,
            77.41247032386414,
            32.79252460945818,
            30.339113778336536,
            51.946210953896504
           ],
           "yaxis": "y"
          },
          {
           "customdata": [
            [
             "Patient_14"
            ],
            [
             "Patient_18"
            ]
           ],
           "hovertemplate": "Anomaly_Label=Anomaly<br>Time=55<br>X Coordinate=%{x}<br>Y Coordinate=%{y}<br>PatientID=%{customdata[0]}<extra></extra>",
           "ids": [
            "Patient_14",
            "Patient_18"
           ],
           "legendgroup": "Anomaly",
           "marker": {
            "color": "#EF553B",
            "symbol": "circle"
           },
           "mode": "markers",
           "name": "Anomaly",
           "orientation": "v",
           "showlegend": true,
           "type": "scatter",
           "x": [
            30.678320001188016,
            77.0486281924703
           ],
           "xaxis": "x",
           "y": [
            50.953540378214946,
            68.66366679994715
           ],
           "yaxis": "y"
          }
         ],
         "name": "55"
        },
        {
         "data": [
          {
           "customdata": [
            [
             "Patient_10"
            ],
            [
             "Patient_11"
            ],
            [
             "Patient_12"
            ],
            [
             "Patient_13"
            ],
            [
             "Patient_14"
            ],
            [
             "Patient_15"
            ],
            [
             "Patient_16"
            ],
            [
             "Patient_17"
            ],
            [
             "Patient_18"
            ],
            [
             "Patient_19"
            ],
            [
             "Patient_2"
            ],
            [
             "Patient_20"
            ],
            [
             "Patient_3"
            ],
            [
             "Patient_4"
            ],
            [
             "Patient_5"
            ],
            [
             "Patient_6"
            ],
            [
             "Patient_7"
            ],
            [
             "Patient_8"
            ],
            [
             "Patient_9"
            ]
           ],
           "hovertemplate": "Anomaly_Label=Normal<br>Time=56<br>X Coordinate=%{x}<br>Y Coordinate=%{y}<br>PatientID=%{customdata[0]}<extra></extra>",
           "ids": [
            "Patient_10",
            "Patient_11",
            "Patient_12",
            "Patient_13",
            "Patient_14",
            "Patient_15",
            "Patient_16",
            "Patient_17",
            "Patient_18",
            "Patient_19",
            "Patient_2",
            "Patient_20",
            "Patient_3",
            "Patient_4",
            "Patient_5",
            "Patient_6",
            "Patient_7",
            "Patient_8",
            "Patient_9"
           ],
           "legendgroup": "Normal",
           "marker": {
            "color": "#636efa",
            "symbol": "circle"
           },
           "mode": "markers",
           "name": "Normal",
           "orientation": "v",
           "showlegend": true,
           "type": "scatter",
           "x": [
            46.786150950425736,
            56.753832754625286,
            37.11345670883481,
            47.5733981634665,
            32.30565197576965,
            56.07084794058401,
            56.260705478110125,
            24.900929324008754,
            78.24128351404165,
            38.54407897464252,
            63.3760135392529,
            60.89364777795082,
            29.700805068024444,
            23.818172980546574,
            55.203997340197226,
            21.832124359271834,
            69.71435631687062,
            31.301193287067335,
            37.95577948022645
           ],
           "xaxis": "x",
           "y": [
            37.96317743727341,
            27.965498778302045,
            42.24296765025438,
            67.81135698005404,
            50.102526153936786,
            22.287994449542655,
            30.35654752436334,
            78.48809151320268,
            68.41224257762747,
            26.30415455331995,
            55.3765964873796,
            47.30675530233224,
            28.78527420259283,
            72.20186439292308,
            62.1455723415949,
            77.70400836414983,
            32.97137708732252,
            30.878501148183783,
            52.19657082878353
           ],
           "yaxis": "y"
          },
          {
           "customdata": [
            [
             "Patient_1"
            ]
           ],
           "hovertemplate": "Anomaly_Label=Anomaly<br>Time=56<br>X Coordinate=%{x}<br>Y Coordinate=%{y}<br>PatientID=%{customdata[0]}<extra></extra>",
           "ids": [
            "Patient_1"
           ],
           "legendgroup": "Anomaly",
           "marker": {
            "color": "#EF553B",
            "symbol": "circle"
           },
           "mode": "markers",
           "name": "Anomaly",
           "orientation": "v",
           "showlegend": true,
           "type": "scatter",
           "x": [
            65.09866975710437
           ],
           "xaxis": "x",
           "y": [
            99.66912101085761
           ],
           "yaxis": "y"
          }
         ],
         "name": "56"
        },
        {
         "data": [
          {
           "customdata": [
            [
             "Patient_10"
            ],
            [
             "Patient_11"
            ],
            [
             "Patient_12"
            ],
            [
             "Patient_13"
            ],
            [
             "Patient_14"
            ],
            [
             "Patient_15"
            ],
            [
             "Patient_16"
            ],
            [
             "Patient_18"
            ],
            [
             "Patient_19"
            ],
            [
             "Patient_2"
            ],
            [
             "Patient_20"
            ],
            [
             "Patient_3"
            ],
            [
             "Patient_4"
            ],
            [
             "Patient_5"
            ],
            [
             "Patient_6"
            ],
            [
             "Patient_7"
            ],
            [
             "Patient_8"
            ],
            [
             "Patient_9"
            ]
           ],
           "hovertemplate": "Anomaly_Label=Normal<br>Time=57<br>X Coordinate=%{x}<br>Y Coordinate=%{y}<br>PatientID=%{customdata[0]}<extra></extra>",
           "ids": [
            "Patient_10",
            "Patient_11",
            "Patient_12",
            "Patient_13",
            "Patient_14",
            "Patient_15",
            "Patient_16",
            "Patient_18",
            "Patient_19",
            "Patient_2",
            "Patient_20",
            "Patient_3",
            "Patient_4",
            "Patient_5",
            "Patient_6",
            "Patient_7",
            "Patient_8",
            "Patient_9"
           ],
           "legendgroup": "Normal",
           "marker": {
            "color": "#636efa",
            "symbol": "circle"
           },
           "mode": "markers",
           "name": "Normal",
           "orientation": "v",
           "showlegend": true,
           "type": "scatter",
           "x": [
            45.76971764469485,
            55.95223681000237,
            37.97387049387299,
            47.61453191371276,
            31.98395850881567,
            55.89428834182382,
            56.6987005380827,
            77.69850325646937,
            38.62356560635924,
            64.25259863471153,
            61.583949782752725,
            29.780588676780997,
            23.20586585311895,
            56.28665131990264,
            21.46395609082409,
            69.9437604386108,
            30.36364759435638,
            38.60230345635515
           ],
           "xaxis": "x",
           "y": [
            37.43794878595348,
            28.191117038719206,
            42.26931310567478,
            67.1354445271713,
            50.52390573507997,
            22.99751123539456,
            29.9684299999037,
            68.0724530049661,
            25.664320520423466,
            56.13030235712942,
            46.717652599164424,
            29.051044626898697,
            71.42049163001026,
            62.87382291951879,
            79.03183734639343,
            33.07471746849283,
            30.81072073996883,
            51.909936953305845
           ],
           "yaxis": "y"
          },
          {
           "customdata": [
            [
             "Patient_1"
            ],
            [
             "Patient_17"
            ]
           ],
           "hovertemplate": "Anomaly_Label=Anomaly<br>Time=57<br>X Coordinate=%{x}<br>Y Coordinate=%{y}<br>PatientID=%{customdata[0]}<extra></extra>",
           "ids": [
            "Patient_1",
            "Patient_17"
           ],
           "legendgroup": "Anomaly",
           "marker": {
            "color": "#EF553B",
            "symbol": "circle"
           },
           "mode": "markers",
           "name": "Anomaly",
           "orientation": "v",
           "showlegend": true,
           "type": "scatter",
           "x": [
            65.50271016114478,
            22.82642411918115
           ],
           "xaxis": "x",
           "y": [
            100.07316141489801,
            77.48170859107684
           ],
           "yaxis": "y"
          }
         ],
         "name": "57"
        },
        {
         "data": [
          {
           "customdata": [
            [
             "Patient_10"
            ],
            [
             "Patient_11"
            ],
            [
             "Patient_12"
            ],
            [
             "Patient_13"
            ],
            [
             "Patient_14"
            ],
            [
             "Patient_15"
            ],
            [
             "Patient_16"
            ],
            [
             "Patient_17"
            ],
            [
             "Patient_19"
            ],
            [
             "Patient_2"
            ],
            [
             "Patient_20"
            ],
            [
             "Patient_3"
            ],
            [
             "Patient_4"
            ],
            [
             "Patient_5"
            ],
            [
             "Patient_6"
            ],
            [
             "Patient_7"
            ],
            [
             "Patient_8"
            ],
            [
             "Patient_9"
            ]
           ],
           "hovertemplate": "Anomaly_Label=Normal<br>Time=58<br>X Coordinate=%{x}<br>Y Coordinate=%{y}<br>PatientID=%{customdata[0]}<extra></extra>",
           "ids": [
            "Patient_10",
            "Patient_11",
            "Patient_12",
            "Patient_13",
            "Patient_14",
            "Patient_15",
            "Patient_16",
            "Patient_17",
            "Patient_19",
            "Patient_2",
            "Patient_20",
            "Patient_3",
            "Patient_4",
            "Patient_5",
            "Patient_6",
            "Patient_7",
            "Patient_8",
            "Patient_9"
           ],
           "legendgroup": "Normal",
           "marker": {
            "color": "#636efa",
            "symbol": "circle"
           },
           "mode": "markers",
           "name": "Normal",
           "orientation": "v",
           "showlegend": true,
           "type": "scatter",
           "x": [
            45.83875202955861,
            56.79118279626916,
            38.087378320064325,
            47.18431473012761,
            31.773694348939944,
            55.06299466861724,
            56.62458505486124,
            23.919494076822566,
            38.721925355964636,
            64.5256085013775,
            60.130887659610366,
            29.17647985692309,
            22.596899113642806,
            55.552214950501494,
            20.473890064639203,
            69.63192675117892,
            30.64159730089989,
            37.696272357597934
           ],
           "xaxis": "x",
           "y": [
            37.19960476363721,
            28.62052300720628,
            42.705960212567966,
            66.4475338405398,
            50.98420655810814,
            22.30844930575234,
            30.207121245452264,
            76.55388456784996,
            26.377951507744907,
            56.050134317439124,
            45.94439419427987,
            29.431365453843284,
            72.17489515223645,
            61.808019524840965,
            78.75093531721463,
            33.507210495654824,
            30.150591612409556,
            52.10329170793774
           ],
           "yaxis": "y"
          },
          {
           "customdata": [
            [
             "Patient_1"
            ],
            [
             "Patient_18"
            ]
           ],
           "hovertemplate": "Anomaly_Label=Anomaly<br>Time=58<br>X Coordinate=%{x}<br>Y Coordinate=%{y}<br>PatientID=%{customdata[0]}<extra></extra>",
           "ids": [
            "Patient_1",
            "Patient_18"
           ],
           "legendgroup": "Anomaly",
           "marker": {
            "color": "#EF553B",
            "symbol": "circle"
           },
           "mode": "markers",
           "name": "Anomaly",
           "orientation": "v",
           "showlegend": true,
           "type": "scatter",
           "x": [
            65.90675056518518,
            77.82272162737068
           ],
           "xaxis": "x",
           "y": [
            100.47720181893841,
            68.04172431485351
           ],
           "yaxis": "y"
          }
         ],
         "name": "58"
        },
        {
         "data": [
          {
           "customdata": [
            [
             "Patient_10"
            ],
            [
             "Patient_11"
            ],
            [
             "Patient_12"
            ],
            [
             "Patient_13"
            ],
            [
             "Patient_14"
            ],
            [
             "Patient_15"
            ],
            [
             "Patient_16"
            ],
            [
             "Patient_17"
            ],
            [
             "Patient_18"
            ],
            [
             "Patient_19"
            ],
            [
             "Patient_2"
            ],
            [
             "Patient_20"
            ],
            [
             "Patient_3"
            ],
            [
             "Patient_4"
            ],
            [
             "Patient_5"
            ],
            [
             "Patient_6"
            ],
            [
             "Patient_7"
            ],
            [
             "Patient_8"
            ],
            [
             "Patient_9"
            ]
           ],
           "hovertemplate": "Anomaly_Label=Normal<br>Time=59<br>X Coordinate=%{x}<br>Y Coordinate=%{y}<br>PatientID=%{customdata[0]}<extra></extra>",
           "ids": [
            "Patient_10",
            "Patient_11",
            "Patient_12",
            "Patient_13",
            "Patient_14",
            "Patient_15",
            "Patient_16",
            "Patient_17",
            "Patient_18",
            "Patient_19",
            "Patient_2",
            "Patient_20",
            "Patient_3",
            "Patient_4",
            "Patient_5",
            "Patient_6",
            "Patient_7",
            "Patient_8",
            "Patient_9"
           ],
           "legendgroup": "Normal",
           "marker": {
            "color": "#636efa",
            "symbol": "circle"
           },
           "mode": "markers",
           "name": "Normal",
           "orientation": "v",
           "showlegend": true,
           "type": "scatter",
           "x": [
            46.32608994040437,
            56.14990128022056,
            38.03750964553485,
            47.639937190641916,
            32.17577488996565,
            56.06853298503327,
            56.337995742052286,
            23.137541827838913,
            78.22395070533064,
            38.83900283033749,
            63.87791752378912,
            61.336284553676215,
            28.900188519983534,
            23.58865039479144,
            55.7060319279239,
            20.961729615454516,
            70.78328449317458,
            30.259707413962236,
            38.66023285481806
           ],
           "xaxis": "x",
           "y": [
            38.24271437108879,
            27.910880228615376,
            42.11745825303432,
            67.28085229178107,
            50.19083024066116,
            23.37181975941375,
            30.209708946330558,
            77.19025961320891,
            68.472745378488,
            25.69328822489306,
            55.194686441972934,
            45.89931745503002,
            28.85769253413141,
            72.00524091501424,
            62.57276510383243,
            78.05876357455664,
            33.41057716659174,
            31.419136800145615,
            50.91125425355796
           ],
           "yaxis": "y"
          },
          {
           "customdata": [
            [
             "Patient_1"
            ]
           ],
           "hovertemplate": "Anomaly_Label=Anomaly<br>Time=59<br>X Coordinate=%{x}<br>Y Coordinate=%{y}<br>PatientID=%{customdata[0]}<extra></extra>",
           "ids": [
            "Patient_1"
           ],
           "legendgroup": "Anomaly",
           "marker": {
            "color": "#EF553B",
            "symbol": "circle"
           },
           "mode": "markers",
           "name": "Anomaly",
           "orientation": "v",
           "showlegend": true,
           "type": "scatter",
           "x": [
            66.31079096922558
           ],
           "xaxis": "x",
           "y": [
            100.88124222297881
           ],
           "yaxis": "y"
          }
         ],
         "name": "59"
        },
        {
         "data": [
          {
           "customdata": [
            [
             "Patient_10"
            ],
            [
             "Patient_11"
            ],
            [
             "Patient_12"
            ],
            [
             "Patient_13"
            ],
            [
             "Patient_14"
            ],
            [
             "Patient_15"
            ],
            [
             "Patient_16"
            ],
            [
             "Patient_17"
            ],
            [
             "Patient_18"
            ],
            [
             "Patient_19"
            ],
            [
             "Patient_2"
            ],
            [
             "Patient_20"
            ],
            [
             "Patient_3"
            ],
            [
             "Patient_4"
            ],
            [
             "Patient_5"
            ],
            [
             "Patient_6"
            ],
            [
             "Patient_7"
            ],
            [
             "Patient_8"
            ],
            [
             "Patient_9"
            ]
           ],
           "hovertemplate": "Anomaly_Label=Normal<br>Time=60<br>X Coordinate=%{x}<br>Y Coordinate=%{y}<br>PatientID=%{customdata[0]}<extra></extra>",
           "ids": [
            "Patient_10",
            "Patient_11",
            "Patient_12",
            "Patient_13",
            "Patient_14",
            "Patient_15",
            "Patient_16",
            "Patient_17",
            "Patient_18",
            "Patient_19",
            "Patient_2",
            "Patient_20",
            "Patient_3",
            "Patient_4",
            "Patient_5",
            "Patient_6",
            "Patient_7",
            "Patient_8",
            "Patient_9"
           ],
           "legendgroup": "Normal",
           "marker": {
            "color": "#636efa",
            "symbol": "circle"
           },
           "mode": "markers",
           "name": "Normal",
           "orientation": "v",
           "showlegend": true,
           "type": "scatter",
           "x": [
            45.45860516078632,
            56.677584538318094,
            37.869704944969406,
            47.074172432337136,
            32.23026948465305,
            55.582851765680594,
            56.69381559042663,
            24.33767361131141,
            77.55627893238427,
            38.61849064680778,
            64.03229046970478,
            61.59047061461242,
            29.295382128710358,
            23.26663461147286,
            56.94169265669524,
            20.58893831019534,
            69.69507106274965,
            31.056610096932783,
            37.862651744779065
           ],
           "xaxis": "x",
           "y": [
            37.05783730776729,
            28.011751644567134,
            42.72533367528946,
            67.23025993384852,
            51.090067440276336,
            23.158365972379723,
            29.612616210073842,
            77.37677765383336,
            68.52280980471146,
            25.75566993059335,
            55.73474558740552,
            47.591085871685756,
            29.772694805892915,
            71.16728019612677,
            63.17508170710797,
            78.53944503234227,
            32.8720902483621,
            30.88706669104787,
            51.14011537177614
           ],
           "yaxis": "y"
          },
          {
           "customdata": [
            [
             "Patient_1"
            ]
           ],
           "hovertemplate": "Anomaly_Label=Anomaly<br>Time=60<br>X Coordinate=%{x}<br>Y Coordinate=%{y}<br>PatientID=%{customdata[0]}<extra></extra>",
           "ids": [
            "Patient_1"
           ],
           "legendgroup": "Anomaly",
           "marker": {
            "color": "#EF553B",
            "symbol": "circle"
           },
           "mode": "markers",
           "name": "Anomaly",
           "orientation": "v",
           "showlegend": true,
           "type": "scatter",
           "x": [
            66.71483137326598
           ],
           "xaxis": "x",
           "y": [
            101.28528262701923
           ],
           "yaxis": "y"
          }
         ],
         "name": "60"
        },
        {
         "data": [
          {
           "customdata": [
            [
             "Patient_10"
            ],
            [
             "Patient_11"
            ],
            [
             "Patient_12"
            ],
            [
             "Patient_13"
            ],
            [
             "Patient_14"
            ],
            [
             "Patient_15"
            ],
            [
             "Patient_16"
            ],
            [
             "Patient_17"
            ],
            [
             "Patient_19"
            ],
            [
             "Patient_2"
            ],
            [
             "Patient_20"
            ],
            [
             "Patient_3"
            ],
            [
             "Patient_4"
            ],
            [
             "Patient_5"
            ],
            [
             "Patient_6"
            ],
            [
             "Patient_7"
            ],
            [
             "Patient_8"
            ],
            [
             "Patient_9"
            ]
           ],
           "hovertemplate": "Anomaly_Label=Normal<br>Time=61<br>X Coordinate=%{x}<br>Y Coordinate=%{y}<br>PatientID=%{customdata[0]}<extra></extra>",
           "ids": [
            "Patient_10",
            "Patient_11",
            "Patient_12",
            "Patient_13",
            "Patient_14",
            "Patient_15",
            "Patient_16",
            "Patient_17",
            "Patient_19",
            "Patient_2",
            "Patient_20",
            "Patient_3",
            "Patient_4",
            "Patient_5",
            "Patient_6",
            "Patient_7",
            "Patient_8",
            "Patient_9"
           ],
           "legendgroup": "Normal",
           "marker": {
            "color": "#636efa",
            "symbol": "circle"
           },
           "mode": "markers",
           "name": "Normal",
           "orientation": "v",
           "showlegend": true,
           "type": "scatter",
           "x": [
            45.909782245479825,
            56.46461227214289,
            36.900425464973466,
            47.22471758785625,
            32.37561287752744,
            55.830180630332315,
            56.287036922494636,
            23.360520315837874,
            37.60128896729823,
            64.07154580648674,
            61.29491462158866,
            29.245685239623807,
            22.815713830230344,
            55.76397029421308,
            22.231327334332207,
            69.67177988007103,
            30.71593270753128,
            38.26722878784347
           ],
           "xaxis": "x",
           "y": [
            37.12888452485043,
            29.091447640856916,
            42.38831319099549,
            66.9706775993329,
            51.024091952101145,
            23.271117093466295,
            29.925329053983614,
            76.52042697021051,
            25.199097862011246,
            56.28029030438527,
            46.68278202306506,
            30.086301551832676,
            72.31702805801191,
            63.34404362086638,
            77.81126283582799,
            33.17014058418647,
            30.98156498223991,
            50.52554931983544
           ],
           "yaxis": "y"
          },
          {
           "customdata": [
            [
             "Patient_1"
            ],
            [
             "Patient_18"
            ]
           ],
           "hovertemplate": "Anomaly_Label=Anomaly<br>Time=61<br>X Coordinate=%{x}<br>Y Coordinate=%{y}<br>PatientID=%{customdata[0]}<extra></extra>",
           "ids": [
            "Patient_1",
            "Patient_18"
           ],
           "legendgroup": "Anomaly",
           "marker": {
            "color": "#EF553B",
            "symbol": "circle"
           },
           "mode": "markers",
           "name": "Anomaly",
           "orientation": "v",
           "showlegend": true,
           "type": "scatter",
           "x": [
            67.1188717773064,
            79.41246919712792
           ],
           "xaxis": "x",
           "y": [
            101.68932303105963,
            69.12618067735606
           ],
           "yaxis": "y"
          }
         ],
         "name": "61"
        },
        {
         "data": [
          {
           "customdata": [
            [
             "Patient_10"
            ],
            [
             "Patient_11"
            ],
            [
             "Patient_12"
            ],
            [
             "Patient_13"
            ],
            [
             "Patient_14"
            ],
            [
             "Patient_15"
            ],
            [
             "Patient_16"
            ],
            [
             "Patient_17"
            ],
            [
             "Patient_2"
            ],
            [
             "Patient_20"
            ],
            [
             "Patient_3"
            ],
            [
             "Patient_4"
            ],
            [
             "Patient_5"
            ],
            [
             "Patient_6"
            ],
            [
             "Patient_7"
            ],
            [
             "Patient_8"
            ],
            [
             "Patient_9"
            ]
           ],
           "hovertemplate": "Anomaly_Label=Normal<br>Time=62<br>X Coordinate=%{x}<br>Y Coordinate=%{y}<br>PatientID=%{customdata[0]}<extra></extra>",
           "ids": [
            "Patient_10",
            "Patient_11",
            "Patient_12",
            "Patient_13",
            "Patient_14",
            "Patient_15",
            "Patient_16",
            "Patient_17",
            "Patient_2",
            "Patient_20",
            "Patient_3",
            "Patient_4",
            "Patient_5",
            "Patient_6",
            "Patient_7",
            "Patient_8",
            "Patient_9"
           ],
           "legendgroup": "Normal",
           "marker": {
            "color": "#636efa",
            "symbol": "circle"
           },
           "mode": "markers",
           "name": "Normal",
           "orientation": "v",
           "showlegend": true,
           "type": "scatter",
           "x": [
            46.15351715693267,
            56.9889300065139,
            37.31999550531055,
            47.85210741269451,
            31.35756824127839,
            55.19008420434796,
            56.34418258887411,
            25.116453822289532,
            63.85690937868286,
            60.260989934610436,
            29.404064929692858,
            23.37011691480437,
            56.154506414046786,
            21.4188104904853,
            70.40745919901394,
            31.119545277651955,
            39.282806359987035
           ],
           "xaxis": "x",
           "y": [
            37.01055784689174,
            27.910288383379463,
            41.83416564050255,
            67.56978490555203,
            50.881533360316624,
            22.157772307862196,
            30.07720602700958,
            77.14961214788033,
            56.083448813901875,
            45.46918743180655,
            28.250021033798394,
            71.54486552936595,
            63.97698416906444,
            78.03782628663348,
            32.98169058430118,
            31.307695887813864,
            50.919941680271315
           ],
           "yaxis": "y"
          },
          {
           "customdata": [
            [
             "Patient_1"
            ],
            [
             "Patient_18"
            ],
            [
             "Patient_19"
            ]
           ],
           "hovertemplate": "Anomaly_Label=Anomaly<br>Time=62<br>X Coordinate=%{x}<br>Y Coordinate=%{y}<br>PatientID=%{customdata[0]}<extra></extra>",
           "ids": [
            "Patient_1",
            "Patient_18",
            "Patient_19"
           ],
           "legendgroup": "Anomaly",
           "marker": {
            "color": "#EF553B",
            "symbol": "circle"
           },
           "mode": "markers",
           "name": "Anomaly",
           "orientation": "v",
           "showlegend": true,
           "type": "scatter",
           "x": [
            67.5229121813468,
            77.24911323409644,
            38.787517798116944
           ],
           "xaxis": "x",
           "y": [
            102.09336343510003,
            68.22145388490219,
            26.904548226817994
           ],
           "yaxis": "y"
          }
         ],
         "name": "62"
        },
        {
         "data": [
          {
           "customdata": [
            [
             "Patient_10"
            ],
            [
             "Patient_11"
            ],
            [
             "Patient_12"
            ],
            [
             "Patient_13"
            ],
            [
             "Patient_14"
            ],
            [
             "Patient_15"
            ],
            [
             "Patient_16"
            ],
            [
             "Patient_17"
            ],
            [
             "Patient_19"
            ],
            [
             "Patient_2"
            ],
            [
             "Patient_20"
            ],
            [
             "Patient_3"
            ],
            [
             "Patient_4"
            ],
            [
             "Patient_5"
            ],
            [
             "Patient_6"
            ],
            [
             "Patient_7"
            ],
            [
             "Patient_8"
            ],
            [
             "Patient_9"
            ]
           ],
           "hovertemplate": "Anomaly_Label=Normal<br>Time=63<br>X Coordinate=%{x}<br>Y Coordinate=%{y}<br>PatientID=%{customdata[0]}<extra></extra>",
           "ids": [
            "Patient_10",
            "Patient_11",
            "Patient_12",
            "Patient_13",
            "Patient_14",
            "Patient_15",
            "Patient_16",
            "Patient_17",
            "Patient_19",
            "Patient_2",
            "Patient_20",
            "Patient_3",
            "Patient_4",
            "Patient_5",
            "Patient_6",
            "Patient_7",
            "Patient_8",
            "Patient_9"
           ],
           "legendgroup": "Normal",
           "marker": {
            "color": "#636efa",
            "symbol": "circle"
           },
           "mode": "markers",
           "name": "Normal",
           "orientation": "v",
           "showlegend": true,
           "type": "scatter",
           "x": [
            45.93582011600696,
            56.56133535933938,
            38.839075457628084,
            48.096287672398375,
            32.12074513174665,
            55.73092686802598,
            56.42613078757753,
            24.451330196022216,
            37.87680686820342,
            63.48549014274612,
            61.672700658071484,
            28.043244557037752,
            23.64892731651351,
            55.559952728446255,
            20.772357344718355,
            69.4988852868438,
            30.411590335030922,
            38.6837601359006
           ],
           "xaxis": "x",
           "y": [
            36.74945270456574,
            28.344529330601638,
            41.42572708473442,
            67.60898707031373,
            51.733376546914265,
            22.981604361033828,
            30.843231862446803,
            76.62029359145188,
            25.828564553075353,
            56.186823594883414,
            46.18049879683268,
            29.36135897347074,
            72.43270381626503,
            62.52719824846441,
            78.32228300755683,
            32.53629622111646,
            31.32983871211786,
            51.368075612955565
           ],
           "yaxis": "y"
          },
          {
           "customdata": [
            [
             "Patient_1"
            ],
            [
             "Patient_18"
            ]
           ],
           "hovertemplate": "Anomaly_Label=Anomaly<br>Time=63<br>X Coordinate=%{x}<br>Y Coordinate=%{y}<br>PatientID=%{customdata[0]}<extra></extra>",
           "ids": [
            "Patient_1",
            "Patient_18"
           ],
           "legendgroup": "Anomaly",
           "marker": {
            "color": "#EF553B",
            "symbol": "circle"
           },
           "mode": "markers",
           "name": "Anomaly",
           "orientation": "v",
           "showlegend": true,
           "type": "scatter",
           "x": [
            67.9269525853872,
            77.27829838717417
           ],
           "xaxis": "x",
           "y": [
            102.49740383914043,
            68.40235056828983
           ],
           "yaxis": "y"
          }
         ],
         "name": "63"
        },
        {
         "data": [
          {
           "customdata": [
            [
             "Patient_10"
            ],
            [
             "Patient_11"
            ],
            [
             "Patient_12"
            ],
            [
             "Patient_13"
            ],
            [
             "Patient_14"
            ],
            [
             "Patient_15"
            ],
            [
             "Patient_16"
            ],
            [
             "Patient_17"
            ],
            [
             "Patient_18"
            ],
            [
             "Patient_19"
            ],
            [
             "Patient_2"
            ],
            [
             "Patient_20"
            ],
            [
             "Patient_3"
            ],
            [
             "Patient_4"
            ],
            [
             "Patient_5"
            ],
            [
             "Patient_6"
            ],
            [
             "Patient_7"
            ],
            [
             "Patient_8"
            ],
            [
             "Patient_9"
            ]
           ],
           "hovertemplate": "Anomaly_Label=Normal<br>Time=64<br>X Coordinate=%{x}<br>Y Coordinate=%{y}<br>PatientID=%{customdata[0]}<extra></extra>",
           "ids": [
            "Patient_10",
            "Patient_11",
            "Patient_12",
            "Patient_13",
            "Patient_14",
            "Patient_15",
            "Patient_16",
            "Patient_17",
            "Patient_18",
            "Patient_19",
            "Patient_2",
            "Patient_20",
            "Patient_3",
            "Patient_4",
            "Patient_5",
            "Patient_6",
            "Patient_7",
            "Patient_8",
            "Patient_9"
           ],
           "legendgroup": "Normal",
           "marker": {
            "color": "#636efa",
            "symbol": "circle"
           },
           "mode": "markers",
           "name": "Normal",
           "orientation": "v",
           "showlegend": true,
           "type": "scatter",
           "x": [
            46.2424621141967,
            56.61042791636901,
            37.82807610689405,
            46.997112153632905,
            32.209067131809206,
            55.89712740163491,
            56.49460442805098,
            24.10797697709652,
            78.63960696953616,
            38.055304139838,
            64.34385194978695,
            61.2022693632998,
            29.057768279163543,
            24.0850562083054,
            55.12862435157159,
            20.917388463335335,
            69.6343857531687,
            30.60712570015693,
            38.703067676015834
           ],
           "xaxis": "x",
           "y": [
            36.9049055766701,
            28.36637098150778,
            42.315880841980544,
            67.15155546178761,
            51.581977465890084,
            23.181553106887623,
            30.936676993839242,
            76.5025882801132,
            68.85279252325718,
            25.62058035668341,
            54.79606438482989,
            46.64074202200987,
            29.465313066311897,
            71.72461752274302,
            62.794210390745796,
            77.59975780017449,
            32.64808396186865,
            29.901487562656495,
            52.12282341857363
           ],
           "yaxis": "y"
          },
          {
           "customdata": [
            [
             "Patient_1"
            ]
           ],
           "hovertemplate": "Anomaly_Label=Anomaly<br>Time=64<br>X Coordinate=%{x}<br>Y Coordinate=%{y}<br>PatientID=%{customdata[0]}<extra></extra>",
           "ids": [
            "Patient_1"
           ],
           "legendgroup": "Anomaly",
           "marker": {
            "color": "#EF553B",
            "symbol": "circle"
           },
           "mode": "markers",
           "name": "Anomaly",
           "orientation": "v",
           "showlegend": true,
           "type": "scatter",
           "x": [
            68.3309929894276
           ],
           "xaxis": "x",
           "y": [
            102.90144424318083
           ],
           "yaxis": "y"
          }
         ],
         "name": "64"
        },
        {
         "data": [
          {
           "customdata": [
            [
             "Patient_10"
            ],
            [
             "Patient_11"
            ],
            [
             "Patient_12"
            ],
            [
             "Patient_13"
            ],
            [
             "Patient_14"
            ],
            [
             "Patient_15"
            ],
            [
             "Patient_16"
            ],
            [
             "Patient_17"
            ],
            [
             "Patient_18"
            ],
            [
             "Patient_19"
            ],
            [
             "Patient_2"
            ],
            [
             "Patient_20"
            ],
            [
             "Patient_3"
            ],
            [
             "Patient_4"
            ],
            [
             "Patient_5"
            ],
            [
             "Patient_6"
            ],
            [
             "Patient_7"
            ],
            [
             "Patient_8"
            ],
            [
             "Patient_9"
            ]
           ],
           "hovertemplate": "Anomaly_Label=Normal<br>Time=65<br>X Coordinate=%{x}<br>Y Coordinate=%{y}<br>PatientID=%{customdata[0]}<extra></extra>",
           "ids": [
            "Patient_10",
            "Patient_11",
            "Patient_12",
            "Patient_13",
            "Patient_14",
            "Patient_15",
            "Patient_16",
            "Patient_17",
            "Patient_18",
            "Patient_19",
            "Patient_2",
            "Patient_20",
            "Patient_3",
            "Patient_4",
            "Patient_5",
            "Patient_6",
            "Patient_7",
            "Patient_8",
            "Patient_9"
           ],
           "legendgroup": "Normal",
           "marker": {
            "color": "#636efa",
            "symbol": "circle"
           },
           "mode": "markers",
           "name": "Normal",
           "orientation": "v",
           "showlegend": true,
           "type": "scatter",
           "x": [
            45.462823028453485,
            56.96656972760657,
            37.19976163518702,
            46.818232102824496,
            32.06634659939835,
            54.957076828910125,
            56.751305223212995,
            24.134698725166334,
            78.3620090908069,
            38.552976119242004,
            64.76961519597249,
            60.70559568151462,
            29.456436222178702,
            22.968754778328197,
            56.97155387945908,
            20.811252693438608,
            69.40174192935412,
            30.72424398313102,
            38.26234374454707
           ],
           "xaxis": "x",
           "y": [
            38.23339037370339,
            28.88492193193454,
            42.40897321115481,
            67.55568143399907,
            51.13069191480909,
            22.33948984206156,
            29.75727341912539,
            76.24956333196987,
            67.8875792296034,
            26.17314230720603,
            56.455280627939636,
            46.70016290791844,
            29.830326510555903,
            72.16953227146952,
            62.37533172006654,
            77.86854668542314,
            32.34796568663272,
            30.30148708161671,
            51.93652448482759
           ],
           "yaxis": "y"
          },
          {
           "customdata": [
            [
             "Patient_1"
            ]
           ],
           "hovertemplate": "Anomaly_Label=Anomaly<br>Time=65<br>X Coordinate=%{x}<br>Y Coordinate=%{y}<br>PatientID=%{customdata[0]}<extra></extra>",
           "ids": [
            "Patient_1"
           ],
           "legendgroup": "Anomaly",
           "marker": {
            "color": "#EF553B",
            "symbol": "circle"
           },
           "mode": "markers",
           "name": "Anomaly",
           "orientation": "v",
           "showlegend": true,
           "type": "scatter",
           "x": [
            68.735033393468
           ],
           "xaxis": "x",
           "y": [
            103.30548464722125
           ],
           "yaxis": "y"
          }
         ],
         "name": "65"
        },
        {
         "data": [
          {
           "customdata": [
            [
             "Patient_10"
            ],
            [
             "Patient_11"
            ],
            [
             "Patient_12"
            ],
            [
             "Patient_13"
            ],
            [
             "Patient_14"
            ],
            [
             "Patient_15"
            ],
            [
             "Patient_16"
            ],
            [
             "Patient_17"
            ],
            [
             "Patient_18"
            ],
            [
             "Patient_19"
            ],
            [
             "Patient_20"
            ],
            [
             "Patient_3"
            ],
            [
             "Patient_4"
            ],
            [
             "Patient_5"
            ],
            [
             "Patient_6"
            ],
            [
             "Patient_7"
            ],
            [
             "Patient_8"
            ],
            [
             "Patient_9"
            ]
           ],
           "hovertemplate": "Anomaly_Label=Normal<br>Time=66<br>X Coordinate=%{x}<br>Y Coordinate=%{y}<br>PatientID=%{customdata[0]}<extra></extra>",
           "ids": [
            "Patient_10",
            "Patient_11",
            "Patient_12",
            "Patient_13",
            "Patient_14",
            "Patient_15",
            "Patient_16",
            "Patient_17",
            "Patient_18",
            "Patient_19",
            "Patient_20",
            "Patient_3",
            "Patient_4",
            "Patient_5",
            "Patient_6",
            "Patient_7",
            "Patient_8",
            "Patient_9"
           ],
           "legendgroup": "Normal",
           "marker": {
            "color": "#636efa",
            "symbol": "circle"
           },
           "mode": "markers",
           "name": "Normal",
           "orientation": "v",
           "showlegend": true,
           "type": "scatter",
           "x": [
            45.40835955423869,
            56.69152003952895,
            37.69560889539736,
            47.90508241685857,
            32.291461924654605,
            55.73827839206715,
            57.45882633693668,
            24.027749876937637,
            78.01036590102201,
            38.10111903254538,
            60.64476725775841,
            29.53594345019604,
            23.53268882981262,
            56.406472092311624,
            21.070345764574604,
            70.11408746256737,
            31.1441318273303,
            38.632928917565756
           ],
           "xaxis": "x",
           "y": [
            37.35170817504541,
            28.302383246921643,
            42.697393988537094,
            66.45444808686511,
            51.5185329645844,
            23.332514975792847,
            30.74330219429098,
            77.45567647224237,
            68.51579240863013,
            26.642033519799085,
            47.17533348671513,
            28.577269834491133,
            71.83884463845499,
            62.3333319180178,
            78.56052648186382,
            32.89842461928796,
            30.23648452960248,
            51.791620294941076
           ],
           "yaxis": "y"
          },
          {
           "customdata": [
            [
             "Patient_1"
            ],
            [
             "Patient_2"
            ]
           ],
           "hovertemplate": "Anomaly_Label=Anomaly<br>Time=66<br>X Coordinate=%{x}<br>Y Coordinate=%{y}<br>PatientID=%{customdata[0]}<extra></extra>",
           "ids": [
            "Patient_1",
            "Patient_2"
           ],
           "legendgroup": "Anomaly",
           "marker": {
            "color": "#EF553B",
            "symbol": "circle"
           },
           "mode": "markers",
           "name": "Anomaly",
           "orientation": "v",
           "showlegend": true,
           "type": "scatter",
           "x": [
            69.13907379750842,
            63.415359166646205
           ],
           "xaxis": "x",
           "y": [
            103.70952505126165,
            54.9381962059859
           ],
           "yaxis": "y"
          }
         ],
         "name": "66"
        },
        {
         "data": [
          {
           "customdata": [
            [
             "Patient_10"
            ],
            [
             "Patient_11"
            ],
            [
             "Patient_12"
            ],
            [
             "Patient_13"
            ],
            [
             "Patient_14"
            ],
            [
             "Patient_15"
            ],
            [
             "Patient_16"
            ],
            [
             "Patient_17"
            ],
            [
             "Patient_18"
            ],
            [
             "Patient_19"
            ],
            [
             "Patient_2"
            ],
            [
             "Patient_20"
            ],
            [
             "Patient_3"
            ],
            [
             "Patient_4"
            ],
            [
             "Patient_5"
            ],
            [
             "Patient_6"
            ],
            [
             "Patient_7"
            ],
            [
             "Patient_8"
            ],
            [
             "Patient_9"
            ]
           ],
           "hovertemplate": "Anomaly_Label=Normal<br>Time=67<br>X Coordinate=%{x}<br>Y Coordinate=%{y}<br>PatientID=%{customdata[0]}<extra></extra>",
           "ids": [
            "Patient_10",
            "Patient_11",
            "Patient_12",
            "Patient_13",
            "Patient_14",
            "Patient_15",
            "Patient_16",
            "Patient_17",
            "Patient_18",
            "Patient_19",
            "Patient_2",
            "Patient_20",
            "Patient_3",
            "Patient_4",
            "Patient_5",
            "Patient_6",
            "Patient_7",
            "Patient_8",
            "Patient_9"
           ],
           "legendgroup": "Normal",
           "marker": {
            "color": "#636efa",
            "symbol": "circle"
           },
           "mode": "markers",
           "name": "Normal",
           "orientation": "v",
           "showlegend": true,
           "type": "scatter",
           "x": [
            46.53213837510431,
            56.99261411342995,
            38.52220946796282,
            47.19663016243643,
            32.75750713985897,
            55.75230688190351,
            56.47444844840803,
            22.63831554026962,
            78.05858295193195,
            38.46998780930802,
            64.10346115518001,
            61.93171943988716,
            29.67387243496171,
            23.18883875226594,
            57.04397942146767,
            20.705615864219848,
            70.92785204329071,
            31.415229550130213,
            37.88329246130307
           ],
           "xaxis": "x",
           "y": [
            38.316255551236765,
            27.92972446237148,
            41.716225148715516,
            67.28172660082564,
            51.28105429309281,
            23.018669028258916,
            30.510517178496745,
            76.78482850566509,
            67.9283338451779,
            25.75809122988997,
            54.869495797996386,
            47.19565948698351,
            29.802286961666656,
            72.0323425944739,
            62.23148131563176,
            78.93542283095097,
            32.7421944766205,
            31.67500854897147,
            51.24273298025034
           ],
           "yaxis": "y"
          },
          {
           "customdata": [
            [
             "Patient_1"
            ]
           ],
           "hovertemplate": "Anomaly_Label=Anomaly<br>Time=67<br>X Coordinate=%{x}<br>Y Coordinate=%{y}<br>PatientID=%{customdata[0]}<extra></extra>",
           "ids": [
            "Patient_1"
           ],
           "legendgroup": "Anomaly",
           "marker": {
            "color": "#EF553B",
            "symbol": "circle"
           },
           "mode": "markers",
           "name": "Anomaly",
           "orientation": "v",
           "showlegend": true,
           "type": "scatter",
           "x": [
            69.54311420154882
           ],
           "xaxis": "x",
           "y": [
            104.11356545530205
           ],
           "yaxis": "y"
          }
         ],
         "name": "67"
        },
        {
         "data": [
          {
           "customdata": [
            [
             "Patient_10"
            ],
            [
             "Patient_11"
            ],
            [
             "Patient_12"
            ],
            [
             "Patient_13"
            ],
            [
             "Patient_14"
            ],
            [
             "Patient_15"
            ],
            [
             "Patient_16"
            ],
            [
             "Patient_17"
            ],
            [
             "Patient_18"
            ],
            [
             "Patient_19"
            ],
            [
             "Patient_2"
            ],
            [
             "Patient_20"
            ],
            [
             "Patient_3"
            ],
            [
             "Patient_4"
            ],
            [
             "Patient_5"
            ],
            [
             "Patient_6"
            ],
            [
             "Patient_7"
            ],
            [
             "Patient_8"
            ],
            [
             "Patient_9"
            ]
           ],
           "hovertemplate": "Anomaly_Label=Normal<br>Time=68<br>X Coordinate=%{x}<br>Y Coordinate=%{y}<br>PatientID=%{customdata[0]}<extra></extra>",
           "ids": [
            "Patient_10",
            "Patient_11",
            "Patient_12",
            "Patient_13",
            "Patient_14",
            "Patient_15",
            "Patient_16",
            "Patient_17",
            "Patient_18",
            "Patient_19",
            "Patient_2",
            "Patient_20",
            "Patient_3",
            "Patient_4",
            "Patient_5",
            "Patient_6",
            "Patient_7",
            "Patient_8",
            "Patient_9"
           ],
           "legendgroup": "Normal",
           "marker": {
            "color": "#636efa",
            "symbol": "circle"
           },
           "mode": "markers",
           "name": "Normal",
           "orientation": "v",
           "showlegend": true,
           "type": "scatter",
           "x": [
            45.813771403086776,
            56.62278660178488,
            37.28310203854204,
            47.23610917677446,
            31.94954482957152,
            55.982132668788815,
            55.85109068639173,
            23.65949411851931,
            77.55292395137484,
            38.048765736665146,
            63.88266272588011,
            61.3514963236472,
            29.458630918560257,
            22.919709062623205,
            56.381665496703434,
            21.682747373129448,
            70.0731410670443,
            30.892691750074178,
            37.99631975562848
           ],
           "xaxis": "x",
           "y": [
            37.100459238612395,
            27.595322489690638,
            41.839272850936666,
            66.98980896064543,
            51.09378706385973,
            22.46214214977573,
            29.71042521511594,
            76.75717157629174,
            67.85578255486271,
            25.95104015044002,
            55.693679313742386,
            46.130438097821916,
            28.980530185728366,
            72.28192435844625,
            62.08219678793274,
            77.878802265137,
            33.1505186470028,
            31.231641047276597,
            51.387152606220226
           ],
           "yaxis": "y"
          },
          {
           "customdata": [
            [
             "Patient_1"
            ]
           ],
           "hovertemplate": "Anomaly_Label=Anomaly<br>Time=68<br>X Coordinate=%{x}<br>Y Coordinate=%{y}<br>PatientID=%{customdata[0]}<extra></extra>",
           "ids": [
            "Patient_1"
           ],
           "legendgroup": "Anomaly",
           "marker": {
            "color": "#EF553B",
            "symbol": "circle"
           },
           "mode": "markers",
           "name": "Anomaly",
           "orientation": "v",
           "showlegend": true,
           "type": "scatter",
           "x": [
            69.94715460558922
           ],
           "xaxis": "x",
           "y": [
            104.51760585934245
           ],
           "yaxis": "y"
          }
         ],
         "name": "68"
        },
        {
         "data": [
          {
           "customdata": [
            [
             "Patient_10"
            ],
            [
             "Patient_11"
            ],
            [
             "Patient_12"
            ],
            [
             "Patient_13"
            ],
            [
             "Patient_14"
            ],
            [
             "Patient_15"
            ],
            [
             "Patient_16"
            ],
            [
             "Patient_17"
            ],
            [
             "Patient_18"
            ],
            [
             "Patient_19"
            ],
            [
             "Patient_2"
            ],
            [
             "Patient_20"
            ],
            [
             "Patient_3"
            ],
            [
             "Patient_4"
            ],
            [
             "Patient_5"
            ],
            [
             "Patient_6"
            ],
            [
             "Patient_7"
            ],
            [
             "Patient_8"
            ],
            [
             "Patient_9"
            ]
           ],
           "hovertemplate": "Anomaly_Label=Normal<br>Time=69<br>X Coordinate=%{x}<br>Y Coordinate=%{y}<br>PatientID=%{customdata[0]}<extra></extra>",
           "ids": [
            "Patient_10",
            "Patient_11",
            "Patient_12",
            "Patient_13",
            "Patient_14",
            "Patient_15",
            "Patient_16",
            "Patient_17",
            "Patient_18",
            "Patient_19",
            "Patient_2",
            "Patient_20",
            "Patient_3",
            "Patient_4",
            "Patient_5",
            "Patient_6",
            "Patient_7",
            "Patient_8",
            "Patient_9"
           ],
           "legendgroup": "Normal",
           "marker": {
            "color": "#636efa",
            "symbol": "circle"
           },
           "mode": "markers",
           "name": "Normal",
           "orientation": "v",
           "showlegend": true,
           "type": "scatter",
           "x": [
            45.858318160629324,
            57.580599359269435,
            38.44495743385269,
            47.605232416689844,
            32.17732557860971,
            55.405432434647174,
            56.428242522349244,
            23.876893353828038,
            78.56136784224093,
            38.75255078893129,
            63.903916923496915,
            60.20204579731605,
            29.64768233316679,
            23.305201893865735,
            56.15881796275378,
            21.4099696700321,
            69.89882632448078,
            30.869198157777657,
            38.71222971535234
           ],
           "xaxis": "x",
           "y": [
            37.15596949118031,
            28.209010256063554,
            42.388786478680636,
            67.29492425723959,
            49.89023001514389,
            23.209603748792023,
            29.528852497835704,
            77.78518499332773,
            68.47283888230464,
            25.677073330199004,
            55.49529473472679,
            45.9469166303113,
            28.466737974205106,
            72.12112241609198,
            63.83087149975298,
            77.69256383129867,
            31.852223473963345,
            30.58774256270565,
            51.21061576063651
           ],
           "yaxis": "y"
          },
          {
           "customdata": [
            [
             "Patient_1"
            ]
           ],
           "hovertemplate": "Anomaly_Label=Anomaly<br>Time=69<br>X Coordinate=%{x}<br>Y Coordinate=%{y}<br>PatientID=%{customdata[0]}<extra></extra>",
           "ids": [
            "Patient_1"
           ],
           "legendgroup": "Anomaly",
           "marker": {
            "color": "#EF553B",
            "symbol": "circle"
           },
           "mode": "markers",
           "name": "Anomaly",
           "orientation": "v",
           "showlegend": true,
           "type": "scatter",
           "x": [
            70.35119500962962
           ],
           "xaxis": "x",
           "y": [
            104.92164626338285
           ],
           "yaxis": "y"
          }
         ],
         "name": "69"
        },
        {
         "data": [
          {
           "customdata": [
            [
             "Patient_10"
            ],
            [
             "Patient_11"
            ],
            [
             "Patient_12"
            ],
            [
             "Patient_13"
            ],
            [
             "Patient_14"
            ],
            [
             "Patient_15"
            ],
            [
             "Patient_16"
            ],
            [
             "Patient_17"
            ],
            [
             "Patient_18"
            ],
            [
             "Patient_19"
            ],
            [
             "Patient_2"
            ],
            [
             "Patient_20"
            ],
            [
             "Patient_3"
            ],
            [
             "Patient_4"
            ],
            [
             "Patient_6"
            ],
            [
             "Patient_7"
            ],
            [
             "Patient_8"
            ],
            [
             "Patient_9"
            ]
           ],
           "hovertemplate": "Anomaly_Label=Normal<br>Time=70<br>X Coordinate=%{x}<br>Y Coordinate=%{y}<br>PatientID=%{customdata[0]}<extra></extra>",
           "ids": [
            "Patient_10",
            "Patient_11",
            "Patient_12",
            "Patient_13",
            "Patient_14",
            "Patient_15",
            "Patient_16",
            "Patient_17",
            "Patient_18",
            "Patient_19",
            "Patient_2",
            "Patient_20",
            "Patient_3",
            "Patient_4",
            "Patient_6",
            "Patient_7",
            "Patient_8",
            "Patient_9"
           ],
           "legendgroup": "Normal",
           "marker": {
            "color": "#636efa",
            "symbol": "circle"
           },
           "mode": "markers",
           "name": "Normal",
           "orientation": "v",
           "showlegend": true,
           "type": "scatter",
           "x": [
            45.642566721064405,
            56.15874228681151,
            38.13765848826587,
            47.005239607648356,
            32.57028953368194,
            55.279266984418754,
            55.901545039168084,
            24.107399232967655,
            77.51862908524994,
            38.5442348185752,
            63.7979445189968,
            60.735327717215014,
            30.313186721332695,
            24.594406846816035,
            21.973536870807287,
            70.05494622990663,
            30.61506461905669,
            37.95059694723436
           ],
           "xaxis": "x",
           "y": [
            37.89041536777266,
            28.479902352629445,
            41.725112415364805,
            66.9952953709907,
            50.951120120293375,
            23.028963088793883,
            30.572127176458963,
            76.77922799963055,
            68.06050042584593,
            26.474817091627564,
            55.76958995368476,
            46.63834297615182,
            30.17265067785319,
            71.89104614129609,
            77.6107013540857,
            32.19169537688015,
            30.58563937568118,
            51.215824546359784
           ],
           "yaxis": "y"
          },
          {
           "customdata": [
            [
             "Patient_1"
            ],
            [
             "Patient_5"
            ]
           ],
           "hovertemplate": "Anomaly_Label=Anomaly<br>Time=70<br>X Coordinate=%{x}<br>Y Coordinate=%{y}<br>PatientID=%{customdata[0]}<extra></extra>",
           "ids": [
            "Patient_1",
            "Patient_5"
           ],
           "legendgroup": "Anomaly",
           "marker": {
            "color": "#EF553B",
            "symbol": "circle"
           },
           "mode": "markers",
           "name": "Anomaly",
           "orientation": "v",
           "showlegend": true,
           "type": "scatter",
           "x": [
            70.75523541367002,
            56.214712948966074
           ],
           "xaxis": "x",
           "y": [
            105.32568666742327,
            61.72603339305233
           ],
           "yaxis": "y"
          }
         ],
         "name": "70"
        },
        {
         "data": [
          {
           "customdata": [
            [
             "Patient_10"
            ],
            [
             "Patient_11"
            ],
            [
             "Patient_13"
            ],
            [
             "Patient_14"
            ],
            [
             "Patient_15"
            ],
            [
             "Patient_16"
            ],
            [
             "Patient_17"
            ],
            [
             "Patient_18"
            ],
            [
             "Patient_19"
            ],
            [
             "Patient_2"
            ],
            [
             "Patient_20"
            ],
            [
             "Patient_3"
            ],
            [
             "Patient_4"
            ],
            [
             "Patient_5"
            ],
            [
             "Patient_6"
            ],
            [
             "Patient_7"
            ],
            [
             "Patient_8"
            ],
            [
             "Patient_9"
            ]
           ],
           "hovertemplate": "Anomaly_Label=Normal<br>Time=71<br>X Coordinate=%{x}<br>Y Coordinate=%{y}<br>PatientID=%{customdata[0]}<extra></extra>",
           "ids": [
            "Patient_10",
            "Patient_11",
            "Patient_13",
            "Patient_14",
            "Patient_15",
            "Patient_16",
            "Patient_17",
            "Patient_18",
            "Patient_19",
            "Patient_2",
            "Patient_20",
            "Patient_3",
            "Patient_4",
            "Patient_5",
            "Patient_6",
            "Patient_7",
            "Patient_8",
            "Patient_9"
           ],
           "legendgroup": "Normal",
           "marker": {
            "color": "#636efa",
            "symbol": "circle"
           },
           "mode": "markers",
           "name": "Normal",
           "orientation": "v",
           "showlegend": true,
           "type": "scatter",
           "x": [
            45.987329688570675,
            57.09527729165864,
            46.322142583272864,
            31.836703169801407,
            55.52211800907193,
            56.16777464996692,
            23.144508730780935,
            77.72982478203093,
            38.051819721404335,
            63.90410704224885,
            60.7863140472213,
            28.892865239151394,
            23.631113094255152,
            54.94778508793004,
            20.931637068819562,
            68.5728060266627,
            30.646374104167325,
            38.062023671715835
           ],
           "xaxis": "x",
           "y": [
            36.40846517197891,
            28.477329891850655,
            67.97290600846138,
            50.9977307570182,
            22.574906596500842,
            30.396201789023994,
            77.30842181896088,
            67.93880621746749,
            26.488901448814318,
            55.46466734333128,
            46.58837643348089,
            29.025781441937717,
            71.87690423729292,
            61.4240045914452,
            78.42343442274644,
            32.49048155262076,
            31.698439480310252,
            51.67688039030474
           ],
           "yaxis": "y"
          },
          {
           "customdata": [
            [
             "Patient_1"
            ],
            [
             "Patient_12"
            ]
           ],
           "hovertemplate": "Anomaly_Label=Anomaly<br>Time=71<br>X Coordinate=%{x}<br>Y Coordinate=%{y}<br>PatientID=%{customdata[0]}<extra></extra>",
           "ids": [
            "Patient_1",
            "Patient_12"
           ],
           "legendgroup": "Anomaly",
           "marker": {
            "color": "#EF553B",
            "symbol": "circle"
           },
           "mode": "markers",
           "name": "Anomaly",
           "orientation": "v",
           "showlegend": true,
           "type": "scatter",
           "x": [
            71.15927581771044,
            37.782813231950385
           ],
           "xaxis": "x",
           "y": [
            105.72972707146366,
            43.94482945083966
           ],
           "yaxis": "y"
          }
         ],
         "name": "71"
        },
        {
         "data": [
          {
           "customdata": [
            [
             "Patient_10"
            ],
            [
             "Patient_11"
            ],
            [
             "Patient_12"
            ],
            [
             "Patient_13"
            ],
            [
             "Patient_14"
            ],
            [
             "Patient_15"
            ],
            [
             "Patient_16"
            ],
            [
             "Patient_17"
            ],
            [
             "Patient_18"
            ],
            [
             "Patient_19"
            ],
            [
             "Patient_2"
            ],
            [
             "Patient_20"
            ],
            [
             "Patient_3"
            ],
            [
             "Patient_4"
            ],
            [
             "Patient_5"
            ],
            [
             "Patient_6"
            ],
            [
             "Patient_7"
            ],
            [
             "Patient_8"
            ],
            [
             "Patient_9"
            ]
           ],
           "hovertemplate": "Anomaly_Label=Normal<br>Time=72<br>X Coordinate=%{x}<br>Y Coordinate=%{y}<br>PatientID=%{customdata[0]}<extra></extra>",
           "ids": [
            "Patient_10",
            "Patient_11",
            "Patient_12",
            "Patient_13",
            "Patient_14",
            "Patient_15",
            "Patient_16",
            "Patient_17",
            "Patient_18",
            "Patient_19",
            "Patient_2",
            "Patient_20",
            "Patient_3",
            "Patient_4",
            "Patient_5",
            "Patient_6",
            "Patient_7",
            "Patient_8",
            "Patient_9"
           ],
           "legendgroup": "Normal",
           "marker": {
            "color": "#636efa",
            "symbol": "circle"
           },
           "mode": "markers",
           "name": "Normal",
           "orientation": "v",
           "showlegend": true,
           "type": "scatter",
           "x": [
            46.35127841477539,
            56.26655326922861,
            37.96670230837799,
            47.06220874003754,
            31.160684848238866,
            56.043159387012274,
            56.77293101168671,
            24.065124093227553,
            77.98052670929052,
            38.18337807132125,
            64.2623903780794,
            61.65697884900282,
            29.273336453796585,
            23.53405049986144,
            55.70748451078816,
            21.13772100968981,
            69.9924346902495,
            30.851383510865055,
            39.043593606353355
           ],
           "xaxis": "x",
           "y": [
            37.245978648870576,
            28.847281918241386,
            42.71804593549699,
            66.99578335590064,
            50.657830751786264,
            22.553777073585763,
            30.136195868238584,
            76.35928654029216,
            67.0082729015373,
            25.045090218525463,
            56.8438134684704,
            46.797853300758334,
            29.693998622551113,
            72.61850463742762,
            62.85685732420137,
            78.16249704116542,
            32.86646683890991,
            31.111627182791292,
            51.97811074074188
           ],
           "yaxis": "y"
          },
          {
           "customdata": [
            [
             "Patient_1"
            ]
           ],
           "hovertemplate": "Anomaly_Label=Anomaly<br>Time=72<br>X Coordinate=%{x}<br>Y Coordinate=%{y}<br>PatientID=%{customdata[0]}<extra></extra>",
           "ids": [
            "Patient_1"
           ],
           "legendgroup": "Anomaly",
           "marker": {
            "color": "#EF553B",
            "symbol": "circle"
           },
           "mode": "markers",
           "name": "Anomaly",
           "orientation": "v",
           "showlegend": true,
           "type": "scatter",
           "x": [
            71.56331622175084
           ],
           "xaxis": "x",
           "y": [
            106.13376747550407
           ],
           "yaxis": "y"
          }
         ],
         "name": "72"
        },
        {
         "data": [
          {
           "customdata": [
            [
             "Patient_10"
            ],
            [
             "Patient_11"
            ],
            [
             "Patient_12"
            ],
            [
             "Patient_13"
            ],
            [
             "Patient_14"
            ],
            [
             "Patient_15"
            ],
            [
             "Patient_16"
            ],
            [
             "Patient_17"
            ],
            [
             "Patient_18"
            ],
            [
             "Patient_2"
            ],
            [
             "Patient_20"
            ],
            [
             "Patient_3"
            ],
            [
             "Patient_4"
            ],
            [
             "Patient_5"
            ],
            [
             "Patient_6"
            ],
            [
             "Patient_7"
            ],
            [
             "Patient_8"
            ],
            [
             "Patient_9"
            ]
           ],
           "hovertemplate": "Anomaly_Label=Normal<br>Time=73<br>X Coordinate=%{x}<br>Y Coordinate=%{y}<br>PatientID=%{customdata[0]}<extra></extra>",
           "ids": [
            "Patient_10",
            "Patient_11",
            "Patient_12",
            "Patient_13",
            "Patient_14",
            "Patient_15",
            "Patient_16",
            "Patient_17",
            "Patient_18",
            "Patient_2",
            "Patient_20",
            "Patient_3",
            "Patient_4",
            "Patient_5",
            "Patient_6",
            "Patient_7",
            "Patient_8",
            "Patient_9"
           ],
           "legendgroup": "Normal",
           "marker": {
            "color": "#636efa",
            "symbol": "circle"
           },
           "mode": "markers",
           "name": "Normal",
           "orientation": "v",
           "showlegend": true,
           "type": "scatter",
           "x": [
            44.96057363081706,
            56.02701616392637,
            37.98436027320045,
            47.99605239184949,
            32.25216661883663,
            55.676884172389386,
            56.8189371654762,
            23.075651861002626,
            77.8765675176757,
            63.44517824827189,
            61.8121786183562,
            29.827214208676384,
            24.052826803683438,
            55.65464362382869,
            20.970580803716143,
            70.55809998157298,
            31.085750516604477,
            37.34423292729801
           ],
           "xaxis": "x",
           "y": [
            37.43943138883978,
            29.363269638737915,
            42.03458749325724,
            66.68739969484795,
            50.95397152167605,
            23.423201513253247,
            30.37580925265,
            76.45310908756026,
            68.55052707412598,
            56.79319065077998,
            46.710208784572316,
            29.241393576562686,
            71.4174219902903,
            62.18005980614288,
            77.66631230833954,
            32.61091944051166,
            30.71909490799919,
            51.620414577129985
           ],
           "yaxis": "y"
          },
          {
           "customdata": [
            [
             "Patient_1"
            ],
            [
             "Patient_19"
            ]
           ],
           "hovertemplate": "Anomaly_Label=Anomaly<br>Time=73<br>X Coordinate=%{x}<br>Y Coordinate=%{y}<br>PatientID=%{customdata[0]}<extra></extra>",
           "ids": [
            "Patient_1",
            "Patient_19"
           ],
           "legendgroup": "Anomaly",
           "marker": {
            "color": "#EF553B",
            "symbol": "circle"
           },
           "mode": "markers",
           "name": "Anomaly",
           "orientation": "v",
           "showlegend": true,
           "type": "scatter",
           "x": [
            71.96735662579124,
            37.711724288065284
           ],
           "xaxis": "x",
           "y": [
            106.53780787954447,
            27.06616517817224
           ],
           "yaxis": "y"
          }
         ],
         "name": "73"
        },
        {
         "data": [
          {
           "customdata": [
            [
             "Patient_10"
            ],
            [
             "Patient_11"
            ],
            [
             "Patient_12"
            ],
            [
             "Patient_13"
            ],
            [
             "Patient_14"
            ],
            [
             "Patient_15"
            ],
            [
             "Patient_16"
            ],
            [
             "Patient_17"
            ],
            [
             "Patient_18"
            ],
            [
             "Patient_19"
            ],
            [
             "Patient_2"
            ],
            [
             "Patient_3"
            ],
            [
             "Patient_4"
            ],
            [
             "Patient_5"
            ],
            [
             "Patient_6"
            ],
            [
             "Patient_7"
            ],
            [
             "Patient_8"
            ],
            [
             "Patient_9"
            ]
           ],
           "hovertemplate": "Anomaly_Label=Normal<br>Time=74<br>X Coordinate=%{x}<br>Y Coordinate=%{y}<br>PatientID=%{customdata[0]}<extra></extra>",
           "ids": [
            "Patient_10",
            "Patient_11",
            "Patient_12",
            "Patient_13",
            "Patient_14",
            "Patient_15",
            "Patient_16",
            "Patient_17",
            "Patient_18",
            "Patient_19",
            "Patient_2",
            "Patient_3",
            "Patient_4",
            "Patient_5",
            "Patient_6",
            "Patient_7",
            "Patient_8",
            "Patient_9"
           ],
           "legendgroup": "Normal",
           "marker": {
            "color": "#636efa",
            "symbol": "circle"
           },
           "mode": "markers",
           "name": "Normal",
           "orientation": "v",
           "showlegend": true,
           "type": "scatter",
           "x": [
            45.86988302415736,
            56.06759189905065,
            37.23687924894009,
            46.60452601528373,
            31.754847500297082,
            56.145005006591965,
            56.2469778105283,
            22.968224729269064,
            78.03313392943609,
            38.0219228038068,
            63.443677278673185,
            29.48999469661757,
            23.652104938714416,
            55.11299692565383,
            21.028266891037326,
            70.2248350102922,
            31.152516177134856,
            38.7958801045158
           ],
           "xaxis": "x",
           "y": [
            38.136646735653606,
            27.671072546566013,
            42.50090002313116,
            65.69447988452553,
            51.129936704772156,
            22.555444082157162,
            30.808397788365365,
            76.7388718476085,
            68.72845024763018,
            25.877547346235954,
            55.95824931108163,
            28.73879093243135,
            71.89293922208374,
            62.05416216237298,
            79.13843495838977,
            32.07260585614662,
            30.230618596736846,
            51.249823572025335
           ],
           "yaxis": "y"
          },
          {
           "customdata": [
            [
             "Patient_1"
            ],
            [
             "Patient_20"
            ]
           ],
           "hovertemplate": "Anomaly_Label=Anomaly<br>Time=74<br>X Coordinate=%{x}<br>Y Coordinate=%{y}<br>PatientID=%{customdata[0]}<extra></extra>",
           "ids": [
            "Patient_1",
            "Patient_20"
           ],
           "legendgroup": "Anomaly",
           "marker": {
            "color": "#EF553B",
            "symbol": "circle"
           },
           "mode": "markers",
           "name": "Anomaly",
           "orientation": "v",
           "showlegend": true,
           "type": "scatter",
           "x": [
            72.37139702983164,
            59.80981791402292
           ],
           "xaxis": "x",
           "y": [
            106.94184828358487,
            46.08002541820915
           ],
           "yaxis": "y"
          }
         ],
         "name": "74"
        },
        {
         "data": [
          {
           "customdata": [
            [
             "Patient_10"
            ],
            [
             "Patient_11"
            ],
            [
             "Patient_12"
            ],
            [
             "Patient_13"
            ],
            [
             "Patient_14"
            ],
            [
             "Patient_15"
            ],
            [
             "Patient_16"
            ],
            [
             "Patient_17"
            ],
            [
             "Patient_18"
            ],
            [
             "Patient_19"
            ],
            [
             "Patient_2"
            ],
            [
             "Patient_20"
            ],
            [
             "Patient_3"
            ],
            [
             "Patient_4"
            ],
            [
             "Patient_5"
            ],
            [
             "Patient_6"
            ],
            [
             "Patient_7"
            ],
            [
             "Patient_8"
            ],
            [
             "Patient_9"
            ]
           ],
           "hovertemplate": "Anomaly_Label=Normal<br>Time=75<br>X Coordinate=%{x}<br>Y Coordinate=%{y}<br>PatientID=%{customdata[0]}<extra></extra>",
           "ids": [
            "Patient_10",
            "Patient_11",
            "Patient_12",
            "Patient_13",
            "Patient_14",
            "Patient_15",
            "Patient_16",
            "Patient_17",
            "Patient_18",
            "Patient_19",
            "Patient_2",
            "Patient_20",
            "Patient_3",
            "Patient_4",
            "Patient_5",
            "Patient_6",
            "Patient_7",
            "Patient_8",
            "Patient_9"
           ],
           "legendgroup": "Normal",
           "marker": {
            "color": "#636efa",
            "symbol": "circle"
           },
           "mode": "markers",
           "name": "Normal",
           "orientation": "v",
           "showlegend": true,
           "type": "scatter",
           "x": [
            45.23086426991171,
            56.56689933540492,
            38.3961472000315,
            47.086425663278725,
            31.379352166463537,
            55.70360076234764,
            56.405997684636326,
            23.14586042452639,
            78.81538852029718,
            38.38945820902602,
            63.949128619479104,
            60.419316342456064,
            29.189843826117308,
            23.00365044744966,
            56.37200878938714,
            20.94180402296618,
            70.30386334334362,
            31.489035064903984,
            38.46727954419238
           ],
           "xaxis": "x",
           "y": [
            37.119027910668734,
            27.977754878560294,
            41.553324550708105,
            67.21275219938231,
            50.65622594893856,
            22.62059456100861,
            29.966781365013304,
            77.09392884086961,
            68.51304170237938,
            26.206688217941462,
            56.142945302223545,
            47.26040695344088,
            29.444903105670445,
            71.8672631066481,
            62.562841148246946,
            78.30669933186506,
            31.715376001407833,
            30.836143221865495,
            52.084009359756884
           ],
           "yaxis": "y"
          },
          {
           "customdata": [
            [
             "Patient_1"
            ]
           ],
           "hovertemplate": "Anomaly_Label=Anomaly<br>Time=75<br>X Coordinate=%{x}<br>Y Coordinate=%{y}<br>PatientID=%{customdata[0]}<extra></extra>",
           "ids": [
            "Patient_1"
           ],
           "legendgroup": "Anomaly",
           "marker": {
            "color": "#EF553B",
            "symbol": "circle"
           },
           "mode": "markers",
           "name": "Anomaly",
           "orientation": "v",
           "showlegend": true,
           "type": "scatter",
           "x": [
            72.77543743387204
           ],
           "xaxis": "x",
           "y": [
            107.34588868762528
           ],
           "yaxis": "y"
          }
         ],
         "name": "75"
        },
        {
         "data": [
          {
           "customdata": [
            [
             "Patient_10"
            ],
            [
             "Patient_11"
            ],
            [
             "Patient_12"
            ],
            [
             "Patient_13"
            ],
            [
             "Patient_14"
            ],
            [
             "Patient_15"
            ],
            [
             "Patient_16"
            ],
            [
             "Patient_17"
            ],
            [
             "Patient_18"
            ],
            [
             "Patient_19"
            ],
            [
             "Patient_2"
            ],
            [
             "Patient_20"
            ],
            [
             "Patient_3"
            ],
            [
             "Patient_4"
            ],
            [
             "Patient_5"
            ],
            [
             "Patient_6"
            ],
            [
             "Patient_7"
            ],
            [
             "Patient_8"
            ],
            [
             "Patient_9"
            ]
           ],
           "hovertemplate": "Anomaly_Label=Normal<br>Time=76<br>X Coordinate=%{x}<br>Y Coordinate=%{y}<br>PatientID=%{customdata[0]}<extra></extra>",
           "ids": [
            "Patient_10",
            "Patient_11",
            "Patient_12",
            "Patient_13",
            "Patient_14",
            "Patient_15",
            "Patient_16",
            "Patient_17",
            "Patient_18",
            "Patient_19",
            "Patient_2",
            "Patient_20",
            "Patient_3",
            "Patient_4",
            "Patient_5",
            "Patient_6",
            "Patient_7",
            "Patient_8",
            "Patient_9"
           ],
           "legendgroup": "Normal",
           "marker": {
            "color": "#636efa",
            "symbol": "circle"
           },
           "mode": "markers",
           "name": "Normal",
           "orientation": "v",
           "showlegend": true,
           "type": "scatter",
           "x": [
            45.00771150583337,
            56.66394432612177,
            37.09673743181821,
            47.88506138505158,
            31.91566830606986,
            55.191427847728875,
            57.27743156124826,
            23.538294344213067,
            77.29135121259424,
            38.50212785683351,
            63.553120010922314,
            60.473089668773234,
            29.748696173563584,
            23.60202895726854,
            56.667166533829466,
            20.251534805954574,
            69.85363557192895,
            30.881203787976087,
            37.278983645552955
           ],
           "xaxis": "x",
           "y": [
            37.85360455962459,
            28.57943662513457,
            42.62144306345038,
            67.40232983508676,
            51.143994947464265,
            23.214802592710218,
            30.766752701227084,
            77.11384089383654,
            68.7900360425755,
            24.92541867061695,
            56.82854001310111,
            46.267580176004195,
            29.63619126309834,
            71.84630443745888,
            62.55453460268675,
            77.63599789886617,
            32.89534613227935,
            31.613755986102863,
            51.55717986618685
           ],
           "yaxis": "y"
          },
          {
           "customdata": [
            [
             "Patient_1"
            ]
           ],
           "hovertemplate": "Anomaly_Label=Anomaly<br>Time=76<br>X Coordinate=%{x}<br>Y Coordinate=%{y}<br>PatientID=%{customdata[0]}<extra></extra>",
           "ids": [
            "Patient_1"
           ],
           "legendgroup": "Anomaly",
           "marker": {
            "color": "#EF553B",
            "symbol": "circle"
           },
           "mode": "markers",
           "name": "Anomaly",
           "orientation": "v",
           "showlegend": true,
           "type": "scatter",
           "x": [
            73.17947783791246
           ],
           "xaxis": "x",
           "y": [
            107.74992909166568
           ],
           "yaxis": "y"
          }
         ],
         "name": "76"
        },
        {
         "data": [
          {
           "customdata": [
            [
             "Patient_10"
            ],
            [
             "Patient_11"
            ],
            [
             "Patient_12"
            ],
            [
             "Patient_13"
            ],
            [
             "Patient_14"
            ],
            [
             "Patient_15"
            ],
            [
             "Patient_16"
            ],
            [
             "Patient_17"
            ],
            [
             "Patient_18"
            ],
            [
             "Patient_19"
            ],
            [
             "Patient_2"
            ],
            [
             "Patient_20"
            ],
            [
             "Patient_3"
            ],
            [
             "Patient_4"
            ],
            [
             "Patient_5"
            ],
            [
             "Patient_6"
            ],
            [
             "Patient_7"
            ],
            [
             "Patient_8"
            ],
            [
             "Patient_9"
            ]
           ],
           "hovertemplate": "Anomaly_Label=Normal<br>Time=77<br>X Coordinate=%{x}<br>Y Coordinate=%{y}<br>PatientID=%{customdata[0]}<extra></extra>",
           "ids": [
            "Patient_10",
            "Patient_11",
            "Patient_12",
            "Patient_13",
            "Patient_14",
            "Patient_15",
            "Patient_16",
            "Patient_17",
            "Patient_18",
            "Patient_19",
            "Patient_2",
            "Patient_20",
            "Patient_3",
            "Patient_4",
            "Patient_5",
            "Patient_6",
            "Patient_7",
            "Patient_8",
            "Patient_9"
           ],
           "legendgroup": "Normal",
           "marker": {
            "color": "#636efa",
            "symbol": "circle"
           },
           "mode": "markers",
           "name": "Normal",
           "orientation": "v",
           "showlegend": true,
           "type": "scatter",
           "x": [
            45.87208404141622,
            55.84557303162031,
            37.5493417282484,
            47.83997393830918,
            32.2171628790192,
            55.9682595193308,
            56.40314396396567,
            24.11922705443385,
            77.58410903706255,
            38.221493466123576,
            64.1141258733604,
            61.47497343845548,
            29.26398386055693,
            24.00937029330025,
            55.825119962669255,
            21.480673490454148,
            69.8768598476937,
            29.95481998867239,
            38.29087483973694
           ],
           "xaxis": "x",
           "y": [
            37.45496308939277,
            29.117100752849126,
            42.203211662845185,
            66.59997645480067,
            50.7202457593673,
            21.723411053024115,
            29.93003709334551,
            77.16815432888409,
            68.14775395489964,
            25.41200572672543,
            56.04524585629245,
            46.22454602415235,
            28.98177547009298,
            72.79827230304026,
            62.17827120918532,
            78.01557643984617,
            33.110173216558906,
            31.663421753632363,
            51.27963932565318
           ],
           "yaxis": "y"
          },
          {
           "customdata": [
            [
             "Patient_1"
            ]
           ],
           "hovertemplate": "Anomaly_Label=Anomaly<br>Time=77<br>X Coordinate=%{x}<br>Y Coordinate=%{y}<br>PatientID=%{customdata[0]}<extra></extra>",
           "ids": [
            "Patient_1"
           ],
           "legendgroup": "Anomaly",
           "marker": {
            "color": "#EF553B",
            "symbol": "circle"
           },
           "mode": "markers",
           "name": "Anomaly",
           "orientation": "v",
           "showlegend": true,
           "type": "scatter",
           "x": [
            73.58351824195286
           ],
           "xaxis": "x",
           "y": [
            108.1539694957061
           ],
           "yaxis": "y"
          }
         ],
         "name": "77"
        },
        {
         "data": [
          {
           "customdata": [
            [
             "Patient_10"
            ],
            [
             "Patient_11"
            ],
            [
             "Patient_12"
            ],
            [
             "Patient_13"
            ],
            [
             "Patient_14"
            ],
            [
             "Patient_15"
            ],
            [
             "Patient_16"
            ],
            [
             "Patient_17"
            ],
            [
             "Patient_18"
            ],
            [
             "Patient_19"
            ],
            [
             "Patient_2"
            ],
            [
             "Patient_20"
            ],
            [
             "Patient_3"
            ],
            [
             "Patient_4"
            ],
            [
             "Patient_5"
            ],
            [
             "Patient_6"
            ],
            [
             "Patient_7"
            ],
            [
             "Patient_8"
            ],
            [
             "Patient_9"
            ]
           ],
           "hovertemplate": "Anomaly_Label=Normal<br>Time=78<br>X Coordinate=%{x}<br>Y Coordinate=%{y}<br>PatientID=%{customdata[0]}<extra></extra>",
           "ids": [
            "Patient_10",
            "Patient_11",
            "Patient_12",
            "Patient_13",
            "Patient_14",
            "Patient_15",
            "Patient_16",
            "Patient_17",
            "Patient_18",
            "Patient_19",
            "Patient_2",
            "Patient_20",
            "Patient_3",
            "Patient_4",
            "Patient_5",
            "Patient_6",
            "Patient_7",
            "Patient_8",
            "Patient_9"
           ],
           "legendgroup": "Normal",
           "marker": {
            "color": "#636efa",
            "symbol": "circle"
           },
           "mode": "markers",
           "name": "Normal",
           "orientation": "v",
           "showlegend": true,
           "type": "scatter",
           "x": [
            45.443828088178556,
            56.052607723369476,
            37.02757040264973,
            46.630806457714314,
            32.46808315874057,
            56.03408518773657,
            55.90085619982111,
            23.51299601455804,
            77.3395276612604,
            38.72330308545663,
            63.40036459826232,
            60.849138294414665,
            28.742405107434905,
            24.149337144216084,
            55.763649010484656,
            21.005524502638654,
            69.36937711390883,
            30.714536179146315,
            38.20622274256482
           ],
           "xaxis": "x",
           "y": [
            37.777871507724996,
            28.75764559604425,
            41.60549297894498,
            66.85985661013801,
            51.11188034903868,
            23.048096036166832,
            30.06605280907371,
            77.59841968721952,
            68.95068973168222,
            26.775136941241076,
            55.10387114409173,
            46.76531070416616,
            29.414375456088646,
            72.12716098342861,
            62.71230676534808,
            77.8472909451381,
            31.864432237320713,
            31.083297336166098,
            51.277402433960596
           ],
           "yaxis": "y"
          },
          {
           "customdata": [
            [
             "Patient_1"
            ]
           ],
           "hovertemplate": "Anomaly_Label=Anomaly<br>Time=78<br>X Coordinate=%{x}<br>Y Coordinate=%{y}<br>PatientID=%{customdata[0]}<extra></extra>",
           "ids": [
            "Patient_1"
           ],
           "legendgroup": "Anomaly",
           "marker": {
            "color": "#EF553B",
            "symbol": "circle"
           },
           "mode": "markers",
           "name": "Anomaly",
           "orientation": "v",
           "showlegend": true,
           "type": "scatter",
           "x": [
            73.98755864599326
           ],
           "xaxis": "x",
           "y": [
            108.5580098997465
           ],
           "yaxis": "y"
          }
         ],
         "name": "78"
        },
        {
         "data": [
          {
           "customdata": [
            [
             "Patient_10"
            ],
            [
             "Patient_11"
            ],
            [
             "Patient_12"
            ],
            [
             "Patient_13"
            ],
            [
             "Patient_14"
            ],
            [
             "Patient_15"
            ],
            [
             "Patient_16"
            ],
            [
             "Patient_17"
            ],
            [
             "Patient_18"
            ],
            [
             "Patient_19"
            ],
            [
             "Patient_2"
            ],
            [
             "Patient_20"
            ],
            [
             "Patient_3"
            ],
            [
             "Patient_4"
            ],
            [
             "Patient_5"
            ],
            [
             "Patient_6"
            ],
            [
             "Patient_7"
            ],
            [
             "Patient_8"
            ],
            [
             "Patient_9"
            ]
           ],
           "hovertemplate": "Anomaly_Label=Normal<br>Time=79<br>X Coordinate=%{x}<br>Y Coordinate=%{y}<br>PatientID=%{customdata[0]}<extra></extra>",
           "ids": [
            "Patient_10",
            "Patient_11",
            "Patient_12",
            "Patient_13",
            "Patient_14",
            "Patient_15",
            "Patient_16",
            "Patient_17",
            "Patient_18",
            "Patient_19",
            "Patient_2",
            "Patient_20",
            "Patient_3",
            "Patient_4",
            "Patient_5",
            "Patient_6",
            "Patient_7",
            "Patient_8",
            "Patient_9"
           ],
           "legendgroup": "Normal",
           "marker": {
            "color": "#636efa",
            "symbol": "circle"
           },
           "mode": "markers",
           "name": "Normal",
           "orientation": "v",
           "showlegend": true,
           "type": "scatter",
           "x": [
            46.50844795197191,
            57.54478573911834,
            37.896489910735966,
            46.53588744918327,
            31.612775199160605,
            55.01980376192148,
            57.13795918608466,
            24.044971090947524,
            77.51449650141087,
            38.66650065235491,
            63.15211638491812,
            60.84502681784647,
            29.717474440976858,
            23.298857203623005,
            56.159488473007485,
            21.346214585648575,
            69.47040025765591,
            30.523168309790623,
            38.7047338717698
           ],
           "xaxis": "x",
           "y": [
            36.88472797819432,
            29.13125094997864,
            42.87261005200703,
            66.84833361544949,
            51.21480596669537,
            23.165772337868606,
            30.57904887127949,
            76.43919556474961,
            69.128650339636,
            25.840817080694258,
            54.97950403486831,
            45.39624568782039,
            28.41809611614287,
            72.1892253400156,
            62.697077099854816,
            78.83402403637636,
            32.4018490714673,
            31.419366497137336,
            51.71099855759353
           ],
           "yaxis": "y"
          },
          {
           "customdata": [
            [
             "Patient_1"
            ]
           ],
           "hovertemplate": "Anomaly_Label=Anomaly<br>Time=79<br>X Coordinate=%{x}<br>Y Coordinate=%{y}<br>PatientID=%{customdata[0]}<extra></extra>",
           "ids": [
            "Patient_1"
           ],
           "legendgroup": "Anomaly",
           "marker": {
            "color": "#EF553B",
            "symbol": "circle"
           },
           "mode": "markers",
           "name": "Anomaly",
           "orientation": "v",
           "showlegend": true,
           "type": "scatter",
           "x": [
            74.39159905003366
           ],
           "xaxis": "x",
           "y": [
            108.9620503037869
           ],
           "yaxis": "y"
          }
         ],
         "name": "79"
        },
        {
         "data": [
          {
           "customdata": [
            [
             "Patient_10"
            ],
            [
             "Patient_11"
            ],
            [
             "Patient_12"
            ],
            [
             "Patient_13"
            ],
            [
             "Patient_14"
            ],
            [
             "Patient_15"
            ],
            [
             "Patient_16"
            ],
            [
             "Patient_17"
            ],
            [
             "Patient_18"
            ],
            [
             "Patient_19"
            ],
            [
             "Patient_2"
            ],
            [
             "Patient_20"
            ],
            [
             "Patient_3"
            ],
            [
             "Patient_4"
            ],
            [
             "Patient_5"
            ],
            [
             "Patient_6"
            ],
            [
             "Patient_7"
            ],
            [
             "Patient_8"
            ],
            [
             "Patient_9"
            ]
           ],
           "hovertemplate": "Anomaly_Label=Normal<br>Time=80<br>X Coordinate=%{x}<br>Y Coordinate=%{y}<br>PatientID=%{customdata[0]}<extra></extra>",
           "ids": [
            "Patient_10",
            "Patient_11",
            "Patient_12",
            "Patient_13",
            "Patient_14",
            "Patient_15",
            "Patient_16",
            "Patient_17",
            "Patient_18",
            "Patient_19",
            "Patient_2",
            "Patient_20",
            "Patient_3",
            "Patient_4",
            "Patient_5",
            "Patient_6",
            "Patient_7",
            "Patient_8",
            "Patient_9"
           ],
           "legendgroup": "Normal",
           "marker": {
            "color": "#636efa",
            "symbol": "circle"
           },
           "mode": "markers",
           "name": "Normal",
           "orientation": "v",
           "showlegend": true,
           "type": "scatter",
           "x": [
            46.218324868812644,
            57.03050376766432,
            37.71248883221795,
            46.92366488469151,
            32.57379423959025,
            55.42581891356652,
            56.000383926589414,
            24.235803990962662,
            77.49876044588369,
            38.392549111665026,
            63.279408723183074,
            60.946147771955594,
            29.864840413143792,
            23.57737196748251,
            56.073150365546155,
            20.40077002830905,
            69.86015757932708,
            31.13015160827566,
            38.36903277380193
           ],
           "xaxis": "x",
           "y": [
            37.62282764487777,
            28.898690801666085,
            42.05575530752064,
            66.7544473017563,
            51.572234007669685,
            22.8100261368265,
            30.817825843871212,
            77.90374095343186,
            68.31483693747855,
            26.183571609245917,
            56.01424896243274,
            45.97266907914923,
            28.732209886171013,
            72.43952651525144,
            63.91855619559612,
            78.7239553946616,
            33.12630671811491,
            30.63769249265103,
            50.556435172235126
           ],
           "yaxis": "y"
          },
          {
           "customdata": [
            [
             "Patient_1"
            ]
           ],
           "hovertemplate": "Anomaly_Label=Anomaly<br>Time=80<br>X Coordinate=%{x}<br>Y Coordinate=%{y}<br>PatientID=%{customdata[0]}<extra></extra>",
           "ids": [
            "Patient_1"
           ],
           "legendgroup": "Anomaly",
           "marker": {
            "color": "#EF553B",
            "symbol": "circle"
           },
           "mode": "markers",
           "name": "Anomaly",
           "orientation": "v",
           "showlegend": true,
           "type": "scatter",
           "x": [
            74.79563945407406
           ],
           "xaxis": "x",
           "y": [
            109.36609070782731
           ],
           "yaxis": "y"
          }
         ],
         "name": "80"
        },
        {
         "data": [
          {
           "customdata": [
            [
             "Patient_10"
            ],
            [
             "Patient_11"
            ],
            [
             "Patient_12"
            ],
            [
             "Patient_13"
            ],
            [
             "Patient_14"
            ],
            [
             "Patient_15"
            ],
            [
             "Patient_16"
            ],
            [
             "Patient_17"
            ],
            [
             "Patient_18"
            ],
            [
             "Patient_19"
            ],
            [
             "Patient_2"
            ],
            [
             "Patient_20"
            ],
            [
             "Patient_3"
            ],
            [
             "Patient_4"
            ],
            [
             "Patient_5"
            ],
            [
             "Patient_6"
            ],
            [
             "Patient_7"
            ],
            [
             "Patient_8"
            ],
            [
             "Patient_9"
            ]
           ],
           "hovertemplate": "Anomaly_Label=Normal<br>Time=81<br>X Coordinate=%{x}<br>Y Coordinate=%{y}<br>PatientID=%{customdata[0]}<extra></extra>",
           "ids": [
            "Patient_10",
            "Patient_11",
            "Patient_12",
            "Patient_13",
            "Patient_14",
            "Patient_15",
            "Patient_16",
            "Patient_17",
            "Patient_18",
            "Patient_19",
            "Patient_2",
            "Patient_20",
            "Patient_3",
            "Patient_4",
            "Patient_5",
            "Patient_6",
            "Patient_7",
            "Patient_8",
            "Patient_9"
           ],
           "legendgroup": "Normal",
           "marker": {
            "color": "#636efa",
            "symbol": "circle"
           },
           "mode": "markers",
           "name": "Normal",
           "orientation": "v",
           "showlegend": true,
           "type": "scatter",
           "x": [
            46.625966791100964,
            57.34965637638687,
            36.925168088184485,
            48.20239556662626,
            31.403751674203605,
            55.71415056986551,
            56.561003601788606,
            24.453506278328074,
            78.20392508388453,
            39.15742021283593,
            63.46149945840244,
            60.46304452801901,
            29.946217781144494,
            23.524815661279984,
            55.6360491694644,
            20.15887788544356,
            69.16581183680438,
            30.74443798544281,
            37.940667624530015
           ],
           "xaxis": "x",
           "y": [
            36.22984408361497,
            28.538643379673363,
            41.44405440109688,
            66.63780424360945,
            51.422723575999065,
            22.318061974931663,
            29.71857107941735,
            77.46381771763656,
            68.68467141761117,
            25.860170004077144,
            56.597230452374944,
            46.63388658079223,
            29.426819468796058,
            72.24759763205407,
            62.49937040734477,
            78.63281895247114,
            33.49205655491107,
            30.898437100240443,
            51.341366460973234
           ],
           "yaxis": "y"
          },
          {
           "customdata": [
            [
             "Patient_1"
            ]
           ],
           "hovertemplate": "Anomaly_Label=Anomaly<br>Time=81<br>X Coordinate=%{x}<br>Y Coordinate=%{y}<br>PatientID=%{customdata[0]}<extra></extra>",
           "ids": [
            "Patient_1"
           ],
           "legendgroup": "Anomaly",
           "marker": {
            "color": "#EF553B",
            "symbol": "circle"
           },
           "mode": "markers",
           "name": "Anomaly",
           "orientation": "v",
           "showlegend": true,
           "type": "scatter",
           "x": [
            75.19967985811448
           ],
           "xaxis": "x",
           "y": [
            109.7701311118677
           ],
           "yaxis": "y"
          }
         ],
         "name": "81"
        },
        {
         "data": [
          {
           "customdata": [
            [
             "Patient_10"
            ],
            [
             "Patient_11"
            ],
            [
             "Patient_12"
            ],
            [
             "Patient_13"
            ],
            [
             "Patient_14"
            ],
            [
             "Patient_15"
            ],
            [
             "Patient_16"
            ],
            [
             "Patient_17"
            ],
            [
             "Patient_18"
            ],
            [
             "Patient_19"
            ],
            [
             "Patient_2"
            ],
            [
             "Patient_20"
            ],
            [
             "Patient_3"
            ],
            [
             "Patient_4"
            ],
            [
             "Patient_5"
            ],
            [
             "Patient_6"
            ],
            [
             "Patient_7"
            ],
            [
             "Patient_8"
            ],
            [
             "Patient_9"
            ]
           ],
           "hovertemplate": "Anomaly_Label=Normal<br>Time=82<br>X Coordinate=%{x}<br>Y Coordinate=%{y}<br>PatientID=%{customdata[0]}<extra></extra>",
           "ids": [
            "Patient_10",
            "Patient_11",
            "Patient_12",
            "Patient_13",
            "Patient_14",
            "Patient_15",
            "Patient_16",
            "Patient_17",
            "Patient_18",
            "Patient_19",
            "Patient_2",
            "Patient_20",
            "Patient_3",
            "Patient_4",
            "Patient_5",
            "Patient_6",
            "Patient_7",
            "Patient_8",
            "Patient_9"
           ],
           "legendgroup": "Normal",
           "marker": {
            "color": "#636efa",
            "symbol": "circle"
           },
           "mode": "markers",
           "name": "Normal",
           "orientation": "v",
           "showlegend": true,
           "type": "scatter",
           "x": [
            46.37358692921974,
            57.50609317243311,
            38.22847623468599,
            46.681286975314435,
            32.23181914294918,
            55.89791358863012,
            55.93950651025335,
            23.420742866241415,
            77.7957296596703,
            38.616291795431884,
            63.73890512533731,
            60.79428340481635,
            29.33416600204332,
            24.045945658207202,
            56.16496643410448,
            20.46058939522141,
            70.49849711968345,
            30.90829611196661,
            37.70845276121322
           ],
           "xaxis": "x",
           "y": [
            36.70088351853715,
            28.65666724956951,
            41.310646723378945,
            67.03607302869717,
            51.752246716280176,
            22.665684124793845,
            30.846447707597065,
            77.74736651258615,
            69.29913192329659,
            25.791829095661804,
            56.12773207087292,
            46.238695685703036,
            28.868519429983504,
            73.13058910750475,
            62.03232052289473,
            78.32357912033027,
            32.977930513944266,
            30.709634765311378,
            51.90276156109671
           ],
           "yaxis": "y"
          },
          {
           "customdata": [
            [
             "Patient_1"
            ]
           ],
           "hovertemplate": "Anomaly_Label=Anomaly<br>Time=82<br>X Coordinate=%{x}<br>Y Coordinate=%{y}<br>PatientID=%{customdata[0]}<extra></extra>",
           "ids": [
            "Patient_1"
           ],
           "legendgroup": "Anomaly",
           "marker": {
            "color": "#EF553B",
            "symbol": "circle"
           },
           "mode": "markers",
           "name": "Anomaly",
           "orientation": "v",
           "showlegend": true,
           "type": "scatter",
           "x": [
            75.60372026215487
           ],
           "xaxis": "x",
           "y": [
            110.17417151590811
           ],
           "yaxis": "y"
          }
         ],
         "name": "82"
        },
        {
         "data": [
          {
           "customdata": [
            [
             "Patient_10"
            ],
            [
             "Patient_11"
            ],
            [
             "Patient_12"
            ],
            [
             "Patient_13"
            ],
            [
             "Patient_14"
            ],
            [
             "Patient_15"
            ],
            [
             "Patient_16"
            ],
            [
             "Patient_17"
            ],
            [
             "Patient_18"
            ],
            [
             "Patient_19"
            ],
            [
             "Patient_2"
            ],
            [
             "Patient_20"
            ],
            [
             "Patient_3"
            ],
            [
             "Patient_4"
            ],
            [
             "Patient_5"
            ],
            [
             "Patient_6"
            ],
            [
             "Patient_7"
            ],
            [
             "Patient_8"
            ],
            [
             "Patient_9"
            ]
           ],
           "hovertemplate": "Anomaly_Label=Normal<br>Time=83<br>X Coordinate=%{x}<br>Y Coordinate=%{y}<br>PatientID=%{customdata[0]}<extra></extra>",
           "ids": [
            "Patient_10",
            "Patient_11",
            "Patient_12",
            "Patient_13",
            "Patient_14",
            "Patient_15",
            "Patient_16",
            "Patient_17",
            "Patient_18",
            "Patient_19",
            "Patient_2",
            "Patient_20",
            "Patient_3",
            "Patient_4",
            "Patient_5",
            "Patient_6",
            "Patient_7",
            "Patient_8",
            "Patient_9"
           ],
           "legendgroup": "Normal",
           "marker": {
            "color": "#636efa",
            "symbol": "circle"
           },
           "mode": "markers",
           "name": "Normal",
           "orientation": "v",
           "showlegend": true,
           "type": "scatter",
           "x": [
            45.87797938816395,
            57.43663745748238,
            36.687349565051754,
            47.22429388183365,
            32.233409706229516,
            56.62740216562585,
            56.558978129402405,
            24.456045791295427,
            77.52981336220257,
            38.70764421265122,
            63.622730804649954,
            60.26548334963392,
            29.400406941405766,
            23.714100787486316,
            55.49023450298965,
            20.338123408814205,
            69.59204796921007,
            30.646558194478434,
            38.45477527082543
           ],
           "xaxis": "x",
           "y": [
            36.87610153008289,
            29.273229960941453,
            41.46969630217831,
            66.62828878612572,
            50.48993020361339,
            23.38229906037166,
            30.744940552897358,
            76.65115849117088,
            68.54291241847248,
            25.92985703970974,
            55.83669334666338,
            46.00773740240066,
            28.295304172964755,
            71.48070813413771,
            61.640682494207375,
            77.51686737816352,
            33.71697620945986,
            31.093145644340044,
            51.5509184910422
           ],
           "yaxis": "y"
          },
          {
           "customdata": [
            [
             "Patient_1"
            ]
           ],
           "hovertemplate": "Anomaly_Label=Anomaly<br>Time=83<br>X Coordinate=%{x}<br>Y Coordinate=%{y}<br>PatientID=%{customdata[0]}<extra></extra>",
           "ids": [
            "Patient_1"
           ],
           "legendgroup": "Anomaly",
           "marker": {
            "color": "#EF553B",
            "symbol": "circle"
           },
           "mode": "markers",
           "name": "Anomaly",
           "orientation": "v",
           "showlegend": true,
           "type": "scatter",
           "x": [
            76.00776066619528
           ],
           "xaxis": "x",
           "y": [
            110.57821191994852
           ],
           "yaxis": "y"
          }
         ],
         "name": "83"
        },
        {
         "data": [
          {
           "customdata": [
            [
             "Patient_10"
            ],
            [
             "Patient_11"
            ],
            [
             "Patient_12"
            ],
            [
             "Patient_13"
            ],
            [
             "Patient_14"
            ],
            [
             "Patient_15"
            ],
            [
             "Patient_16"
            ],
            [
             "Patient_17"
            ],
            [
             "Patient_18"
            ],
            [
             "Patient_19"
            ],
            [
             "Patient_2"
            ],
            [
             "Patient_20"
            ],
            [
             "Patient_3"
            ],
            [
             "Patient_4"
            ],
            [
             "Patient_5"
            ],
            [
             "Patient_6"
            ],
            [
             "Patient_8"
            ],
            [
             "Patient_9"
            ]
           ],
           "hovertemplate": "Anomaly_Label=Normal<br>Time=84<br>X Coordinate=%{x}<br>Y Coordinate=%{y}<br>PatientID=%{customdata[0]}<extra></extra>",
           "ids": [
            "Patient_10",
            "Patient_11",
            "Patient_12",
            "Patient_13",
            "Patient_14",
            "Patient_15",
            "Patient_16",
            "Patient_17",
            "Patient_18",
            "Patient_19",
            "Patient_2",
            "Patient_20",
            "Patient_3",
            "Patient_4",
            "Patient_5",
            "Patient_6",
            "Patient_8",
            "Patient_9"
           ],
           "legendgroup": "Normal",
           "marker": {
            "color": "#636efa",
            "symbol": "circle"
           },
           "mode": "markers",
           "name": "Normal",
           "orientation": "v",
           "showlegend": true,
           "type": "scatter",
           "x": [
            45.57923410913167,
            57.70695033444514,
            37.25362127064482,
            47.78456629408693,
            31.334114255925453,
            55.24119691511645,
            56.665612943401214,
            23.01508970209257,
            78.06420640747187,
            38.49892531404758,
            64.9059075970792,
            61.28725424645448,
            29.61391304746413,
            24.620741602803363,
            56.312615430952626,
            21.332810523524795,
            31.25053277745735,
            38.14329712918313
           ],
           "xaxis": "x",
           "y": [
            37.272210417349996,
            27.95360098669758,
            41.90819788590608,
            67.21445893725748,
            50.587982023253105,
            22.74841424058834,
            30.440550299181478,
            77.46510272898043,
            69.19610691078461,
            26.41098831925091,
            55.2265150806227,
            47.08226250247745,
            30.104227774336305,
            71.76837003490414,
            62.76923484636205,
            78.14516852910002,
            31.067359543037014,
            52.50881699579405
           ],
           "yaxis": "y"
          },
          {
           "customdata": [
            [
             "Patient_1"
            ],
            [
             "Patient_7"
            ]
           ],
           "hovertemplate": "Anomaly_Label=Anomaly<br>Time=84<br>X Coordinate=%{x}<br>Y Coordinate=%{y}<br>PatientID=%{customdata[0]}<extra></extra>",
           "ids": [
            "Patient_1",
            "Patient_7"
           ],
           "legendgroup": "Anomaly",
           "marker": {
            "color": "#EF553B",
            "symbol": "circle"
           },
           "mode": "markers",
           "name": "Anomaly",
           "orientation": "v",
           "showlegend": true,
           "type": "scatter",
           "x": [
            76.41180107023568,
            70.16454614277534
           ],
           "xaxis": "x",
           "y": [
            110.98225232398892,
            31.47422359808673
           ],
           "yaxis": "y"
          }
         ],
         "name": "84"
        },
        {
         "data": [
          {
           "customdata": [
            [
             "Patient_10"
            ],
            [
             "Patient_11"
            ],
            [
             "Patient_12"
            ],
            [
             "Patient_13"
            ],
            [
             "Patient_14"
            ],
            [
             "Patient_15"
            ],
            [
             "Patient_16"
            ],
            [
             "Patient_17"
            ],
            [
             "Patient_18"
            ],
            [
             "Patient_19"
            ],
            [
             "Patient_2"
            ],
            [
             "Patient_20"
            ],
            [
             "Patient_3"
            ],
            [
             "Patient_4"
            ],
            [
             "Patient_5"
            ],
            [
             "Patient_6"
            ],
            [
             "Patient_7"
            ],
            [
             "Patient_8"
            ],
            [
             "Patient_9"
            ]
           ],
           "hovertemplate": "Anomaly_Label=Normal<br>Time=85<br>X Coordinate=%{x}<br>Y Coordinate=%{y}<br>PatientID=%{customdata[0]}<extra></extra>",
           "ids": [
            "Patient_10",
            "Patient_11",
            "Patient_12",
            "Patient_13",
            "Patient_14",
            "Patient_15",
            "Patient_16",
            "Patient_17",
            "Patient_18",
            "Patient_19",
            "Patient_2",
            "Patient_20",
            "Patient_3",
            "Patient_4",
            "Patient_5",
            "Patient_6",
            "Patient_7",
            "Patient_8",
            "Patient_9"
           ],
           "legendgroup": "Normal",
           "marker": {
            "color": "#636efa",
            "symbol": "circle"
           },
           "mode": "markers",
           "name": "Normal",
           "orientation": "v",
           "showlegend": true,
           "type": "scatter",
           "x": [
            45.67787832722494,
            56.647346342583674,
            36.063954567111956,
            47.90858388013049,
            31.989836454371883,
            56.392735570627984,
            56.53103797820956,
            23.990738968583734,
            77.73201029999173,
            38.04955229103052,
            65.05585386890775,
            61.008281811974854,
            29.647990637048398,
            22.8408629213602,
            56.13966130347665,
            21.30556100755418,
            70.29425968530046,
            30.853743618854566,
            38.06068461936798
           ],
           "xaxis": "x",
           "y": [
            36.84618072589581,
            28.089327820698855,
            43.00819660987233,
            66.92240732111833,
            50.26823913115792,
            23.735669110586418,
            30.74321274333016,
            76.26476951576203,
            68.56980487037364,
            25.751000201665512,
            56.36402761296214,
            46.36871037544335,
            28.72151901190299,
            72.11692648756704,
            62.17729338525857,
            78.98890459374147,
            32.1698423858202,
            30.601787350779748,
            51.27857806511945
           ],
           "yaxis": "y"
          },
          {
           "customdata": [
            [
             "Patient_1"
            ]
           ],
           "hovertemplate": "Anomaly_Label=Anomaly<br>Time=85<br>X Coordinate=%{x}<br>Y Coordinate=%{y}<br>PatientID=%{customdata[0]}<extra></extra>",
           "ids": [
            "Patient_1"
           ],
           "legendgroup": "Anomaly",
           "marker": {
            "color": "#EF553B",
            "symbol": "circle"
           },
           "mode": "markers",
           "name": "Anomaly",
           "orientation": "v",
           "showlegend": true,
           "type": "scatter",
           "x": [
            76.81584147427608
           ],
           "xaxis": "x",
           "y": [
            111.38629272802933
           ],
           "yaxis": "y"
          }
         ],
         "name": "85"
        },
        {
         "data": [
          {
           "customdata": [
            [
             "Patient_10"
            ],
            [
             "Patient_11"
            ],
            [
             "Patient_12"
            ],
            [
             "Patient_13"
            ],
            [
             "Patient_14"
            ],
            [
             "Patient_15"
            ],
            [
             "Patient_16"
            ],
            [
             "Patient_17"
            ],
            [
             "Patient_18"
            ],
            [
             "Patient_19"
            ],
            [
             "Patient_2"
            ],
            [
             "Patient_20"
            ],
            [
             "Patient_3"
            ],
            [
             "Patient_4"
            ],
            [
             "Patient_5"
            ],
            [
             "Patient_6"
            ],
            [
             "Patient_7"
            ],
            [
             "Patient_8"
            ],
            [
             "Patient_9"
            ]
           ],
           "hovertemplate": "Anomaly_Label=Normal<br>Time=86<br>X Coordinate=%{x}<br>Y Coordinate=%{y}<br>PatientID=%{customdata[0]}<extra></extra>",
           "ids": [
            "Patient_10",
            "Patient_11",
            "Patient_12",
            "Patient_13",
            "Patient_14",
            "Patient_15",
            "Patient_16",
            "Patient_17",
            "Patient_18",
            "Patient_19",
            "Patient_2",
            "Patient_20",
            "Patient_3",
            "Patient_4",
            "Patient_5",
            "Patient_6",
            "Patient_7",
            "Patient_8",
            "Patient_9"
           ],
           "legendgroup": "Normal",
           "marker": {
            "color": "#636efa",
            "symbol": "circle"
           },
           "mode": "markers",
           "name": "Normal",
           "orientation": "v",
           "showlegend": true,
           "type": "scatter",
           "x": [
            45.75319245972206,
            56.95927327702443,
            37.78442869979403,
            47.77194956424429,
            31.888851693974935,
            56.135194587948625,
            56.47530246858629,
            23.652203482711005,
            78.0994092362824,
            38.52694638512053,
            63.561128434120334,
            61.66439224013594,
            29.85002620138929,
            24.06181190175043,
            55.91581041110122,
            21.054414376764502,
            69.44125933806086,
            31.674595631857713,
            37.792252520383215
           ],
           "xaxis": "x",
           "y": [
            37.36702002220729,
            28.10197328283868,
            42.94928761765161,
            67.08651342991544,
            50.67572973772676,
            22.473368040224212,
            30.25704637217803,
            76.24689946125794,
            68.47333890105998,
            25.593526687163447,
            55.277216918972215,
            45.97076273377016,
            28.306847749251997,
            72.66374344512754,
            61.182786123849084,
            78.16249904907527,
            32.48273744379245,
            31.336734172356902,
            50.68658631313656
           ],
           "yaxis": "y"
          },
          {
           "customdata": [
            [
             "Patient_1"
            ]
           ],
           "hovertemplate": "Anomaly_Label=Anomaly<br>Time=86<br>X Coordinate=%{x}<br>Y Coordinate=%{y}<br>PatientID=%{customdata[0]}<extra></extra>",
           "ids": [
            "Patient_1"
           ],
           "legendgroup": "Anomaly",
           "marker": {
            "color": "#EF553B",
            "symbol": "circle"
           },
           "mode": "markers",
           "name": "Anomaly",
           "orientation": "v",
           "showlegend": true,
           "type": "scatter",
           "x": [
            77.2198818783165
           ],
           "xaxis": "x",
           "y": [
            111.79033313206972
           ],
           "yaxis": "y"
          }
         ],
         "name": "86"
        },
        {
         "data": [
          {
           "customdata": [
            [
             "Patient_10"
            ],
            [
             "Patient_11"
            ],
            [
             "Patient_12"
            ],
            [
             "Patient_13"
            ],
            [
             "Patient_14"
            ],
            [
             "Patient_15"
            ],
            [
             "Patient_16"
            ],
            [
             "Patient_17"
            ],
            [
             "Patient_18"
            ],
            [
             "Patient_19"
            ],
            [
             "Patient_2"
            ],
            [
             "Patient_20"
            ],
            [
             "Patient_3"
            ],
            [
             "Patient_5"
            ],
            [
             "Patient_6"
            ],
            [
             "Patient_7"
            ],
            [
             "Patient_8"
            ],
            [
             "Patient_9"
            ]
           ],
           "hovertemplate": "Anomaly_Label=Normal<br>Time=87<br>X Coordinate=%{x}<br>Y Coordinate=%{y}<br>PatientID=%{customdata[0]}<extra></extra>",
           "ids": [
            "Patient_10",
            "Patient_11",
            "Patient_12",
            "Patient_13",
            "Patient_14",
            "Patient_15",
            "Patient_16",
            "Patient_17",
            "Patient_18",
            "Patient_19",
            "Patient_2",
            "Patient_20",
            "Patient_3",
            "Patient_5",
            "Patient_6",
            "Patient_7",
            "Patient_8",
            "Patient_9"
           ],
           "legendgroup": "Normal",
           "marker": {
            "color": "#636efa",
            "symbol": "circle"
           },
           "mode": "markers",
           "name": "Normal",
           "orientation": "v",
           "showlegend": true,
           "type": "scatter",
           "x": [
            46.66541696011676,
            56.659458071197626,
            38.57660066301767,
            47.70367254690327,
            31.955912259082563,
            55.71029978403034,
            56.892399634655,
            24.59134380412654,
            78.28145488240303,
            37.72103602564547,
            64.13702154096275,
            60.788254315049805,
            28.96333989257575,
            56.318273108337934,
            20.752237255986543,
            69.65566743132929,
            30.810529167933694,
            37.33869345396925
           ],
           "xaxis": "x",
           "y": [
            38.40259958365138,
            27.75010528785919,
            42.7789317934961,
            66.70435650911212,
            50.77388626429428,
            23.51252548226553,
            29.692759382745113,
            77.08969830520657,
            69.23711131662697,
            25.8424140510298,
            56.15722439308551,
            45.62521991169335,
            29.571868189102666,
            61.23771925759769,
            79.00917431217015,
            32.15340665849209,
            32.038223760287806,
            50.9597309421146
           ],
           "yaxis": "y"
          },
          {
           "customdata": [
            [
             "Patient_1"
            ],
            [
             "Patient_4"
            ]
           ],
           "hovertemplate": "Anomaly_Label=Anomaly<br>Time=87<br>X Coordinate=%{x}<br>Y Coordinate=%{y}<br>PatientID=%{customdata[0]}<extra></extra>",
           "ids": [
            "Patient_1",
            "Patient_4"
           ],
           "legendgroup": "Anomaly",
           "marker": {
            "color": "#EF553B",
            "symbol": "circle"
           },
           "mode": "markers",
           "name": "Anomaly",
           "orientation": "v",
           "showlegend": true,
           "type": "scatter",
           "x": [
            77.62392228235689,
            24.124776064972046
           ],
           "xaxis": "x",
           "y": [
            112.19437353611013,
            70.86215932681908
           ],
           "yaxis": "y"
          }
         ],
         "name": "87"
        },
        {
         "data": [
          {
           "customdata": [
            [
             "Patient_10"
            ],
            [
             "Patient_11"
            ],
            [
             "Patient_12"
            ],
            [
             "Patient_13"
            ],
            [
             "Patient_14"
            ],
            [
             "Patient_15"
            ],
            [
             "Patient_16"
            ],
            [
             "Patient_17"
            ],
            [
             "Patient_18"
            ],
            [
             "Patient_19"
            ],
            [
             "Patient_2"
            ],
            [
             "Patient_20"
            ],
            [
             "Patient_3"
            ],
            [
             "Patient_4"
            ],
            [
             "Patient_5"
            ],
            [
             "Patient_6"
            ],
            [
             "Patient_7"
            ],
            [
             "Patient_8"
            ],
            [
             "Patient_9"
            ]
           ],
           "hovertemplate": "Anomaly_Label=Normal<br>Time=88<br>X Coordinate=%{x}<br>Y Coordinate=%{y}<br>PatientID=%{customdata[0]}<extra></extra>",
           "ids": [
            "Patient_10",
            "Patient_11",
            "Patient_12",
            "Patient_13",
            "Patient_14",
            "Patient_15",
            "Patient_16",
            "Patient_17",
            "Patient_18",
            "Patient_19",
            "Patient_2",
            "Patient_20",
            "Patient_3",
            "Patient_4",
            "Patient_5",
            "Patient_6",
            "Patient_7",
            "Patient_8",
            "Patient_9"
           ],
           "legendgroup": "Normal",
           "marker": {
            "color": "#636efa",
            "symbol": "circle"
           },
           "mode": "markers",
           "name": "Normal",
           "orientation": "v",
           "showlegend": true,
           "type": "scatter",
           "x": [
            45.76796001809002,
            56.87156654630911,
            36.89364836775708,
            46.948221594274926,
            31.572739115343524,
            56.60725983323103,
            57.41287486515843,
            23.93872245407222,
            77.59007454587503,
            38.896618153623024,
            62.99959763643143,
            61.58817125757642,
            29.68138989408358,
            23.428452703834097,
            56.18329407606261,
            20.140108805258873,
            70.42575135794634,
            31.024035376528886,
            38.36670440596131
           ],
           "xaxis": "x",
           "y": [
            38.12974028116948,
            28.466657610925445,
            42.125188524772355,
            66.79141632031657,
            50.32094883886708,
            23.452694294194064,
            29.619999911459708,
            76.28637842259795,
            68.04477739527937,
            25.66221200133215,
            55.90336874629746,
            46.711210069170335,
            29.421210321000252,
            71.3209605647732,
            62.10597267925477,
            78.79188723997653,
            32.76617712912211,
            31.54142959756381,
            51.93739467531493
           ],
           "yaxis": "y"
          },
          {
           "customdata": [
            [
             "Patient_1"
            ]
           ],
           "hovertemplate": "Anomaly_Label=Anomaly<br>Time=88<br>X Coordinate=%{x}<br>Y Coordinate=%{y}<br>PatientID=%{customdata[0]}<extra></extra>",
           "ids": [
            "Patient_1"
           ],
           "legendgroup": "Anomaly",
           "marker": {
            "color": "#EF553B",
            "symbol": "circle"
           },
           "mode": "markers",
           "name": "Anomaly",
           "orientation": "v",
           "showlegend": true,
           "type": "scatter",
           "x": [
            78.0279626863973
           ],
           "xaxis": "x",
           "y": [
            112.59841394015054
           ],
           "yaxis": "y"
          }
         ],
         "name": "88"
        },
        {
         "data": [
          {
           "customdata": [
            [
             "Patient_10"
            ],
            [
             "Patient_11"
            ],
            [
             "Patient_12"
            ],
            [
             "Patient_13"
            ],
            [
             "Patient_14"
            ],
            [
             "Patient_15"
            ],
            [
             "Patient_16"
            ],
            [
             "Patient_17"
            ],
            [
             "Patient_18"
            ],
            [
             "Patient_19"
            ],
            [
             "Patient_2"
            ],
            [
             "Patient_20"
            ],
            [
             "Patient_3"
            ],
            [
             "Patient_4"
            ],
            [
             "Patient_5"
            ],
            [
             "Patient_7"
            ],
            [
             "Patient_8"
            ],
            [
             "Patient_9"
            ]
           ],
           "hovertemplate": "Anomaly_Label=Normal<br>Time=89<br>X Coordinate=%{x}<br>Y Coordinate=%{y}<br>PatientID=%{customdata[0]}<extra></extra>",
           "ids": [
            "Patient_10",
            "Patient_11",
            "Patient_12",
            "Patient_13",
            "Patient_14",
            "Patient_15",
            "Patient_16",
            "Patient_17",
            "Patient_18",
            "Patient_19",
            "Patient_2",
            "Patient_20",
            "Patient_3",
            "Patient_4",
            "Patient_5",
            "Patient_7",
            "Patient_8",
            "Patient_9"
           ],
           "legendgroup": "Normal",
           "marker": {
            "color": "#636efa",
            "symbol": "circle"
           },
           "mode": "markers",
           "name": "Normal",
           "orientation": "v",
           "showlegend": true,
           "type": "scatter",
           "x": [
            45.93371482406306,
            56.621627040834696,
            37.875106790022,
            46.87129714868824,
            32.57780836044005,
            54.85844440598202,
            55.46357848939889,
            24.85197908748976,
            77.52076046172778,
            37.50542539279742,
            64.5492531285777,
            61.35220215952029,
            28.874429007532676,
            23.65308921160508,
            55.654932961106525,
            70.33762344879105,
            30.519571559315217,
            37.5797464717965
           ],
           "xaxis": "x",
           "y": [
            37.529434712802534,
            28.56754152967047,
            42.34902937035117,
            66.96848013461643,
            51.30138989860363,
            22.962764713375964,
            30.254914872267676,
            76.4591858765655,
            68.8858557777741,
            25.54394932544051,
            56.49272948702256,
            46.09200670053138,
            29.86323788840874,
            71.8568306165194,
            62.12479994203814,
            32.34489694986279,
            31.545262995831003,
            51.277779013981636
           ],
           "yaxis": "y"
          },
          {
           "customdata": [
            [
             "Patient_1"
            ],
            [
             "Patient_6"
            ]
           ],
           "hovertemplate": "Anomaly_Label=Anomaly<br>Time=89<br>X Coordinate=%{x}<br>Y Coordinate=%{y}<br>PatientID=%{customdata[0]}<extra></extra>",
           "ids": [
            "Patient_1",
            "Patient_6"
           ],
           "legendgroup": "Anomaly",
           "marker": {
            "color": "#EF553B",
            "symbol": "circle"
           },
           "mode": "markers",
           "name": "Anomaly",
           "orientation": "v",
           "showlegend": true,
           "type": "scatter",
           "x": [
            78.4320030904377,
            22.25997570564111
           ],
           "xaxis": "x",
           "y": [
            113.00245434419094,
            78.1949325391984
           ],
           "yaxis": "y"
          }
         ],
         "name": "89"
        },
        {
         "data": [
          {
           "customdata": [
            [
             "Patient_10"
            ],
            [
             "Patient_11"
            ],
            [
             "Patient_12"
            ],
            [
             "Patient_13"
            ],
            [
             "Patient_14"
            ],
            [
             "Patient_15"
            ],
            [
             "Patient_16"
            ],
            [
             "Patient_17"
            ],
            [
             "Patient_18"
            ],
            [
             "Patient_19"
            ],
            [
             "Patient_2"
            ],
            [
             "Patient_20"
            ],
            [
             "Patient_3"
            ],
            [
             "Patient_4"
            ],
            [
             "Patient_5"
            ],
            [
             "Patient_6"
            ],
            [
             "Patient_7"
            ],
            [
             "Patient_8"
            ],
            [
             "Patient_9"
            ]
           ],
           "hovertemplate": "Anomaly_Label=Normal<br>Time=90<br>X Coordinate=%{x}<br>Y Coordinate=%{y}<br>PatientID=%{customdata[0]}<extra></extra>",
           "ids": [
            "Patient_10",
            "Patient_11",
            "Patient_12",
            "Patient_13",
            "Patient_14",
            "Patient_15",
            "Patient_16",
            "Patient_17",
            "Patient_18",
            "Patient_19",
            "Patient_2",
            "Patient_20",
            "Patient_3",
            "Patient_4",
            "Patient_5",
            "Patient_6",
            "Patient_7",
            "Patient_8",
            "Patient_9"
           ],
           "legendgroup": "Normal",
           "marker": {
            "color": "#636efa",
            "symbol": "circle"
           },
           "mode": "markers",
           "name": "Normal",
           "orientation": "v",
           "showlegend": true,
           "type": "scatter",
           "x": [
            46.12072754194532,
            56.93356058725857,
            37.603360653248686,
            47.36778828647613,
            32.06067174148832,
            55.36485449734406,
            56.639365393942,
            24.49946316182498,
            78.30361211076105,
            38.20575288193197,
            64.13040955045258,
            61.56871033152859,
            29.191557286911173,
            23.42315039004209,
            55.818434692033534,
            20.740090761472143,
            69.5410580162109,
            31.03882860635373,
            38.64597144504655
           ],
           "xaxis": "x",
           "y": [
            37.749147198019344,
            27.95680479772144,
            42.16378074564883,
            66.06731885439528,
            51.96033182451532,
            22.422986214272203,
            30.387636526470775,
            76.30419815724555,
            68.7990519176134,
            26.029670499343876,
            56.0529182499699,
            46.845307314390304,
            29.544701777806637,
            72.199471551459,
            62.39307018057296,
            78.17708732471655,
            32.183323415615575,
            31.11064047913486,
            51.26982311314672
           ],
           "yaxis": "y"
          },
          {
           "customdata": [
            [
             "Patient_1"
            ]
           ],
           "hovertemplate": "Anomaly_Label=Anomaly<br>Time=90<br>X Coordinate=%{x}<br>Y Coordinate=%{y}<br>PatientID=%{customdata[0]}<extra></extra>",
           "ids": [
            "Patient_1"
           ],
           "legendgroup": "Anomaly",
           "marker": {
            "color": "#EF553B",
            "symbol": "circle"
           },
           "mode": "markers",
           "name": "Anomaly",
           "orientation": "v",
           "showlegend": true,
           "type": "scatter",
           "x": [
            78.8360434944781
           ],
           "xaxis": "x",
           "y": [
            113.40649474823134
           ],
           "yaxis": "y"
          }
         ],
         "name": "90"
        },
        {
         "data": [
          {
           "customdata": [
            [
             "Patient_10"
            ],
            [
             "Patient_11"
            ],
            [
             "Patient_12"
            ],
            [
             "Patient_13"
            ],
            [
             "Patient_14"
            ],
            [
             "Patient_15"
            ],
            [
             "Patient_16"
            ],
            [
             "Patient_17"
            ],
            [
             "Patient_18"
            ],
            [
             "Patient_19"
            ],
            [
             "Patient_2"
            ],
            [
             "Patient_20"
            ],
            [
             "Patient_3"
            ],
            [
             "Patient_4"
            ],
            [
             "Patient_5"
            ],
            [
             "Patient_6"
            ],
            [
             "Patient_7"
            ],
            [
             "Patient_8"
            ],
            [
             "Patient_9"
            ]
           ],
           "hovertemplate": "Anomaly_Label=Normal<br>Time=91<br>X Coordinate=%{x}<br>Y Coordinate=%{y}<br>PatientID=%{customdata[0]}<extra></extra>",
           "ids": [
            "Patient_10",
            "Patient_11",
            "Patient_12",
            "Patient_13",
            "Patient_14",
            "Patient_15",
            "Patient_16",
            "Patient_17",
            "Patient_18",
            "Patient_19",
            "Patient_2",
            "Patient_20",
            "Patient_3",
            "Patient_4",
            "Patient_5",
            "Patient_6",
            "Patient_7",
            "Patient_8",
            "Patient_9"
           ],
           "legendgroup": "Normal",
           "marker": {
            "color": "#636efa",
            "symbol": "circle"
           },
           "mode": "markers",
           "name": "Normal",
           "orientation": "v",
           "showlegend": true,
           "type": "scatter",
           "x": [
            46.18338074087967,
            57.3202710392199,
            37.96477741214958,
            47.078326032044124,
            32.446990965672114,
            56.07746011457974,
            55.99453065454959,
            23.832908049664105,
            77.67563847759004,
            38.48885958116147,
            63.88729220616805,
            60.33602682879515,
            29.39771692204704,
            24.0808704786455,
            55.507127640400945,
            21.324417016153387,
            70.24810579049974,
            32.15209299076548,
            38.892229946571774
           ],
           "xaxis": "x",
           "y": [
            37.893482664141715,
            28.898315791811623,
            41.82416723202444,
            67.27686143874293,
            50.742705954428395,
            23.513333135942954,
            29.81298706933935,
            77.08693856929459,
            69.17994222642123,
            25.8800503645034,
            55.955946100829955,
            45.751241716162326,
            29.28454972577303,
            71.9287097665715,
            62.287589739777864,
            78.8091985218682,
            32.31507900132305,
            31.13665824669502,
            51.40952868114566
           ],
           "yaxis": "y"
          },
          {
           "customdata": [
            [
             "Patient_1"
            ]
           ],
           "hovertemplate": "Anomaly_Label=Anomaly<br>Time=91<br>X Coordinate=%{x}<br>Y Coordinate=%{y}<br>PatientID=%{customdata[0]}<extra></extra>",
           "ids": [
            "Patient_1"
           ],
           "legendgroup": "Anomaly",
           "marker": {
            "color": "#EF553B",
            "symbol": "circle"
           },
           "mode": "markers",
           "name": "Anomaly",
           "orientation": "v",
           "showlegend": true,
           "type": "scatter",
           "x": [
            79.24008389851852
           ],
           "xaxis": "x",
           "y": [
            113.81053515227174
           ],
           "yaxis": "y"
          }
         ],
         "name": "91"
        },
        {
         "data": [
          {
           "customdata": [
            [
             "Patient_10"
            ],
            [
             "Patient_11"
            ],
            [
             "Patient_12"
            ],
            [
             "Patient_13"
            ],
            [
             "Patient_14"
            ],
            [
             "Patient_15"
            ],
            [
             "Patient_16"
            ],
            [
             "Patient_17"
            ],
            [
             "Patient_18"
            ],
            [
             "Patient_19"
            ],
            [
             "Patient_2"
            ],
            [
             "Patient_20"
            ],
            [
             "Patient_3"
            ],
            [
             "Patient_4"
            ],
            [
             "Patient_5"
            ],
            [
             "Patient_7"
            ],
            [
             "Patient_8"
            ],
            [
             "Patient_9"
            ]
           ],
           "hovertemplate": "Anomaly_Label=Normal<br>Time=92<br>X Coordinate=%{x}<br>Y Coordinate=%{y}<br>PatientID=%{customdata[0]}<extra></extra>",
           "ids": [
            "Patient_10",
            "Patient_11",
            "Patient_12",
            "Patient_13",
            "Patient_14",
            "Patient_15",
            "Patient_16",
            "Patient_17",
            "Patient_18",
            "Patient_19",
            "Patient_2",
            "Patient_20",
            "Patient_3",
            "Patient_4",
            "Patient_5",
            "Patient_7",
            "Patient_8",
            "Patient_9"
           ],
           "legendgroup": "Normal",
           "marker": {
            "color": "#636efa",
            "symbol": "circle"
           },
           "mode": "markers",
           "name": "Normal",
           "orientation": "v",
           "showlegend": true,
           "type": "scatter",
           "x": [
            46.34570821617802,
            55.701929751148455,
            37.925266756222435,
            47.13527485993091,
            31.795135548301193,
            55.18753379322734,
            56.61353038477455,
            23.405521338190084,
            76.84938946125213,
            38.991255004309025,
            64.42595521350634,
            60.76101775407054,
            30.98266491134356,
            23.39429219546821,
            56.56469146159354,
            69.63554104524812,
            31.157934827679835,
            37.65468581338961
           ],
           "xaxis": "x",
           "y": [
            37.059650275399896,
            28.4421635121022,
            41.920682031560865,
            67.03087656750787,
            50.18004274884662,
            23.04766471570677,
            30.3154773242209,
            76.84238065413216,
            68.59307921893036,
            25.123260774361977,
            55.840432129636035,
            46.57370301373114,
            30.513629345480215,
            71.91740024523045,
            63.33594097272175,
            33.031715432283505,
            31.539156318697955,
            50.327313966449836
           ],
           "yaxis": "y"
          },
          {
           "customdata": [
            [
             "Patient_1"
            ],
            [
             "Patient_6"
            ]
           ],
           "hovertemplate": "Anomaly_Label=Anomaly<br>Time=92<br>X Coordinate=%{x}<br>Y Coordinate=%{y}<br>PatientID=%{customdata[0]}<extra></extra>",
           "ids": [
            "Patient_1",
            "Patient_6"
           ],
           "legendgroup": "Anomaly",
           "marker": {
            "color": "#EF553B",
            "symbol": "circle"
           },
           "mode": "markers",
           "name": "Anomaly",
           "orientation": "v",
           "showlegend": true,
           "type": "scatter",
           "x": [
            79.64412430255891,
            20.41605512903014
           ],
           "xaxis": "x",
           "y": [
            114.21457555631216,
            77.30140339704232
           ],
           "yaxis": "y"
          }
         ],
         "name": "92"
        },
        {
         "data": [
          {
           "customdata": [
            [
             "Patient_10"
            ],
            [
             "Patient_11"
            ],
            [
             "Patient_12"
            ],
            [
             "Patient_13"
            ],
            [
             "Patient_14"
            ],
            [
             "Patient_15"
            ],
            [
             "Patient_16"
            ],
            [
             "Patient_17"
            ],
            [
             "Patient_18"
            ],
            [
             "Patient_19"
            ],
            [
             "Patient_2"
            ],
            [
             "Patient_20"
            ],
            [
             "Patient_3"
            ],
            [
             "Patient_4"
            ],
            [
             "Patient_5"
            ],
            [
             "Patient_6"
            ],
            [
             "Patient_7"
            ],
            [
             "Patient_8"
            ],
            [
             "Patient_9"
            ]
           ],
           "hovertemplate": "Anomaly_Label=Normal<br>Time=93<br>X Coordinate=%{x}<br>Y Coordinate=%{y}<br>PatientID=%{customdata[0]}<extra></extra>",
           "ids": [
            "Patient_10",
            "Patient_11",
            "Patient_12",
            "Patient_13",
            "Patient_14",
            "Patient_15",
            "Patient_16",
            "Patient_17",
            "Patient_18",
            "Patient_19",
            "Patient_2",
            "Patient_20",
            "Patient_3",
            "Patient_4",
            "Patient_5",
            "Patient_6",
            "Patient_7",
            "Patient_8",
            "Patient_9"
           ],
           "legendgroup": "Normal",
           "marker": {
            "color": "#636efa",
            "symbol": "circle"
           },
           "mode": "markers",
           "name": "Normal",
           "orientation": "v",
           "showlegend": true,
           "type": "scatter",
           "x": [
            46.417613545367914,
            56.32017193708725,
            36.64314463556905,
            46.44862661385298,
            30.942632924962318,
            55.469713901586616,
            55.931402266751014,
            24.13528051089006,
            78.09610114524163,
            38.36735752178778,
            63.573511344051354,
            61.3470644909258,
            29.412837491200246,
            23.623695961074304,
            56.22794185997602,
            20.828562471618085,
            70.05943920958119,
            30.421815018786912,
            38.58688595023882
           ],
           "xaxis": "x",
           "y": [
            37.22496299268991,
            27.989780080382367,
            42.2174817878306,
            66.49633576794794,
            50.811031458421255,
            22.62367665660668,
            29.64533054451917,
            76.65785626934574,
            68.06121654392555,
            26.511965859041062,
            54.93504748061415,
            46.20294271526784,
            30.38070924024403,
            71.95942925690426,
            62.47880866578843,
            78.60623108755853,
            32.7491532666634,
            31.65602455717341,
            51.208925479250624
           ],
           "yaxis": "y"
          },
          {
           "customdata": [
            [
             "Patient_1"
            ]
           ],
           "hovertemplate": "Anomaly_Label=Anomaly<br>Time=93<br>X Coordinate=%{x}<br>Y Coordinate=%{y}<br>PatientID=%{customdata[0]}<extra></extra>",
           "ids": [
            "Patient_1"
           ],
           "legendgroup": "Anomaly",
           "marker": {
            "color": "#EF553B",
            "symbol": "circle"
           },
           "mode": "markers",
           "name": "Anomaly",
           "orientation": "v",
           "showlegend": true,
           "type": "scatter",
           "x": [
            80.04816470659932
           ],
           "xaxis": "x",
           "y": [
            114.61861596035256
           ],
           "yaxis": "y"
          }
         ],
         "name": "93"
        },
        {
         "data": [
          {
           "customdata": [
            [
             "Patient_10"
            ],
            [
             "Patient_11"
            ],
            [
             "Patient_12"
            ],
            [
             "Patient_13"
            ],
            [
             "Patient_14"
            ],
            [
             "Patient_15"
            ],
            [
             "Patient_16"
            ],
            [
             "Patient_17"
            ],
            [
             "Patient_18"
            ],
            [
             "Patient_19"
            ],
            [
             "Patient_2"
            ],
            [
             "Patient_20"
            ],
            [
             "Patient_3"
            ],
            [
             "Patient_4"
            ],
            [
             "Patient_5"
            ],
            [
             "Patient_6"
            ],
            [
             "Patient_7"
            ],
            [
             "Patient_8"
            ],
            [
             "Patient_9"
            ]
           ],
           "hovertemplate": "Anomaly_Label=Normal<br>Time=94<br>X Coordinate=%{x}<br>Y Coordinate=%{y}<br>PatientID=%{customdata[0]}<extra></extra>",
           "ids": [
            "Patient_10",
            "Patient_11",
            "Patient_12",
            "Patient_13",
            "Patient_14",
            "Patient_15",
            "Patient_16",
            "Patient_17",
            "Patient_18",
            "Patient_19",
            "Patient_2",
            "Patient_20",
            "Patient_3",
            "Patient_4",
            "Patient_5",
            "Patient_6",
            "Patient_7",
            "Patient_8",
            "Patient_9"
           ],
           "legendgroup": "Normal",
           "marker": {
            "color": "#636efa",
            "symbol": "circle"
           },
           "mode": "markers",
           "name": "Normal",
           "orientation": "v",
           "showlegend": true,
           "type": "scatter",
           "x": [
            45.419769781109515,
            56.28292456463817,
            36.89642970863561,
            47.17279045821567,
            31.78158708269428,
            55.34492460065698,
            56.43024459902503,
            23.568037978889656,
            77.34983531619618,
            38.86777169688222,
            63.92357660103167,
            60.952719477197,
            29.278950823603495,
            22.98833738030099,
            55.37262942767692,
            20.62642831163791,
            69.50016469027938,
            30.926854906802316,
            38.58202236968311
           ],
           "xaxis": "x",
           "y": [
            37.68384418333001,
            28.418466827496676,
            41.085157371354214,
            67.0486932104434,
            50.26205102570542,
            22.92167213949023,
            30.322697936537097,
            77.51899119255808,
            68.74762103553103,
            26.10078088675748,
            55.756703525747945,
            46.145001101044585,
            29.465717896709247,
            71.46262933300112,
            61.68421911551088,
            78.27432238312173,
            32.99715387281212,
            30.020018484487004,
            51.89078522073012
           ],
           "yaxis": "y"
          },
          {
           "customdata": [
            [
             "Patient_1"
            ]
           ],
           "hovertemplate": "Anomaly_Label=Anomaly<br>Time=94<br>X Coordinate=%{x}<br>Y Coordinate=%{y}<br>PatientID=%{customdata[0]}<extra></extra>",
           "ids": [
            "Patient_1"
           ],
           "legendgroup": "Anomaly",
           "marker": {
            "color": "#EF553B",
            "symbol": "circle"
           },
           "mode": "markers",
           "name": "Anomaly",
           "orientation": "v",
           "showlegend": true,
           "type": "scatter",
           "x": [
            80.45220511063972
           ],
           "xaxis": "x",
           "y": [
            115.02265636439296
           ],
           "yaxis": "y"
          }
         ],
         "name": "94"
        },
        {
         "data": [
          {
           "customdata": [
            [
             "Patient_10"
            ],
            [
             "Patient_11"
            ],
            [
             "Patient_12"
            ],
            [
             "Patient_13"
            ],
            [
             "Patient_14"
            ],
            [
             "Patient_15"
            ],
            [
             "Patient_16"
            ],
            [
             "Patient_17"
            ],
            [
             "Patient_18"
            ],
            [
             "Patient_19"
            ],
            [
             "Patient_2"
            ],
            [
             "Patient_20"
            ],
            [
             "Patient_3"
            ],
            [
             "Patient_4"
            ],
            [
             "Patient_5"
            ],
            [
             "Patient_6"
            ],
            [
             "Patient_7"
            ],
            [
             "Patient_8"
            ],
            [
             "Patient_9"
            ]
           ],
           "hovertemplate": "Anomaly_Label=Normal<br>Time=95<br>X Coordinate=%{x}<br>Y Coordinate=%{y}<br>PatientID=%{customdata[0]}<extra></extra>",
           "ids": [
            "Patient_10",
            "Patient_11",
            "Patient_12",
            "Patient_13",
            "Patient_14",
            "Patient_15",
            "Patient_16",
            "Patient_17",
            "Patient_18",
            "Patient_19",
            "Patient_2",
            "Patient_20",
            "Patient_3",
            "Patient_4",
            "Patient_5",
            "Patient_6",
            "Patient_7",
            "Patient_8",
            "Patient_9"
           ],
           "legendgroup": "Normal",
           "marker": {
            "color": "#636efa",
            "symbol": "circle"
           },
           "mode": "markers",
           "name": "Normal",
           "orientation": "v",
           "showlegend": true,
           "type": "scatter",
           "x": [
            45.654369914993545,
            57.35920521423347,
            37.34592594362046,
            46.66630445192591,
            31.618431763630277,
            55.31889944576661,
            56.44916862134602,
            23.71716663797744,
            78.09768431986504,
            38.34676976682181,
            63.43457437849448,
            60.35887062815268,
            29.97994530530219,
            23.000993850836846,
            55.75973913254438,
            21.72451443702654,
            70.7509488758925,
            31.454928867727887,
            38.17956421803271
           ],
           "xaxis": "x",
           "y": [
            37.72057583570409,
            27.816053230721284,
            41.90606098750524,
            67.40623230446002,
            50.756371129228185,
            22.392355510340025,
            30.12364263195348,
            76.56890142435982,
            69.33064952123381,
            26.358385947838595,
            55.72073016907633,
            46.48803034402296,
            29.549555038192608,
            71.81541489380366,
            62.12946017164596,
            77.50871956508792,
            33.154461485788886,
            30.7728008351934,
            50.76880999067192
           ],
           "yaxis": "y"
          },
          {
           "customdata": [
            [
             "Patient_1"
            ]
           ],
           "hovertemplate": "Anomaly_Label=Anomaly<br>Time=95<br>X Coordinate=%{x}<br>Y Coordinate=%{y}<br>PatientID=%{customdata[0]}<extra></extra>",
           "ids": [
            "Patient_1"
           ],
           "legendgroup": "Anomaly",
           "marker": {
            "color": "#EF553B",
            "symbol": "circle"
           },
           "mode": "markers",
           "name": "Anomaly",
           "orientation": "v",
           "showlegend": true,
           "type": "scatter",
           "x": [
            80.85624551468013
           ],
           "xaxis": "x",
           "y": [
            115.42669676843336
           ],
           "yaxis": "y"
          }
         ],
         "name": "95"
        },
        {
         "data": [
          {
           "customdata": [
            [
             "Patient_10"
            ],
            [
             "Patient_11"
            ],
            [
             "Patient_12"
            ],
            [
             "Patient_13"
            ],
            [
             "Patient_14"
            ],
            [
             "Patient_15"
            ],
            [
             "Patient_16"
            ],
            [
             "Patient_17"
            ],
            [
             "Patient_19"
            ],
            [
             "Patient_2"
            ],
            [
             "Patient_20"
            ],
            [
             "Patient_3"
            ],
            [
             "Patient_4"
            ],
            [
             "Patient_5"
            ],
            [
             "Patient_6"
            ],
            [
             "Patient_7"
            ],
            [
             "Patient_8"
            ],
            [
             "Patient_9"
            ]
           ],
           "hovertemplate": "Anomaly_Label=Normal<br>Time=96<br>X Coordinate=%{x}<br>Y Coordinate=%{y}<br>PatientID=%{customdata[0]}<extra></extra>",
           "ids": [
            "Patient_10",
            "Patient_11",
            "Patient_12",
            "Patient_13",
            "Patient_14",
            "Patient_15",
            "Patient_16",
            "Patient_17",
            "Patient_19",
            "Patient_2",
            "Patient_20",
            "Patient_3",
            "Patient_4",
            "Patient_5",
            "Patient_6",
            "Patient_7",
            "Patient_8",
            "Patient_9"
           ],
           "legendgroup": "Normal",
           "marker": {
            "color": "#636efa",
            "symbol": "circle"
           },
           "mode": "markers",
           "name": "Normal",
           "orientation": "v",
           "showlegend": true,
           "type": "scatter",
           "x": [
            46.26312991064566,
            56.31120342999181,
            37.332152533582395,
            48.06092631678437,
            32.19509734090245,
            55.266814758342164,
            57.287225876999464,
            24.710484974471697,
            38.56977825098457,
            63.54995080495479,
            60.34634799476732,
            29.836126340881016,
            22.718666450147,
            56.21775070904339,
            20.313172866007775,
            69.91451956595095,
            29.81143412187606,
            38.326058962511745
           ],
           "xaxis": "x",
           "y": [
            37.76503407128691,
            27.415630570560857,
            42.48252651022578,
            67.46583223472972,
            51.04388612900968,
            22.721994616423054,
            29.760168418341554,
            76.77211815795397,
            25.49194177240922,
            56.515458719028985,
            46.51841664558155,
            29.48117358119936,
            71.87242842080215,
            62.57212278255203,
            77.74943220570974,
            33.00849209545517,
            30.9232086034661,
            51.91019189219238
           ],
           "yaxis": "y"
          },
          {
           "customdata": [
            [
             "Patient_1"
            ],
            [
             "Patient_18"
            ]
           ],
           "hovertemplate": "Anomaly_Label=Anomaly<br>Time=96<br>X Coordinate=%{x}<br>Y Coordinate=%{y}<br>PatientID=%{customdata[0]}<extra></extra>",
           "ids": [
            "Patient_1",
            "Patient_18"
           ],
           "legendgroup": "Anomaly",
           "marker": {
            "color": "#EF553B",
            "symbol": "circle"
           },
           "mode": "markers",
           "name": "Anomaly",
           "orientation": "v",
           "showlegend": true,
           "type": "scatter",
           "x": [
            81.26028591872054,
            78.6006380390211
           ],
           "xaxis": "x",
           "y": [
            115.83073717247376,
            67.8004333822389
           ],
           "yaxis": "y"
          }
         ],
         "name": "96"
        },
        {
         "data": [
          {
           "customdata": [
            [
             "Patient_10"
            ],
            [
             "Patient_11"
            ],
            [
             "Patient_12"
            ],
            [
             "Patient_13"
            ],
            [
             "Patient_14"
            ],
            [
             "Patient_15"
            ],
            [
             "Patient_16"
            ],
            [
             "Patient_17"
            ],
            [
             "Patient_18"
            ],
            [
             "Patient_19"
            ],
            [
             "Patient_2"
            ],
            [
             "Patient_20"
            ],
            [
             "Patient_3"
            ],
            [
             "Patient_4"
            ],
            [
             "Patient_5"
            ],
            [
             "Patient_6"
            ],
            [
             "Patient_7"
            ],
            [
             "Patient_8"
            ],
            [
             "Patient_9"
            ]
           ],
           "hovertemplate": "Anomaly_Label=Normal<br>Time=97<br>X Coordinate=%{x}<br>Y Coordinate=%{y}<br>PatientID=%{customdata[0]}<extra></extra>",
           "ids": [
            "Patient_10",
            "Patient_11",
            "Patient_12",
            "Patient_13",
            "Patient_14",
            "Patient_15",
            "Patient_16",
            "Patient_17",
            "Patient_18",
            "Patient_19",
            "Patient_2",
            "Patient_20",
            "Patient_3",
            "Patient_4",
            "Patient_5",
            "Patient_6",
            "Patient_7",
            "Patient_8",
            "Patient_9"
           ],
           "legendgroup": "Normal",
           "marker": {
            "color": "#636efa",
            "symbol": "circle"
           },
           "mode": "markers",
           "name": "Normal",
           "orientation": "v",
           "showlegend": true,
           "type": "scatter",
           "x": [
            46.25246670439147,
            57.1549256670498,
            37.558721909420676,
            47.98895150337523,
            31.805707265893105,
            55.73445069108561,
            56.15420397072576,
            23.696985206604538,
            78.2067369359485,
            38.136829499465,
            63.1701285284551,
            61.31162875154165,
            29.3174007621576,
            23.95981401577421,
            56.99465236198966,
            21.0618564047447,
            69.81522868786723,
            31.38965043056677,
            37.664850016755956
           ],
           "xaxis": "x",
           "y": [
            38.23776409157643,
            28.75005496627825,
            42.17586660033322,
            66.444168984841,
            50.467781930438576,
            23.402135851025257,
            29.03629523750277,
            77.38986910120869,
            68.71793401089295,
            25.220811472273137,
            55.87358666965472,
            45.992008719358765,
            29.63383103394941,
            71.94086115585986,
            62.59647204003038,
            77.38880745016826,
            32.572153167991004,
            31.235512403239458,
            51.57151309113979
           ],
           "yaxis": "y"
          },
          {
           "customdata": [
            [
             "Patient_1"
            ]
           ],
           "hovertemplate": "Anomaly_Label=Anomaly<br>Time=97<br>X Coordinate=%{x}<br>Y Coordinate=%{y}<br>PatientID=%{customdata[0]}<extra></extra>",
           "ids": [
            "Patient_1"
           ],
           "legendgroup": "Anomaly",
           "marker": {
            "color": "#EF553B",
            "symbol": "circle"
           },
           "mode": "markers",
           "name": "Anomaly",
           "orientation": "v",
           "showlegend": true,
           "type": "scatter",
           "x": [
            81.66432632276093
           ],
           "xaxis": "x",
           "y": [
            116.23477757651418
           ],
           "yaxis": "y"
          }
         ],
         "name": "97"
        },
        {
         "data": [
          {
           "customdata": [
            [
             "Patient_10"
            ],
            [
             "Patient_11"
            ],
            [
             "Patient_12"
            ],
            [
             "Patient_13"
            ],
            [
             "Patient_14"
            ],
            [
             "Patient_15"
            ],
            [
             "Patient_16"
            ],
            [
             "Patient_17"
            ],
            [
             "Patient_18"
            ],
            [
             "Patient_19"
            ],
            [
             "Patient_2"
            ],
            [
             "Patient_20"
            ],
            [
             "Patient_3"
            ],
            [
             "Patient_4"
            ],
            [
             "Patient_5"
            ],
            [
             "Patient_6"
            ],
            [
             "Patient_7"
            ],
            [
             "Patient_8"
            ],
            [
             "Patient_9"
            ]
           ],
           "hovertemplate": "Anomaly_Label=Normal<br>Time=98<br>X Coordinate=%{x}<br>Y Coordinate=%{y}<br>PatientID=%{customdata[0]}<extra></extra>",
           "ids": [
            "Patient_10",
            "Patient_11",
            "Patient_12",
            "Patient_13",
            "Patient_14",
            "Patient_15",
            "Patient_16",
            "Patient_17",
            "Patient_18",
            "Patient_19",
            "Patient_2",
            "Patient_20",
            "Patient_3",
            "Patient_4",
            "Patient_5",
            "Patient_6",
            "Patient_7",
            "Patient_8",
            "Patient_9"
           ],
           "legendgroup": "Normal",
           "marker": {
            "color": "#636efa",
            "symbol": "circle"
           },
           "mode": "markers",
           "name": "Normal",
           "orientation": "v",
           "showlegend": true,
           "type": "scatter",
           "x": [
            45.71810346045395,
            56.884954490244546,
            37.70651338639471,
            47.617319547675116,
            32.26447853206591,
            56.22615555807878,
            58.02871948134234,
            24.02453658569191,
            78.21449656266317,
            39.23854904781472,
            63.62931235740733,
            60.20939007174578,
            29.314646323239398,
            24.043433617856945,
            55.70108483513826,
            21.25972382350826,
            69.64244519430294,
            31.065053027997635,
            39.26217213280258
           ],
           "xaxis": "x",
           "y": [
            36.922613541654584,
            28.412980488829707,
            42.077499295718546,
            67.83421053327673,
            50.32923855536173,
            23.607332044944005,
            29.669700404617693,
            75.8920828836055,
            68.22974073790428,
            25.47301935537374,
            55.61381642812788,
            46.173517754024815,
            29.239920259161284,
            72.06377683136813,
            63.42957501034062,
            78.57901096770412,
            32.92190445456883,
            30.059445945157954,
            52.13070812839555
           ],
           "yaxis": "y"
          },
          {
           "customdata": [
            [
             "Patient_1"
            ]
           ],
           "hovertemplate": "Anomaly_Label=Anomaly<br>Time=98<br>X Coordinate=%{x}<br>Y Coordinate=%{y}<br>PatientID=%{customdata[0]}<extra></extra>",
           "ids": [
            "Patient_1"
           ],
           "legendgroup": "Anomaly",
           "marker": {
            "color": "#EF553B",
            "symbol": "circle"
           },
           "mode": "markers",
           "name": "Anomaly",
           "orientation": "v",
           "showlegend": true,
           "type": "scatter",
           "x": [
            82.06836672680134
           ],
           "xaxis": "x",
           "y": [
            116.63881798055458
           ],
           "yaxis": "y"
          }
         ],
         "name": "98"
        },
        {
         "data": [
          {
           "customdata": [
            [
             "Patient_10"
            ],
            [
             "Patient_11"
            ],
            [
             "Patient_12"
            ],
            [
             "Patient_13"
            ],
            [
             "Patient_14"
            ],
            [
             "Patient_15"
            ],
            [
             "Patient_17"
            ],
            [
             "Patient_18"
            ],
            [
             "Patient_19"
            ],
            [
             "Patient_2"
            ],
            [
             "Patient_20"
            ],
            [
             "Patient_3"
            ],
            [
             "Patient_4"
            ],
            [
             "Patient_5"
            ],
            [
             "Patient_6"
            ],
            [
             "Patient_7"
            ],
            [
             "Patient_8"
            ],
            [
             "Patient_9"
            ]
           ],
           "hovertemplate": "Anomaly_Label=Normal<br>Time=99<br>X Coordinate=%{x}<br>Y Coordinate=%{y}<br>PatientID=%{customdata[0]}<extra></extra>",
           "ids": [
            "Patient_10",
            "Patient_11",
            "Patient_12",
            "Patient_13",
            "Patient_14",
            "Patient_15",
            "Patient_17",
            "Patient_18",
            "Patient_19",
            "Patient_2",
            "Patient_20",
            "Patient_3",
            "Patient_4",
            "Patient_5",
            "Patient_6",
            "Patient_7",
            "Patient_8",
            "Patient_9"
           ],
           "legendgroup": "Normal",
           "marker": {
            "color": "#636efa",
            "symbol": "circle"
           },
           "mode": "markers",
           "name": "Normal",
           "orientation": "v",
           "showlegend": true,
           "type": "scatter",
           "x": [
            45.92801654486538,
            56.218677120434265,
            37.489145241180815,
            47.12378215826617,
            31.721580643066975,
            56.629842425762824,
            23.56377404846972,
            77.54734379540801,
            39.07609520645041,
            62.887094985556146,
            61.485093346672905,
            28.322212516618094,
            24.306705807994234,
            55.63515390211006,
            21.244078093770373,
            69.26312926638491,
            29.55730221662465,
            38.01039765634649
           ],
           "xaxis": "x",
           "y": [
            36.77096688495437,
            28.468971643896214,
            41.69214854280363,
            67.45864168216046,
            50.81002068280216,
            22.0751834447579,
            76.77401347132869,
            68.3739408166039,
            26.261391069692092,
            55.93373784241378,
            45.701036096479754,
            29.19952231790384,
            72.15089269221401,
            62.46875292329319,
            78.43090630264138,
            33.03663027762024,
            30.689328315024124,
            51.80204931096989
           ],
           "yaxis": "y"
          },
          {
           "customdata": [
            [
             "Patient_1"
            ],
            [
             "Patient_16"
            ]
           ],
           "hovertemplate": "Anomaly_Label=Anomaly<br>Time=99<br>X Coordinate=%{x}<br>Y Coordinate=%{y}<br>PatientID=%{customdata[0]}<extra></extra>",
           "ids": [
            "Patient_1",
            "Patient_16"
           ],
           "legendgroup": "Anomaly",
           "marker": {
            "color": "#EF553B",
            "symbol": "circle"
           },
           "mode": "markers",
           "name": "Anomaly",
           "orientation": "v",
           "showlegend": true,
           "type": "scatter",
           "x": [
            82.47240713084175,
            55.52676974829897
           ],
           "xaxis": "x",
           "y": [
            117.04285838459498,
            30.623242253636793
           ],
           "yaxis": "y"
          }
         ],
         "name": "99"
        }
       ],
       "layout": {
        "height": 600,
        "legend": {
         "title": {
          "text": "Anomaly_Label"
         },
         "tracegroupgap": 0
        },
        "sliders": [
         {
          "active": 0,
          "currentvalue": {
           "prefix": "Time="
          },
          "len": 0.9,
          "pad": {
           "b": 10,
           "t": 60
          },
          "steps": [
           {
            "args": [
             [
              "0"
             ],
             {
              "frame": {
               "duration": 0,
               "redraw": false
              },
              "fromcurrent": true,
              "mode": "immediate",
              "transition": {
               "duration": 0,
               "easing": "linear"
              }
             }
            ],
            "label": "0",
            "method": "animate"
           },
           {
            "args": [
             [
              "1"
             ],
             {
              "frame": {
               "duration": 0,
               "redraw": false
              },
              "fromcurrent": true,
              "mode": "immediate",
              "transition": {
               "duration": 0,
               "easing": "linear"
              }
             }
            ],
            "label": "1",
            "method": "animate"
           },
           {
            "args": [
             [
              "2"
             ],
             {
              "frame": {
               "duration": 0,
               "redraw": false
              },
              "fromcurrent": true,
              "mode": "immediate",
              "transition": {
               "duration": 0,
               "easing": "linear"
              }
             }
            ],
            "label": "2",
            "method": "animate"
           },
           {
            "args": [
             [
              "3"
             ],
             {
              "frame": {
               "duration": 0,
               "redraw": false
              },
              "fromcurrent": true,
              "mode": "immediate",
              "transition": {
               "duration": 0,
               "easing": "linear"
              }
             }
            ],
            "label": "3",
            "method": "animate"
           },
           {
            "args": [
             [
              "4"
             ],
             {
              "frame": {
               "duration": 0,
               "redraw": false
              },
              "fromcurrent": true,
              "mode": "immediate",
              "transition": {
               "duration": 0,
               "easing": "linear"
              }
             }
            ],
            "label": "4",
            "method": "animate"
           },
           {
            "args": [
             [
              "5"
             ],
             {
              "frame": {
               "duration": 0,
               "redraw": false
              },
              "fromcurrent": true,
              "mode": "immediate",
              "transition": {
               "duration": 0,
               "easing": "linear"
              }
             }
            ],
            "label": "5",
            "method": "animate"
           },
           {
            "args": [
             [
              "6"
             ],
             {
              "frame": {
               "duration": 0,
               "redraw": false
              },
              "fromcurrent": true,
              "mode": "immediate",
              "transition": {
               "duration": 0,
               "easing": "linear"
              }
             }
            ],
            "label": "6",
            "method": "animate"
           },
           {
            "args": [
             [
              "7"
             ],
             {
              "frame": {
               "duration": 0,
               "redraw": false
              },
              "fromcurrent": true,
              "mode": "immediate",
              "transition": {
               "duration": 0,
               "easing": "linear"
              }
             }
            ],
            "label": "7",
            "method": "animate"
           },
           {
            "args": [
             [
              "8"
             ],
             {
              "frame": {
               "duration": 0,
               "redraw": false
              },
              "fromcurrent": true,
              "mode": "immediate",
              "transition": {
               "duration": 0,
               "easing": "linear"
              }
             }
            ],
            "label": "8",
            "method": "animate"
           },
           {
            "args": [
             [
              "9"
             ],
             {
              "frame": {
               "duration": 0,
               "redraw": false
              },
              "fromcurrent": true,
              "mode": "immediate",
              "transition": {
               "duration": 0,
               "easing": "linear"
              }
             }
            ],
            "label": "9",
            "method": "animate"
           },
           {
            "args": [
             [
              "10"
             ],
             {
              "frame": {
               "duration": 0,
               "redraw": false
              },
              "fromcurrent": true,
              "mode": "immediate",
              "transition": {
               "duration": 0,
               "easing": "linear"
              }
             }
            ],
            "label": "10",
            "method": "animate"
           },
           {
            "args": [
             [
              "11"
             ],
             {
              "frame": {
               "duration": 0,
               "redraw": false
              },
              "fromcurrent": true,
              "mode": "immediate",
              "transition": {
               "duration": 0,
               "easing": "linear"
              }
             }
            ],
            "label": "11",
            "method": "animate"
           },
           {
            "args": [
             [
              "12"
             ],
             {
              "frame": {
               "duration": 0,
               "redraw": false
              },
              "fromcurrent": true,
              "mode": "immediate",
              "transition": {
               "duration": 0,
               "easing": "linear"
              }
             }
            ],
            "label": "12",
            "method": "animate"
           },
           {
            "args": [
             [
              "13"
             ],
             {
              "frame": {
               "duration": 0,
               "redraw": false
              },
              "fromcurrent": true,
              "mode": "immediate",
              "transition": {
               "duration": 0,
               "easing": "linear"
              }
             }
            ],
            "label": "13",
            "method": "animate"
           },
           {
            "args": [
             [
              "14"
             ],
             {
              "frame": {
               "duration": 0,
               "redraw": false
              },
              "fromcurrent": true,
              "mode": "immediate",
              "transition": {
               "duration": 0,
               "easing": "linear"
              }
             }
            ],
            "label": "14",
            "method": "animate"
           },
           {
            "args": [
             [
              "15"
             ],
             {
              "frame": {
               "duration": 0,
               "redraw": false
              },
              "fromcurrent": true,
              "mode": "immediate",
              "transition": {
               "duration": 0,
               "easing": "linear"
              }
             }
            ],
            "label": "15",
            "method": "animate"
           },
           {
            "args": [
             [
              "16"
             ],
             {
              "frame": {
               "duration": 0,
               "redraw": false
              },
              "fromcurrent": true,
              "mode": "immediate",
              "transition": {
               "duration": 0,
               "easing": "linear"
              }
             }
            ],
            "label": "16",
            "method": "animate"
           },
           {
            "args": [
             [
              "17"
             ],
             {
              "frame": {
               "duration": 0,
               "redraw": false
              },
              "fromcurrent": true,
              "mode": "immediate",
              "transition": {
               "duration": 0,
               "easing": "linear"
              }
             }
            ],
            "label": "17",
            "method": "animate"
           },
           {
            "args": [
             [
              "18"
             ],
             {
              "frame": {
               "duration": 0,
               "redraw": false
              },
              "fromcurrent": true,
              "mode": "immediate",
              "transition": {
               "duration": 0,
               "easing": "linear"
              }
             }
            ],
            "label": "18",
            "method": "animate"
           },
           {
            "args": [
             [
              "19"
             ],
             {
              "frame": {
               "duration": 0,
               "redraw": false
              },
              "fromcurrent": true,
              "mode": "immediate",
              "transition": {
               "duration": 0,
               "easing": "linear"
              }
             }
            ],
            "label": "19",
            "method": "animate"
           },
           {
            "args": [
             [
              "20"
             ],
             {
              "frame": {
               "duration": 0,
               "redraw": false
              },
              "fromcurrent": true,
              "mode": "immediate",
              "transition": {
               "duration": 0,
               "easing": "linear"
              }
             }
            ],
            "label": "20",
            "method": "animate"
           },
           {
            "args": [
             [
              "21"
             ],
             {
              "frame": {
               "duration": 0,
               "redraw": false
              },
              "fromcurrent": true,
              "mode": "immediate",
              "transition": {
               "duration": 0,
               "easing": "linear"
              }
             }
            ],
            "label": "21",
            "method": "animate"
           },
           {
            "args": [
             [
              "22"
             ],
             {
              "frame": {
               "duration": 0,
               "redraw": false
              },
              "fromcurrent": true,
              "mode": "immediate",
              "transition": {
               "duration": 0,
               "easing": "linear"
              }
             }
            ],
            "label": "22",
            "method": "animate"
           },
           {
            "args": [
             [
              "23"
             ],
             {
              "frame": {
               "duration": 0,
               "redraw": false
              },
              "fromcurrent": true,
              "mode": "immediate",
              "transition": {
               "duration": 0,
               "easing": "linear"
              }
             }
            ],
            "label": "23",
            "method": "animate"
           },
           {
            "args": [
             [
              "24"
             ],
             {
              "frame": {
               "duration": 0,
               "redraw": false
              },
              "fromcurrent": true,
              "mode": "immediate",
              "transition": {
               "duration": 0,
               "easing": "linear"
              }
             }
            ],
            "label": "24",
            "method": "animate"
           },
           {
            "args": [
             [
              "25"
             ],
             {
              "frame": {
               "duration": 0,
               "redraw": false
              },
              "fromcurrent": true,
              "mode": "immediate",
              "transition": {
               "duration": 0,
               "easing": "linear"
              }
             }
            ],
            "label": "25",
            "method": "animate"
           },
           {
            "args": [
             [
              "26"
             ],
             {
              "frame": {
               "duration": 0,
               "redraw": false
              },
              "fromcurrent": true,
              "mode": "immediate",
              "transition": {
               "duration": 0,
               "easing": "linear"
              }
             }
            ],
            "label": "26",
            "method": "animate"
           },
           {
            "args": [
             [
              "27"
             ],
             {
              "frame": {
               "duration": 0,
               "redraw": false
              },
              "fromcurrent": true,
              "mode": "immediate",
              "transition": {
               "duration": 0,
               "easing": "linear"
              }
             }
            ],
            "label": "27",
            "method": "animate"
           },
           {
            "args": [
             [
              "28"
             ],
             {
              "frame": {
               "duration": 0,
               "redraw": false
              },
              "fromcurrent": true,
              "mode": "immediate",
              "transition": {
               "duration": 0,
               "easing": "linear"
              }
             }
            ],
            "label": "28",
            "method": "animate"
           },
           {
            "args": [
             [
              "29"
             ],
             {
              "frame": {
               "duration": 0,
               "redraw": false
              },
              "fromcurrent": true,
              "mode": "immediate",
              "transition": {
               "duration": 0,
               "easing": "linear"
              }
             }
            ],
            "label": "29",
            "method": "animate"
           },
           {
            "args": [
             [
              "30"
             ],
             {
              "frame": {
               "duration": 0,
               "redraw": false
              },
              "fromcurrent": true,
              "mode": "immediate",
              "transition": {
               "duration": 0,
               "easing": "linear"
              }
             }
            ],
            "label": "30",
            "method": "animate"
           },
           {
            "args": [
             [
              "31"
             ],
             {
              "frame": {
               "duration": 0,
               "redraw": false
              },
              "fromcurrent": true,
              "mode": "immediate",
              "transition": {
               "duration": 0,
               "easing": "linear"
              }
             }
            ],
            "label": "31",
            "method": "animate"
           },
           {
            "args": [
             [
              "32"
             ],
             {
              "frame": {
               "duration": 0,
               "redraw": false
              },
              "fromcurrent": true,
              "mode": "immediate",
              "transition": {
               "duration": 0,
               "easing": "linear"
              }
             }
            ],
            "label": "32",
            "method": "animate"
           },
           {
            "args": [
             [
              "33"
             ],
             {
              "frame": {
               "duration": 0,
               "redraw": false
              },
              "fromcurrent": true,
              "mode": "immediate",
              "transition": {
               "duration": 0,
               "easing": "linear"
              }
             }
            ],
            "label": "33",
            "method": "animate"
           },
           {
            "args": [
             [
              "34"
             ],
             {
              "frame": {
               "duration": 0,
               "redraw": false
              },
              "fromcurrent": true,
              "mode": "immediate",
              "transition": {
               "duration": 0,
               "easing": "linear"
              }
             }
            ],
            "label": "34",
            "method": "animate"
           },
           {
            "args": [
             [
              "35"
             ],
             {
              "frame": {
               "duration": 0,
               "redraw": false
              },
              "fromcurrent": true,
              "mode": "immediate",
              "transition": {
               "duration": 0,
               "easing": "linear"
              }
             }
            ],
            "label": "35",
            "method": "animate"
           },
           {
            "args": [
             [
              "36"
             ],
             {
              "frame": {
               "duration": 0,
               "redraw": false
              },
              "fromcurrent": true,
              "mode": "immediate",
              "transition": {
               "duration": 0,
               "easing": "linear"
              }
             }
            ],
            "label": "36",
            "method": "animate"
           },
           {
            "args": [
             [
              "37"
             ],
             {
              "frame": {
               "duration": 0,
               "redraw": false
              },
              "fromcurrent": true,
              "mode": "immediate",
              "transition": {
               "duration": 0,
               "easing": "linear"
              }
             }
            ],
            "label": "37",
            "method": "animate"
           },
           {
            "args": [
             [
              "38"
             ],
             {
              "frame": {
               "duration": 0,
               "redraw": false
              },
              "fromcurrent": true,
              "mode": "immediate",
              "transition": {
               "duration": 0,
               "easing": "linear"
              }
             }
            ],
            "label": "38",
            "method": "animate"
           },
           {
            "args": [
             [
              "39"
             ],
             {
              "frame": {
               "duration": 0,
               "redraw": false
              },
              "fromcurrent": true,
              "mode": "immediate",
              "transition": {
               "duration": 0,
               "easing": "linear"
              }
             }
            ],
            "label": "39",
            "method": "animate"
           },
           {
            "args": [
             [
              "40"
             ],
             {
              "frame": {
               "duration": 0,
               "redraw": false
              },
              "fromcurrent": true,
              "mode": "immediate",
              "transition": {
               "duration": 0,
               "easing": "linear"
              }
             }
            ],
            "label": "40",
            "method": "animate"
           },
           {
            "args": [
             [
              "41"
             ],
             {
              "frame": {
               "duration": 0,
               "redraw": false
              },
              "fromcurrent": true,
              "mode": "immediate",
              "transition": {
               "duration": 0,
               "easing": "linear"
              }
             }
            ],
            "label": "41",
            "method": "animate"
           },
           {
            "args": [
             [
              "42"
             ],
             {
              "frame": {
               "duration": 0,
               "redraw": false
              },
              "fromcurrent": true,
              "mode": "immediate",
              "transition": {
               "duration": 0,
               "easing": "linear"
              }
             }
            ],
            "label": "42",
            "method": "animate"
           },
           {
            "args": [
             [
              "43"
             ],
             {
              "frame": {
               "duration": 0,
               "redraw": false
              },
              "fromcurrent": true,
              "mode": "immediate",
              "transition": {
               "duration": 0,
               "easing": "linear"
              }
             }
            ],
            "label": "43",
            "method": "animate"
           },
           {
            "args": [
             [
              "44"
             ],
             {
              "frame": {
               "duration": 0,
               "redraw": false
              },
              "fromcurrent": true,
              "mode": "immediate",
              "transition": {
               "duration": 0,
               "easing": "linear"
              }
             }
            ],
            "label": "44",
            "method": "animate"
           },
           {
            "args": [
             [
              "45"
             ],
             {
              "frame": {
               "duration": 0,
               "redraw": false
              },
              "fromcurrent": true,
              "mode": "immediate",
              "transition": {
               "duration": 0,
               "easing": "linear"
              }
             }
            ],
            "label": "45",
            "method": "animate"
           },
           {
            "args": [
             [
              "46"
             ],
             {
              "frame": {
               "duration": 0,
               "redraw": false
              },
              "fromcurrent": true,
              "mode": "immediate",
              "transition": {
               "duration": 0,
               "easing": "linear"
              }
             }
            ],
            "label": "46",
            "method": "animate"
           },
           {
            "args": [
             [
              "47"
             ],
             {
              "frame": {
               "duration": 0,
               "redraw": false
              },
              "fromcurrent": true,
              "mode": "immediate",
              "transition": {
               "duration": 0,
               "easing": "linear"
              }
             }
            ],
            "label": "47",
            "method": "animate"
           },
           {
            "args": [
             [
              "48"
             ],
             {
              "frame": {
               "duration": 0,
               "redraw": false
              },
              "fromcurrent": true,
              "mode": "immediate",
              "transition": {
               "duration": 0,
               "easing": "linear"
              }
             }
            ],
            "label": "48",
            "method": "animate"
           },
           {
            "args": [
             [
              "49"
             ],
             {
              "frame": {
               "duration": 0,
               "redraw": false
              },
              "fromcurrent": true,
              "mode": "immediate",
              "transition": {
               "duration": 0,
               "easing": "linear"
              }
             }
            ],
            "label": "49",
            "method": "animate"
           },
           {
            "args": [
             [
              "50"
             ],
             {
              "frame": {
               "duration": 0,
               "redraw": false
              },
              "fromcurrent": true,
              "mode": "immediate",
              "transition": {
               "duration": 0,
               "easing": "linear"
              }
             }
            ],
            "label": "50",
            "method": "animate"
           },
           {
            "args": [
             [
              "51"
             ],
             {
              "frame": {
               "duration": 0,
               "redraw": false
              },
              "fromcurrent": true,
              "mode": "immediate",
              "transition": {
               "duration": 0,
               "easing": "linear"
              }
             }
            ],
            "label": "51",
            "method": "animate"
           },
           {
            "args": [
             [
              "52"
             ],
             {
              "frame": {
               "duration": 0,
               "redraw": false
              },
              "fromcurrent": true,
              "mode": "immediate",
              "transition": {
               "duration": 0,
               "easing": "linear"
              }
             }
            ],
            "label": "52",
            "method": "animate"
           },
           {
            "args": [
             [
              "53"
             ],
             {
              "frame": {
               "duration": 0,
               "redraw": false
              },
              "fromcurrent": true,
              "mode": "immediate",
              "transition": {
               "duration": 0,
               "easing": "linear"
              }
             }
            ],
            "label": "53",
            "method": "animate"
           },
           {
            "args": [
             [
              "54"
             ],
             {
              "frame": {
               "duration": 0,
               "redraw": false
              },
              "fromcurrent": true,
              "mode": "immediate",
              "transition": {
               "duration": 0,
               "easing": "linear"
              }
             }
            ],
            "label": "54",
            "method": "animate"
           },
           {
            "args": [
             [
              "55"
             ],
             {
              "frame": {
               "duration": 0,
               "redraw": false
              },
              "fromcurrent": true,
              "mode": "immediate",
              "transition": {
               "duration": 0,
               "easing": "linear"
              }
             }
            ],
            "label": "55",
            "method": "animate"
           },
           {
            "args": [
             [
              "56"
             ],
             {
              "frame": {
               "duration": 0,
               "redraw": false
              },
              "fromcurrent": true,
              "mode": "immediate",
              "transition": {
               "duration": 0,
               "easing": "linear"
              }
             }
            ],
            "label": "56",
            "method": "animate"
           },
           {
            "args": [
             [
              "57"
             ],
             {
              "frame": {
               "duration": 0,
               "redraw": false
              },
              "fromcurrent": true,
              "mode": "immediate",
              "transition": {
               "duration": 0,
               "easing": "linear"
              }
             }
            ],
            "label": "57",
            "method": "animate"
           },
           {
            "args": [
             [
              "58"
             ],
             {
              "frame": {
               "duration": 0,
               "redraw": false
              },
              "fromcurrent": true,
              "mode": "immediate",
              "transition": {
               "duration": 0,
               "easing": "linear"
              }
             }
            ],
            "label": "58",
            "method": "animate"
           },
           {
            "args": [
             [
              "59"
             ],
             {
              "frame": {
               "duration": 0,
               "redraw": false
              },
              "fromcurrent": true,
              "mode": "immediate",
              "transition": {
               "duration": 0,
               "easing": "linear"
              }
             }
            ],
            "label": "59",
            "method": "animate"
           },
           {
            "args": [
             [
              "60"
             ],
             {
              "frame": {
               "duration": 0,
               "redraw": false
              },
              "fromcurrent": true,
              "mode": "immediate",
              "transition": {
               "duration": 0,
               "easing": "linear"
              }
             }
            ],
            "label": "60",
            "method": "animate"
           },
           {
            "args": [
             [
              "61"
             ],
             {
              "frame": {
               "duration": 0,
               "redraw": false
              },
              "fromcurrent": true,
              "mode": "immediate",
              "transition": {
               "duration": 0,
               "easing": "linear"
              }
             }
            ],
            "label": "61",
            "method": "animate"
           },
           {
            "args": [
             [
              "62"
             ],
             {
              "frame": {
               "duration": 0,
               "redraw": false
              },
              "fromcurrent": true,
              "mode": "immediate",
              "transition": {
               "duration": 0,
               "easing": "linear"
              }
             }
            ],
            "label": "62",
            "method": "animate"
           },
           {
            "args": [
             [
              "63"
             ],
             {
              "frame": {
               "duration": 0,
               "redraw": false
              },
              "fromcurrent": true,
              "mode": "immediate",
              "transition": {
               "duration": 0,
               "easing": "linear"
              }
             }
            ],
            "label": "63",
            "method": "animate"
           },
           {
            "args": [
             [
              "64"
             ],
             {
              "frame": {
               "duration": 0,
               "redraw": false
              },
              "fromcurrent": true,
              "mode": "immediate",
              "transition": {
               "duration": 0,
               "easing": "linear"
              }
             }
            ],
            "label": "64",
            "method": "animate"
           },
           {
            "args": [
             [
              "65"
             ],
             {
              "frame": {
               "duration": 0,
               "redraw": false
              },
              "fromcurrent": true,
              "mode": "immediate",
              "transition": {
               "duration": 0,
               "easing": "linear"
              }
             }
            ],
            "label": "65",
            "method": "animate"
           },
           {
            "args": [
             [
              "66"
             ],
             {
              "frame": {
               "duration": 0,
               "redraw": false
              },
              "fromcurrent": true,
              "mode": "immediate",
              "transition": {
               "duration": 0,
               "easing": "linear"
              }
             }
            ],
            "label": "66",
            "method": "animate"
           },
           {
            "args": [
             [
              "67"
             ],
             {
              "frame": {
               "duration": 0,
               "redraw": false
              },
              "fromcurrent": true,
              "mode": "immediate",
              "transition": {
               "duration": 0,
               "easing": "linear"
              }
             }
            ],
            "label": "67",
            "method": "animate"
           },
           {
            "args": [
             [
              "68"
             ],
             {
              "frame": {
               "duration": 0,
               "redraw": false
              },
              "fromcurrent": true,
              "mode": "immediate",
              "transition": {
               "duration": 0,
               "easing": "linear"
              }
             }
            ],
            "label": "68",
            "method": "animate"
           },
           {
            "args": [
             [
              "69"
             ],
             {
              "frame": {
               "duration": 0,
               "redraw": false
              },
              "fromcurrent": true,
              "mode": "immediate",
              "transition": {
               "duration": 0,
               "easing": "linear"
              }
             }
            ],
            "label": "69",
            "method": "animate"
           },
           {
            "args": [
             [
              "70"
             ],
             {
              "frame": {
               "duration": 0,
               "redraw": false
              },
              "fromcurrent": true,
              "mode": "immediate",
              "transition": {
               "duration": 0,
               "easing": "linear"
              }
             }
            ],
            "label": "70",
            "method": "animate"
           },
           {
            "args": [
             [
              "71"
             ],
             {
              "frame": {
               "duration": 0,
               "redraw": false
              },
              "fromcurrent": true,
              "mode": "immediate",
              "transition": {
               "duration": 0,
               "easing": "linear"
              }
             }
            ],
            "label": "71",
            "method": "animate"
           },
           {
            "args": [
             [
              "72"
             ],
             {
              "frame": {
               "duration": 0,
               "redraw": false
              },
              "fromcurrent": true,
              "mode": "immediate",
              "transition": {
               "duration": 0,
               "easing": "linear"
              }
             }
            ],
            "label": "72",
            "method": "animate"
           },
           {
            "args": [
             [
              "73"
             ],
             {
              "frame": {
               "duration": 0,
               "redraw": false
              },
              "fromcurrent": true,
              "mode": "immediate",
              "transition": {
               "duration": 0,
               "easing": "linear"
              }
             }
            ],
            "label": "73",
            "method": "animate"
           },
           {
            "args": [
             [
              "74"
             ],
             {
              "frame": {
               "duration": 0,
               "redraw": false
              },
              "fromcurrent": true,
              "mode": "immediate",
              "transition": {
               "duration": 0,
               "easing": "linear"
              }
             }
            ],
            "label": "74",
            "method": "animate"
           },
           {
            "args": [
             [
              "75"
             ],
             {
              "frame": {
               "duration": 0,
               "redraw": false
              },
              "fromcurrent": true,
              "mode": "immediate",
              "transition": {
               "duration": 0,
               "easing": "linear"
              }
             }
            ],
            "label": "75",
            "method": "animate"
           },
           {
            "args": [
             [
              "76"
             ],
             {
              "frame": {
               "duration": 0,
               "redraw": false
              },
              "fromcurrent": true,
              "mode": "immediate",
              "transition": {
               "duration": 0,
               "easing": "linear"
              }
             }
            ],
            "label": "76",
            "method": "animate"
           },
           {
            "args": [
             [
              "77"
             ],
             {
              "frame": {
               "duration": 0,
               "redraw": false
              },
              "fromcurrent": true,
              "mode": "immediate",
              "transition": {
               "duration": 0,
               "easing": "linear"
              }
             }
            ],
            "label": "77",
            "method": "animate"
           },
           {
            "args": [
             [
              "78"
             ],
             {
              "frame": {
               "duration": 0,
               "redraw": false
              },
              "fromcurrent": true,
              "mode": "immediate",
              "transition": {
               "duration": 0,
               "easing": "linear"
              }
             }
            ],
            "label": "78",
            "method": "animate"
           },
           {
            "args": [
             [
              "79"
             ],
             {
              "frame": {
               "duration": 0,
               "redraw": false
              },
              "fromcurrent": true,
              "mode": "immediate",
              "transition": {
               "duration": 0,
               "easing": "linear"
              }
             }
            ],
            "label": "79",
            "method": "animate"
           },
           {
            "args": [
             [
              "80"
             ],
             {
              "frame": {
               "duration": 0,
               "redraw": false
              },
              "fromcurrent": true,
              "mode": "immediate",
              "transition": {
               "duration": 0,
               "easing": "linear"
              }
             }
            ],
            "label": "80",
            "method": "animate"
           },
           {
            "args": [
             [
              "81"
             ],
             {
              "frame": {
               "duration": 0,
               "redraw": false
              },
              "fromcurrent": true,
              "mode": "immediate",
              "transition": {
               "duration": 0,
               "easing": "linear"
              }
             }
            ],
            "label": "81",
            "method": "animate"
           },
           {
            "args": [
             [
              "82"
             ],
             {
              "frame": {
               "duration": 0,
               "redraw": false
              },
              "fromcurrent": true,
              "mode": "immediate",
              "transition": {
               "duration": 0,
               "easing": "linear"
              }
             }
            ],
            "label": "82",
            "method": "animate"
           },
           {
            "args": [
             [
              "83"
             ],
             {
              "frame": {
               "duration": 0,
               "redraw": false
              },
              "fromcurrent": true,
              "mode": "immediate",
              "transition": {
               "duration": 0,
               "easing": "linear"
              }
             }
            ],
            "label": "83",
            "method": "animate"
           },
           {
            "args": [
             [
              "84"
             ],
             {
              "frame": {
               "duration": 0,
               "redraw": false
              },
              "fromcurrent": true,
              "mode": "immediate",
              "transition": {
               "duration": 0,
               "easing": "linear"
              }
             }
            ],
            "label": "84",
            "method": "animate"
           },
           {
            "args": [
             [
              "85"
             ],
             {
              "frame": {
               "duration": 0,
               "redraw": false
              },
              "fromcurrent": true,
              "mode": "immediate",
              "transition": {
               "duration": 0,
               "easing": "linear"
              }
             }
            ],
            "label": "85",
            "method": "animate"
           },
           {
            "args": [
             [
              "86"
             ],
             {
              "frame": {
               "duration": 0,
               "redraw": false
              },
              "fromcurrent": true,
              "mode": "immediate",
              "transition": {
               "duration": 0,
               "easing": "linear"
              }
             }
            ],
            "label": "86",
            "method": "animate"
           },
           {
            "args": [
             [
              "87"
             ],
             {
              "frame": {
               "duration": 0,
               "redraw": false
              },
              "fromcurrent": true,
              "mode": "immediate",
              "transition": {
               "duration": 0,
               "easing": "linear"
              }
             }
            ],
            "label": "87",
            "method": "animate"
           },
           {
            "args": [
             [
              "88"
             ],
             {
              "frame": {
               "duration": 0,
               "redraw": false
              },
              "fromcurrent": true,
              "mode": "immediate",
              "transition": {
               "duration": 0,
               "easing": "linear"
              }
             }
            ],
            "label": "88",
            "method": "animate"
           },
           {
            "args": [
             [
              "89"
             ],
             {
              "frame": {
               "duration": 0,
               "redraw": false
              },
              "fromcurrent": true,
              "mode": "immediate",
              "transition": {
               "duration": 0,
               "easing": "linear"
              }
             }
            ],
            "label": "89",
            "method": "animate"
           },
           {
            "args": [
             [
              "90"
             ],
             {
              "frame": {
               "duration": 0,
               "redraw": false
              },
              "fromcurrent": true,
              "mode": "immediate",
              "transition": {
               "duration": 0,
               "easing": "linear"
              }
             }
            ],
            "label": "90",
            "method": "animate"
           },
           {
            "args": [
             [
              "91"
             ],
             {
              "frame": {
               "duration": 0,
               "redraw": false
              },
              "fromcurrent": true,
              "mode": "immediate",
              "transition": {
               "duration": 0,
               "easing": "linear"
              }
             }
            ],
            "label": "91",
            "method": "animate"
           },
           {
            "args": [
             [
              "92"
             ],
             {
              "frame": {
               "duration": 0,
               "redraw": false
              },
              "fromcurrent": true,
              "mode": "immediate",
              "transition": {
               "duration": 0,
               "easing": "linear"
              }
             }
            ],
            "label": "92",
            "method": "animate"
           },
           {
            "args": [
             [
              "93"
             ],
             {
              "frame": {
               "duration": 0,
               "redraw": false
              },
              "fromcurrent": true,
              "mode": "immediate",
              "transition": {
               "duration": 0,
               "easing": "linear"
              }
             }
            ],
            "label": "93",
            "method": "animate"
           },
           {
            "args": [
             [
              "94"
             ],
             {
              "frame": {
               "duration": 0,
               "redraw": false
              },
              "fromcurrent": true,
              "mode": "immediate",
              "transition": {
               "duration": 0,
               "easing": "linear"
              }
             }
            ],
            "label": "94",
            "method": "animate"
           },
           {
            "args": [
             [
              "95"
             ],
             {
              "frame": {
               "duration": 0,
               "redraw": false
              },
              "fromcurrent": true,
              "mode": "immediate",
              "transition": {
               "duration": 0,
               "easing": "linear"
              }
             }
            ],
            "label": "95",
            "method": "animate"
           },
           {
            "args": [
             [
              "96"
             ],
             {
              "frame": {
               "duration": 0,
               "redraw": false
              },
              "fromcurrent": true,
              "mode": "immediate",
              "transition": {
               "duration": 0,
               "easing": "linear"
              }
             }
            ],
            "label": "96",
            "method": "animate"
           },
           {
            "args": [
             [
              "97"
             ],
             {
              "frame": {
               "duration": 0,
               "redraw": false
              },
              "fromcurrent": true,
              "mode": "immediate",
              "transition": {
               "duration": 0,
               "easing": "linear"
              }
             }
            ],
            "label": "97",
            "method": "animate"
           },
           {
            "args": [
             [
              "98"
             ],
             {
              "frame": {
               "duration": 0,
               "redraw": false
              },
              "fromcurrent": true,
              "mode": "immediate",
              "transition": {
               "duration": 0,
               "easing": "linear"
              }
             }
            ],
            "label": "98",
            "method": "animate"
           },
           {
            "args": [
             [
              "99"
             ],
             {
              "frame": {
               "duration": 0,
               "redraw": false
              },
              "fromcurrent": true,
              "mode": "immediate",
              "transition": {
               "duration": 0,
               "easing": "linear"
              }
             }
            ],
            "label": "99",
            "method": "animate"
           }
          ],
          "x": 0.1,
          "xanchor": "left",
          "y": 0,
          "yanchor": "top"
         }
        ],
        "template": {
         "data": {
          "bar": [
           {
            "error_x": {
             "color": "#2a3f5f"
            },
            "error_y": {
             "color": "#2a3f5f"
            },
            "marker": {
             "line": {
              "color": "#E5ECF6",
              "width": 0.5
             },
             "pattern": {
              "fillmode": "overlay",
              "size": 10,
              "solidity": 0.2
             }
            },
            "type": "bar"
           }
          ],
          "barpolar": [
           {
            "marker": {
             "line": {
              "color": "#E5ECF6",
              "width": 0.5
             },
             "pattern": {
              "fillmode": "overlay",
              "size": 10,
              "solidity": 0.2
             }
            },
            "type": "barpolar"
           }
          ],
          "carpet": [
           {
            "aaxis": {
             "endlinecolor": "#2a3f5f",
             "gridcolor": "white",
             "linecolor": "white",
             "minorgridcolor": "white",
             "startlinecolor": "#2a3f5f"
            },
            "baxis": {
             "endlinecolor": "#2a3f5f",
             "gridcolor": "white",
             "linecolor": "white",
             "minorgridcolor": "white",
             "startlinecolor": "#2a3f5f"
            },
            "type": "carpet"
           }
          ],
          "choropleth": [
           {
            "colorbar": {
             "outlinewidth": 0,
             "ticks": ""
            },
            "type": "choropleth"
           }
          ],
          "contour": [
           {
            "colorbar": {
             "outlinewidth": 0,
             "ticks": ""
            },
            "colorscale": [
             [
              0,
              "#0d0887"
             ],
             [
              0.1111111111111111,
              "#46039f"
             ],
             [
              0.2222222222222222,
              "#7201a8"
             ],
             [
              0.3333333333333333,
              "#9c179e"
             ],
             [
              0.4444444444444444,
              "#bd3786"
             ],
             [
              0.5555555555555556,
              "#d8576b"
             ],
             [
              0.6666666666666666,
              "#ed7953"
             ],
             [
              0.7777777777777778,
              "#fb9f3a"
             ],
             [
              0.8888888888888888,
              "#fdca26"
             ],
             [
              1,
              "#f0f921"
             ]
            ],
            "type": "contour"
           }
          ],
          "contourcarpet": [
           {
            "colorbar": {
             "outlinewidth": 0,
             "ticks": ""
            },
            "type": "contourcarpet"
           }
          ],
          "heatmap": [
           {
            "colorbar": {
             "outlinewidth": 0,
             "ticks": ""
            },
            "colorscale": [
             [
              0,
              "#0d0887"
             ],
             [
              0.1111111111111111,
              "#46039f"
             ],
             [
              0.2222222222222222,
              "#7201a8"
             ],
             [
              0.3333333333333333,
              "#9c179e"
             ],
             [
              0.4444444444444444,
              "#bd3786"
             ],
             [
              0.5555555555555556,
              "#d8576b"
             ],
             [
              0.6666666666666666,
              "#ed7953"
             ],
             [
              0.7777777777777778,
              "#fb9f3a"
             ],
             [
              0.8888888888888888,
              "#fdca26"
             ],
             [
              1,
              "#f0f921"
             ]
            ],
            "type": "heatmap"
           }
          ],
          "heatmapgl": [
           {
            "colorbar": {
             "outlinewidth": 0,
             "ticks": ""
            },
            "colorscale": [
             [
              0,
              "#0d0887"
             ],
             [
              0.1111111111111111,
              "#46039f"
             ],
             [
              0.2222222222222222,
              "#7201a8"
             ],
             [
              0.3333333333333333,
              "#9c179e"
             ],
             [
              0.4444444444444444,
              "#bd3786"
             ],
             [
              0.5555555555555556,
              "#d8576b"
             ],
             [
              0.6666666666666666,
              "#ed7953"
             ],
             [
              0.7777777777777778,
              "#fb9f3a"
             ],
             [
              0.8888888888888888,
              "#fdca26"
             ],
             [
              1,
              "#f0f921"
             ]
            ],
            "type": "heatmapgl"
           }
          ],
          "histogram": [
           {
            "marker": {
             "pattern": {
              "fillmode": "overlay",
              "size": 10,
              "solidity": 0.2
             }
            },
            "type": "histogram"
           }
          ],
          "histogram2d": [
           {
            "colorbar": {
             "outlinewidth": 0,
             "ticks": ""
            },
            "colorscale": [
             [
              0,
              "#0d0887"
             ],
             [
              0.1111111111111111,
              "#46039f"
             ],
             [
              0.2222222222222222,
              "#7201a8"
             ],
             [
              0.3333333333333333,
              "#9c179e"
             ],
             [
              0.4444444444444444,
              "#bd3786"
             ],
             [
              0.5555555555555556,
              "#d8576b"
             ],
             [
              0.6666666666666666,
              "#ed7953"
             ],
             [
              0.7777777777777778,
              "#fb9f3a"
             ],
             [
              0.8888888888888888,
              "#fdca26"
             ],
             [
              1,
              "#f0f921"
             ]
            ],
            "type": "histogram2d"
           }
          ],
          "histogram2dcontour": [
           {
            "colorbar": {
             "outlinewidth": 0,
             "ticks": ""
            },
            "colorscale": [
             [
              0,
              "#0d0887"
             ],
             [
              0.1111111111111111,
              "#46039f"
             ],
             [
              0.2222222222222222,
              "#7201a8"
             ],
             [
              0.3333333333333333,
              "#9c179e"
             ],
             [
              0.4444444444444444,
              "#bd3786"
             ],
             [
              0.5555555555555556,
              "#d8576b"
             ],
             [
              0.6666666666666666,
              "#ed7953"
             ],
             [
              0.7777777777777778,
              "#fb9f3a"
             ],
             [
              0.8888888888888888,
              "#fdca26"
             ],
             [
              1,
              "#f0f921"
             ]
            ],
            "type": "histogram2dcontour"
           }
          ],
          "mesh3d": [
           {
            "colorbar": {
             "outlinewidth": 0,
             "ticks": ""
            },
            "type": "mesh3d"
           }
          ],
          "parcoords": [
           {
            "line": {
             "colorbar": {
              "outlinewidth": 0,
              "ticks": ""
             }
            },
            "type": "parcoords"
           }
          ],
          "pie": [
           {
            "automargin": true,
            "type": "pie"
           }
          ],
          "scatter": [
           {
            "fillpattern": {
             "fillmode": "overlay",
             "size": 10,
             "solidity": 0.2
            },
            "type": "scatter"
           }
          ],
          "scatter3d": [
           {
            "line": {
             "colorbar": {
              "outlinewidth": 0,
              "ticks": ""
             }
            },
            "marker": {
             "colorbar": {
              "outlinewidth": 0,
              "ticks": ""
             }
            },
            "type": "scatter3d"
           }
          ],
          "scattercarpet": [
           {
            "marker": {
             "colorbar": {
              "outlinewidth": 0,
              "ticks": ""
             }
            },
            "type": "scattercarpet"
           }
          ],
          "scattergeo": [
           {
            "marker": {
             "colorbar": {
              "outlinewidth": 0,
              "ticks": ""
             }
            },
            "type": "scattergeo"
           }
          ],
          "scattergl": [
           {
            "marker": {
             "colorbar": {
              "outlinewidth": 0,
              "ticks": ""
             }
            },
            "type": "scattergl"
           }
          ],
          "scattermapbox": [
           {
            "marker": {
             "colorbar": {
              "outlinewidth": 0,
              "ticks": ""
             }
            },
            "type": "scattermapbox"
           }
          ],
          "scatterpolar": [
           {
            "marker": {
             "colorbar": {
              "outlinewidth": 0,
              "ticks": ""
             }
            },
            "type": "scatterpolar"
           }
          ],
          "scatterpolargl": [
           {
            "marker": {
             "colorbar": {
              "outlinewidth": 0,
              "ticks": ""
             }
            },
            "type": "scatterpolargl"
           }
          ],
          "scatterternary": [
           {
            "marker": {
             "colorbar": {
              "outlinewidth": 0,
              "ticks": ""
             }
            },
            "type": "scatterternary"
           }
          ],
          "surface": [
           {
            "colorbar": {
             "outlinewidth": 0,
             "ticks": ""
            },
            "colorscale": [
             [
              0,
              "#0d0887"
             ],
             [
              0.1111111111111111,
              "#46039f"
             ],
             [
              0.2222222222222222,
              "#7201a8"
             ],
             [
              0.3333333333333333,
              "#9c179e"
             ],
             [
              0.4444444444444444,
              "#bd3786"
             ],
             [
              0.5555555555555556,
              "#d8576b"
             ],
             [
              0.6666666666666666,
              "#ed7953"
             ],
             [
              0.7777777777777778,
              "#fb9f3a"
             ],
             [
              0.8888888888888888,
              "#fdca26"
             ],
             [
              1,
              "#f0f921"
             ]
            ],
            "type": "surface"
           }
          ],
          "table": [
           {
            "cells": {
             "fill": {
              "color": "#EBF0F8"
             },
             "line": {
              "color": "white"
             }
            },
            "header": {
             "fill": {
              "color": "#C8D4E3"
             },
             "line": {
              "color": "white"
             }
            },
            "type": "table"
           }
          ]
         },
         "layout": {
          "annotationdefaults": {
           "arrowcolor": "#2a3f5f",
           "arrowhead": 0,
           "arrowwidth": 1
          },
          "autotypenumbers": "strict",
          "coloraxis": {
           "colorbar": {
            "outlinewidth": 0,
            "ticks": ""
           }
          },
          "colorscale": {
           "diverging": [
            [
             0,
             "#8e0152"
            ],
            [
             0.1,
             "#c51b7d"
            ],
            [
             0.2,
             "#de77ae"
            ],
            [
             0.3,
             "#f1b6da"
            ],
            [
             0.4,
             "#fde0ef"
            ],
            [
             0.5,
             "#f7f7f7"
            ],
            [
             0.6,
             "#e6f5d0"
            ],
            [
             0.7,
             "#b8e186"
            ],
            [
             0.8,
             "#7fbc41"
            ],
            [
             0.9,
             "#4d9221"
            ],
            [
             1,
             "#276419"
            ]
           ],
           "sequential": [
            [
             0,
             "#0d0887"
            ],
            [
             0.1111111111111111,
             "#46039f"
            ],
            [
             0.2222222222222222,
             "#7201a8"
            ],
            [
             0.3333333333333333,
             "#9c179e"
            ],
            [
             0.4444444444444444,
             "#bd3786"
            ],
            [
             0.5555555555555556,
             "#d8576b"
            ],
            [
             0.6666666666666666,
             "#ed7953"
            ],
            [
             0.7777777777777778,
             "#fb9f3a"
            ],
            [
             0.8888888888888888,
             "#fdca26"
            ],
            [
             1,
             "#f0f921"
            ]
           ],
           "sequentialminus": [
            [
             0,
             "#0d0887"
            ],
            [
             0.1111111111111111,
             "#46039f"
            ],
            [
             0.2222222222222222,
             "#7201a8"
            ],
            [
             0.3333333333333333,
             "#9c179e"
            ],
            [
             0.4444444444444444,
             "#bd3786"
            ],
            [
             0.5555555555555556,
             "#d8576b"
            ],
            [
             0.6666666666666666,
             "#ed7953"
            ],
            [
             0.7777777777777778,
             "#fb9f3a"
            ],
            [
             0.8888888888888888,
             "#fdca26"
            ],
            [
             1,
             "#f0f921"
            ]
           ]
          },
          "colorway": [
           "#636efa",
           "#EF553B",
           "#00cc96",
           "#ab63fa",
           "#FFA15A",
           "#19d3f3",
           "#FF6692",
           "#B6E880",
           "#FF97FF",
           "#FECB52"
          ],
          "font": {
           "color": "#2a3f5f"
          },
          "geo": {
           "bgcolor": "white",
           "lakecolor": "white",
           "landcolor": "#E5ECF6",
           "showlakes": true,
           "showland": true,
           "subunitcolor": "white"
          },
          "hoverlabel": {
           "align": "left"
          },
          "hovermode": "closest",
          "mapbox": {
           "style": "light"
          },
          "paper_bgcolor": "white",
          "plot_bgcolor": "#E5ECF6",
          "polar": {
           "angularaxis": {
            "gridcolor": "white",
            "linecolor": "white",
            "ticks": ""
           },
           "bgcolor": "#E5ECF6",
           "radialaxis": {
            "gridcolor": "white",
            "linecolor": "white",
            "ticks": ""
           }
          },
          "scene": {
           "xaxis": {
            "backgroundcolor": "#E5ECF6",
            "gridcolor": "white",
            "gridwidth": 2,
            "linecolor": "white",
            "showbackground": true,
            "ticks": "",
            "zerolinecolor": "white"
           },
           "yaxis": {
            "backgroundcolor": "#E5ECF6",
            "gridcolor": "white",
            "gridwidth": 2,
            "linecolor": "white",
            "showbackground": true,
            "ticks": "",
            "zerolinecolor": "white"
           },
           "zaxis": {
            "backgroundcolor": "#E5ECF6",
            "gridcolor": "white",
            "gridwidth": 2,
            "linecolor": "white",
            "showbackground": true,
            "ticks": "",
            "zerolinecolor": "white"
           }
          },
          "shapedefaults": {
           "line": {
            "color": "#2a3f5f"
           }
          },
          "ternary": {
           "aaxis": {
            "gridcolor": "white",
            "linecolor": "white",
            "ticks": ""
           },
           "baxis": {
            "gridcolor": "white",
            "linecolor": "white",
            "ticks": ""
           },
           "bgcolor": "#E5ECF6",
           "caxis": {
            "gridcolor": "white",
            "linecolor": "white",
            "ticks": ""
           }
          },
          "title": {
           "x": 0.05
          },
          "xaxis": {
           "automargin": true,
           "gridcolor": "white",
           "linecolor": "white",
           "ticks": "",
           "title": {
            "standoff": 15
           },
           "zerolinecolor": "white",
           "zerolinewidth": 2
          },
          "yaxis": {
           "automargin": true,
           "gridcolor": "white",
           "linecolor": "white",
           "ticks": "",
           "title": {
            "standoff": 15
           },
           "zerolinecolor": "white",
           "zerolinewidth": 2
          }
         }
        },
        "title": {
         "text": "Hospital RTLS Simulation with Anomaly Detection"
        },
        "updatemenus": [
         {
          "buttons": [
           {
            "args": [
             null,
             {
              "frame": {
               "duration": 500,
               "redraw": false
              },
              "fromcurrent": true,
              "mode": "immediate",
              "transition": {
               "duration": 500,
               "easing": "linear"
              }
             }
            ],
            "label": "&#9654;",
            "method": "animate"
           },
           {
            "args": [
             [
              null
             ],
             {
              "frame": {
               "duration": 0,
               "redraw": false
              },
              "fromcurrent": true,
              "mode": "immediate",
              "transition": {
               "duration": 0,
               "easing": "linear"
              }
             }
            ],
            "label": "&#9724;",
            "method": "animate"
           }
          ],
          "direction": "left",
          "pad": {
           "r": 10,
           "t": 70
          },
          "showactive": false,
          "type": "buttons",
          "x": 0.1,
          "xanchor": "right",
          "y": 0,
          "yanchor": "top"
         }
        ],
        "width": 900,
        "xaxis": {
         "anchor": "y",
         "domain": [
          0,
          1
         ],
         "title": {
          "text": "X Coordinate"
         }
        },
        "yaxis": {
         "anchor": "x",
         "domain": [
          0,
          1
         ],
         "title": {
          "text": "Y Coordinate"
         }
        }
       }
      }
     },
     "metadata": {},
     "output_type": "display_data"
    }
   ],
   "source": [
    "#Hospital Example with Machine Learning Integration\n",
    "import numpy as np\n",
    "import pandas as pd\n",
    "import plotly.express as px\n",
    "from sklearn.ensemble import IsolationForest\n",
    "\n",
    "# Set random seed\n",
    "np.random.seed(42)\n",
    "\n",
    "# Simulation parameters\n",
    "num_patients = 20\n",
    "num_timesteps = 100\n",
    "anomalous_patient_idx = 0  # First patient is anomalous\n",
    "\n",
    "# Simulate patient movements (normal and anomalous)\n",
    "def simulate_patient_movement(num_patients, num_timesteps, anomalous_patient=None):\n",
    "    patient_rooms = np.random.uniform(20, 80, size=(num_patients, 2))\n",
    "    positions = np.zeros((num_timesteps, num_patients, 2))\n",
    "\n",
    "    for t in range(num_timesteps):\n",
    "        movement = np.random.randn(num_patients, 2) * 0.5\n",
    "        positions[t] = patient_rooms + movement\n",
    "        positions[t,:,0] = np.clip(positions[t,:,0], patient_rooms[:,0]-3, patient_rooms[:,0]+3)\n",
    "        positions[t, :,1] = np.clip(positions[t,:,1], patient_rooms[:,1]-3, patient_rooms[:,1]+3)\n",
    "\n",
    "    # Inject anomaly: patient moves linearly away from room\n",
    "    if anomalous_patient is not None:\n",
    "        anomaly_path = np.linspace([0, 0], [40, 40], num_timesteps)\n",
    "        positions[:, anomalous_patient] = patient_rooms[anomalous_patient] + anomaly_path\n",
    "\n",
    "    return positions, patient_rooms\n",
    "\n",
    "# Generate data\n",
    "positions, patient_rooms = simulate_patient_movement(num_patients, num_timesteps, anomalous_patient=anomalous_patient)\n",
    "\n",
    "# Convert positions to DataFrame\n",
    "data = []\n",
    "for patient in range(num_patients):\n",
    "    for t in range(num_timesteps):\n",
    "        data.append({\n",
    "            'PatientID': f'Patient_{patient+1}',\n",
    "            'X': positions[t, patient, 0],\n",
    "            'Y': positions[t, patient, 1],\n",
    "            'Time': t\n",
    "        })\n",
    "\n",
    "df_patients = pd.DataFrame(data)\n",
    "\n",
    "# Feature Engineering: Calculate movement speed per patient\n",
    "df_patients.sort_values(['PatientID', 'Time'], inplace=True)\n",
    "df_patients['Prev_X'] = df_patients.groupby('PatientID')['X'].shift(1)\n",
    "df_patients['Prev_Y'] = df_patients.groupby('PatientID')['Y'].shift(1)\n",
    "df_patients['Distance'] = np.sqrt((df_patients['X'] - df_patients['Prev_X'])**2 +\n",
    "                                  (df_patients['Y'] - df_patients['Prev_Y'])**2).fillna(0)\n",
    "\n",
    "# Isolation Forest to detect anomalies\n",
    "from sklearn.ensemble import IsolationForest\n",
    "\n",
    "features = df_patients[['X', 'Y', 'Distance']].fillna(0)\n",
    "iso_forest = IsolationForest(contamination=0.05, random_state=42)\n",
    "df_patients['Anomaly'] = iso_forest.fit_predict(features)\n",
    "df_patients['Anomaly_Label'] = df_patients['Anomaly'].apply(lambda x: 'Anomaly' if x==-1 else 'Normal')\n",
    "\n",
    "# Plot interactive RTLS data with anomalies highlighted\n",
    "import plotly.express as px\n",
    "fig = px.scatter(df_patients, x='X', y='Y', color='Anomaly_Label',\n",
    "                 animation_frame='Time', animation_group='PatientID',\n",
    "                 hover_data=['PatientID'],\n",
    "                 title='Hospital RTLS Simulation with Anomaly Detection',\n",
    "                 labels={'X':'X Coordinate','Y':'Y Coordinate'})\n",
    "\n",
    "fig.update_layout(width=900, height=600)\n",
    "fig.show()"
   ]
  },
  {
   "cell_type": "code",
   "execution_count": null,
   "metadata": {},
   "outputs": [],
   "source": []
  }
 ],
 "metadata": {
  "kernelspec": {
   "display_name": "Python 3",
   "language": "python",
   "name": "python3"
  },
  "language_info": {
   "codemirror_mode": {
    "name": "ipython",
    "version": 3
   },
   "file_extension": ".py",
   "mimetype": "text/x-python",
   "name": "python",
   "nbconvert_exporter": "python",
   "pygments_lexer": "ipython3",
   "version": "3.12.3"
  }
 },
 "nbformat": 4,
 "nbformat_minor": 2
}
