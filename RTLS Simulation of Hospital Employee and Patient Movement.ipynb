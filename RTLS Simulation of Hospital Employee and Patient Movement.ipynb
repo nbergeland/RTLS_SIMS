{
 "cells": [
  {
   "cell_type": "code",
   "execution_count": null,
   "metadata": {},
   "outputs": [
    {
     "data": {
      "application/vnd.plotly.v1+json": {
       "config": {
        "plotlyServerURL": "https://plot.ly"
       },
       "data": [
        {
         "hovertemplate": "<b>%{hovertext}</b><br><br>Role=Employee<br>Time=0<br>Hospital X Coordinate=%{x}<br>Hospital Y Coordinate=%{y}<extra></extra>",
         "hovertext": [
          "Employee_1",
          "Employee_2",
          "Employee_3",
          "Employee_4",
          "Employee_5"
         ],
         "ids": [
          "Employee_1",
          "Employee_2",
          "Employee_3",
          "Employee_4",
          "Employee_5"
         ],
         "legendgroup": "Employee",
         "marker": {
          "color": "#636efa",
          "symbol": "circle"
         },
         "mode": "markers",
         "name": "Employee",
         "orientation": "v",
         "showlegend": true,
         "type": "scatter",
         "x": [
          0.4967141530112327,
          0.6476885381006925,
          -0.23415337472333597,
          1.5792128155073915,
          -0.4694743859349521
         ],
         "xaxis": "x",
         "y": [
          -0.13826430117118466,
          1.5230298564080254,
          -0.23413695694918055,
          0.7674347291529088,
          0.5425600435859647
         ],
         "yaxis": "y"
        },
        {
         "hovertemplate": "<b>%{hovertext}</b><br><br>Role=Patient<br>Time=0<br>Hospital X Coordinate=%{x}<br>Hospital Y Coordinate=%{y}<extra></extra>",
         "hovertext": [
          "Patient_1",
          "Patient_2",
          "Patient_3",
          "Patient_4",
          "Patient_5",
          "Patient_6",
          "Patient_7",
          "Patient_8",
          "Patient_9",
          "Patient_10"
         ],
         "ids": [
          "Patient_1",
          "Patient_2",
          "Patient_3",
          "Patient_4",
          "Patient_5",
          "Patient_6",
          "Patient_7",
          "Patient_8",
          "Patient_9",
          "Patient_10"
         ],
         "legendgroup": "Patient",
         "marker": {
          "color": "#EF553B",
          "symbol": "circle"
         },
         "mode": "markers",
         "name": "Patient",
         "orientation": "v",
         "showlegend": true,
         "type": "scatter",
         "x": [
          0.9261775475316414,
          -1.3985675738191412,
          -0.6506425691218269,
          -0.5923939242388692,
          0.04852162794482699,
          0.2704568257798388,
          -0.23894804686640975,
          -0.5767713305683327,
          0.5009171876243808,
          0.09933230542922587
         ],
         "xaxis": "x",
         "y": [
          1.9094166404701305,
          0.5629692366905709,
          -0.48712538376469605,
          -0.863990769679816,
          -0.8309501164110378,
          -0.05023810944913695,
          -0.9075636620415979,
          0.755391225825756,
          -0.977555244798551,
          0.751387123371789
         ],
         "yaxis": "y"
        }
       ],
       "frames": [
        {
         "data": [
          {
           "hovertemplate": "<b>%{hovertext}</b><br><br>Role=Employee<br>Time=0<br>Hospital X Coordinate=%{x}<br>Hospital Y Coordinate=%{y}<extra></extra>",
           "hovertext": [
            "Employee_1",
            "Employee_2",
            "Employee_3",
            "Employee_4",
            "Employee_5"
           ],
           "ids": [
            "Employee_1",
            "Employee_2",
            "Employee_3",
            "Employee_4",
            "Employee_5"
           ],
           "legendgroup": "Employee",
           "marker": {
            "color": "#636efa",
            "symbol": "circle"
           },
           "mode": "markers",
           "name": "Employee",
           "orientation": "v",
           "showlegend": true,
           "type": "scatter",
           "x": [
            0.4967141530112327,
            0.6476885381006925,
            -0.23415337472333597,
            1.5792128155073915,
            -0.4694743859349521
           ],
           "xaxis": "x",
           "y": [
            -0.13826430117118466,
            1.5230298564080254,
            -0.23413695694918055,
            0.7674347291529088,
            0.5425600435859647
           ],
           "yaxis": "y"
          },
          {
           "hovertemplate": "<b>%{hovertext}</b><br><br>Role=Patient<br>Time=0<br>Hospital X Coordinate=%{x}<br>Hospital Y Coordinate=%{y}<extra></extra>",
           "hovertext": [
            "Patient_1",
            "Patient_2",
            "Patient_3",
            "Patient_4",
            "Patient_5",
            "Patient_6",
            "Patient_7",
            "Patient_8",
            "Patient_9",
            "Patient_10"
           ],
           "ids": [
            "Patient_1",
            "Patient_2",
            "Patient_3",
            "Patient_4",
            "Patient_5",
            "Patient_6",
            "Patient_7",
            "Patient_8",
            "Patient_9",
            "Patient_10"
           ],
           "legendgroup": "Patient",
           "marker": {
            "color": "#EF553B",
            "symbol": "circle"
           },
           "mode": "markers",
           "name": "Patient",
           "orientation": "v",
           "showlegend": true,
           "type": "scatter",
           "x": [
            0.9261775475316414,
            -1.3985675738191412,
            -0.6506425691218269,
            -0.5923939242388692,
            0.04852162794482699,
            0.2704568257798388,
            -0.23894804686640975,
            -0.5767713305683327,
            0.5009171876243808,
            0.09933230542922587
           ],
           "xaxis": "x",
           "y": [
            1.9094166404701305,
            0.5629692366905709,
            -0.48712538376469605,
            -0.863990769679816,
            -0.8309501164110378,
            -0.05023810944913695,
            -0.9075636620415979,
            0.755391225825756,
            -0.977555244798551,
            0.751387123371789
           ],
           "yaxis": "y"
          }
         ],
         "name": "0"
        },
        {
         "data": [
          {
           "hovertemplate": "<b>%{hovertext}</b><br><br>Role=Employee<br>Time=1<br>Hospital X Coordinate=%{x}<br>Hospital Y Coordinate=%{y}<extra></extra>",
           "hovertext": [
            "Employee_1",
            "Employee_2",
            "Employee_3",
            "Employee_4",
            "Employee_5"
           ],
           "ids": [
            "Employee_1",
            "Employee_2",
            "Employee_3",
            "Employee_4",
            "Employee_5"
           ],
           "legendgroup": "Employee",
           "marker": {
            "color": "#636efa",
            "symbol": "circle"
           },
           "mode": "markers",
           "name": "Employee",
           "orientation": "v",
           "showlegend": true,
           "type": "scatter",
           "x": [
            0.03329646019877042,
            0.8896508096667266,
            -1.9590712072363687,
            0.5663816951729677,
            -1.377498461456163
           ],
           "xaxis": "x",
           "y": [
            -0.6039940547414415,
            -0.39025038824977254,
            -0.7964244861901533,
            1.0816820617481826,
            -0.8697436577493268
           ],
           "yaxis": "y"
          },
          {
           "hovertemplate": "<b>%{hovertext}</b><br><br>Role=Patient<br>Time=1<br>Hospital X Coordinate=%{x}<br>Hospital Y Coordinate=%{y}<extra></extra>",
           "hovertext": [
            "Patient_1",
            "Patient_2",
            "Patient_3",
            "Patient_4",
            "Patient_5",
            "Patient_6",
            "Patient_7",
            "Patient_8",
            "Patient_9",
            "Patient_10"
           ],
           "ids": [
            "Patient_1",
            "Patient_2",
            "Patient_3",
            "Patient_4",
            "Patient_5",
            "Patient_6",
            "Patient_7",
            "Patient_8",
            "Patient_9",
            "Patient_10"
           ],
           "legendgroup": "Patient",
           "marker": {
            "color": "#EF553B",
            "symbol": "circle"
           },
           "mode": "markers",
           "name": "Patient",
           "orientation": "v",
           "showlegend": true,
           "type": "scatter",
           "x": [
            -0.7432277335897304,
            -2.061191332764988,
            -1.4139017256643438,
            -2.2199363621220316,
            0.3082441296663089,
            0.9090492845572127,
            -0.3050278455137263,
            -1.228607438370492,
            -0.35949617765957165,
            1.1056251146436664
           ],
           "xaxis": "x",
           "y": [
            2.4527768328500654,
            1.1335679052837302,
            -2.292007484429215,
            -0.8159058230184341,
            -1.7352667415154464,
            -1.7117581717180967,
            -2.1185798618040543,
            0.8027898971421701,
            -1.3621107890283763,
            0.17449525384864029
           ],
           "yaxis": "y"
          }
         ],
         "name": "1"
        },
        {
         "data": [
          {
           "hovertemplate": "<b>%{hovertext}</b><br><br>Role=Employee<br>Time=2<br>Hospital X Coordinate=%{x}<br>Hospital Y Coordinate=%{y}<extra></extra>",
           "hovertext": [
            "Employee_1",
            "Employee_2",
            "Employee_3",
            "Employee_4",
            "Employee_5"
           ],
           "ids": [
            "Employee_1",
            "Employee_2",
            "Employee_3",
            "Employee_4",
            "Employee_5"
           ],
           "legendgroup": "Employee",
           "marker": {
            "color": "#636efa",
            "symbol": "circle"
           },
           "mode": "markers",
           "name": "Employee",
           "orientation": "v",
           "showlegend": true,
           "type": "scatter",
           "x": [
            1.4989452291203245,
            0.9571790143546505,
            -2.5034539317615514,
            -0.5846118822493351,
            -1.978137151374968
           ],
           "xaxis": "x",
           "y": [
            -0.8297703552279772,
            -1.8149985744632293,
            -0.6855018964802871,
            1.4573800800938546,
            -1.1614374075426035
           ],
           "yaxis": "y"
          },
          {
           "hovertemplate": "<b>%{hovertext}</b><br><br>Role=Patient<br>Time=2<br>Hospital X Coordinate=%{x}<br>Hospital Y Coordinate=%{y}<extra></extra>",
           "hovertext": [
            "Patient_1",
            "Patient_2",
            "Patient_3",
            "Patient_4",
            "Patient_5",
            "Patient_6",
            "Patient_7",
            "Patient_8",
            "Patient_9",
            "Patient_10"
           ],
           "ids": [
            "Patient_1",
            "Patient_2",
            "Patient_3",
            "Patient_4",
            "Patient_5",
            "Patient_6",
            "Patient_7",
            "Patient_8",
            "Patient_9",
            "Patient_10"
           ],
           "legendgroup": "Patient",
           "marker": {
            "color": "#EF553B",
            "symbol": "circle"
           },
           "mode": "markers",
           "name": "Patient",
           "orientation": "v",
           "showlegend": true,
           "type": "scatter",
           "x": [
            0.09246437847541145,
            -1.5313871548497051,
            -3.885546225791633,
            -1.6428642349414915,
            0.6793900030376177,
            0.9956390720301126,
            0.862754216146081,
            -0.8910047762952897,
            -0.8471024017320652,
            1.5000772570219634
           ],
           "xaxis": "x",
           "y": [
            1.3230699781924473,
            2.5751365259416303,
            -3.0889027398996918,
            -1.0189512090614268,
            -2.339251928231267,
            -1.8674354071101762,
            -1.8641590185028412,
            0.3909129310197027,
            -1.7946689768479973,
            -0.24648922697162268
           ],
           "yaxis": "y"
          }
         ],
         "name": "2"
        },
        {
         "data": [
          {
           "hovertemplate": "<b>%{hovertext}</b><br><br>Role=Employee<br>Time=3<br>Hospital X Coordinate=%{x}<br>Hospital Y Coordinate=%{y}<extra></extra>",
           "hovertext": [
            "Employee_1",
            "Employee_2",
            "Employee_3",
            "Employee_4",
            "Employee_5"
           ],
           "ids": [
            "Employee_1",
            "Employee_2",
            "Employee_3",
            "Employee_4",
            "Employee_5"
           ],
           "legendgroup": "Employee",
           "marker": {
            "color": "#636efa",
            "symbol": "circle"
           },
           "mode": "markers",
           "name": "Employee",
           "orientation": "v",
           "showlegend": true,
           "type": "scatter",
           "x": [
            0.8972386168909275,
            0.9436817896167166,
            -1.6809090196583623,
            -0.37574828724457976,
            -3.3063232002733987
           ],
           "xaxis": "x",
           "y": [
            1.0225078292809606,
            -2.87270950341913,
            -1.9063455464513095,
            -0.502290043785921,
            -0.96457617167348
           ],
           "yaxis": "y"
          },
          {
           "hovertemplate": "<b>%{hovertext}</b><br><br>Role=Patient<br>Time=3<br>Hospital X Coordinate=%{x}<br>Hospital Y Coordinate=%{y}<extra></extra>",
           "hovertext": [
            "Patient_1",
            "Patient_2",
            "Patient_3",
            "Patient_4",
            "Patient_5",
            "Patient_6",
            "Patient_7",
            "Patient_8",
            "Patient_9",
            "Patient_10"
           ],
           "ids": [
            "Patient_1",
            "Patient_2",
            "Patient_3",
            "Patient_4",
            "Patient_5",
            "Patient_6",
            "Patient_7",
            "Patient_8",
            "Patient_9",
            "Patient_10"
           ],
           "legendgroup": "Patient",
           "marker": {
            "color": "#EF553B",
            "symbol": "circle"
           },
           "mode": "markers",
           "name": "Patient",
           "orientation": "v",
           "showlegend": true,
           "type": "scatter",
           "x": [
            0.38223923537182436,
            -0.6602624514180128,
            -2.6843323036276883,
            -3.6809887701193453,
            -1.191401917988238,
            1.0140574512196643,
            1.1896815899102438,
            -0.061599195111800564,
            -0.6114878436234993,
            0.021491011242121827
           ],
           "xaxis": "x",
           "y": [
            3.398470776837886,
            2.2491129937737893,
            -3.4969781129212434,
            -2.0270375199788306,
            -2.6907654122725755,
            -0.1909980948348935,
            -2.0832595473117053,
            -1.8202223779881823,
            -1.0238037829610305,
            0.8972648162353064
           ],
           "yaxis": "y"
          }
         ],
         "name": "3"
        },
        {
         "data": [
          {
           "hovertemplate": "<b>%{hovertext}</b><br><br>Role=Employee<br>Time=4<br>Hospital X Coordinate=%{x}<br>Hospital Y Coordinate=%{y}<extra></extra>",
           "hovertext": [
            "Employee_1",
            "Employee_2",
            "Employee_3",
            "Employee_4",
            "Employee_5"
           ],
           "ids": [
            "Employee_1",
            "Employee_2",
            "Employee_3",
            "Employee_4",
            "Employee_5"
           ],
           "legendgroup": "Employee",
           "marker": {
            "color": "#636efa",
            "symbol": "circle"
           },
           "mode": "markers",
           "name": "Employee",
           "orientation": "v",
           "showlegend": true,
           "type": "scatter",
           "x": [
            1.635705196886338,
            0.828033507228476,
            -3.1594310100257896,
            -0.8363870582043673,
            -2.9627049107049372
           ],
           "xaxis": "x",
           "y": [
            1.193876110470931,
            -3.1738131990084186,
            -2.6261897548460182,
            0.5548321824329947,
            -2.727616327036214
           ],
           "yaxis": "y"
          },
          {
           "hovertemplate": "<b>%{hovertext}</b><br><br>Role=Patient<br>Time=4<br>Hospital X Coordinate=%{x}<br>Hospital Y Coordinate=%{y}<extra></extra>",
           "hovertext": [
            "Patient_1",
            "Patient_2",
            "Patient_3",
            "Patient_4",
            "Patient_5",
            "Patient_6",
            "Patient_7",
            "Patient_8",
            "Patient_9",
            "Patient_10"
           ],
           "ids": [
            "Patient_1",
            "Patient_2",
            "Patient_3",
            "Patient_4",
            "Patient_5",
            "Patient_6",
            "Patient_7",
            "Patient_8",
            "Patient_9",
            "Patient_10"
           ],
           "legendgroup": "Patient",
           "marker": {
            "color": "#EF553B",
            "symbol": "circle"
           },
           "mode": "markers",
           "name": "Patient",
           "orientation": "v",
           "showlegend": true,
           "type": "scatter",
           "x": [
            0.7207356428662385,
            -0.027480585311727923,
            -2.502466048569193,
            -4.14034966965959,
            -0.3610661014439924,
            1.0856236884390567,
            1.6686614156566355,
            0.9759407491460986,
            -0.8813627789168705,
            -0.42280224883398976
           ],
           "xaxis": "x",
           "y": [
            2.9831828629370847,
            4.519805851578186,
            -3.248757526620907,
            -2.8768818894436223,
            -3.5468492381814425,
            -0.6686555416000102,
            -1.7495974420247569,
            -2.330238776842929,
            -2.0025674987433377,
            1.2745653092801585
           ],
           "yaxis": "y"
          }
         ],
         "name": "4"
        },
        {
         "data": [
          {
           "hovertemplate": "<b>%{hovertext}</b><br><br>Role=Employee<br>Time=5<br>Hospital X Coordinate=%{x}<br>Hospital Y Coordinate=%{y}<extra></extra>",
           "hovertext": [
            "Employee_1",
            "Employee_2",
            "Employee_3",
            "Employee_4",
            "Employee_5"
           ],
           "ids": [
            "Employee_1",
            "Employee_2",
            "Employee_3",
            "Employee_4",
            "Employee_5"
           ],
           "legendgroup": "Employee",
           "marker": {
            "color": "#636efa",
            "symbol": "circle"
           },
           "mode": "markers",
           "name": "Employee",
           "orientation": "v",
           "showlegend": true,
           "type": "scatter",
           "x": [
            1.959789166281133,
            0.1511115069225173,
            -2.1284314875298387,
            -1.675604581427006,
            -2.6314414793013734
           ],
           "xaxis": "x",
           "y": [
            0.8087938300546145,
            -2.562136910167551,
            -1.6949096357298197,
            0.24561980658178012,
            -1.7520711999138547
           ],
           "yaxis": "y"
          },
          {
           "hovertemplate": "<b>%{hovertext}</b><br><br>Role=Patient<br>Time=5<br>Hospital X Coordinate=%{x}<br>Hospital Y Coordinate=%{y}<extra></extra>",
           "hovertext": [
            "Patient_1",
            "Patient_2",
            "Patient_3",
            "Patient_4",
            "Patient_5",
            "Patient_6",
            "Patient_7",
            "Patient_8",
            "Patient_9",
            "Patient_10"
           ],
           "ids": [
            "Patient_1",
            "Patient_2",
            "Patient_3",
            "Patient_4",
            "Patient_5",
            "Patient_6",
            "Patient_7",
            "Patient_8",
            "Patient_9",
            "Patient_10"
           ],
           "legendgroup": "Patient",
           "marker": {
            "color": "#EF553B",
            "symbol": "circle"
           },
           "mode": "markers",
           "name": "Patient",
           "orientation": "v",
           "showlegend": true,
           "type": "scatter",
           "x": [
            1.4777242595115903,
            0.8421253347939323,
            -2.0890311453454924,
            -4.914138868763162,
            -2.1397863503482712,
            1.7399893447931145,
            1.9486300419764557,
            3.421692728762925,
            -0.7719679843119777,
            0.05820698290272347
           ],
           "xaxis": "x",
           "y": [
            2.0610175387594594,
            5.875443710383136,
            -1.3719617140628413,
            -4.12153659275504,
            -2.0508049266922592,
            -0.7242402125104652,
            -2.8750864893231336,
            -2.2010175948677015,
            -1.2768008748446458,
            1.4984493335592899
           ],
           "yaxis": "y"
          }
         ],
         "name": "5"
        },
        {
         "data": [
          {
           "hovertemplate": "<b>%{hovertext}</b><br><br>Role=Employee<br>Time=6<br>Hospital X Coordinate=%{x}<br>Hospital Y Coordinate=%{y}<extra></extra>",
           "hovertext": [
            "Employee_1",
            "Employee_2",
            "Employee_3",
            "Employee_4",
            "Employee_5"
           ],
           "ids": [
            "Employee_1",
            "Employee_2",
            "Employee_3",
            "Employee_4",
            "Employee_5"
           ],
           "legendgroup": "Employee",
           "marker": {
            "color": "#636efa",
            "symbol": "circle"
           },
           "mode": "markers",
           "name": "Employee",
           "orientation": "v",
           "showlegend": true,
           "type": "scatter",
           "x": [
            1.4806149284358432,
            -0.9552234670835109,
            -1.3159056651356407,
            -1.74761470300734,
            -2.2698054542537394
           ],
           "xaxis": "x",
           "y": [
            0.6231348533907973,
            -3.7583435342482217,
            -0.33866960715899674,
            1.2491527044738042,
            -2.397190954518979
           ],
           "yaxis": "y"
          },
          {
           "hovertemplate": "<b>%{hovertext}</b><br><br>Role=Patient<br>Time=6<br>Hospital X Coordinate=%{x}<br>Hospital Y Coordinate=%{y}<extra></extra>",
           "hovertext": [
            "Patient_1",
            "Patient_2",
            "Patient_3",
            "Patient_4",
            "Patient_5",
            "Patient_6",
            "Patient_7",
            "Patient_8",
            "Patient_9",
            "Patient_10"
           ],
           "ids": [
            "Patient_1",
            "Patient_2",
            "Patient_3",
            "Patient_4",
            "Patient_5",
            "Patient_6",
            "Patient_7",
            "Patient_8",
            "Patient_9",
            "Patient_10"
           ],
           "legendgroup": "Patient",
           "marker": {
            "color": "#EF553B",
            "symbol": "circle"
           },
           "mode": "markers",
           "name": "Patient",
           "orientation": "v",
           "showlegend": true,
           "type": "scatter",
           "x": [
            0.6872498040662783,
            2.724149831268966,
            -0.49584451870609536,
            -5.903743689021743,
            -2.0840614380595768,
            0.04752471507829514,
            1.7906221433974663,
            2.409588353502757,
            0.0512025996499369,
            -1.2317539168383305
           ],
           "xaxis": "x",
           "y": [
            2.532485895895455,
            7.2208637565381135,
            -1.8831773904940263,
            -4.247323512854687,
            -0.9566134082213107,
            0.8053101069501485,
            -3.3019675592705537,
            -3.855874266733471,
            -1.2034829076562419,
            0.20337056149567379
           ],
           "yaxis": "y"
          }
         ],
         "name": "6"
        },
        {
         "data": [
          {
           "hovertemplate": "<b>%{hovertext}</b><br><br>Role=Employee<br>Time=7<br>Hospital X Coordinate=%{x}<br>Hospital Y Coordinate=%{y}<extra></extra>",
           "hovertext": [
            "Employee_1",
            "Employee_2",
            "Employee_3",
            "Employee_4",
            "Employee_5"
           ],
           "ids": [
            "Employee_1",
            "Employee_2",
            "Employee_3",
            "Employee_4",
            "Employee_5"
           ],
           "legendgroup": "Employee",
           "marker": {
            "color": "#636efa",
            "symbol": "circle"
           },
           "mode": "markers",
           "name": "Employee",
           "orientation": "v",
           "showlegend": true,
           "type": "scatter",
           "x": [
            1.8420105339442572,
            -0.9910495061934624,
            -3.935650769225385,
            -1.6605676347691687,
            -2.178044677718237
           ],
           "xaxis": "x",
           "y": [
            2.1611714198567666,
            -2.1936998784342157,
            0.4832328972162271,
            0.9501453540079368,
            -4.384759869119872
           ],
           "yaxis": "y"
          },
          {
           "hovertemplate": "<b>%{hovertext}</b><br><br>Role=Patient<br>Time=7<br>Hospital X Coordinate=%{x}<br>Hospital Y Coordinate=%{y}<extra></extra>",
           "hovertext": [
            "Patient_1",
            "Patient_2",
            "Patient_3",
            "Patient_4",
            "Patient_5",
            "Patient_6",
            "Patient_7",
            "Patient_8",
            "Patient_9",
            "Patient_10"
           ],
           "ids": [
            "Patient_1",
            "Patient_2",
            "Patient_3",
            "Patient_4",
            "Patient_5",
            "Patient_6",
            "Patient_7",
            "Patient_8",
            "Patient_9",
            "Patient_10"
           ],
           "legendgroup": "Patient",
           "marker": {
            "color": "#EF553B",
            "symbol": "circle"
           },
           "mode": "markers",
           "name": "Patient",
           "orientation": "v",
           "showlegend": true,
           "type": "scatter",
           "x": [
            0.3514651047761501,
            2.464558479905361,
            -0.7415875827920397,
            -8.600630331963314,
            -2.3149959682682546,
            1.8964808100236403,
            1.5217334528426356,
            4.9829481567526175,
            0.0651318915628831,
            -1.0336691560704756
           ],
           "xaxis": "x",
           "y": [
            4.201507421184848,
            5.717720803420008,
            -2.1559009602416968,
            -4.301618379372499,
            -0.26040704340789234,
            1.9318751364979059,
            -4.4084934680122245,
            -3.7966558327189825,
            -1.2276079947662453,
            0.05901014957173131
           ],
           "yaxis": "y"
          }
         ],
         "name": "7"
        },
        {
         "data": [
          {
           "hovertemplate": "<b>%{hovertext}</b><br><br>Role=Employee<br>Time=8<br>Hospital X Coordinate=%{x}<br>Hospital Y Coordinate=%{y}<extra></extra>",
           "hovertext": [
            "Employee_1",
            "Employee_2",
            "Employee_3",
            "Employee_4",
            "Employee_5"
           ],
           "ids": [
            "Employee_1",
            "Employee_2",
            "Employee_3",
            "Employee_4",
            "Employee_5"
           ],
           "legendgroup": "Employee",
           "marker": {
            "color": "#636efa",
            "symbol": "circle"
           },
           "mode": "markers",
           "name": "Employee",
           "orientation": "v",
           "showlegend": true,
           "type": "scatter",
           "x": [
            1.6223386461067453,
            0.48684453854805365,
            -4.744144372118573,
            -0.7451655170670946,
            -2.7078048814852758
           ],
           "xaxis": "x",
           "y": [
            2.518283991368513,
            -2.711970096707863,
            -0.018524146368309458,
            1.2788964636676212,
            -3.8714924360065157
           ],
           "yaxis": "y"
          },
          {
           "hovertemplate": "<b>%{hovertext}</b><br><br>Role=Patient<br>Time=8<br>Hospital X Coordinate=%{x}<br>Hospital Y Coordinate=%{y}<extra></extra>",
           "hovertext": [
            "Patient_1",
            "Patient_2",
            "Patient_3",
            "Patient_4",
            "Patient_5",
            "Patient_6",
            "Patient_7",
            "Patient_8",
            "Patient_9",
            "Patient_10"
           ],
           "ids": [
            "Patient_1",
            "Patient_2",
            "Patient_3",
            "Patient_4",
            "Patient_5",
            "Patient_6",
            "Patient_7",
            "Patient_8",
            "Patient_9",
            "Patient_10"
           ],
           "legendgroup": "Patient",
           "marker": {
            "color": "#EF553B",
            "symbol": "circle"
           },
           "mode": "markers",
           "name": "Patient",
           "orientation": "v",
           "showlegend": true,
           "type": "scatter",
           "x": [
            -0.22219690210408616,
            2.4318052096893625,
            -1.454433365469204,
            -8.85560754938417,
            -4.965965776661267,
            3.1425660025212694,
            1.179045858762287,
            3.575436462034796,
            -1.0454439539029456,
            -0.09799076292301445
           ],
           "xaxis": "x",
           "y": [
            3.654648479944456,
            5.174296032286243,
            -2.0494707325498,
            -2.7976253907898103,
            0.8310998085145694,
            -0.14151509591024358,
            -4.779934334008016,
            -4.5744725203098575,
            0.5246624486573774,
            1.33056524456589
           ],
           "yaxis": "y"
          }
         ],
         "name": "8"
        },
        {
         "data": [
          {
           "hovertemplate": "<b>%{hovertext}</b><br><br>Role=Employee<br>Time=9<br>Hospital X Coordinate=%{x}<br>Hospital Y Coordinate=%{y}<extra></extra>",
           "hovertext": [
            "Employee_1",
            "Employee_2",
            "Employee_3",
            "Employee_4",
            "Employee_5"
           ],
           "ids": [
            "Employee_1",
            "Employee_2",
            "Employee_3",
            "Employee_4",
            "Employee_5"
           ],
           "legendgroup": "Employee",
           "marker": {
            "color": "#636efa",
            "symbol": "circle"
           },
           "mode": "markers",
           "name": "Employee",
           "orientation": "v",
           "showlegend": true,
           "type": "scatter",
           "x": [
            1.7194161954547857,
            -0.21520855532929872,
            -5.136252525250731,
            -0.4490452400025185,
            -2.702691424842815
           ],
           "xaxis": "x",
           "y": [
            3.486928981901402,
            -3.0396322433056313,
            -1.482039094500428,
            1.5399517358475105,
            -4.106079569381663
           ],
           "yaxis": "y"
          },
          {
           "hovertemplate": "<b>%{hovertext}</b><br><br>Role=Patient<br>Time=9<br>Hospital X Coordinate=%{x}<br>Hospital Y Coordinate=%{y}<extra></extra>",
           "hovertext": [
            "Patient_1",
            "Patient_2",
            "Patient_3",
            "Patient_4",
            "Patient_5",
            "Patient_6",
            "Patient_7",
            "Patient_8",
            "Patient_9",
            "Patient_10"
           ],
           "ids": [
            "Patient_1",
            "Patient_2",
            "Patient_3",
            "Patient_4",
            "Patient_5",
            "Patient_6",
            "Patient_7",
            "Patient_8",
            "Patient_9",
            "Patient_10"
           ],
           "legendgroup": "Patient",
           "marker": {
            "color": "#EF553B",
            "symbol": "circle"
           },
           "mode": "markers",
           "name": "Patient",
           "orientation": "v",
           "showlegend": true,
           "type": "scatter",
           "x": [
            0.499475161939149,
            1.9072849434095889,
            -2.6765611743611495,
            -9.095932947542304,
            -4.255005808457775,
            2.7815998367021892,
            0.09798253116238964,
            4.1685377200031795,
            -0.7193109316608277,
            0.8260362562838865
           ],
           "xaxis": "x",
           "y": [
            2.525596708727227,
            5.663670593514161,
            -1.3364723023774117,
            -3.172446198339408,
            1.2753631200006093,
            1.0178147074540045,
            -4.163998727063752,
            -4.884018959623848,
            -0.7264511277279255,
            1.145663108122901
           ],
           "yaxis": "y"
          }
         ],
         "name": "9"
        },
        {
         "data": [
          {
           "hovertemplate": "<b>%{hovertext}</b><br><br>Role=Employee<br>Time=10<br>Hospital X Coordinate=%{x}<br>Hospital Y Coordinate=%{y}<extra></extra>",
           "hovertext": [
            "Employee_1",
            "Employee_2",
            "Employee_3",
            "Employee_4",
            "Employee_5"
           ],
           "ids": [
            "Employee_1",
            "Employee_2",
            "Employee_3",
            "Employee_4",
            "Employee_5"
           ],
           "legendgroup": "Employee",
           "marker": {
            "color": "#636efa",
            "symbol": "circle"
           },
           "mode": "markers",
           "name": "Employee",
           "orientation": "v",
           "showlegend": true,
           "type": "scatter",
           "x": [
            0.3040454534043715,
            -0.5579230718560682,
            -5.29753823691674,
            1.4371406612080118,
            -2.4451410341200503
           ],
           "xaxis": "x",
           "y": [
            3.066283659136043,
            -3.84190951252725,
            -1.0779882376858896,
            1.7145295486793495,
            -4.180525485147831
           ],
           "yaxis": "y"
          },
          {
           "hovertemplate": "<b>%{hovertext}</b><br><br>Role=Patient<br>Time=10<br>Hospital X Coordinate=%{x}<br>Hospital Y Coordinate=%{y}<extra></extra>",
           "hovertext": [
            "Patient_1",
            "Patient_2",
            "Patient_3",
            "Patient_4",
            "Patient_5",
            "Patient_6",
            "Patient_7",
            "Patient_8",
            "Patient_9",
            "Patient_10"
           ],
           "ids": [
            "Patient_1",
            "Patient_2",
            "Patient_3",
            "Patient_4",
            "Patient_5",
            "Patient_6",
            "Patient_7",
            "Patient_8",
            "Patient_9",
            "Patient_10"
           ],
           "legendgroup": "Patient",
           "marker": {
            "color": "#EF553B",
            "symbol": "circle"
           },
           "mode": "markers",
           "name": "Patient",
           "orientation": "v",
           "showlegend": true,
           "type": "scatter",
           "x": [
            -0.023247858579890535,
            1.2029412528668297,
            -4.233190347885053,
            -10.376362300038586,
            -6.336935216341497,
            2.9926173039048076,
            -0.4469365556465601,
            4.130903017578331,
            -0.6050832829987881,
            0.4624240440700307
           ],
           "xaxis": "x",
           "y": [
            3.574605934564116,
            4.255209297150602,
            -0.730462351031772,
            -1.4176520163550432,
            2.9718194882906475,
            0.9211015955836122,
            -3.764862612711681,
            -3.780717077607327,
            -0.576149366266048,
            1.0887174844018335
           ],
           "yaxis": "y"
          }
         ],
         "name": "10"
        },
        {
         "data": [
          {
           "hovertemplate": "<b>%{hovertext}</b><br><br>Role=Employee<br>Time=11<br>Hospital X Coordinate=%{x}<br>Hospital Y Coordinate=%{y}<extra></extra>",
           "hovertext": [
            "Employee_1",
            "Employee_2",
            "Employee_3",
            "Employee_4",
            "Employee_5"
           ],
           "ids": [
            "Employee_1",
            "Employee_2",
            "Employee_3",
            "Employee_4",
            "Employee_5"
           ],
           "legendgroup": "Employee",
           "marker": {
            "color": "#636efa",
            "symbol": "circle"
           },
           "mode": "markers",
           "name": "Employee",
           "orientation": "v",
           "showlegend": true,
           "type": "scatter",
           "x": [
            -1.61472576189467,
            -0.4976928619150417,
            -5.489899201697862,
            1.4024288915027685,
            -1.3023182196050298
           ],
           "xaxis": "x",
           "y": [
            3.0397697836868263,
            -1.378667400041964,
            -0.7764408953522771,
            0.5458515110598174,
            -3.4285924524610563
           ],
           "yaxis": "y"
          },
          {
           "hovertemplate": "<b>%{hovertext}</b><br><br>Role=Patient<br>Time=11<br>Hospital X Coordinate=%{x}<br>Hospital Y Coordinate=%{y}<extra></extra>",
           "hovertext": [
            "Patient_1",
            "Patient_2",
            "Patient_3",
            "Patient_4",
            "Patient_5",
            "Patient_6",
            "Patient_7",
            "Patient_8",
            "Patient_9",
            "Patient_10"
           ],
           "ids": [
            "Patient_1",
            "Patient_2",
            "Patient_3",
            "Patient_4",
            "Patient_5",
            "Patient_6",
            "Patient_7",
            "Patient_8",
            "Patient_9",
            "Patient_10"
           ],
           "legendgroup": "Patient",
           "marker": {
            "color": "#EF553B",
            "symbol": "circle"
           },
           "mode": "markers",
           "name": "Patient",
           "orientation": "v",
           "showlegend": true,
           "type": "scatter",
           "x": [
            0.28455391031216865,
            -0.14524416923888328,
            -4.062324909757111,
            -10.357928366973193,
            -6.876694896650859,
            3.188462559002489,
            -0.03868379993208826,
            5.160058654903974,
            -0.34905354868491245,
            2.1278984885326073
           ],
           "xaxis": "x",
           "y": [
            1.8644375419074903,
            4.998473391173317,
            -0.9144456873844512,
            -1.0700703109933722,
            2.1935147628883347,
            -0.0572711820314199,
            -5.467446216949521,
            -3.3081195951942837,
            0.40654161767946595,
            2.103087549419964
           ],
           "yaxis": "y"
          }
         ],
         "name": "11"
        },
        {
         "data": [
          {
           "hovertemplate": "<b>%{hovertext}</b><br><br>Role=Employee<br>Time=12<br>Hospital X Coordinate=%{x}<br>Hospital Y Coordinate=%{y}<extra></extra>",
           "hovertext": [
            "Employee_1",
            "Employee_2",
            "Employee_3",
            "Employee_4",
            "Employee_5"
           ],
           "ids": [
            "Employee_1",
            "Employee_2",
            "Employee_3",
            "Employee_4",
            "Employee_5"
           ],
           "legendgroup": "Employee",
           "marker": {
            "color": "#636efa",
            "symbol": "circle"
           },
           "mode": "markers",
           "name": "Employee",
           "orientation": "v",
           "showlegend": true,
           "type": "scatter",
           "x": [
            -0.8236938148516231,
            0.9051014490210575,
            -4.903042107897592,
            0.41189256637208016,
            -1.2026668545173886
           ],
           "xaxis": "x",
           "y": [
            2.1303823288920873,
            -2.780518462834245,
            1.4140147304577013,
            -0.020446218542954475,
            -3.9320681065772556
           ],
           "yaxis": "y"
          },
          {
           "hovertemplate": "<b>%{hovertext}</b><br><br>Role=Patient<br>Time=12<br>Hospital X Coordinate=%{x}<br>Hospital Y Coordinate=%{y}<extra></extra>",
           "hovertext": [
            "Patient_1",
            "Patient_2",
            "Patient_3",
            "Patient_4",
            "Patient_5",
            "Patient_6",
            "Patient_7",
            "Patient_8",
            "Patient_9",
            "Patient_10"
           ],
           "ids": [
            "Patient_1",
            "Patient_2",
            "Patient_3",
            "Patient_4",
            "Patient_5",
            "Patient_6",
            "Patient_7",
            "Patient_8",
            "Patient_9",
            "Patient_10"
           ],
           "legendgroup": "Patient",
           "marker": {
            "color": "#EF553B",
            "symbol": "circle"
           },
           "mode": "markers",
           "name": "Patient",
           "orientation": "v",
           "showlegend": true,
           "type": "scatter",
           "x": [
            -1.5563203210194767,
            -0.7700627469345621,
            -3.544665889287988,
            -10.171161602496115,
            -7.488212699642808,
            2.265229312891585,
            -1.014557052909421,
            4.210659766072031,
            0.14426435219597677,
            1.2695407083513937
           ],
           "xaxis": "x",
           "y": [
            0.5848605751717888,
            5.02456444138415,
            -1.6401895005379168,
            -1.8254532433466948,
            0.7868536660401124,
            -1.4089557876477534,
            -4.413804420341682,
            -0.6757375303568929,
            0.5913777413743398,
            2.8033974288289554
           ],
           "yaxis": "y"
          }
         ],
         "name": "12"
        },
        {
         "data": [
          {
           "hovertemplate": "<b>%{hovertext}</b><br><br>Role=Employee<br>Time=13<br>Hospital X Coordinate=%{x}<br>Hospital Y Coordinate=%{y}<extra></extra>",
           "hovertext": [
            "Employee_1",
            "Employee_2",
            "Employee_3",
            "Employee_4",
            "Employee_5"
           ],
           "ids": [
            "Employee_1",
            "Employee_2",
            "Employee_3",
            "Employee_4",
            "Employee_5"
           ],
           "legendgroup": "Employee",
           "marker": {
            "color": "#636efa",
            "symbol": "circle"
           },
           "mode": "markers",
           "name": "Employee",
           "orientation": "v",
           "showlegend": true,
           "type": "scatter",
           "x": [
            -2.3743572459177558,
            -0.1572022647050474,
            -5.822466342131396,
            -0.3713607259641569,
            -0.3891496371477189
           ],
           "xaxis": "x",
           "y": [
            2.198945303698115,
            -2.3069260321990632,
            2.9639491354752407,
            -0.34250773474863005,
            -5.162932423011211
           ],
           "yaxis": "y"
          },
          {
           "hovertemplate": "<b>%{hovertext}</b><br><br>Role=Patient<br>Time=13<br>Hospital X Coordinate=%{x}<br>Hospital Y Coordinate=%{y}<extra></extra>",
           "hovertext": [
            "Patient_1",
            "Patient_2",
            "Patient_3",
            "Patient_4",
            "Patient_5",
            "Patient_6",
            "Patient_7",
            "Patient_8",
            "Patient_9",
            "Patient_10"
           ],
           "ids": [
            "Patient_1",
            "Patient_2",
            "Patient_3",
            "Patient_4",
            "Patient_5",
            "Patient_6",
            "Patient_7",
            "Patient_8",
            "Patient_9",
            "Patient_10"
           ],
           "legendgroup": "Patient",
           "marker": {
            "color": "#EF553B",
            "symbol": "circle"
           },
           "mode": "markers",
           "name": "Patient",
           "orientation": "v",
           "showlegend": true,
           "type": "scatter",
           "x": [
            -2.131958147257251,
            1.7900217913342327,
            -2.395392563002312,
            -10.206150092993077,
            -8.115179757430575,
            2.97298124834706,
            -0.38214931385390005,
            4.832469728289228,
            -0.5828728236288918,
            1.1951072792513473
           ],
           "xaxis": "x",
           "y": [
            0.7068703898171502,
            4.928504541659501,
            -2.343365925663804,
            -0.05465260771118485,
            2.599302224037041,
            -1.971422563542021,
            -3.4412499707149524,
            -2.2459622502473495,
            0.3438591058228351,
            3.4240695263796335
           ],
           "yaxis": "y"
          }
         ],
         "name": "13"
        },
        {
         "data": [
          {
           "hovertemplate": "<b>%{hovertext}</b><br><br>Role=Employee<br>Time=14<br>Hospital X Coordinate=%{x}<br>Hospital Y Coordinate=%{y}<extra></extra>",
           "hovertext": [
            "Employee_1",
            "Employee_2",
            "Employee_3",
            "Employee_4",
            "Employee_5"
           ],
           "ids": [
            "Employee_1",
            "Employee_2",
            "Employee_3",
            "Employee_4",
            "Employee_5"
           ],
           "legendgroup": "Employee",
           "marker": {
            "color": "#636efa",
            "symbol": "circle"
           },
           "mode": "markers",
           "name": "Employee",
           "orientation": "v",
           "showlegend": true,
           "type": "scatter",
           "x": [
            -2.1468973113136265,
            -1.764685499266275,
            -5.562583547882972,
            -1.6083114368422389,
            0.13279192846917875
           ],
           "xaxis": "x",
           "y": [
            3.506088057980543,
            -2.122292173666759,
            3.745772007252551,
            -1.6629643478329064,
            -4.865947749778025
           ],
           "yaxis": "y"
          },
          {
           "hovertemplate": "<b>%{hovertext}</b><br><br>Role=Patient<br>Time=14<br>Hospital X Coordinate=%{x}<br>Hospital Y Coordinate=%{y}<extra></extra>",
           "hovertext": [
            "Patient_1",
            "Patient_2",
            "Patient_3",
            "Patient_4",
            "Patient_5",
            "Patient_6",
            "Patient_7",
            "Patient_8",
            "Patient_9",
            "Patient_10"
           ],
           "ids": [
            "Patient_1",
            "Patient_2",
            "Patient_3",
            "Patient_4",
            "Patient_5",
            "Patient_6",
            "Patient_7",
            "Patient_8",
            "Patient_9",
            "Patient_10"
           ],
           "legendgroup": "Patient",
           "marker": {
            "color": "#EF553B",
            "symbol": "circle"
           },
           "mode": "markers",
           "name": "Patient",
           "orientation": "v",
           "showlegend": true,
           "type": "scatter",
           "x": [
            -1.954257146323997,
            2.170219642340196,
            -1.8356021150712722,
            -9.372227938444173,
            -8.185345468889222,
            3.402599467479646,
            -0.1105704766585266,
            3.7514131878809653,
            -0.6224279774855469,
            1.2234256553818084
           ],
           "xaxis": "x",
           "y": [
            -0.628473968892951,
            5.539090286943324,
            -1.2625852001091824,
            0.4045274715172518,
            0.9383412905210498,
            -1.7637348763789098,
            -4.717998546535262,
            -1.192809396914446,
            1.0253598031954594,
            3.4538256658753785
           ],
           "yaxis": "y"
          }
         ],
         "name": "14"
        },
        {
         "data": [
          {
           "hovertemplate": "<b>%{hovertext}</b><br><br>Role=Employee<br>Time=15<br>Hospital X Coordinate=%{x}<br>Hospital Y Coordinate=%{y}<extra></extra>",
           "hovertext": [
            "Employee_1",
            "Employee_2",
            "Employee_3",
            "Employee_4",
            "Employee_5"
           ],
           "ids": [
            "Employee_1",
            "Employee_2",
            "Employee_3",
            "Employee_4",
            "Employee_5"
           ],
           "legendgroup": "Employee",
           "marker": {
            "color": "#636efa",
            "symbol": "circle"
           },
           "mode": "markers",
           "name": "Employee",
           "orientation": "v",
           "showlegend": true,
           "type": "scatter",
           "x": [
            -1.89640446096775,
            -2.4447102208447657,
            -5.26951107458429,
            0.2574630743025177,
            -1.0585115687334699
           ],
           "xaxis": "x",
           "y": [
            3.852536267477519,
            -1.8900384765057554,
            3.031420589226183,
            -1.1891314269211188,
            -4.209394141144195
           ],
           "yaxis": "y"
          },
          {
           "hovertemplate": "<b>%{hovertext}</b><br><br>Role=Patient<br>Time=15<br>Hospital X Coordinate=%{x}<br>Hospital Y Coordinate=%{y}<extra></extra>",
           "hovertext": [
            "Patient_1",
            "Patient_2",
            "Patient_3",
            "Patient_4",
            "Patient_5",
            "Patient_6",
            "Patient_7",
            "Patient_8",
            "Patient_9",
            "Patient_10"
           ],
           "ids": [
            "Patient_1",
            "Patient_2",
            "Patient_3",
            "Patient_4",
            "Patient_5",
            "Patient_6",
            "Patient_7",
            "Patient_8",
            "Patient_9",
            "Patient_10"
           ],
           "legendgroup": "Patient",
           "marker": {
            "color": "#EF553B",
            "symbol": "circle"
           },
           "mode": "markers",
           "name": "Patient",
           "orientation": "v",
           "showlegend": true,
           "type": "scatter",
           "x": [
            -1.0159733403479994,
            2.2663404192811796,
            -2.2700983425035877,
            -9.15009416681046,
            -6.929589343315701,
            3.215727823318287,
            1.3364074076952064,
            4.7832577273496,
            -0.35537771161628806,
            1.3057096446572325
           ],
           "xaxis": "x",
           "y": [
            -1.144518697110325,
            5.076814998238282,
            -1.5717573235778217,
            -0.07422115014622549,
            0.043733988301545845,
            -2.2034659346530847,
            -4.521443770023687,
            -2.678369769951418,
            1.9149905988188964,
            4.51930604094073
           ],
           "yaxis": "y"
          }
         ],
         "name": "15"
        },
        {
         "data": [
          {
           "hovertemplate": "<b>%{hovertext}</b><br><br>Role=Employee<br>Time=16<br>Hospital X Coordinate=%{x}<br>Hospital Y Coordinate=%{y}<extra></extra>",
           "hovertext": [
            "Employee_1",
            "Employee_2",
            "Employee_3",
            "Employee_4",
            "Employee_5"
           ],
           "ids": [
            "Employee_1",
            "Employee_2",
            "Employee_3",
            "Employee_4",
            "Employee_5"
           ],
           "legendgroup": "Employee",
           "marker": {
            "color": "#636efa",
            "symbol": "circle"
           },
           "mode": "markers",
           "name": "Employee",
           "orientation": "v",
           "showlegend": true,
           "type": "scatter",
           "x": [
            -2.8710861311950713,
            -1.2861146418373617,
            -4.306134945339968,
            1.0795232342970076,
            -1.3038996847363404
           ],
           "xaxis": "x",
           "y": [
            4.639620871219971,
            -2.710720794857466,
            3.4442015161626816,
            0.7076615557328285,
            -4.963130305501684
           ],
           "yaxis": "y"
          },
          {
           "hovertemplate": "<b>%{hovertext}</b><br><br>Role=Patient<br>Time=16<br>Hospital X Coordinate=%{x}<br>Hospital Y Coordinate=%{y}<extra></extra>",
           "hovertext": [
            "Patient_1",
            "Patient_2",
            "Patient_3",
            "Patient_4",
            "Patient_5",
            "Patient_6",
            "Patient_7",
            "Patient_8",
            "Patient_9",
            "Patient_10"
           ],
           "ids": [
            "Patient_1",
            "Patient_2",
            "Patient_3",
            "Patient_4",
            "Patient_5",
            "Patient_6",
            "Patient_7",
            "Patient_8",
            "Patient_9",
            "Patient_10"
           ],
           "legendgroup": "Patient",
           "marker": {
            "color": "#EF553B",
            "symbol": "circle"
           },
           "mode": "markers",
           "name": "Patient",
           "orientation": "v",
           "showlegend": true,
           "type": "scatter",
           "x": [
            -1.5332617904483716,
            4.565238542900429,
            -2.7156008639043594,
            -7.570522021079747,
            -7.349776160411558,
            1.87127731228401,
            0.3322666409431385,
            4.748572839962819,
            1.1951227811977887,
            2.290032043133816
           ],
           "xaxis": "x",
           "y": [
            0.26482874307525495,
            4.713976437798623,
            -0.1183728464601208,
            -0.5970811772994937,
            -0.23805062055896137,
            -3.122117881137283,
            -5.289241335127816,
            -2.4441550374148973,
            0.9166365580801055,
            4.3053171967152215
           ],
           "yaxis": "y"
          }
         ],
         "name": "16"
        },
        {
         "data": [
          {
           "hovertemplate": "<b>%{hovertext}</b><br><br>Role=Employee<br>Time=17<br>Hospital X Coordinate=%{x}<br>Hospital Y Coordinate=%{y}<extra></extra>",
           "hovertext": [
            "Employee_1",
            "Employee_2",
            "Employee_3",
            "Employee_4",
            "Employee_5"
           ],
           "ids": [
            "Employee_1",
            "Employee_2",
            "Employee_3",
            "Employee_4",
            "Employee_5"
           ],
           "legendgroup": "Employee",
           "marker": {
            "color": "#636efa",
            "symbol": "circle"
           },
           "mode": "markers",
           "name": "Employee",
           "orientation": "v",
           "showlegend": true,
           "type": "scatter",
           "x": [
            -3.7606005608205946,
            -1.363216351251466,
            -4.029444146009949,
            1.0925251261749147,
            -1.5685565179742964
           ],
           "xaxis": "x",
           "y": [
            3.8238105862545324,
            -2.369568820040822,
            4.271384765198706,
            2.1611956328901454,
            -2.242961138912065
           ],
           "yaxis": "y"
          },
          {
           "hovertemplate": "<b>%{hovertext}</b><br><br>Role=Patient<br>Time=17<br>Hospital X Coordinate=%{x}<br>Hospital Y Coordinate=%{y}<extra></extra>",
           "hovertext": [
            "Patient_1",
            "Patient_2",
            "Patient_3",
            "Patient_4",
            "Patient_5",
            "Patient_6",
            "Patient_7",
            "Patient_8",
            "Patient_9",
            "Patient_10"
           ],
           "ids": [
            "Patient_1",
            "Patient_2",
            "Patient_3",
            "Patient_4",
            "Patient_5",
            "Patient_6",
            "Patient_7",
            "Patient_8",
            "Patient_9",
            "Patient_10"
           ],
           "legendgroup": "Patient",
           "marker": {
            "color": "#EF553B",
            "symbol": "circle"
           },
           "mode": "markers",
           "name": "Patient",
           "orientation": "v",
           "showlegend": true,
           "type": "scatter",
           "x": [
            -1.5827255001008045,
            3.442516521338131,
            -2.5491486556913032,
            -7.281353377171929,
            -7.987516144662874,
            1.2481367858592458,
            -0.3051204863633792,
            6.169077087952673,
            0.36276720809356,
            1.737808998852845
           ],
           "xaxis": "x",
           "y": [
            0.9396482352418587,
            5.096386183982673,
            0.3740784175480283,
            1.8582189626114005,
            -0.7690475755607791,
            -3.6775950002975377,
            -4.1002248040202645,
            -3.0149013311643733,
            1.3880521144665097,
            4.938249014470732
           ],
           "yaxis": "y"
          }
         ],
         "name": "17"
        },
        {
         "data": [
          {
           "hovertemplate": "<b>%{hovertext}</b><br><br>Role=Employee<br>Time=18<br>Hospital X Coordinate=%{x}<br>Hospital Y Coordinate=%{y}<extra></extra>",
           "hovertext": [
            "Employee_1",
            "Employee_2",
            "Employee_3",
            "Employee_4",
            "Employee_5"
           ],
           "ids": [
            "Employee_1",
            "Employee_2",
            "Employee_3",
            "Employee_4",
            "Employee_5"
           ],
           "legendgroup": "Employee",
           "marker": {
            "color": "#636efa",
            "symbol": "circle"
           },
           "mode": "markers",
           "name": "Employee",
           "orientation": "v",
           "showlegend": true,
           "type": "scatter",
           "x": [
            -3.1349332130555885,
            -2.434108849312578,
            -4.2529069313358,
            1.5657627507484595,
            -2.4153502360427015
           ],
           "xaxis": "x",
           "y": [
            2.96665302983825,
            -1.8870964047976369,
            4.985385259290798,
            2.0883667202332727,
            -3.75780836359793
           ],
           "yaxis": "y"
          },
          {
           "hovertemplate": "<b>%{hovertext}</b><br><br>Role=Patient<br>Time=18<br>Hospital X Coordinate=%{x}<br>Hospital Y Coordinate=%{y}<extra></extra>",
           "hovertext": [
            "Patient_1",
            "Patient_2",
            "Patient_3",
            "Patient_4",
            "Patient_5",
            "Patient_6",
            "Patient_7",
            "Patient_8",
            "Patient_9",
            "Patient_10"
           ],
           "ids": [
            "Patient_1",
            "Patient_2",
            "Patient_3",
            "Patient_4",
            "Patient_5",
            "Patient_6",
            "Patient_7",
            "Patient_8",
            "Patient_9",
            "Patient_10"
           ],
           "legendgroup": "Patient",
           "marker": {
            "color": "#EF553B",
            "symbol": "circle"
           },
           "mode": "markers",
           "name": "Patient",
           "orientation": "v",
           "showlegend": true,
           "type": "scatter",
           "x": [
            -1.3798024792495047,
            4.990021722668192,
            -3.1619373461756894,
            -6.995487986447024,
            -7.328971871990044,
            1.0711895583651965,
            -1.6844397143779064,
            6.135950115078876,
            -0.15484409094261142,
            1.7213861027800927
           ],
           "xaxis": "x",
           "y": [
            -0.5760958797553732,
            6.892263857078195,
            -0.013623142387955867,
            2.1926757525984257,
            1.2411569632055706,
            -4.4758922448359915,
            -4.831154843962183,
            -1.2203434676465856,
            1.6118400661054082,
            6.126642287918816
           ],
           "yaxis": "y"
          }
         ],
         "name": "18"
        },
        {
         "data": [
          {
           "hovertemplate": "<b>%{hovertext}</b><br><br>Role=Employee<br>Time=19<br>Hospital X Coordinate=%{x}<br>Hospital Y Coordinate=%{y}<extra></extra>",
           "hovertext": [
            "Employee_1",
            "Employee_2",
            "Employee_3",
            "Employee_4",
            "Employee_5"
           ],
           "ids": [
            "Employee_1",
            "Employee_2",
            "Employee_3",
            "Employee_4",
            "Employee_5"
           ],
           "legendgroup": "Employee",
           "marker": {
            "color": "#636efa",
            "symbol": "circle"
           },
           "mode": "markers",
           "name": "Employee",
           "orientation": "v",
           "showlegend": true,
           "type": "scatter",
           "x": [
            -3.5814481651226098,
            -2.2200151051823744,
            -4.079726005484618,
            0.6819053145473265,
            -2.3571415175967014
           ],
           "xaxis": "x",
           "y": [
            3.8230518241617224,
            -3.132835183509625,
            5.370702639019634,
            2.2420918261788008,
            -4.900778661428553
           ],
           "yaxis": "y"
          },
          {
           "hovertemplate": "<b>%{hovertext}</b><br><br>Role=Patient<br>Time=19<br>Hospital X Coordinate=%{x}<br>Hospital Y Coordinate=%{y}<extra></extra>",
           "hovertext": [
            "Patient_1",
            "Patient_2",
            "Patient_3",
            "Patient_4",
            "Patient_5",
            "Patient_6",
            "Patient_7",
            "Patient_8",
            "Patient_9",
            "Patient_10"
           ],
           "ids": [
            "Patient_1",
            "Patient_2",
            "Patient_3",
            "Patient_4",
            "Patient_5",
            "Patient_6",
            "Patient_7",
            "Patient_8",
            "Patient_9",
            "Patient_10"
           ],
           "legendgroup": "Patient",
           "marker": {
            "color": "#EF553B",
            "symbol": "circle"
           },
           "mode": "markers",
           "name": "Patient",
           "orientation": "v",
           "showlegend": true,
           "type": "scatter",
           "x": [
            1.147129946624117,
            4.50058228014997,
            -2.480045856549378,
            -6.411559801121061,
            -6.7383170412977345,
            1.8916717395625606,
            -0.6177650247887525,
            7.518109106116404,
            -0.3219621712594658,
            2.9278950692884496
           ],
           "xaxis": "x",
           "y": [
            -1.106964652675694,
            7.936424734147267,
            1.8330841833480778,
            1.8333836618113661,
            2.3498605437884783,
            -3.9686182137286936,
            -3.6618592535165106,
            -0.571633580056943,
            1.758553752538731,
            5.30970661693158
           ],
           "yaxis": "y"
          }
         ],
         "name": "19"
        },
        {
         "data": [
          {
           "hovertemplate": "<b>%{hovertext}</b><br><br>Role=Employee<br>Time=20<br>Hospital X Coordinate=%{x}<br>Hospital Y Coordinate=%{y}<extra></extra>",
           "hovertext": [
            "Employee_1",
            "Employee_2",
            "Employee_3",
            "Employee_4",
            "Employee_5"
           ],
           "ids": [
            "Employee_1",
            "Employee_2",
            "Employee_3",
            "Employee_4",
            "Employee_5"
           ],
           "legendgroup": "Employee",
           "marker": {
            "color": "#636efa",
            "symbol": "circle"
           },
           "mode": "markers",
           "name": "Employee",
           "orientation": "v",
           "showlegend": true,
           "type": "scatter",
           "x": [
            -3.2236608047743265,
            -1.1369638620070974,
            -5.4573953734417096,
            1.1969405817559862,
            -1.8420938312906534
           ],
           "xaxis": "x",
           "y": [
            4.383836350529957,
            -2.0790331314747217,
            4.432877599104511,
            2.7558777770910097,
            -1.0480471707738315
           ],
           "yaxis": "y"
          },
          {
           "hovertemplate": "<b>%{hovertext}</b><br><br>Role=Patient<br>Time=20<br>Hospital X Coordinate=%{x}<br>Hospital Y Coordinate=%{y}<extra></extra>",
           "hovertext": [
            "Patient_1",
            "Patient_2",
            "Patient_3",
            "Patient_4",
            "Patient_5",
            "Patient_6",
            "Patient_7",
            "Patient_8",
            "Patient_9",
            "Patient_10"
           ],
           "ids": [
            "Patient_1",
            "Patient_2",
            "Patient_3",
            "Patient_4",
            "Patient_5",
            "Patient_6",
            "Patient_7",
            "Patient_8",
            "Patient_9",
            "Patient_10"
           ],
           "legendgroup": "Patient",
           "marker": {
            "color": "#EF553B",
            "symbol": "circle"
           },
           "mode": "markers",
           "name": "Patient",
           "orientation": "v",
           "showlegend": true,
           "type": "scatter",
           "x": [
            1.5158032554970182,
            4.529327103084788,
            -2.2889467885294748,
            -7.77141594210098,
            -6.092832860156659,
            1.5838935046095597,
            -0.36838134107799725,
            7.422813573729451,
            0.2859343384570734,
            2.4814614547379215
           ],
           "xaxis": "x",
           "y": [
            -1.5003034650030547,
            9.214876596754566,
            1.8795207315042266,
            2.579637227838587,
            4.513115267093939,
            -3.7494678860647546,
            -2.0844059737530363,
            -0.29261205428660375,
            1.945162875695089,
            5.503796609829887
           ],
           "yaxis": "y"
          }
         ],
         "name": "20"
        },
        {
         "data": [
          {
           "hovertemplate": "<b>%{hovertext}</b><br><br>Role=Employee<br>Time=21<br>Hospital X Coordinate=%{x}<br>Hospital Y Coordinate=%{y}<extra></extra>",
           "hovertext": [
            "Employee_1",
            "Employee_2",
            "Employee_3",
            "Employee_4",
            "Employee_5"
           ],
           "ids": [
            "Employee_1",
            "Employee_2",
            "Employee_3",
            "Employee_4",
            "Employee_5"
           ],
           "legendgroup": "Employee",
           "marker": {
            "color": "#636efa",
            "symbol": "circle"
           },
           "mode": "markers",
           "name": "Employee",
           "orientation": "v",
           "showlegend": true,
           "type": "scatter",
           "x": [
            -2.6527702940811597,
            -0.1829620985138951,
            -5.7726646180820556,
            0.42411536721841436,
            -2.327457379119757
           ],
           "xaxis": "x",
           "y": [
            5.519401990710556,
            -1.4276418801689237,
            5.191846819597779,
            2.519059170351001,
            -0.9661730313875089
           ],
           "yaxis": "y"
          },
          {
           "hovertemplate": "<b>%{hovertext}</b><br><br>Role=Patient<br>Time=21<br>Hospital X Coordinate=%{x}<br>Hospital Y Coordinate=%{y}<extra></extra>",
           "hovertext": [
            "Patient_1",
            "Patient_2",
            "Patient_3",
            "Patient_4",
            "Patient_5",
            "Patient_6",
            "Patient_7",
            "Patient_8",
            "Patient_9",
            "Patient_10"
           ],
           "ids": [
            "Patient_1",
            "Patient_2",
            "Patient_3",
            "Patient_4",
            "Patient_5",
            "Patient_6",
            "Patient_7",
            "Patient_8",
            "Patient_9",
            "Patient_10"
           ],
           "legendgroup": "Patient",
           "marker": {
            "color": "#EF553B",
            "symbol": "circle"
           },
           "mode": "markers",
           "name": "Patient",
           "orientation": "v",
           "showlegend": true,
           "type": "scatter",
           "x": [
            2.5894350053567905,
            4.662296777231664,
            -1.0939001596046323,
            -8.330337789372567,
            -4.527308830922319,
            1.0286939779163613,
            -1.8163952414942413,
            7.862828023782783,
            -0.7352984786736398,
            2.7252621685091203
           ],
           "xaxis": "x",
           "y": [
            -2.5268187644141147,
            8.514755781815392,
            0.3563338267204519,
            2.956849102903108,
            4.447365006020951,
            -1.8683108166241644,
            -4.283211930373119,
            -0.7946662786392149,
            2.653519322994442,
            4.939717979093159
           ],
           "yaxis": "y"
          }
         ],
         "name": "21"
        },
        {
         "data": [
          {
           "hovertemplate": "<b>%{hovertext}</b><br><br>Role=Employee<br>Time=22<br>Hospital X Coordinate=%{x}<br>Hospital Y Coordinate=%{y}<extra></extra>",
           "hovertext": [
            "Employee_1",
            "Employee_2",
            "Employee_3",
            "Employee_4",
            "Employee_5"
           ],
           "ids": [
            "Employee_1",
            "Employee_2",
            "Employee_3",
            "Employee_4",
            "Employee_5"
           ],
           "legendgroup": "Employee",
           "marker": {
            "color": "#636efa",
            "symbol": "circle"
           },
           "mode": "markers",
           "name": "Employee",
           "orientation": "v",
           "showlegend": true,
           "type": "scatter",
           "x": [
            -0.33811172740765105,
            0.5032980918606184,
            -6.244596483871489,
            0.48839538631387713,
            -3.042761088379725
           ],
           "xaxis": "x",
           "y": [
            3.6521367981188075,
            -3.0403577513585756,
            6.280797416565145,
            1.4413143924216947,
            -0.28657528245283304
           ],
           "yaxis": "y"
          },
          {
           "hovertemplate": "<b>%{hovertext}</b><br><br>Role=Patient<br>Time=22<br>Hospital X Coordinate=%{x}<br>Hospital Y Coordinate=%{y}<extra></extra>",
           "hovertext": [
            "Patient_1",
            "Patient_2",
            "Patient_3",
            "Patient_4",
            "Patient_5",
            "Patient_6",
            "Patient_7",
            "Patient_8",
            "Patient_9",
            "Patient_10"
           ],
           "ids": [
            "Patient_1",
            "Patient_2",
            "Patient_3",
            "Patient_4",
            "Patient_5",
            "Patient_6",
            "Patient_7",
            "Patient_8",
            "Patient_9",
            "Patient_10"
           ],
           "legendgroup": "Patient",
           "marker": {
            "color": "#EF553B",
            "symbol": "circle"
           },
           "mode": "markers",
           "name": "Patient",
           "orientation": "v",
           "showlegend": true,
           "type": "scatter",
           "x": [
            1.309130606685896,
            5.3124979551903255,
            0.7527368364430336,
            -9.855862960297307,
            -4.572894847277817,
            0.7874579200600315,
            -3.0679346656846853,
            7.780676845390214,
            -0.3925731322959357,
            3.295029448741324
           ],
           "xaxis": "x",
           "y": [
            -1.65436143613397,
            8.41557991803601,
            -0.7137509396057007,
            2.2649410330218633,
            4.690704455343643,
            -1.5162554201098677,
            -2.839447326299859,
            0.3226295529489127,
            3.110272542148226,
            5.387426539110474
           ],
           "yaxis": "y"
          }
         ],
         "name": "22"
        },
        {
         "data": [
          {
           "hovertemplate": "<b>%{hovertext}</b><br><br>Role=Employee<br>Time=23<br>Hospital X Coordinate=%{x}<br>Hospital Y Coordinate=%{y}<extra></extra>",
           "hovertext": [
            "Employee_1",
            "Employee_2",
            "Employee_3",
            "Employee_4",
            "Employee_5"
           ],
           "ids": [
            "Employee_1",
            "Employee_2",
            "Employee_3",
            "Employee_4",
            "Employee_5"
           ],
           "legendgroup": "Employee",
           "marker": {
            "color": "#636efa",
            "symbol": "circle"
           },
           "mode": "markers",
           "name": "Employee",
           "orientation": "v",
           "showlegend": true,
           "type": "scatter",
           "x": [
            -1.0684783591247877,
            0.5488699317644321,
            -4.100652394546163,
            -1.5367472003437301,
            -3.704547553148113
           ],
           "xaxis": "x",
           "y": [
            3.8685953877007826,
            -3.6919580989643928,
            6.914716438883156,
            1.6277687071911222,
            0.5658580523433909
           ],
           "yaxis": "y"
          },
          {
           "hovertemplate": "<b>%{hovertext}</b><br><br>Role=Patient<br>Time=23<br>Hospital X Coordinate=%{x}<br>Hospital Y Coordinate=%{y}<extra></extra>",
           "hovertext": [
            "Patient_1",
            "Patient_2",
            "Patient_3",
            "Patient_4",
            "Patient_5",
            "Patient_6",
            "Patient_7",
            "Patient_8",
            "Patient_9",
            "Patient_10"
           ],
           "ids": [
            "Patient_1",
            "Patient_2",
            "Patient_3",
            "Patient_4",
            "Patient_5",
            "Patient_6",
            "Patient_7",
            "Patient_8",
            "Patient_9",
            "Patient_10"
           ],
           "legendgroup": "Patient",
           "marker": {
            "color": "#EF553B",
            "symbol": "circle"
           },
           "mode": "markers",
           "name": "Patient",
           "orientation": "v",
           "showlegend": true,
           "type": "scatter",
           "x": [
            1.9518533665534399,
            5.509019124891796,
            0.6630011421558069,
            -10.532255262356577,
            -4.61305279792216,
            0.9155623349708207,
            -2.2272911166959615,
            7.334493412175434,
            -0.8448794515450124,
            1.7111266252556008
           ],
           "xaxis": "x",
           "y": [
            -0.3252089060015386,
            9.124583675624521,
            0.7263662758437721,
            4.065881465932679,
            3.259929353225595,
            -2.1973070775847487,
            -3.49207130560225,
            -1.5669111779966183,
            0.6863932155192694,
            6.147841195254771
           ],
           "yaxis": "y"
          }
         ],
         "name": "23"
        },
        {
         "data": [
          {
           "hovertemplate": "<b>%{hovertext}</b><br><br>Role=Employee<br>Time=24<br>Hospital X Coordinate=%{x}<br>Hospital Y Coordinate=%{y}<extra></extra>",
           "hovertext": [
            "Employee_1",
            "Employee_2",
            "Employee_3",
            "Employee_4",
            "Employee_5"
           ],
           "ids": [
            "Employee_1",
            "Employee_2",
            "Employee_3",
            "Employee_4",
            "Employee_5"
           ],
           "legendgroup": "Employee",
           "marker": {
            "color": "#636efa",
            "symbol": "circle"
           },
           "mode": "markers",
           "name": "Employee",
           "orientation": "v",
           "showlegend": true,
           "type": "scatter",
           "x": [
            -1.8609990975574884,
            1.0538572107448894,
            -5.3009488016019395,
            -2.011692511504686,
            -1.939093312867016
           ],
           "xaxis": "x",
           "y": [
            3.7538589462338834,
            -2.8262029047942714,
            6.580215203042208,
            0.9744394746174103,
            0.9708397633043464
           ],
           "yaxis": "y"
          },
          {
           "hovertemplate": "<b>%{hovertext}</b><br><br>Role=Patient<br>Time=24<br>Hospital X Coordinate=%{x}<br>Hospital Y Coordinate=%{y}<extra></extra>",
           "hovertext": [
            "Patient_1",
            "Patient_2",
            "Patient_3",
            "Patient_4",
            "Patient_5",
            "Patient_6",
            "Patient_7",
            "Patient_8",
            "Patient_9",
            "Patient_10"
           ],
           "ids": [
            "Patient_1",
            "Patient_2",
            "Patient_3",
            "Patient_4",
            "Patient_5",
            "Patient_6",
            "Patient_7",
            "Patient_8",
            "Patient_9",
            "Patient_10"
           ],
           "legendgroup": "Patient",
           "marker": {
            "color": "#EF553B",
            "symbol": "circle"
           },
           "mode": "markers",
           "name": "Patient",
           "orientation": "v",
           "showlegend": true,
           "type": "scatter",
           "x": [
            2.737653525204272,
            4.542042981762583,
            0.6593986030652385,
            -9.028856960589426,
            -4.834016971751824,
            1.123945142918373,
            -2.474468499216558,
            6.332873402280519,
            0.9528070753045101,
            1.139947635472804
           ],
           "xaxis": "x",
           "y": [
            0.10024865578342612,
            9.076872319482542,
            -0.43199841334877065,
            4.943243756508351,
            3.286815192220126,
            -4.239041946009039,
            -4.1740555536000485,
            -1.8480114708825732,
            1.3272360767862792,
            6.720423976610929
           ],
           "yaxis": "y"
          }
         ],
         "name": "24"
        },
        {
         "data": [
          {
           "hovertemplate": "<b>%{hovertext}</b><br><br>Role=Employee<br>Time=25<br>Hospital X Coordinate=%{x}<br>Hospital Y Coordinate=%{y}<extra></extra>",
           "hovertext": [
            "Employee_1",
            "Employee_2",
            "Employee_3",
            "Employee_4",
            "Employee_5"
           ],
           "ids": [
            "Employee_1",
            "Employee_2",
            "Employee_3",
            "Employee_4",
            "Employee_5"
           ],
           "legendgroup": "Employee",
           "marker": {
            "color": "#636efa",
            "symbol": "circle"
           },
           "mode": "markers",
           "name": "Employee",
           "orientation": "v",
           "showlegend": true,
           "type": "scatter",
           "x": [
            -3.1218830518925333,
            3.1760134077575226,
            -6.820318767555953,
            -0.7447813623180635,
            -1.4952738847207876
           ],
           "xaxis": "x",
           "y": [
            4.67172089328866,
            -1.7937376442431245,
            6.095981130175956,
            0.26677000899862957,
            1.7454738167336832
           ],
           "yaxis": "y"
          },
          {
           "hovertemplate": "<b>%{hovertext}</b><br><br>Role=Patient<br>Time=25<br>Hospital X Coordinate=%{x}<br>Hospital Y Coordinate=%{y}<extra></extra>",
           "hovertext": [
            "Patient_1",
            "Patient_2",
            "Patient_3",
            "Patient_4",
            "Patient_5",
            "Patient_6",
            "Patient_7",
            "Patient_8",
            "Patient_9",
            "Patient_10"
           ],
           "ids": [
            "Patient_1",
            "Patient_2",
            "Patient_3",
            "Patient_4",
            "Patient_5",
            "Patient_6",
            "Patient_7",
            "Patient_8",
            "Patient_9",
            "Patient_10"
           ],
           "legendgroup": "Patient",
           "marker": {
            "color": "#EF553B",
            "symbol": "circle"
           },
           "mode": "markers",
           "name": "Patient",
           "orientation": "v",
           "showlegend": true,
           "type": "scatter",
           "x": [
            4.137008961790274,
            4.601673351682757,
            1.3576219166788284,
            -8.133663740561694,
            -3.784464256432489,
            2.441339208552699,
            -0.3992076265912927,
            8.068837205445769,
            0.3013890716900618,
            0.8196003272784838
           ],
           "xaxis": "x",
           "y": [
            1.024882338696195,
            8.429935541776967,
            -0.03851302792702105,
            5.57841555819032,
            2.751579980659558,
            -4.04144234131664,
            -4.863243371689617,
            -1.6501006874199255,
            0.8433502427319577,
            7.144589923012846
           ],
           "yaxis": "y"
          }
         ],
         "name": "25"
        },
        {
         "data": [
          {
           "hovertemplate": "<b>%{hovertext}</b><br><br>Role=Employee<br>Time=26<br>Hospital X Coordinate=%{x}<br>Hospital Y Coordinate=%{y}<extra></extra>",
           "hovertext": [
            "Employee_1",
            "Employee_2",
            "Employee_3",
            "Employee_4",
            "Employee_5"
           ],
           "ids": [
            "Employee_1",
            "Employee_2",
            "Employee_3",
            "Employee_4",
            "Employee_5"
           ],
           "legendgroup": "Employee",
           "marker": {
            "color": "#636efa",
            "symbol": "circle"
           },
           "mode": "markers",
           "name": "Employee",
           "orientation": "v",
           "showlegend": true,
           "type": "scatter",
           "x": [
            -4.048813523470616,
            -0.06525393231154997,
            -7.072886918949114,
            0.8876299416135718,
            -1.9353183714177713
           ],
           "xaxis": "x",
           "y": [
            4.612195537226859,
            -2.8181252855774144,
            4.848197948211107,
            -1.163371368962003,
            1.8762143940197746
           ],
           "yaxis": "y"
          },
          {
           "hovertemplate": "<b>%{hovertext}</b><br><br>Role=Patient<br>Time=26<br>Hospital X Coordinate=%{x}<br>Hospital Y Coordinate=%{y}<extra></extra>",
           "hovertext": [
            "Patient_1",
            "Patient_2",
            "Patient_3",
            "Patient_4",
            "Patient_5",
            "Patient_6",
            "Patient_7",
            "Patient_8",
            "Patient_9",
            "Patient_10"
           ],
           "ids": [
            "Patient_1",
            "Patient_2",
            "Patient_3",
            "Patient_4",
            "Patient_5",
            "Patient_6",
            "Patient_7",
            "Patient_8",
            "Patient_9",
            "Patient_10"
           ],
           "legendgroup": "Patient",
           "marker": {
            "color": "#EF553B",
            "symbol": "circle"
           },
           "mode": "markers",
           "name": "Patient",
           "orientation": "v",
           "showlegend": true,
           "type": "scatter",
           "x": [
            4.659844449825774,
            4.5773187594217735,
            3.08516508677954,
            -8.095660262393494,
            -3.1709462837020723,
            2.1839626711293536,
            0.000015496013986537882,
            7.585650743146395,
            -0.9243765913122794,
            1.0440521458384557
           ],
           "xaxis": "x",
           "y": [
            0.45118233475761593,
            10.57220590038883,
            0.39781064174701103,
            5.698446884908582,
            1.7287874154611524,
            -5.710026415194229,
            -4.216047431986875,
            -0.07611392412989271,
            -0.6210246374778625,
            8.191688225625
           ],
           "yaxis": "y"
          }
         ],
         "name": "26"
        },
        {
         "data": [
          {
           "hovertemplate": "<b>%{hovertext}</b><br><br>Role=Employee<br>Time=27<br>Hospital X Coordinate=%{x}<br>Hospital Y Coordinate=%{y}<extra></extra>",
           "hovertext": [
            "Employee_1",
            "Employee_2",
            "Employee_3",
            "Employee_4",
            "Employee_5"
           ],
           "ids": [
            "Employee_1",
            "Employee_2",
            "Employee_3",
            "Employee_4",
            "Employee_5"
           ],
           "legendgroup": "Employee",
           "marker": {
            "color": "#636efa",
            "symbol": "circle"
           },
           "mode": "markers",
           "name": "Employee",
           "orientation": "v",
           "showlegend": true,
           "type": "scatter",
           "x": [
            -2.6075402344045004,
            1.0979098198434096,
            -8.054395569997064,
            1.0866896371870418,
            -1.8655162864277524
           ],
           "xaxis": "x",
           "y": [
            3.17633338604742,
            -2.8078922245578273,
            5.310301422474377,
            -1.763588246120798,
            1.4909007971580144
           ],
           "yaxis": "y"
          },
          {
           "hovertemplate": "<b>%{hovertext}</b><br><br>Role=Patient<br>Time=27<br>Hospital X Coordinate=%{x}<br>Hospital Y Coordinate=%{y}<extra></extra>",
           "hovertext": [
            "Patient_1",
            "Patient_2",
            "Patient_3",
            "Patient_4",
            "Patient_5",
            "Patient_6",
            "Patient_7",
            "Patient_8",
            "Patient_9",
            "Patient_10"
           ],
           "ids": [
            "Patient_1",
            "Patient_2",
            "Patient_3",
            "Patient_4",
            "Patient_5",
            "Patient_6",
            "Patient_7",
            "Patient_8",
            "Patient_9",
            "Patient_10"
           ],
           "legendgroup": "Patient",
           "marker": {
            "color": "#EF553B",
            "symbol": "circle"
           },
           "mode": "markers",
           "name": "Patient",
           "orientation": "v",
           "showlegend": true,
           "type": "scatter",
           "x": [
            6.343772141283642,
            5.655999592853069,
            2.9125377868387203,
            -7.443337383980074,
            -1.6944059339761766,
            1.558399969619824,
            0.49404568229672535,
            7.0353455893009755,
            -0.9499306623037247,
            1.5876523004328882
           ],
           "xaxis": "x",
           "y": [
            -0.007701928111324086,
            10.533697430888123,
            1.2814705792336833,
            4.122054727924333,
            3.108878769608604,
            -5.3142228817568204,
            -3.955373666162968,
            -0.7477372920679443,
            0.5517043817815022,
            7.821073893538895
           ],
           "yaxis": "y"
          }
         ],
         "name": "27"
        },
        {
         "data": [
          {
           "hovertemplate": "<b>%{hovertext}</b><br><br>Role=Employee<br>Time=28<br>Hospital X Coordinate=%{x}<br>Hospital Y Coordinate=%{y}<extra></extra>",
           "hovertext": [
            "Employee_1",
            "Employee_2",
            "Employee_3",
            "Employee_4",
            "Employee_5"
           ],
           "ids": [
            "Employee_1",
            "Employee_2",
            "Employee_3",
            "Employee_4",
            "Employee_5"
           ],
           "legendgroup": "Employee",
           "marker": {
            "color": "#636efa",
            "symbol": "circle"
           },
           "mode": "markers",
           "name": "Employee",
           "orientation": "v",
           "showlegend": true,
           "type": "scatter",
           "x": [
            -2.4940228891532525,
            2.6839266359887617,
            -5.921362195340798,
            0.9349045421514585,
            -1.5845244186927196
           ],
           "xaxis": "x",
           "y": [
            3.838464060568467,
            -4.045707723384677,
            3.358213622951875,
            -1.1752710396362214,
            0.8682012773374206
           ],
           "yaxis": "y"
          },
          {
           "hovertemplate": "<b>%{hovertext}</b><br><br>Role=Patient<br>Time=28<br>Hospital X Coordinate=%{x}<br>Hospital Y Coordinate=%{y}<extra></extra>",
           "hovertext": [
            "Patient_1",
            "Patient_2",
            "Patient_3",
            "Patient_4",
            "Patient_5",
            "Patient_6",
            "Patient_7",
            "Patient_8",
            "Patient_9",
            "Patient_10"
           ],
           "ids": [
            "Patient_1",
            "Patient_2",
            "Patient_3",
            "Patient_4",
            "Patient_5",
            "Patient_6",
            "Patient_7",
            "Patient_8",
            "Patient_9",
            "Patient_10"
           ],
           "legendgroup": "Patient",
           "marker": {
            "color": "#EF553B",
            "symbol": "circle"
           },
           "mode": "markers",
           "name": "Patient",
           "orientation": "v",
           "showlegend": true,
           "type": "scatter",
           "x": [
            7.1154708519319865,
            6.804765293225173,
            2.550096845435588,
            -8.73801885970098,
            -2.162107135288068,
            1.51147939074064,
            0.5708675733569807,
            8.031612408748115,
            -2.5065125609634755,
            3.088412091067199
           ],
           "xaxis": "x",
           "y": [
            -2.8562445487413997,
            8.793983652110024,
            0.1618006846075395,
            5.2828815153028525,
            3.45538265133932,
            -4.837182054533699,
            -5.238365890351538,
            -1.2414938752292568,
            0.12358922081558965,
            8.671295635652388
           ],
           "yaxis": "y"
          }
         ],
         "name": "28"
        },
        {
         "data": [
          {
           "hovertemplate": "<b>%{hovertext}</b><br><br>Role=Employee<br>Time=29<br>Hospital X Coordinate=%{x}<br>Hospital Y Coordinate=%{y}<extra></extra>",
           "hovertext": [
            "Employee_1",
            "Employee_2",
            "Employee_3",
            "Employee_4",
            "Employee_5"
           ],
           "ids": [
            "Employee_1",
            "Employee_2",
            "Employee_3",
            "Employee_4",
            "Employee_5"
           ],
           "legendgroup": "Employee",
           "marker": {
            "color": "#636efa",
            "symbol": "circle"
           },
           "mode": "markers",
           "name": "Employee",
           "orientation": "v",
           "showlegend": true,
           "type": "scatter",
           "x": [
            -2.702145139510528,
            2.09456187904455,
            -5.564346709375751,
            1.8345044175847092,
            -0.7716622998537596
           ],
           "xaxis": "x",
           "y": [
            3.345463125909634,
            -3.1961056263636523,
            2.6653040276912208,
            -0.867971518759612,
            1.4978301192610328
           ],
           "yaxis": "y"
          },
          {
           "hovertemplate": "<b>%{hovertext}</b><br><br>Role=Patient<br>Time=29<br>Hospital X Coordinate=%{x}<br>Hospital Y Coordinate=%{y}<extra></extra>",
           "hovertext": [
            "Patient_1",
            "Patient_2",
            "Patient_3",
            "Patient_4",
            "Patient_5",
            "Patient_6",
            "Patient_7",
            "Patient_8",
            "Patient_9",
            "Patient_10"
           ],
           "ids": [
            "Patient_1",
            "Patient_2",
            "Patient_3",
            "Patient_4",
            "Patient_5",
            "Patient_6",
            "Patient_7",
            "Patient_8",
            "Patient_9",
            "Patient_10"
           ],
           "legendgroup": "Patient",
           "marker": {
            "color": "#EF553B",
            "symbol": "circle"
           },
           "mode": "markers",
           "name": "Patient",
           "orientation": "v",
           "showlegend": true,
           "type": "scatter",
           "x": [
            6.766818717524127,
            6.48313024200779,
            2.9320322976671416,
            -7.707735405669137,
            -2.421149281108771,
            1.439878131326576,
            1.2984971169939605,
            8.764252485963695,
            -2.427877370647385,
            4.00473976576968
           ],
           "xaxis": "x",
           "y": [
            -3.2055022530598283,
            10.870731635670865,
            0.5918423317986091,
            5.521670674329366,
            3.2590328022543416,
            -4.874404291043541,
            -5.186420004544239,
            -1.322210455337839,
            -1.8746114637165179,
            9.01778411155038
           ],
           "yaxis": "y"
          }
         ],
         "name": "29"
        },
        {
         "data": [
          {
           "hovertemplate": "<b>%{hovertext}</b><br><br>Role=Employee<br>Time=30<br>Hospital X Coordinate=%{x}<br>Hospital Y Coordinate=%{y}<extra></extra>",
           "hovertext": [
            "Employee_1",
            "Employee_2",
            "Employee_3",
            "Employee_4",
            "Employee_5"
           ],
           "ids": [
            "Employee_1",
            "Employee_2",
            "Employee_3",
            "Employee_4",
            "Employee_5"
           ],
           "legendgroup": "Employee",
           "marker": {
            "color": "#636efa",
            "symbol": "circle"
           },
           "mode": "markers",
           "name": "Employee",
           "orientation": "v",
           "showlegend": true,
           "type": "scatter",
           "x": [
            -3.5311401504326003,
            2.841855484167812,
            -5.585248303339899,
            3.1121693133731343,
            -0.22456491868372164
           ],
           "xaxis": "x",
           "y": [
            2.785282085712664,
            -2.5857353609301876,
            2.7826314110000028,
            -1.4595429075954418,
            1.2956374668271389
           ],
           "yaxis": "y"
          },
          {
           "hovertemplate": "<b>%{hovertext}</b><br><br>Role=Patient<br>Time=30<br>Hospital X Coordinate=%{x}<br>Hospital Y Coordinate=%{y}<extra></extra>",
           "hovertext": [
            "Patient_1",
            "Patient_2",
            "Patient_3",
            "Patient_4",
            "Patient_5",
            "Patient_6",
            "Patient_7",
            "Patient_8",
            "Patient_9",
            "Patient_10"
           ],
           "ids": [
            "Patient_1",
            "Patient_2",
            "Patient_3",
            "Patient_4",
            "Patient_5",
            "Patient_6",
            "Patient_7",
            "Patient_8",
            "Patient_9",
            "Patient_10"
           ],
           "legendgroup": "Patient",
           "marker": {
            "color": "#EF553B",
            "symbol": "circle"
           },
           "mode": "markers",
           "name": "Patient",
           "orientation": "v",
           "showlegend": true,
           "type": "scatter",
           "x": [
            7.764828827383779,
            8.571504946788517,
            4.040215114404658,
            -7.094961500606567,
            -3.0449182418045764,
            1.2491957305632295,
            2.1685648476827146,
            8.914671391107271,
            -0.024461785409109815,
            4.2058388124846475
           ],
           "xaxis": "x",
           "y": [
            -6.101757631253518,
            10.731142007515691,
            -0.44806359532692175,
            4.46825511115571,
            5.173064156121128,
            -4.656971417863818,
            -4.690738116571634,
            -0.9572494528716137,
            -1.9322302607501032,
            10.068438507557993
           ],
           "yaxis": "y"
          }
         ],
         "name": "30"
        },
        {
         "data": [
          {
           "hovertemplate": "<b>%{hovertext}</b><br><br>Role=Employee<br>Time=31<br>Hospital X Coordinate=%{x}<br>Hospital Y Coordinate=%{y}<extra></extra>",
           "hovertext": [
            "Employee_1",
            "Employee_2",
            "Employee_3",
            "Employee_4",
            "Employee_5"
           ],
           "ids": [
            "Employee_1",
            "Employee_2",
            "Employee_3",
            "Employee_4",
            "Employee_5"
           ],
           "legendgroup": "Employee",
           "marker": {
            "color": "#636efa",
            "symbol": "circle"
           },
           "mode": "markers",
           "name": "Employee",
           "orientation": "v",
           "showlegend": true,
           "type": "scatter",
           "x": [
            -3.7488213536598205,
            3.6672718331558416,
            -4.27976949618557,
            3.794122284668098,
            0.09960143380472047
           ],
           "xaxis": "x",
           "y": [
            3.884058937699854,
            -1.772225724929549,
            2.8036352526327617,
            -1.7698096641888978,
            1.1654944124594544
           ],
           "yaxis": "y"
          },
          {
           "hovertemplate": "<b>%{hovertext}</b><br><br>Role=Patient<br>Time=31<br>Hospital X Coordinate=%{x}<br>Hospital Y Coordinate=%{y}<extra></extra>",
           "hovertext": [
            "Patient_1",
            "Patient_2",
            "Patient_3",
            "Patient_4",
            "Patient_5",
            "Patient_6",
            "Patient_7",
            "Patient_8",
            "Patient_9",
            "Patient_10"
           ],
           "ids": [
            "Patient_1",
            "Patient_2",
            "Patient_3",
            "Patient_4",
            "Patient_5",
            "Patient_6",
            "Patient_7",
            "Patient_8",
            "Patient_9",
            "Patient_10"
           ],
           "legendgroup": "Patient",
           "marker": {
            "color": "#EF553B",
            "symbol": "circle"
           },
           "mode": "markers",
           "name": "Patient",
           "orientation": "v",
           "showlegend": true,
           "type": "scatter",
           "x": [
            8.870354760341762,
            9.210235168817702,
            5.673646646705754,
            -6.792326035367534,
            -3.1090565883975687,
            1.5705529460135026,
            3.782276116741362,
            8.670514755816622,
            1.1650087035155308,
            4.803238882334505
           ],
           "xaxis": "x",
           "y": [
            -4.914727325693137,
            9.588137094785207,
            -1.5944089883456098,
            3.713979261136352,
            5.501826566424608,
            -4.235050663628533,
            -4.237203815057654,
            0.006837715416743606,
            -3.1598380758870954,
            10.769611249868891
           ],
           "yaxis": "y"
          }
         ],
         "name": "31"
        },
        {
         "data": [
          {
           "hovertemplate": "<b>%{hovertext}</b><br><br>Role=Employee<br>Time=32<br>Hospital X Coordinate=%{x}<br>Hospital Y Coordinate=%{y}<extra></extra>",
           "hovertext": [
            "Employee_1",
            "Employee_2",
            "Employee_3",
            "Employee_4",
            "Employee_5"
           ],
           "ids": [
            "Employee_1",
            "Employee_2",
            "Employee_3",
            "Employee_4",
            "Employee_5"
           ],
           "legendgroup": "Employee",
           "marker": {
            "color": "#636efa",
            "symbol": "circle"
           },
           "mode": "markers",
           "name": "Employee",
           "orientation": "v",
           "showlegend": true,
           "type": "scatter",
           "x": [
            -3.651825388667102,
            2.849051149922369,
            -5.285786877685272,
            4.952233158168166,
            0.7237212508568756
           ],
           "xaxis": "x",
           "y": [
            4.479215963136768,
            0.32016155075591124,
            1.5894466398450295,
            -0.978146970225962,
            1.7938399217237344
           ],
           "yaxis": "y"
          },
          {
           "hovertemplate": "<b>%{hovertext}</b><br><br>Role=Patient<br>Time=32<br>Hospital X Coordinate=%{x}<br>Hospital Y Coordinate=%{y}<extra></extra>",
           "hovertext": [
            "Patient_1",
            "Patient_2",
            "Patient_3",
            "Patient_4",
            "Patient_5",
            "Patient_6",
            "Patient_7",
            "Patient_8",
            "Patient_9",
            "Patient_10"
           ],
           "ids": [
            "Patient_1",
            "Patient_2",
            "Patient_3",
            "Patient_4",
            "Patient_5",
            "Patient_6",
            "Patient_7",
            "Patient_8",
            "Patient_9",
            "Patient_10"
           ],
           "legendgroup": "Patient",
           "marker": {
            "color": "#EF553B",
            "symbol": "circle"
           },
           "mode": "markers",
           "name": "Patient",
           "orientation": "v",
           "showlegend": true,
           "type": "scatter",
           "x": [
            8.57279125698177,
            9.060179581785174,
            5.500574822421884,
            -7.8886011222627355,
            -1.5145515251725965,
            0.5791605965571954,
            3.1433143690518595,
            10.312529915952991,
            0.476858358337807,
            5.785004369326099
           ],
           "xaxis": "x",
           "y": [
            -3.539020512381518,
            9.713713548256749,
            -1.5788299407641424,
            2.2739283785420574,
            4.654865218106281,
            -6.388440777232248,
            -5.560293608465153,
            1.0166548047593778,
            -0.9074022705427867,
            10.44477986636027
           ],
           "yaxis": "y"
          }
         ],
         "name": "32"
        },
        {
         "data": [
          {
           "hovertemplate": "<b>%{hovertext}</b><br><br>Role=Employee<br>Time=33<br>Hospital X Coordinate=%{x}<br>Hospital Y Coordinate=%{y}<extra></extra>",
           "hovertext": [
            "Employee_1",
            "Employee_2",
            "Employee_3",
            "Employee_4",
            "Employee_5"
           ],
           "ids": [
            "Employee_1",
            "Employee_2",
            "Employee_3",
            "Employee_4",
            "Employee_5"
           ],
           "legendgroup": "Employee",
           "marker": {
            "color": "#636efa",
            "symbol": "circle"
           },
           "mode": "markers",
           "name": "Employee",
           "orientation": "v",
           "showlegend": true,
           "type": "scatter",
           "x": [
            -3.664072161514017,
            2.9248557081160955,
            -4.310667144267521,
            4.126735961375655,
            1.1366527051325
           ],
           "xaxis": "x",
           "y": [
            3.581961591650936,
            -0.35700016075620045,
            1.442389258342891,
            -1.2995328118789553,
            1.2301153689197597
           ],
           "yaxis": "y"
          },
          {
           "hovertemplate": "<b>%{hovertext}</b><br><br>Role=Patient<br>Time=33<br>Hospital X Coordinate=%{x}<br>Hospital Y Coordinate=%{y}<extra></extra>",
           "hovertext": [
            "Patient_1",
            "Patient_2",
            "Patient_3",
            "Patient_4",
            "Patient_5",
            "Patient_6",
            "Patient_7",
            "Patient_8",
            "Patient_9",
            "Patient_10"
           ],
           "ids": [
            "Patient_1",
            "Patient_2",
            "Patient_3",
            "Patient_4",
            "Patient_5",
            "Patient_6",
            "Patient_7",
            "Patient_8",
            "Patient_9",
            "Patient_10"
           ],
           "legendgroup": "Patient",
           "marker": {
            "color": "#EF553B",
            "symbol": "circle"
           },
           "mode": "markers",
           "name": "Patient",
           "orientation": "v",
           "showlegend": true,
           "type": "scatter",
           "x": [
            6.073385542108197,
            7.670607115021578,
            6.523145254431524,
            -6.504328303752217,
            -0.9197971835073105,
            1.3380891863439606,
            3.2475154730037357,
            9.558565327086315,
            -1.2160984558575785,
            4.796413262175182
           ],
           "xaxis": "x",
           "y": [
            -1.2480779397907762,
            8.068314801299858,
            0.8609224655751304,
            2.837837498594417,
            5.508280776886588,
            -6.107249353262872,
            -5.622886736364675,
            0.7359797278926037,
            -1.0057418973375365,
            9.341190549144498
           ],
           "yaxis": "y"
          }
         ],
         "name": "33"
        },
        {
         "data": [
          {
           "hovertemplate": "<b>%{hovertext}</b><br><br>Role=Employee<br>Time=34<br>Hospital X Coordinate=%{x}<br>Hospital Y Coordinate=%{y}<extra></extra>",
           "hovertext": [
            "Employee_1",
            "Employee_2",
            "Employee_3",
            "Employee_4",
            "Employee_5"
           ],
           "ids": [
            "Employee_1",
            "Employee_2",
            "Employee_3",
            "Employee_4",
            "Employee_5"
           ],
           "legendgroup": "Employee",
           "marker": {
            "color": "#636efa",
            "symbol": "circle"
           },
           "mode": "markers",
           "name": "Employee",
           "orientation": "v",
           "showlegend": true,
           "type": "scatter",
           "x": [
            -4.486292557080448,
            3.1698222792248183,
            -4.781705449885844,
            2.6786516198783303,
            0.41820848388006393
           ],
           "xaxis": "x",
           "y": [
            3.8256488031428484,
            -0.8639433361273302,
            1.6744391957005273,
            -2.7069965862555105,
            1.0166682172079125
           ],
           "yaxis": "y"
          },
          {
           "hovertemplate": "<b>%{hovertext}</b><br><br>Role=Patient<br>Time=34<br>Hospital X Coordinate=%{x}<br>Hospital Y Coordinate=%{y}<extra></extra>",
           "hovertext": [
            "Patient_1",
            "Patient_2",
            "Patient_3",
            "Patient_4",
            "Patient_5",
            "Patient_6",
            "Patient_7",
            "Patient_8",
            "Patient_9",
            "Patient_10"
           ],
           "ids": [
            "Patient_1",
            "Patient_2",
            "Patient_3",
            "Patient_4",
            "Patient_5",
            "Patient_6",
            "Patient_7",
            "Patient_8",
            "Patient_9",
            "Patient_10"
           ],
           "legendgroup": "Patient",
           "marker": {
            "color": "#EF553B",
            "symbol": "circle"
           },
           "mode": "markers",
           "name": "Patient",
           "orientation": "v",
           "showlegend": true,
           "type": "scatter",
           "x": [
            6.253279693261675,
            8.58892372102389,
            5.533517117861186,
            -7.486815697290527,
            -0.36974508448275867,
            1.4434646924899204,
            2.6461478290525218,
            7.965571593554646,
            -1.2357362547842596,
            5.020327396239844
           ],
           "xaxis": "x",
           "y": [
            0.14392434655382313,
            6.49781419767668,
            1.8016936535633463,
            2.6132043485973924,
            4.539936322022953,
            -7.441274848181076,
            -5.303104802222139,
            1.1764544658530027,
            -0.45325194292038873,
            10.705330979118342
           ],
           "yaxis": "y"
          }
         ],
         "name": "34"
        },
        {
         "data": [
          {
           "hovertemplate": "<b>%{hovertext}</b><br><br>Role=Employee<br>Time=35<br>Hospital X Coordinate=%{x}<br>Hospital Y Coordinate=%{y}<extra></extra>",
           "hovertext": [
            "Employee_1",
            "Employee_2",
            "Employee_3",
            "Employee_4",
            "Employee_5"
           ],
           "ids": [
            "Employee_1",
            "Employee_2",
            "Employee_3",
            "Employee_4",
            "Employee_5"
           ],
           "legendgroup": "Employee",
           "marker": {
            "color": "#636efa",
            "symbol": "circle"
           },
           "mode": "markers",
           "name": "Employee",
           "orientation": "v",
           "showlegend": true,
           "type": "scatter",
           "x": [
            -4.175384991482444,
            4.027481902426838,
            -4.800721657788532,
            2.6601384838859405,
            0.7409270442181535
           ],
           "xaxis": "x",
           "y": [
            5.301005020092401,
            -1.0238818660907574,
            0.6719098310627185,
            -2.995655225175649,
            0.1894372736555895
           ],
           "yaxis": "y"
          },
          {
           "hovertemplate": "<b>%{hovertext}</b><br><br>Role=Patient<br>Time=35<br>Hospital X Coordinate=%{x}<br>Hospital Y Coordinate=%{y}<extra></extra>",
           "hovertext": [
            "Patient_1",
            "Patient_2",
            "Patient_3",
            "Patient_4",
            "Patient_5",
            "Patient_6",
            "Patient_7",
            "Patient_8",
            "Patient_9",
            "Patient_10"
           ],
           "ids": [
            "Patient_1",
            "Patient_2",
            "Patient_3",
            "Patient_4",
            "Patient_5",
            "Patient_6",
            "Patient_7",
            "Patient_8",
            "Patient_9",
            "Patient_10"
           ],
           "legendgroup": "Patient",
           "marker": {
            "color": "#EF553B",
            "symbol": "circle"
           },
           "mode": "markers",
           "name": "Patient",
           "orientation": "v",
           "showlegend": true,
           "type": "scatter",
           "x": [
            6.378504195909582,
            8.711221224056175,
            5.582377188186891,
            -8.188807385097283,
            -1.7723503562824523,
            0.1996014570986353,
            1.9277405634833245,
            7.670621915262618,
            -1.9092268790281282,
            4.1849803429800865
           ],
           "xaxis": "x",
           "y": [
            -0.28548119457142984,
            7.041112226713068,
            1.8422853447672287,
            1.9503034310464442,
            6.289513065209892,
            -8.134180045976983,
            -4.408180425277697,
            2.4241965385267363,
            -0.17425778069658676,
            12.85048010689173
           ],
           "yaxis": "y"
          }
         ],
         "name": "35"
        },
        {
         "data": [
          {
           "hovertemplate": "<b>%{hovertext}</b><br><br>Role=Employee<br>Time=36<br>Hospital X Coordinate=%{x}<br>Hospital Y Coordinate=%{y}<extra></extra>",
           "hovertext": [
            "Employee_1",
            "Employee_2",
            "Employee_3",
            "Employee_4",
            "Employee_5"
           ],
           "ids": [
            "Employee_1",
            "Employee_2",
            "Employee_3",
            "Employee_4",
            "Employee_5"
           ],
           "legendgroup": "Employee",
           "marker": {
            "color": "#636efa",
            "symbol": "circle"
           },
           "mode": "markers",
           "name": "Employee",
           "orientation": "v",
           "showlegend": true,
           "type": "scatter",
           "x": [
            -3.6560384772412715,
            3.9187217539699803,
            -4.11057766607742,
            2.884230965696357,
            0.8386031427669852
           ],
           "xaxis": "x",
           "y": [
            6.833743933094978,
            -0.6221701439918159,
            0.27068935917688225,
            -2.983062824393854,
            -0.583572510199877
           ],
           "yaxis": "y"
          },
          {
           "hovertemplate": "<b>%{hovertext}</b><br><br>Role=Patient<br>Time=36<br>Hospital X Coordinate=%{x}<br>Hospital Y Coordinate=%{y}<extra></extra>",
           "hovertext": [
            "Patient_1",
            "Patient_2",
            "Patient_3",
            "Patient_4",
            "Patient_5",
            "Patient_6",
            "Patient_7",
            "Patient_8",
            "Patient_9",
            "Patient_10"
           ],
           "ids": [
            "Patient_1",
            "Patient_2",
            "Patient_3",
            "Patient_4",
            "Patient_5",
            "Patient_6",
            "Patient_7",
            "Patient_8",
            "Patient_9",
            "Patient_10"
           ],
           "legendgroup": "Patient",
           "marker": {
            "color": "#EF553B",
            "symbol": "circle"
           },
           "mode": "markers",
           "name": "Patient",
           "orientation": "v",
           "showlegend": true,
           "type": "scatter",
           "x": [
            5.1909057768800695,
            9.344998104988273,
            5.3970895293091825,
            -8.144995913118173,
            -0.8084712394875426,
            -0.3578903279091983,
            1.8394585151320697,
            6.8669473472928875,
            -0.23152606495168748,
            4.753963422165362
           ],
           "xaxis": "x",
           "y": [
            0.024339515655597665,
            7.454911324164566,
            1.7124646450338026,
            1.8033014294179557,
            8.500036066801243,
            -9.50398302555606,
            -1.8284710876233787,
            4.063313343970804,
            -0.7278460224045813,
            14.478876730020268
           ],
           "yaxis": "y"
          }
         ],
         "name": "36"
        },
        {
         "data": [
          {
           "hovertemplate": "<b>%{hovertext}</b><br><br>Role=Employee<br>Time=37<br>Hospital X Coordinate=%{x}<br>Hospital Y Coordinate=%{y}<extra></extra>",
           "hovertext": [
            "Employee_1",
            "Employee_2",
            "Employee_3",
            "Employee_4",
            "Employee_5"
           ],
           "ids": [
            "Employee_1",
            "Employee_2",
            "Employee_3",
            "Employee_4",
            "Employee_5"
           ],
           "legendgroup": "Employee",
           "marker": {
            "color": "#636efa",
            "symbol": "circle"
           },
           "mode": "markers",
           "name": "Employee",
           "orientation": "v",
           "showlegend": true,
           "type": "scatter",
           "x": [
            -3.631528302982329,
            5.369865361765022,
            -1.9573952085658637,
            3.7565516024170353,
            3.0284060759846576
           ],
           "xaxis": "x",
           "y": [
            7.331742224340428,
            0.33710068209339095,
            -0.49665820371116726,
            -2.7997208186555023,
            -1.3918707955550285
           ],
           "yaxis": "y"
          },
          {
           "hovertemplate": "<b>%{hovertext}</b><br><br>Role=Patient<br>Time=37<br>Hospital X Coordinate=%{x}<br>Hospital Y Coordinate=%{y}<extra></extra>",
           "hovertext": [
            "Patient_1",
            "Patient_2",
            "Patient_3",
            "Patient_4",
            "Patient_5",
            "Patient_6",
            "Patient_7",
            "Patient_8",
            "Patient_9",
            "Patient_10"
           ],
           "ids": [
            "Patient_1",
            "Patient_2",
            "Patient_3",
            "Patient_4",
            "Patient_5",
            "Patient_6",
            "Patient_7",
            "Patient_8",
            "Patient_9",
            "Patient_10"
           ],
           "legendgroup": "Patient",
           "marker": {
            "color": "#EF553B",
            "symbol": "circle"
           },
           "mode": "markers",
           "name": "Patient",
           "orientation": "v",
           "showlegend": true,
           "type": "scatter",
           "x": [
            4.811778035892583,
            8.76331719103963,
            4.747811984243175,
            -8.110912444858947,
            -0.5746853276967949,
            -0.02701009569474122,
            -0.1542771274393857,
            8.09461633976618,
            1.441046321886016,
            4.048951566406953
           ],
           "xaxis": "x",
           "y": [
            -0.1792408444467641,
            6.4401545934717,
            0.48852437827154604,
            1.0333281983593139,
            6.944140420597616,
            -8.670454063947135,
            -1.4544145177758065,
            2.8536723252795984,
            -0.3088270130385361,
            14.423107652362562
           ],
           "yaxis": "y"
          }
         ],
         "name": "37"
        },
        {
         "data": [
          {
           "hovertemplate": "<b>%{hovertext}</b><br><br>Role=Employee<br>Time=38<br>Hospital X Coordinate=%{x}<br>Hospital Y Coordinate=%{y}<extra></extra>",
           "hovertext": [
            "Employee_1",
            "Employee_2",
            "Employee_3",
            "Employee_4",
            "Employee_5"
           ],
           "ids": [
            "Employee_1",
            "Employee_2",
            "Employee_3",
            "Employee_4",
            "Employee_5"
           ],
           "legendgroup": "Employee",
           "marker": {
            "color": "#636efa",
            "symbol": "circle"
           },
           "mode": "markers",
           "name": "Employee",
           "orientation": "v",
           "showlegend": true,
           "type": "scatter",
           "x": [
            -4.471250145163105,
            3.2459696374552154,
            -2.7165278701195614,
            4.098307578194195,
            3.9788299141707077
           ],
           "xaxis": "x",
           "y": [
            6.732349578896406,
            -0.1886543395873701,
            -0.3462644172349596,
            -0.923549979439616,
            -1.9687744512174317
           ],
           "yaxis": "y"
          },
          {
           "hovertemplate": "<b>%{hovertext}</b><br><br>Role=Patient<br>Time=38<br>Hospital X Coordinate=%{x}<br>Hospital Y Coordinate=%{y}<extra></extra>",
           "hovertext": [
            "Patient_1",
            "Patient_2",
            "Patient_3",
            "Patient_4",
            "Patient_5",
            "Patient_6",
            "Patient_7",
            "Patient_8",
            "Patient_9",
            "Patient_10"
           ],
           "ids": [
            "Patient_1",
            "Patient_2",
            "Patient_3",
            "Patient_4",
            "Patient_5",
            "Patient_6",
            "Patient_7",
            "Patient_8",
            "Patient_9",
            "Patient_10"
           ],
           "legendgroup": "Patient",
           "marker": {
            "color": "#EF553B",
            "symbol": "circle"
           },
           "mode": "markers",
           "name": "Patient",
           "orientation": "v",
           "showlegend": true,
           "type": "scatter",
           "x": [
            5.370104948414305,
            9.302073183485998,
            4.917172808279253,
            -8.222138506207648,
            -1.3102152702865615,
            1.0643000248995278,
            -1.2465898921119647,
            9.307714039745363,
            3.7603758618677103,
            4.241000682896985
           ],
           "xaxis": "x",
           "y": [
            -0.10323545303435261,
            5.519481000392334,
            -0.9251901186334341,
            0.12942055689452414,
            8.180233595808053,
            -8.061315943039958,
            -1.7708229674706084,
            2.995389238919503,
            0.08449082635583577,
            14.11399118816006
           ],
           "yaxis": "y"
          }
         ],
         "name": "38"
        },
        {
         "data": [
          {
           "hovertemplate": "<b>%{hovertext}</b><br><br>Role=Employee<br>Time=39<br>Hospital X Coordinate=%{x}<br>Hospital Y Coordinate=%{y}<extra></extra>",
           "hovertext": [
            "Employee_1",
            "Employee_2",
            "Employee_3",
            "Employee_4",
            "Employee_5"
           ],
           "ids": [
            "Employee_1",
            "Employee_2",
            "Employee_3",
            "Employee_4",
            "Employee_5"
           ],
           "legendgroup": "Employee",
           "marker": {
            "color": "#636efa",
            "symbol": "circle"
           },
           "mode": "markers",
           "name": "Employee",
           "orientation": "v",
           "showlegend": true,
           "type": "scatter",
           "x": [
            -5.369664816511463,
            1.9257364304345732,
            -1.5370877493982744,
            2.3851730491033174,
            3.86429006891809
           ],
           "xaxis": "x",
           "y": [
            7.224268750402912,
            1.6428044262669836,
            -0.8154400693396644,
            0.4303223947257968,
            -0.7309581392439699
           ],
           "yaxis": "y"
          },
          {
           "hovertemplate": "<b>%{hovertext}</b><br><br>Role=Patient<br>Time=39<br>Hospital X Coordinate=%{x}<br>Hospital Y Coordinate=%{y}<extra></extra>",
           "hovertext": [
            "Patient_1",
            "Patient_2",
            "Patient_3",
            "Patient_4",
            "Patient_5",
            "Patient_6",
            "Patient_7",
            "Patient_8",
            "Patient_9",
            "Patient_10"
           ],
           "ids": [
            "Patient_1",
            "Patient_2",
            "Patient_3",
            "Patient_4",
            "Patient_5",
            "Patient_6",
            "Patient_7",
            "Patient_8",
            "Patient_9",
            "Patient_10"
           ],
           "legendgroup": "Patient",
           "marker": {
            "color": "#EF553B",
            "symbol": "circle"
           },
           "mode": "markers",
           "name": "Patient",
           "orientation": "v",
           "showlegend": true,
           "type": "scatter",
           "x": [
            5.503645853196587,
            10.010181860174589,
            4.131183347771303,
            -10.058343879310945,
            -2.413581876460435,
            1.4528786294304918,
            -1.252660803651858,
            9.389543398292929,
            4.679452344855479,
            4.508392996968888
           ],
           "xaxis": "x",
           "y": [
            -0.2557052894148965,
            6.476183317186918,
            -2.256423072191212,
            0.6374118838070678,
            6.02734300285557,
            -5.568316425607167,
            -0.9323321930189665,
            2.8964995857283604,
            -0.20578371783281557,
            14.435688994356074
           ],
           "yaxis": "y"
          }
         ],
         "name": "39"
        },
        {
         "data": [
          {
           "hovertemplate": "<b>%{hovertext}</b><br><br>Role=Employee<br>Time=40<br>Hospital X Coordinate=%{x}<br>Hospital Y Coordinate=%{y}<extra></extra>",
           "hovertext": [
            "Employee_1",
            "Employee_2",
            "Employee_3",
            "Employee_4",
            "Employee_5"
           ],
           "ids": [
            "Employee_1",
            "Employee_2",
            "Employee_3",
            "Employee_4",
            "Employee_5"
           ],
           "legendgroup": "Employee",
           "marker": {
            "color": "#636efa",
            "symbol": "circle"
           },
           "mode": "markers",
           "name": "Employee",
           "orientation": "v",
           "showlegend": true,
           "type": "scatter",
           "x": [
            -6.96409247530583,
            1.9309801301527563,
            -1.987153220877518,
            1.317552619720723,
            3.9845857006299887
           ],
           "xaxis": "x",
           "y": [
            6.624893727449139,
            1.6897850200317257,
            -0.19259013699216565,
            0.2879429097045033,
            -0.2165193051852209
           ],
           "yaxis": "y"
          },
          {
           "hovertemplate": "<b>%{hovertext}</b><br><br>Role=Patient<br>Time=40<br>Hospital X Coordinate=%{x}<br>Hospital Y Coordinate=%{y}<extra></extra>",
           "hovertext": [
            "Patient_1",
            "Patient_2",
            "Patient_3",
            "Patient_4",
            "Patient_5",
            "Patient_6",
            "Patient_7",
            "Patient_8",
            "Patient_9",
            "Patient_10"
           ],
           "ids": [
            "Patient_1",
            "Patient_2",
            "Patient_3",
            "Patient_4",
            "Patient_5",
            "Patient_6",
            "Patient_7",
            "Patient_8",
            "Patient_9",
            "Patient_10"
           ],
           "legendgroup": "Patient",
           "marker": {
            "color": "#EF553B",
            "symbol": "circle"
           },
           "mode": "markers",
           "name": "Patient",
           "orientation": "v",
           "showlegend": true,
           "type": "scatter",
           "x": [
            4.835555399553538,
            9.83522210347918,
            4.667693191341707,
            -10.030162721941817,
            -1.327686310628857,
            1.427851670685348,
            0.1375467453654553,
            9.39989601813631,
            3.614338681780106,
            3.8988807948096045
           ],
           "xaxis": "x",
           "y": [
            0.7363370601216264,
            5.7204381576940735,
            -3.154891053982249,
            0.6282928871628642,
            6.502041235735523,
            -4.750550126406879,
            -0.3745218866671043,
            1.5846633533782009,
            -0.5110084221874832,
            14.248717691370627
           ],
           "yaxis": "y"
          }
         ],
         "name": "40"
        },
        {
         "data": [
          {
           "hovertemplate": "<b>%{hovertext}</b><br><br>Role=Employee<br>Time=41<br>Hospital X Coordinate=%{x}<br>Hospital Y Coordinate=%{y}<extra></extra>",
           "hovertext": [
            "Employee_1",
            "Employee_2",
            "Employee_3",
            "Employee_4",
            "Employee_5"
           ],
           "ids": [
            "Employee_1",
            "Employee_2",
            "Employee_3",
            "Employee_4",
            "Employee_5"
           ],
           "legendgroup": "Employee",
           "marker": {
            "color": "#636efa",
            "symbol": "circle"
           },
           "mode": "markers",
           "name": "Employee",
           "orientation": "v",
           "showlegend": true,
           "type": "scatter",
           "x": [
            -6.252477597216941,
            0.396865959417134,
            -1.6548392088979265,
            2.868704595243246,
            5.163882884693815
           ],
           "xaxis": "x",
           "y": [
            5.50025163561127,
            2.967461841930235,
            -0.9410766735487193,
            0.403617543997362,
            -0.14900082377511192
           ],
           "yaxis": "y"
          },
          {
           "hovertemplate": "<b>%{hovertext}</b><br><br>Role=Patient<br>Time=41<br>Hospital X Coordinate=%{x}<br>Hospital Y Coordinate=%{y}<extra></extra>",
           "hovertext": [
            "Patient_1",
            "Patient_2",
            "Patient_3",
            "Patient_4",
            "Patient_5",
            "Patient_6",
            "Patient_7",
            "Patient_8",
            "Patient_9",
            "Patient_10"
           ],
           "ids": [
            "Patient_1",
            "Patient_2",
            "Patient_3",
            "Patient_4",
            "Patient_5",
            "Patient_6",
            "Patient_7",
            "Patient_8",
            "Patient_9",
            "Patient_10"
           ],
           "legendgroup": "Patient",
           "marker": {
            "color": "#EF553B",
            "symbol": "circle"
           },
           "mode": "markers",
           "name": "Patient",
           "orientation": "v",
           "showlegend": true,
           "type": "scatter",
           "x": [
            4.892205324450646,
            9.76472332542009,
            4.732167606151827,
            -10.969498115760572,
            -2.5373810534699643,
            2.958602503029045,
            -0.0758961255647527,
            9.548563475338423,
            3.0009360182391664,
            3.510703976268376
           ],
           "xaxis": "x",
           "y": [
            1.2660298144783573,
            6.206939801520275,
            -5.13035762033612,
            0.4842053314412488,
            7.101969965731727,
            -3.5317882747095624,
            1.1162042501828477,
            1.2475773822601615,
            -0.8134781086756115,
            14.419133913746116
           ],
           "yaxis": "y"
          }
         ],
         "name": "41"
        },
        {
         "data": [
          {
           "hovertemplate": "<b>%{hovertext}</b><br><br>Role=Employee<br>Time=42<br>Hospital X Coordinate=%{x}<br>Hospital Y Coordinate=%{y}<extra></extra>",
           "hovertext": [
            "Employee_1",
            "Employee_2",
            "Employee_3",
            "Employee_4",
            "Employee_5"
           ],
           "ids": [
            "Employee_1",
            "Employee_2",
            "Employee_3",
            "Employee_4",
            "Employee_5"
           ],
           "legendgroup": "Employee",
           "marker": {
            "color": "#636efa",
            "symbol": "circle"
           },
           "mode": "markers",
           "name": "Employee",
           "orientation": "v",
           "showlegend": true,
           "type": "scatter",
           "x": [
            -4.1917296723349535,
            0.14790181093806049,
            -1.009463259312779,
            1.9037811346631415,
            6.222307371543403
           ],
           "xaxis": "x",
           "y": [
            7.255592478054474,
            3.9390327928845905,
            0.4275548839836294,
            1.0896690039958012,
            -1.9077403101982262
           ],
           "yaxis": "y"
          },
          {
           "hovertemplate": "<b>%{hovertext}</b><br><br>Role=Patient<br>Time=42<br>Hospital X Coordinate=%{x}<br>Hospital Y Coordinate=%{y}<extra></extra>",
           "hovertext": [
            "Patient_1",
            "Patient_2",
            "Patient_3",
            "Patient_4",
            "Patient_5",
            "Patient_6",
            "Patient_7",
            "Patient_8",
            "Patient_9",
            "Patient_10"
           ],
           "ids": [
            "Patient_1",
            "Patient_2",
            "Patient_3",
            "Patient_4",
            "Patient_5",
            "Patient_6",
            "Patient_7",
            "Patient_8",
            "Patient_9",
            "Patient_10"
           ],
           "legendgroup": "Patient",
           "marker": {
            "color": "#EF553B",
            "symbol": "circle"
           },
           "mode": "markers",
           "name": "Patient",
           "orientation": "v",
           "showlegend": true,
           "type": "scatter",
           "x": [
            5.05277930550051,
            10.201661495166439,
            5.681721741593151,
            -13.523419250662528,
            -3.9042597518853857,
            1.7884894769696855,
            0.46556660264003535,
            8.972053074611702,
            2.4546915699866836,
            2.031792407494247
           ],
           "xaxis": "x",
           "y": [
            1.2690758346317716,
            7.397586076306617,
            -6.615255588786024,
            1.4185252426805226,
            6.877204563839044,
            -5.333768712289582,
            1.8753594104854945,
            -1.3434649098847484,
            -0.42167410327306504,
            14.602493833525271
           ],
           "yaxis": "y"
          }
         ],
         "name": "42"
        },
        {
         "data": [
          {
           "hovertemplate": "<b>%{hovertext}</b><br><br>Role=Employee<br>Time=43<br>Hospital X Coordinate=%{x}<br>Hospital Y Coordinate=%{y}<extra></extra>",
           "hovertext": [
            "Employee_1",
            "Employee_2",
            "Employee_3",
            "Employee_4",
            "Employee_5"
           ],
           "ids": [
            "Employee_1",
            "Employee_2",
            "Employee_3",
            "Employee_4",
            "Employee_5"
           ],
           "legendgroup": "Employee",
           "marker": {
            "color": "#636efa",
            "symbol": "circle"
           },
           "mode": "markers",
           "name": "Employee",
           "orientation": "v",
           "showlegend": true,
           "type": "scatter",
           "x": [
            -5.374988185000729,
            -0.12150502350649728,
            0.4928937927832491,
            3.5323966802344335,
            4.5189249321882485
           ],
           "xaxis": "x",
           "y": [
            5.216360300294374,
            4.656575048680553,
            0.5016496644034045,
            -0.29043245421909014,
            -1.963288009094845
           ],
           "yaxis": "y"
          },
          {
           "hovertemplate": "<b>%{hovertext}</b><br><br>Role=Patient<br>Time=43<br>Hospital X Coordinate=%{x}<br>Hospital Y Coordinate=%{y}<extra></extra>",
           "hovertext": [
            "Patient_1",
            "Patient_2",
            "Patient_3",
            "Patient_4",
            "Patient_5",
            "Patient_6",
            "Patient_7",
            "Patient_8",
            "Patient_9",
            "Patient_10"
           ],
           "ids": [
            "Patient_1",
            "Patient_2",
            "Patient_3",
            "Patient_4",
            "Patient_5",
            "Patient_6",
            "Patient_7",
            "Patient_8",
            "Patient_9",
            "Patient_10"
           ],
           "legendgroup": "Patient",
           "marker": {
            "color": "#EF553B",
            "symbol": "circle"
           },
           "mode": "markers",
           "name": "Patient",
           "orientation": "v",
           "showlegend": true,
           "type": "scatter",
           "x": [
            5.037469456327515,
            10.321241863580592,
            6.878293243257643,
            -13.55072379017246,
            -4.347542003076896,
            1.6155434170462626,
            -0.906334540291321,
            10.44322340210531,
            1.785618831326767,
            1.426176867757383
           ],
           "xaxis": "x",
           "y": [
            1.8483673342328601,
            6.424517135425061,
            -6.773785161812993,
            0.48525728360732656,
            5.9924018498121425,
            -3.6220602321472386,
            0.26179801260875335,
            -1.5527885870366145,
            0.6182305841230114,
            16.428503547072207
           ],
           "yaxis": "y"
          }
         ],
         "name": "43"
        },
        {
         "data": [
          {
           "hovertemplate": "<b>%{hovertext}</b><br><br>Role=Employee<br>Time=44<br>Hospital X Coordinate=%{x}<br>Hospital Y Coordinate=%{y}<extra></extra>",
           "hovertext": [
            "Employee_1",
            "Employee_2",
            "Employee_3",
            "Employee_4",
            "Employee_5"
           ],
           "ids": [
            "Employee_1",
            "Employee_2",
            "Employee_3",
            "Employee_4",
            "Employee_5"
           ],
           "legendgroup": "Employee",
           "marker": {
            "color": "#636efa",
            "symbol": "circle"
           },
           "mode": "markers",
           "name": "Employee",
           "orientation": "v",
           "showlegend": true,
           "type": "scatter",
           "x": [
            -4.990922736061421,
            -2.1889471235463738,
            -0.8115757077216041,
            3.898994926331282,
            4.005058014851555
           ],
           "xaxis": "x",
           "y": [
            5.1836655522002815,
            4.567455009167765,
            1.1713222132334429,
            -1.2303122405464455,
            -3.0225015309837966
           ],
           "yaxis": "y"
          },
          {
           "hovertemplate": "<b>%{hovertext}</b><br><br>Role=Patient<br>Time=44<br>Hospital X Coordinate=%{x}<br>Hospital Y Coordinate=%{y}<extra></extra>",
           "hovertext": [
            "Patient_1",
            "Patient_2",
            "Patient_3",
            "Patient_4",
            "Patient_5",
            "Patient_6",
            "Patient_7",
            "Patient_8",
            "Patient_9",
            "Patient_10"
           ],
           "ids": [
            "Patient_1",
            "Patient_2",
            "Patient_3",
            "Patient_4",
            "Patient_5",
            "Patient_6",
            "Patient_7",
            "Patient_8",
            "Patient_9",
            "Patient_10"
           ],
           "legendgroup": "Patient",
           "marker": {
            "color": "#EF553B",
            "symbol": "circle"
           },
           "mode": "markers",
           "name": "Patient",
           "orientation": "v",
           "showlegend": true,
           "type": "scatter",
           "x": [
            5.715395327666784,
            12.478550076846096,
            7.6203886152669496,
            -12.248982500773662,
            -4.315537854011129,
            2.075515559985379,
            1.107052707235302,
            10.077901850793202,
            0.4384925417970704,
            2.6265907757018083
           ],
           "xaxis": "x",
           "y": [
            1.3604559260871576,
            5.818802212421723,
            -6.474492581406501,
            2.0467684803341792,
            5.238983979465959,
            -4.299775601899345,
            0.39833334369149076,
            -1.368108281171706,
            -0.3533834543876402,
            15.77160926810081
           ],
           "yaxis": "y"
          }
         ],
         "name": "44"
        },
        {
         "data": [
          {
           "hovertemplate": "<b>%{hovertext}</b><br><br>Role=Employee<br>Time=45<br>Hospital X Coordinate=%{x}<br>Hospital Y Coordinate=%{y}<extra></extra>",
           "hovertext": [
            "Employee_1",
            "Employee_2",
            "Employee_3",
            "Employee_4",
            "Employee_5"
           ],
           "ids": [
            "Employee_1",
            "Employee_2",
            "Employee_3",
            "Employee_4",
            "Employee_5"
           ],
           "legendgroup": "Employee",
           "marker": {
            "color": "#636efa",
            "symbol": "circle"
           },
           "mode": "markers",
           "name": "Employee",
           "orientation": "v",
           "showlegend": true,
           "type": "scatter",
           "x": [
            -5.053601833334593,
            -3.1746731698819177,
            -1.341833326094045,
            3.7919645663767243,
            3.4514087095043724
           ],
           "xaxis": "x",
           "y": [
            6.13880787270152,
            5.071501524685609,
            0.3784493809710987,
            -2.2655545629658196,
            -4.220379423572645
           ],
           "yaxis": "y"
          },
          {
           "hovertemplate": "<b>%{hovertext}</b><br><br>Role=Patient<br>Time=45<br>Hospital X Coordinate=%{x}<br>Hospital Y Coordinate=%{y}<extra></extra>",
           "hovertext": [
            "Patient_1",
            "Patient_2",
            "Patient_3",
            "Patient_4",
            "Patient_5",
            "Patient_6",
            "Patient_7",
            "Patient_8",
            "Patient_9",
            "Patient_10"
           ],
           "ids": [
            "Patient_1",
            "Patient_2",
            "Patient_3",
            "Patient_4",
            "Patient_5",
            "Patient_6",
            "Patient_7",
            "Patient_8",
            "Patient_9",
            "Patient_10"
           ],
           "legendgroup": "Patient",
           "marker": {
            "color": "#EF553B",
            "symbol": "circle"
           },
           "mode": "markers",
           "name": "Patient",
           "orientation": "v",
           "showlegend": true,
           "type": "scatter",
           "x": [
            4.6684843449848445,
            13.664254231509092,
            8.616436301072765,
            -13.670793167515505,
            -4.6382176928532655,
            3.403709701834437,
            1.5629404793169097,
            9.434383620413058,
            0.4955056666941549,
            4.15505920211434
           ],
           "xaxis": "x",
           "y": [
            1.8971086786144438,
            6.53775552308679,
            -7.231287669975962,
            3.548102132289666,
            4.988150963010912,
            -3.743545592498685,
            2.563335688592575,
            -0.44026815309046885,
            -0.08479117552438326,
            16.279445024390434
           ],
           "yaxis": "y"
          }
         ],
         "name": "45"
        },
        {
         "data": [
          {
           "hovertemplate": "<b>%{hovertext}</b><br><br>Role=Employee<br>Time=46<br>Hospital X Coordinate=%{x}<br>Hospital Y Coordinate=%{y}<extra></extra>",
           "hovertext": [
            "Employee_1",
            "Employee_2",
            "Employee_3",
            "Employee_4",
            "Employee_5"
           ],
           "ids": [
            "Employee_1",
            "Employee_2",
            "Employee_3",
            "Employee_4",
            "Employee_5"
           ],
           "legendgroup": "Employee",
           "marker": {
            "color": "#636efa",
            "symbol": "circle"
           },
           "mode": "markers",
           "name": "Employee",
           "orientation": "v",
           "showlegend": true,
           "type": "scatter",
           "x": [
            -3.0888767004182034,
            -3.8743986778745034,
            -1.4541613757848748,
            4.406131266420149,
            2.920907561893845
           ],
           "xaxis": "x",
           "y": [
            6.174071424673248,
            5.285481435419832,
            0.15747978143787572,
            -1.5080468529185145,
            -4.796197664217325
           ],
           "yaxis": "y"
          },
          {
           "hovertemplate": "<b>%{hovertext}</b><br><br>Role=Patient<br>Time=46<br>Hospital X Coordinate=%{x}<br>Hospital Y Coordinate=%{y}<extra></extra>",
           "hovertext": [
            "Patient_1",
            "Patient_2",
            "Patient_3",
            "Patient_4",
            "Patient_5",
            "Patient_6",
            "Patient_7",
            "Patient_8",
            "Patient_9",
            "Patient_10"
           ],
           "ids": [
            "Patient_1",
            "Patient_2",
            "Patient_3",
            "Patient_4",
            "Patient_5",
            "Patient_6",
            "Patient_7",
            "Patient_8",
            "Patient_9",
            "Patient_10"
           ],
           "legendgroup": "Patient",
           "marker": {
            "color": "#EF553B",
            "symbol": "circle"
           },
           "mode": "markers",
           "name": "Patient",
           "orientation": "v",
           "showlegend": true,
           "type": "scatter",
           "x": [
            5.206780424034477,
            13.299301501966207,
            7.571627107051731,
            -11.614586037575183,
            -4.859471316439038,
            3.7111163996435375,
            2.4234139676766553,
            9.267261906626647,
            0.24681454051060783,
            4.646034153752591
           ],
           "xaxis": "x",
           "y": [
            2.969616015924246,
            5.698545855747783,
            -9.197644259351964,
            2.444893766567983,
            4.711337663121991,
            -2.927808379959388,
            1.9802582500236365,
            -0.1576882026021692,
            1.5225544004956093,
            17.01432281044025
           ],
           "yaxis": "y"
          }
         ],
         "name": "46"
        },
        {
         "data": [
          {
           "hovertemplate": "<b>%{hovertext}</b><br><br>Role=Employee<br>Time=47<br>Hospital X Coordinate=%{x}<br>Hospital Y Coordinate=%{y}<extra></extra>",
           "hovertext": [
            "Employee_1",
            "Employee_2",
            "Employee_3",
            "Employee_4",
            "Employee_5"
           ],
           "ids": [
            "Employee_1",
            "Employee_2",
            "Employee_3",
            "Employee_4",
            "Employee_5"
           ],
           "legendgroup": "Employee",
           "marker": {
            "color": "#636efa",
            "symbol": "circle"
           },
           "mode": "markers",
           "name": "Employee",
           "orientation": "v",
           "showlegend": true,
           "type": "scatter",
           "x": [
            -3.3639283975698473,
            -5.389589740073056,
            0.19080633771640887,
            4.982688229475916,
            5.999788370349083
           ],
           "xaxis": "x",
           "y": [
            3.8721502599376634,
            6.652355702864356,
            -0.0915562581185026,
            -1.1967966983749783,
            -3.676622752782748
           ],
           "yaxis": "y"
          },
          {
           "hovertemplate": "<b>%{hovertext}</b><br><br>Role=Patient<br>Time=47<br>Hospital X Coordinate=%{x}<br>Hospital Y Coordinate=%{y}<extra></extra>",
           "hovertext": [
            "Patient_1",
            "Patient_2",
            "Patient_3",
            "Patient_4",
            "Patient_5",
            "Patient_6",
            "Patient_7",
            "Patient_8",
            "Patient_9",
            "Patient_10"
           ],
           "ids": [
            "Patient_1",
            "Patient_2",
            "Patient_3",
            "Patient_4",
            "Patient_5",
            "Patient_6",
            "Patient_7",
            "Patient_8",
            "Patient_9",
            "Patient_10"
           ],
           "legendgroup": "Patient",
           "marker": {
            "color": "#EF553B",
            "symbol": "circle"
           },
           "mode": "markers",
           "name": "Patient",
           "orientation": "v",
           "showlegend": true,
           "type": "scatter",
           "x": [
            5.869661692701889,
            13.480323060669914,
            7.971315058804373,
            -12.14320271932494,
            -3.621188245005402,
            4.019949412242501,
            2.6641671471652235,
            9.83277155225819,
            1.0001561616151404,
            5.935786907835337
           ],
           "xaxis": "x",
           "y": [
            4.143089873409571,
            4.401713907791937,
            -9.849001153143794,
            3.031257785323076,
            4.7326092398580535,
            -1.2255934353241502,
            4.581941364204031,
            -1.918450961757987,
            1.903712785378387,
            17.68750416171021
           ],
           "yaxis": "y"
          }
         ],
         "name": "47"
        },
        {
         "data": [
          {
           "hovertemplate": "<b>%{hovertext}</b><br><br>Role=Employee<br>Time=48<br>Hospital X Coordinate=%{x}<br>Hospital Y Coordinate=%{y}<extra></extra>",
           "hovertext": [
            "Employee_1",
            "Employee_2",
            "Employee_3",
            "Employee_4",
            "Employee_5"
           ],
           "ids": [
            "Employee_1",
            "Employee_2",
            "Employee_3",
            "Employee_4",
            "Employee_5"
           ],
           "legendgroup": "Employee",
           "marker": {
            "color": "#636efa",
            "symbol": "circle"
           },
           "mode": "markers",
           "name": "Employee",
           "orientation": "v",
           "showlegend": true,
           "type": "scatter",
           "x": [
            -3.491845989050614,
            -6.996036060330629,
            -0.5655444075678945,
            4.33611534523339,
            7.686930005421647
           ],
           "xaxis": "x",
           "y": [
            2.9166098193372374,
            6.855819338731579,
            -1.5138099677161767,
            -2.278344701989373,
            -2.7949829958332977
           ],
           "yaxis": "y"
          },
          {
           "hovertemplate": "<b>%{hovertext}</b><br><br>Role=Patient<br>Time=48<br>Hospital X Coordinate=%{x}<br>Hospital Y Coordinate=%{y}<extra></extra>",
           "hovertext": [
            "Patient_1",
            "Patient_2",
            "Patient_3",
            "Patient_4",
            "Patient_5",
            "Patient_6",
            "Patient_7",
            "Patient_8",
            "Patient_9",
            "Patient_10"
           ],
           "ids": [
            "Patient_1",
            "Patient_2",
            "Patient_3",
            "Patient_4",
            "Patient_5",
            "Patient_6",
            "Patient_7",
            "Patient_8",
            "Patient_9",
            "Patient_10"
           ],
           "legendgroup": "Patient",
           "marker": {
            "color": "#EF553B",
            "symbol": "circle"
           },
           "mode": "markers",
           "name": "Patient",
           "orientation": "v",
           "showlegend": true,
           "type": "scatter",
           "x": [
            5.731205708718115,
            13.271299803383888,
            7.39079160899965,
            -10.473298214973534,
            -4.817071307040586,
            5.216580898888152,
            2.5301499804923058,
            9.047873239175951,
            0.8792080130073588,
            5.048294730033237
           ],
           "xaxis": "x",
           "y": [
            2.918791637120205,
            3.551193453582637,
            -9.260422748723185,
            3.4259293151460573,
            5.177211908078194,
            -1.8353763396435325,
            4.596629558933228,
            -1.270170527914128,
            2.3232452292854147,
            17.2500458613868
           ],
           "yaxis": "y"
          }
         ],
         "name": "48"
        },
        {
         "data": [
          {
           "hovertemplate": "<b>%{hovertext}</b><br><br>Role=Employee<br>Time=49<br>Hospital X Coordinate=%{x}<br>Hospital Y Coordinate=%{y}<extra></extra>",
           "hovertext": [
            "Employee_1",
            "Employee_2",
            "Employee_3",
            "Employee_4",
            "Employee_5"
           ],
           "ids": [
            "Employee_1",
            "Employee_2",
            "Employee_3",
            "Employee_4",
            "Employee_5"
           ],
           "legendgroup": "Employee",
           "marker": {
            "color": "#636efa",
            "symbol": "circle"
           },
           "mode": "markers",
           "name": "Employee",
           "orientation": "v",
           "showlegend": true,
           "type": "scatter",
           "x": [
            -3.499818630367231,
            -6.91866775268301,
            0.9575796697017628,
            3.2988691909069336,
            6.81131175203689
           ],
           "xaxis": "x",
           "y": [
            4.396553958227264,
            5.994535137403315,
            -0.974899924031518,
            -2.468683380072981,
            -4.177782726797634
           ],
           "yaxis": "y"
          },
          {
           "hovertemplate": "<b>%{hovertext}</b><br><br>Role=Patient<br>Time=49<br>Hospital X Coordinate=%{x}<br>Hospital Y Coordinate=%{y}<extra></extra>",
           "hovertext": [
            "Patient_1",
            "Patient_2",
            "Patient_3",
            "Patient_4",
            "Patient_5",
            "Patient_6",
            "Patient_7",
            "Patient_8",
            "Patient_9",
            "Patient_10"
           ],
           "ids": [
            "Patient_1",
            "Patient_2",
            "Patient_3",
            "Patient_4",
            "Patient_5",
            "Patient_6",
            "Patient_7",
            "Patient_8",
            "Patient_9",
            "Patient_10"
           ],
           "legendgroup": "Patient",
           "marker": {
            "color": "#EF553B",
            "symbol": "circle"
           },
           "mode": "markers",
           "name": "Patient",
           "orientation": "v",
           "showlegend": true,
           "type": "scatter",
           "x": [
            6.453587066545887,
            14.998263654617293,
            7.615476334751536,
            -11.891663947906565,
            -6.342727621610681,
            4.664722752995705,
            1.9659023818349173,
            10.589983191743826,
            2.940711589643757,
            6.072357255844699
           ],
           "xaxis": "x",
           "y": [
            2.545958485028438,
            3.1515572679680344,
            -8.327831916850094,
            1.6651205031652814,
            6.439796011505376,
            0.7228229460247197,
            4.781180862130265,
            0.7359223602449949,
            3.5316114598785573,
            17.84257281058798
           ],
           "yaxis": "y"
          }
         ],
         "name": "49"
        }
       ],
       "layout": {
        "height": 600,
        "legend": {
         "title": {
          "text": "Role"
         },
         "tracegroupgap": 0
        },
        "sliders": [
         {
          "active": 0,
          "currentvalue": {
           "prefix": "Time="
          },
          "len": 0.9,
          "pad": {
           "b": 10,
           "t": 60
          },
          "steps": [
           {
            "args": [
             [
              "0"
             ],
             {
              "frame": {
               "duration": 0,
               "redraw": false
              },
              "fromcurrent": true,
              "mode": "immediate",
              "transition": {
               "duration": 0,
               "easing": "linear"
              }
             }
            ],
            "label": "0",
            "method": "animate"
           },
           {
            "args": [
             [
              "1"
             ],
             {
              "frame": {
               "duration": 0,
               "redraw": false
              },
              "fromcurrent": true,
              "mode": "immediate",
              "transition": {
               "duration": 0,
               "easing": "linear"
              }
             }
            ],
            "label": "1",
            "method": "animate"
           },
           {
            "args": [
             [
              "2"
             ],
             {
              "frame": {
               "duration": 0,
               "redraw": false
              },
              "fromcurrent": true,
              "mode": "immediate",
              "transition": {
               "duration": 0,
               "easing": "linear"
              }
             }
            ],
            "label": "2",
            "method": "animate"
           },
           {
            "args": [
             [
              "3"
             ],
             {
              "frame": {
               "duration": 0,
               "redraw": false
              },
              "fromcurrent": true,
              "mode": "immediate",
              "transition": {
               "duration": 0,
               "easing": "linear"
              }
             }
            ],
            "label": "3",
            "method": "animate"
           },
           {
            "args": [
             [
              "4"
             ],
             {
              "frame": {
               "duration": 0,
               "redraw": false
              },
              "fromcurrent": true,
              "mode": "immediate",
              "transition": {
               "duration": 0,
               "easing": "linear"
              }
             }
            ],
            "label": "4",
            "method": "animate"
           },
           {
            "args": [
             [
              "5"
             ],
             {
              "frame": {
               "duration": 0,
               "redraw": false
              },
              "fromcurrent": true,
              "mode": "immediate",
              "transition": {
               "duration": 0,
               "easing": "linear"
              }
             }
            ],
            "label": "5",
            "method": "animate"
           },
           {
            "args": [
             [
              "6"
             ],
             {
              "frame": {
               "duration": 0,
               "redraw": false
              },
              "fromcurrent": true,
              "mode": "immediate",
              "transition": {
               "duration": 0,
               "easing": "linear"
              }
             }
            ],
            "label": "6",
            "method": "animate"
           },
           {
            "args": [
             [
              "7"
             ],
             {
              "frame": {
               "duration": 0,
               "redraw": false
              },
              "fromcurrent": true,
              "mode": "immediate",
              "transition": {
               "duration": 0,
               "easing": "linear"
              }
             }
            ],
            "label": "7",
            "method": "animate"
           },
           {
            "args": [
             [
              "8"
             ],
             {
              "frame": {
               "duration": 0,
               "redraw": false
              },
              "fromcurrent": true,
              "mode": "immediate",
              "transition": {
               "duration": 0,
               "easing": "linear"
              }
             }
            ],
            "label": "8",
            "method": "animate"
           },
           {
            "args": [
             [
              "9"
             ],
             {
              "frame": {
               "duration": 0,
               "redraw": false
              },
              "fromcurrent": true,
              "mode": "immediate",
              "transition": {
               "duration": 0,
               "easing": "linear"
              }
             }
            ],
            "label": "9",
            "method": "animate"
           },
           {
            "args": [
             [
              "10"
             ],
             {
              "frame": {
               "duration": 0,
               "redraw": false
              },
              "fromcurrent": true,
              "mode": "immediate",
              "transition": {
               "duration": 0,
               "easing": "linear"
              }
             }
            ],
            "label": "10",
            "method": "animate"
           },
           {
            "args": [
             [
              "11"
             ],
             {
              "frame": {
               "duration": 0,
               "redraw": false
              },
              "fromcurrent": true,
              "mode": "immediate",
              "transition": {
               "duration": 0,
               "easing": "linear"
              }
             }
            ],
            "label": "11",
            "method": "animate"
           },
           {
            "args": [
             [
              "12"
             ],
             {
              "frame": {
               "duration": 0,
               "redraw": false
              },
              "fromcurrent": true,
              "mode": "immediate",
              "transition": {
               "duration": 0,
               "easing": "linear"
              }
             }
            ],
            "label": "12",
            "method": "animate"
           },
           {
            "args": [
             [
              "13"
             ],
             {
              "frame": {
               "duration": 0,
               "redraw": false
              },
              "fromcurrent": true,
              "mode": "immediate",
              "transition": {
               "duration": 0,
               "easing": "linear"
              }
             }
            ],
            "label": "13",
            "method": "animate"
           },
           {
            "args": [
             [
              "14"
             ],
             {
              "frame": {
               "duration": 0,
               "redraw": false
              },
              "fromcurrent": true,
              "mode": "immediate",
              "transition": {
               "duration": 0,
               "easing": "linear"
              }
             }
            ],
            "label": "14",
            "method": "animate"
           },
           {
            "args": [
             [
              "15"
             ],
             {
              "frame": {
               "duration": 0,
               "redraw": false
              },
              "fromcurrent": true,
              "mode": "immediate",
              "transition": {
               "duration": 0,
               "easing": "linear"
              }
             }
            ],
            "label": "15",
            "method": "animate"
           },
           {
            "args": [
             [
              "16"
             ],
             {
              "frame": {
               "duration": 0,
               "redraw": false
              },
              "fromcurrent": true,
              "mode": "immediate",
              "transition": {
               "duration": 0,
               "easing": "linear"
              }
             }
            ],
            "label": "16",
            "method": "animate"
           },
           {
            "args": [
             [
              "17"
             ],
             {
              "frame": {
               "duration": 0,
               "redraw": false
              },
              "fromcurrent": true,
              "mode": "immediate",
              "transition": {
               "duration": 0,
               "easing": "linear"
              }
             }
            ],
            "label": "17",
            "method": "animate"
           },
           {
            "args": [
             [
              "18"
             ],
             {
              "frame": {
               "duration": 0,
               "redraw": false
              },
              "fromcurrent": true,
              "mode": "immediate",
              "transition": {
               "duration": 0,
               "easing": "linear"
              }
             }
            ],
            "label": "18",
            "method": "animate"
           },
           {
            "args": [
             [
              "19"
             ],
             {
              "frame": {
               "duration": 0,
               "redraw": false
              },
              "fromcurrent": true,
              "mode": "immediate",
              "transition": {
               "duration": 0,
               "easing": "linear"
              }
             }
            ],
            "label": "19",
            "method": "animate"
           },
           {
            "args": [
             [
              "20"
             ],
             {
              "frame": {
               "duration": 0,
               "redraw": false
              },
              "fromcurrent": true,
              "mode": "immediate",
              "transition": {
               "duration": 0,
               "easing": "linear"
              }
             }
            ],
            "label": "20",
            "method": "animate"
           },
           {
            "args": [
             [
              "21"
             ],
             {
              "frame": {
               "duration": 0,
               "redraw": false
              },
              "fromcurrent": true,
              "mode": "immediate",
              "transition": {
               "duration": 0,
               "easing": "linear"
              }
             }
            ],
            "label": "21",
            "method": "animate"
           },
           {
            "args": [
             [
              "22"
             ],
             {
              "frame": {
               "duration": 0,
               "redraw": false
              },
              "fromcurrent": true,
              "mode": "immediate",
              "transition": {
               "duration": 0,
               "easing": "linear"
              }
             }
            ],
            "label": "22",
            "method": "animate"
           },
           {
            "args": [
             [
              "23"
             ],
             {
              "frame": {
               "duration": 0,
               "redraw": false
              },
              "fromcurrent": true,
              "mode": "immediate",
              "transition": {
               "duration": 0,
               "easing": "linear"
              }
             }
            ],
            "label": "23",
            "method": "animate"
           },
           {
            "args": [
             [
              "24"
             ],
             {
              "frame": {
               "duration": 0,
               "redraw": false
              },
              "fromcurrent": true,
              "mode": "immediate",
              "transition": {
               "duration": 0,
               "easing": "linear"
              }
             }
            ],
            "label": "24",
            "method": "animate"
           },
           {
            "args": [
             [
              "25"
             ],
             {
              "frame": {
               "duration": 0,
               "redraw": false
              },
              "fromcurrent": true,
              "mode": "immediate",
              "transition": {
               "duration": 0,
               "easing": "linear"
              }
             }
            ],
            "label": "25",
            "method": "animate"
           },
           {
            "args": [
             [
              "26"
             ],
             {
              "frame": {
               "duration": 0,
               "redraw": false
              },
              "fromcurrent": true,
              "mode": "immediate",
              "transition": {
               "duration": 0,
               "easing": "linear"
              }
             }
            ],
            "label": "26",
            "method": "animate"
           },
           {
            "args": [
             [
              "27"
             ],
             {
              "frame": {
               "duration": 0,
               "redraw": false
              },
              "fromcurrent": true,
              "mode": "immediate",
              "transition": {
               "duration": 0,
               "easing": "linear"
              }
             }
            ],
            "label": "27",
            "method": "animate"
           },
           {
            "args": [
             [
              "28"
             ],
             {
              "frame": {
               "duration": 0,
               "redraw": false
              },
              "fromcurrent": true,
              "mode": "immediate",
              "transition": {
               "duration": 0,
               "easing": "linear"
              }
             }
            ],
            "label": "28",
            "method": "animate"
           },
           {
            "args": [
             [
              "29"
             ],
             {
              "frame": {
               "duration": 0,
               "redraw": false
              },
              "fromcurrent": true,
              "mode": "immediate",
              "transition": {
               "duration": 0,
               "easing": "linear"
              }
             }
            ],
            "label": "29",
            "method": "animate"
           },
           {
            "args": [
             [
              "30"
             ],
             {
              "frame": {
               "duration": 0,
               "redraw": false
              },
              "fromcurrent": true,
              "mode": "immediate",
              "transition": {
               "duration": 0,
               "easing": "linear"
              }
             }
            ],
            "label": "30",
            "method": "animate"
           },
           {
            "args": [
             [
              "31"
             ],
             {
              "frame": {
               "duration": 0,
               "redraw": false
              },
              "fromcurrent": true,
              "mode": "immediate",
              "transition": {
               "duration": 0,
               "easing": "linear"
              }
             }
            ],
            "label": "31",
            "method": "animate"
           },
           {
            "args": [
             [
              "32"
             ],
             {
              "frame": {
               "duration": 0,
               "redraw": false
              },
              "fromcurrent": true,
              "mode": "immediate",
              "transition": {
               "duration": 0,
               "easing": "linear"
              }
             }
            ],
            "label": "32",
            "method": "animate"
           },
           {
            "args": [
             [
              "33"
             ],
             {
              "frame": {
               "duration": 0,
               "redraw": false
              },
              "fromcurrent": true,
              "mode": "immediate",
              "transition": {
               "duration": 0,
               "easing": "linear"
              }
             }
            ],
            "label": "33",
            "method": "animate"
           },
           {
            "args": [
             [
              "34"
             ],
             {
              "frame": {
               "duration": 0,
               "redraw": false
              },
              "fromcurrent": true,
              "mode": "immediate",
              "transition": {
               "duration": 0,
               "easing": "linear"
              }
             }
            ],
            "label": "34",
            "method": "animate"
           },
           {
            "args": [
             [
              "35"
             ],
             {
              "frame": {
               "duration": 0,
               "redraw": false
              },
              "fromcurrent": true,
              "mode": "immediate",
              "transition": {
               "duration": 0,
               "easing": "linear"
              }
             }
            ],
            "label": "35",
            "method": "animate"
           },
           {
            "args": [
             [
              "36"
             ],
             {
              "frame": {
               "duration": 0,
               "redraw": false
              },
              "fromcurrent": true,
              "mode": "immediate",
              "transition": {
               "duration": 0,
               "easing": "linear"
              }
             }
            ],
            "label": "36",
            "method": "animate"
           },
           {
            "args": [
             [
              "37"
             ],
             {
              "frame": {
               "duration": 0,
               "redraw": false
              },
              "fromcurrent": true,
              "mode": "immediate",
              "transition": {
               "duration": 0,
               "easing": "linear"
              }
             }
            ],
            "label": "37",
            "method": "animate"
           },
           {
            "args": [
             [
              "38"
             ],
             {
              "frame": {
               "duration": 0,
               "redraw": false
              },
              "fromcurrent": true,
              "mode": "immediate",
              "transition": {
               "duration": 0,
               "easing": "linear"
              }
             }
            ],
            "label": "38",
            "method": "animate"
           },
           {
            "args": [
             [
              "39"
             ],
             {
              "frame": {
               "duration": 0,
               "redraw": false
              },
              "fromcurrent": true,
              "mode": "immediate",
              "transition": {
               "duration": 0,
               "easing": "linear"
              }
             }
            ],
            "label": "39",
            "method": "animate"
           },
           {
            "args": [
             [
              "40"
             ],
             {
              "frame": {
               "duration": 0,
               "redraw": false
              },
              "fromcurrent": true,
              "mode": "immediate",
              "transition": {
               "duration": 0,
               "easing": "linear"
              }
             }
            ],
            "label": "40",
            "method": "animate"
           },
           {
            "args": [
             [
              "41"
             ],
             {
              "frame": {
               "duration": 0,
               "redraw": false
              },
              "fromcurrent": true,
              "mode": "immediate",
              "transition": {
               "duration": 0,
               "easing": "linear"
              }
             }
            ],
            "label": "41",
            "method": "animate"
           },
           {
            "args": [
             [
              "42"
             ],
             {
              "frame": {
               "duration": 0,
               "redraw": false
              },
              "fromcurrent": true,
              "mode": "immediate",
              "transition": {
               "duration": 0,
               "easing": "linear"
              }
             }
            ],
            "label": "42",
            "method": "animate"
           },
           {
            "args": [
             [
              "43"
             ],
             {
              "frame": {
               "duration": 0,
               "redraw": false
              },
              "fromcurrent": true,
              "mode": "immediate",
              "transition": {
               "duration": 0,
               "easing": "linear"
              }
             }
            ],
            "label": "43",
            "method": "animate"
           },
           {
            "args": [
             [
              "44"
             ],
             {
              "frame": {
               "duration": 0,
               "redraw": false
              },
              "fromcurrent": true,
              "mode": "immediate",
              "transition": {
               "duration": 0,
               "easing": "linear"
              }
             }
            ],
            "label": "44",
            "method": "animate"
           },
           {
            "args": [
             [
              "45"
             ],
             {
              "frame": {
               "duration": 0,
               "redraw": false
              },
              "fromcurrent": true,
              "mode": "immediate",
              "transition": {
               "duration": 0,
               "easing": "linear"
              }
             }
            ],
            "label": "45",
            "method": "animate"
           },
           {
            "args": [
             [
              "46"
             ],
             {
              "frame": {
               "duration": 0,
               "redraw": false
              },
              "fromcurrent": true,
              "mode": "immediate",
              "transition": {
               "duration": 0,
               "easing": "linear"
              }
             }
            ],
            "label": "46",
            "method": "animate"
           },
           {
            "args": [
             [
              "47"
             ],
             {
              "frame": {
               "duration": 0,
               "redraw": false
              },
              "fromcurrent": true,
              "mode": "immediate",
              "transition": {
               "duration": 0,
               "easing": "linear"
              }
             }
            ],
            "label": "47",
            "method": "animate"
           },
           {
            "args": [
             [
              "48"
             ],
             {
              "frame": {
               "duration": 0,
               "redraw": false
              },
              "fromcurrent": true,
              "mode": "immediate",
              "transition": {
               "duration": 0,
               "easing": "linear"
              }
             }
            ],
            "label": "48",
            "method": "animate"
           },
           {
            "args": [
             [
              "49"
             ],
             {
              "frame": {
               "duration": 0,
               "redraw": false
              },
              "fromcurrent": true,
              "mode": "immediate",
              "transition": {
               "duration": 0,
               "easing": "linear"
              }
             }
            ],
            "label": "49",
            "method": "animate"
           }
          ],
          "x": 0.1,
          "xanchor": "left",
          "y": 0,
          "yanchor": "top"
         }
        ],
        "template": {
         "data": {
          "bar": [
           {
            "error_x": {
             "color": "#2a3f5f"
            },
            "error_y": {
             "color": "#2a3f5f"
            },
            "marker": {
             "line": {
              "color": "#E5ECF6",
              "width": 0.5
             },
             "pattern": {
              "fillmode": "overlay",
              "size": 10,
              "solidity": 0.2
             }
            },
            "type": "bar"
           }
          ],
          "barpolar": [
           {
            "marker": {
             "line": {
              "color": "#E5ECF6",
              "width": 0.5
             },
             "pattern": {
              "fillmode": "overlay",
              "size": 10,
              "solidity": 0.2
             }
            },
            "type": "barpolar"
           }
          ],
          "carpet": [
           {
            "aaxis": {
             "endlinecolor": "#2a3f5f",
             "gridcolor": "white",
             "linecolor": "white",
             "minorgridcolor": "white",
             "startlinecolor": "#2a3f5f"
            },
            "baxis": {
             "endlinecolor": "#2a3f5f",
             "gridcolor": "white",
             "linecolor": "white",
             "minorgridcolor": "white",
             "startlinecolor": "#2a3f5f"
            },
            "type": "carpet"
           }
          ],
          "choropleth": [
           {
            "colorbar": {
             "outlinewidth": 0,
             "ticks": ""
            },
            "type": "choropleth"
           }
          ],
          "contour": [
           {
            "colorbar": {
             "outlinewidth": 0,
             "ticks": ""
            },
            "colorscale": [
             [
              0,
              "#0d0887"
             ],
             [
              0.1111111111111111,
              "#46039f"
             ],
             [
              0.2222222222222222,
              "#7201a8"
             ],
             [
              0.3333333333333333,
              "#9c179e"
             ],
             [
              0.4444444444444444,
              "#bd3786"
             ],
             [
              0.5555555555555556,
              "#d8576b"
             ],
             [
              0.6666666666666666,
              "#ed7953"
             ],
             [
              0.7777777777777778,
              "#fb9f3a"
             ],
             [
              0.8888888888888888,
              "#fdca26"
             ],
             [
              1,
              "#f0f921"
             ]
            ],
            "type": "contour"
           }
          ],
          "contourcarpet": [
           {
            "colorbar": {
             "outlinewidth": 0,
             "ticks": ""
            },
            "type": "contourcarpet"
           }
          ],
          "heatmap": [
           {
            "colorbar": {
             "outlinewidth": 0,
             "ticks": ""
            },
            "colorscale": [
             [
              0,
              "#0d0887"
             ],
             [
              0.1111111111111111,
              "#46039f"
             ],
             [
              0.2222222222222222,
              "#7201a8"
             ],
             [
              0.3333333333333333,
              "#9c179e"
             ],
             [
              0.4444444444444444,
              "#bd3786"
             ],
             [
              0.5555555555555556,
              "#d8576b"
             ],
             [
              0.6666666666666666,
              "#ed7953"
             ],
             [
              0.7777777777777778,
              "#fb9f3a"
             ],
             [
              0.8888888888888888,
              "#fdca26"
             ],
             [
              1,
              "#f0f921"
             ]
            ],
            "type": "heatmap"
           }
          ],
          "heatmapgl": [
           {
            "colorbar": {
             "outlinewidth": 0,
             "ticks": ""
            },
            "colorscale": [
             [
              0,
              "#0d0887"
             ],
             [
              0.1111111111111111,
              "#46039f"
             ],
             [
              0.2222222222222222,
              "#7201a8"
             ],
             [
              0.3333333333333333,
              "#9c179e"
             ],
             [
              0.4444444444444444,
              "#bd3786"
             ],
             [
              0.5555555555555556,
              "#d8576b"
             ],
             [
              0.6666666666666666,
              "#ed7953"
             ],
             [
              0.7777777777777778,
              "#fb9f3a"
             ],
             [
              0.8888888888888888,
              "#fdca26"
             ],
             [
              1,
              "#f0f921"
             ]
            ],
            "type": "heatmapgl"
           }
          ],
          "histogram": [
           {
            "marker": {
             "pattern": {
              "fillmode": "overlay",
              "size": 10,
              "solidity": 0.2
             }
            },
            "type": "histogram"
           }
          ],
          "histogram2d": [
           {
            "colorbar": {
             "outlinewidth": 0,
             "ticks": ""
            },
            "colorscale": [
             [
              0,
              "#0d0887"
             ],
             [
              0.1111111111111111,
              "#46039f"
             ],
             [
              0.2222222222222222,
              "#7201a8"
             ],
             [
              0.3333333333333333,
              "#9c179e"
             ],
             [
              0.4444444444444444,
              "#bd3786"
             ],
             [
              0.5555555555555556,
              "#d8576b"
             ],
             [
              0.6666666666666666,
              "#ed7953"
             ],
             [
              0.7777777777777778,
              "#fb9f3a"
             ],
             [
              0.8888888888888888,
              "#fdca26"
             ],
             [
              1,
              "#f0f921"
             ]
            ],
            "type": "histogram2d"
           }
          ],
          "histogram2dcontour": [
           {
            "colorbar": {
             "outlinewidth": 0,
             "ticks": ""
            },
            "colorscale": [
             [
              0,
              "#0d0887"
             ],
             [
              0.1111111111111111,
              "#46039f"
             ],
             [
              0.2222222222222222,
              "#7201a8"
             ],
             [
              0.3333333333333333,
              "#9c179e"
             ],
             [
              0.4444444444444444,
              "#bd3786"
             ],
             [
              0.5555555555555556,
              "#d8576b"
             ],
             [
              0.6666666666666666,
              "#ed7953"
             ],
             [
              0.7777777777777778,
              "#fb9f3a"
             ],
             [
              0.8888888888888888,
              "#fdca26"
             ],
             [
              1,
              "#f0f921"
             ]
            ],
            "type": "histogram2dcontour"
           }
          ],
          "mesh3d": [
           {
            "colorbar": {
             "outlinewidth": 0,
             "ticks": ""
            },
            "type": "mesh3d"
           }
          ],
          "parcoords": [
           {
            "line": {
             "colorbar": {
              "outlinewidth": 0,
              "ticks": ""
             }
            },
            "type": "parcoords"
           }
          ],
          "pie": [
           {
            "automargin": true,
            "type": "pie"
           }
          ],
          "scatter": [
           {
            "fillpattern": {
             "fillmode": "overlay",
             "size": 10,
             "solidity": 0.2
            },
            "type": "scatter"
           }
          ],
          "scatter3d": [
           {
            "line": {
             "colorbar": {
              "outlinewidth": 0,
              "ticks": ""
             }
            },
            "marker": {
             "colorbar": {
              "outlinewidth": 0,
              "ticks": ""
             }
            },
            "type": "scatter3d"
           }
          ],
          "scattercarpet": [
           {
            "marker": {
             "colorbar": {
              "outlinewidth": 0,
              "ticks": ""
             }
            },
            "type": "scattercarpet"
           }
          ],
          "scattergeo": [
           {
            "marker": {
             "colorbar": {
              "outlinewidth": 0,
              "ticks": ""
             }
            },
            "type": "scattergeo"
           }
          ],
          "scattergl": [
           {
            "marker": {
             "colorbar": {
              "outlinewidth": 0,
              "ticks": ""
             }
            },
            "type": "scattergl"
           }
          ],
          "scattermapbox": [
           {
            "marker": {
             "colorbar": {
              "outlinewidth": 0,
              "ticks": ""
             }
            },
            "type": "scattermapbox"
           }
          ],
          "scatterpolar": [
           {
            "marker": {
             "colorbar": {
              "outlinewidth": 0,
              "ticks": ""
             }
            },
            "type": "scatterpolar"
           }
          ],
          "scatterpolargl": [
           {
            "marker": {
             "colorbar": {
              "outlinewidth": 0,
              "ticks": ""
             }
            },
            "type": "scatterpolargl"
           }
          ],
          "scatterternary": [
           {
            "marker": {
             "colorbar": {
              "outlinewidth": 0,
              "ticks": ""
             }
            },
            "type": "scatterternary"
           }
          ],
          "surface": [
           {
            "colorbar": {
             "outlinewidth": 0,
             "ticks": ""
            },
            "colorscale": [
             [
              0,
              "#0d0887"
             ],
             [
              0.1111111111111111,
              "#46039f"
             ],
             [
              0.2222222222222222,
              "#7201a8"
             ],
             [
              0.3333333333333333,
              "#9c179e"
             ],
             [
              0.4444444444444444,
              "#bd3786"
             ],
             [
              0.5555555555555556,
              "#d8576b"
             ],
             [
              0.6666666666666666,
              "#ed7953"
             ],
             [
              0.7777777777777778,
              "#fb9f3a"
             ],
             [
              0.8888888888888888,
              "#fdca26"
             ],
             [
              1,
              "#f0f921"
             ]
            ],
            "type": "surface"
           }
          ],
          "table": [
           {
            "cells": {
             "fill": {
              "color": "#EBF0F8"
             },
             "line": {
              "color": "white"
             }
            },
            "header": {
             "fill": {
              "color": "#C8D4E3"
             },
             "line": {
              "color": "white"
             }
            },
            "type": "table"
           }
          ]
         },
         "layout": {
          "annotationdefaults": {
           "arrowcolor": "#2a3f5f",
           "arrowhead": 0,
           "arrowwidth": 1
          },
          "autotypenumbers": "strict",
          "coloraxis": {
           "colorbar": {
            "outlinewidth": 0,
            "ticks": ""
           }
          },
          "colorscale": {
           "diverging": [
            [
             0,
             "#8e0152"
            ],
            [
             0.1,
             "#c51b7d"
            ],
            [
             0.2,
             "#de77ae"
            ],
            [
             0.3,
             "#f1b6da"
            ],
            [
             0.4,
             "#fde0ef"
            ],
            [
             0.5,
             "#f7f7f7"
            ],
            [
             0.6,
             "#e6f5d0"
            ],
            [
             0.7,
             "#b8e186"
            ],
            [
             0.8,
             "#7fbc41"
            ],
            [
             0.9,
             "#4d9221"
            ],
            [
             1,
             "#276419"
            ]
           ],
           "sequential": [
            [
             0,
             "#0d0887"
            ],
            [
             0.1111111111111111,
             "#46039f"
            ],
            [
             0.2222222222222222,
             "#7201a8"
            ],
            [
             0.3333333333333333,
             "#9c179e"
            ],
            [
             0.4444444444444444,
             "#bd3786"
            ],
            [
             0.5555555555555556,
             "#d8576b"
            ],
            [
             0.6666666666666666,
             "#ed7953"
            ],
            [
             0.7777777777777778,
             "#fb9f3a"
            ],
            [
             0.8888888888888888,
             "#fdca26"
            ],
            [
             1,
             "#f0f921"
            ]
           ],
           "sequentialminus": [
            [
             0,
             "#0d0887"
            ],
            [
             0.1111111111111111,
             "#46039f"
            ],
            [
             0.2222222222222222,
             "#7201a8"
            ],
            [
             0.3333333333333333,
             "#9c179e"
            ],
            [
             0.4444444444444444,
             "#bd3786"
            ],
            [
             0.5555555555555556,
             "#d8576b"
            ],
            [
             0.6666666666666666,
             "#ed7953"
            ],
            [
             0.7777777777777778,
             "#fb9f3a"
            ],
            [
             0.8888888888888888,
             "#fdca26"
            ],
            [
             1,
             "#f0f921"
            ]
           ]
          },
          "colorway": [
           "#636efa",
           "#EF553B",
           "#00cc96",
           "#ab63fa",
           "#FFA15A",
           "#19d3f3",
           "#FF6692",
           "#B6E880",
           "#FF97FF",
           "#FECB52"
          ],
          "font": {
           "color": "#2a3f5f"
          },
          "geo": {
           "bgcolor": "white",
           "lakecolor": "white",
           "landcolor": "#E5ECF6",
           "showlakes": true,
           "showland": true,
           "subunitcolor": "white"
          },
          "hoverlabel": {
           "align": "left"
          },
          "hovermode": "closest",
          "mapbox": {
           "style": "light"
          },
          "paper_bgcolor": "white",
          "plot_bgcolor": "#E5ECF6",
          "polar": {
           "angularaxis": {
            "gridcolor": "white",
            "linecolor": "white",
            "ticks": ""
           },
           "bgcolor": "#E5ECF6",
           "radialaxis": {
            "gridcolor": "white",
            "linecolor": "white",
            "ticks": ""
           }
          },
          "scene": {
           "xaxis": {
            "backgroundcolor": "#E5ECF6",
            "gridcolor": "white",
            "gridwidth": 2,
            "linecolor": "white",
            "showbackground": true,
            "ticks": "",
            "zerolinecolor": "white"
           },
           "yaxis": {
            "backgroundcolor": "#E5ECF6",
            "gridcolor": "white",
            "gridwidth": 2,
            "linecolor": "white",
            "showbackground": true,
            "ticks": "",
            "zerolinecolor": "white"
           },
           "zaxis": {
            "backgroundcolor": "#E5ECF6",
            "gridcolor": "white",
            "gridwidth": 2,
            "linecolor": "white",
            "showbackground": true,
            "ticks": "",
            "zerolinecolor": "white"
           }
          },
          "shapedefaults": {
           "line": {
            "color": "#2a3f5f"
           }
          },
          "ternary": {
           "aaxis": {
            "gridcolor": "white",
            "linecolor": "white",
            "ticks": ""
           },
           "baxis": {
            "gridcolor": "white",
            "linecolor": "white",
            "ticks": ""
           },
           "bgcolor": "#E5ECF6",
           "caxis": {
            "gridcolor": "white",
            "linecolor": "white",
            "ticks": ""
           }
          },
          "title": {
           "x": 0.05
          },
          "xaxis": {
           "automargin": true,
           "gridcolor": "white",
           "linecolor": "white",
           "ticks": "",
           "title": {
            "standoff": 15
           },
           "zerolinecolor": "white",
           "zerolinewidth": 2
          },
          "yaxis": {
           "automargin": true,
           "gridcolor": "white",
           "linecolor": "white",
           "ticks": "",
           "title": {
            "standoff": 15
           },
           "zerolinecolor": "white",
           "zerolinewidth": 2
          }
         }
        },
        "title": {
         "text": "RTLS Simulation of Hospital Employee and Patient Movement"
        },
        "updatemenus": [
         {
          "buttons": [
           {
            "args": [
             null,
             {
              "frame": {
               "duration": 500,
               "redraw": false
              },
              "fromcurrent": true,
              "mode": "immediate",
              "transition": {
               "duration": 500,
               "easing": "linear"
              }
             }
            ],
            "label": "&#9654;",
            "method": "animate"
           },
           {
            "args": [
             [
              null
             ],
             {
              "frame": {
               "duration": 0,
               "redraw": false
              },
              "fromcurrent": true,
              "mode": "immediate",
              "transition": {
               "duration": 0,
               "easing": "linear"
              }
             }
            ],
            "label": "&#9724;",
            "method": "animate"
           }
          ],
          "direction": "left",
          "pad": {
           "r": 10,
           "t": 70
          },
          "showactive": false,
          "type": "buttons",
          "x": 0.1,
          "xanchor": "right",
          "y": 0,
          "yanchor": "top"
         }
        ],
        "width": 900,
        "xaxis": {
         "anchor": "y",
         "domain": [
          0,
          1
         ],
         "title": {
          "text": "Hospital X Coordinate"
         }
        },
        "yaxis": {
         "anchor": "x",
         "domain": [
          0,
          1
         ],
         "title": {
          "text": "Hospital Y Coordinate"
         }
        }
       }
      }
     },
     "metadata": {},
     "output_type": "display_data"
    }
   ],
   "source": [
    "#Python RTLS Hospital Simulation (with Boundaries and Realistic Movement)\n",
    "import numpy as np\n",
    "import pandas as pd  # <-- Previously missing import\n",
    "import plotly.express as px\n",
    "\n",
    "# Simulation parameters\n",
    "np.random.seed(42)\n",
    "num_employees = 5\n",
    "num_patients = 10\n",
    "num_timesteps = 50\n",
    "\n",
    "# Employee movement (larger random walk within hospital)\n",
    "def simulate_employee_movement():\n",
    "    positions = np.zeros((num_timesteps, num_employees, 2))\n",
    "    positions[0] = np.random.uniform(20, 80, size=(num_employees, 2))\n",
    "\n",
    "    for t in range(1, num_timesteps):\n",
    "        step = np.random.randn(num_employees, 2) * 2\n",
    "        positions[t] = positions[t-1] + step\n",
    "        positions[t, :, 0] = np.clip(positions[t, :, 0], 0, 100)\n",
    "        positions[t, :, 1] = np.clip(positions[t, :, 1], 0, 100)\n",
    "    return positions\n",
    "\n",
    "# Patient movement (restricted near room)\n",
    "def simulate_patient_movement():\n",
    "    positions = np.zeros((num_timesteps, num_patients, 2))\n",
    "    patient_rooms = np.random.uniform(30, 70, size=(num_patients, 2))\n",
    "\n",
    "    for t in range(num_timesteps):\n",
    "        step = np.random.randn(num_patients, 2) * 0.5\n",
    "        positions[t] = patient_rooms + step\n",
    "        positions[t, :, 0] = np.clip(positions[t, :, 0], patient_rooms[:, 0]-3, patient_rooms[:, 0]+3)\n",
    "        positions[t, :, 1] = np.clip(positions[t, :, 1], patient_rooms[:, 1]-3, patient_rooms[:, 1]+3)\n",
    "    return positions\n",
    "\n",
    "# Define parameters explicitly\n",
    "num_timesteps = 100\n",
    "employee_positions = simulate_employee_movement()\n",
    "patient_positions = simulate_patient_movement()\n",
    "\n",
    "# Import pandas explicitly\n",
    "import pandas as pd  \n",
    "\n",
    "# Convert data into DataFrame\n",
    "def positions_to_df(positions, role):\n",
    "    data = []\n",
    "    num_entities = positions.shape[1]\n",
    "    for entity in range(num_entities):\n",
    "        df_entity = pd.DataFrame({\n",
    "            'X': positions[:, entity, 0],\n",
    "            'Y': positions[:, entity, 1],\n",
    "            'Time': np.arange(num_timesteps),\n",
    "            'Role': role,\n",
    "            'ID': f'{role}_{entity+1}'\n",
    "        })\n",
    "        data.append(df_entity)\n",
    "    return pd.concat(data)\n",
    "\n",
    "# Parameters explicitly defined\n",
    "num_timesteps = 100\n",
    "num_employees = 5\n",
    "num_patients = 10\n",
    "\n",
    "# Simulate\n",
    "employee_positions = simulate_employee_movement()\n",
    "patient_positions = simulate_patient_movement()\n",
    "\n",
    "# Combine into one dataframe\n",
    "import pandas as pd  # Explicitly ensuring this is imported\n",
    "df_employees = positions_to_df(employee_positions, 'Employee')\n",
    "df_patients = positions_to_df(patient_positions, 'Patient')\n",
    "df_rtls = pd.concat([df_employees, df_patients])\n",
    "\n",
    "# Visualization using Plotly\n",
    "import plotly.express as px\n",
    "\n",
    "fig = px.scatter(df_rtls, x='X', y='Y', color='Role', \n",
    "                 animation_frame='Time', animation_group='ID',\n",
    "                 title='Realistic RTLS Hospital Simulation',\n",
    "                 labels={'X':'X Coordinate', 'Y':'Y Coordinate'},\n",
    "                 range_x=[0, 100], range_y=[0, 100])\n",
    "\n",
    "fig.update_layout(width=900, height=600)\n",
    "fig.show()"
   ]
  },
  {
   "cell_type": "code",
   "execution_count": null,
   "metadata": {},
   "outputs": [],
   "source": []
  }
 ],
 "metadata": {
  "kernelspec": {
   "display_name": "Python 3",
   "language": "python",
   "name": "python3"
  },
  "language_info": {
   "codemirror_mode": {
    "name": "ipython",
    "version": 3
   },
   "file_extension": ".py",
   "mimetype": "text/x-python",
   "name": "python",
   "nbconvert_exporter": "python",
   "pygments_lexer": "ipython3",
   "version": "3.12.3"
  }
 },
 "nbformat": 4,
 "nbformat_minor": 2
}
